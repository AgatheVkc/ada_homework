{
 "cells": [
  {
   "cell_type": "code",
   "execution_count": 1,
   "metadata": {
    "collapsed": false
   },
   "outputs": [
    {
     "name": "stdout",
     "output_type": "stream",
     "text": [
      "{'2016-2017': '355925344', '2015-2016': '213638028', '2008-2009': '978187', '2011-2012': '123455150', '2007-2008': '978181', '2009-2010': '978195', '2014-2015': '213637922', '2012-2013': '123456101', '2013-2014': '213637754', '2010-2011': '39486325'}\n",
      "{'Bachelor semestre 5': '942120', 'Bachelor semestre 3': '942155', 'Bachelor semestre 5b': '2226768', 'Bachelor semestre 6b': '2226785', 'Bachelor semestre 1': '249108', 'Bachelor semestre 4': '942163', 'Bachelor semestre 2': '249114', 'Bachelor semestre 6': '942175'}\n"
     ]
    }
   ],
   "source": [
    "from bs4 import BeautifulSoup\n",
    "import urllib.request\n",
    "import pandas as pd\n",
    "import html5lib \n",
    "from lxml import html\n",
    "\n",
    "#home_url = \"http://isa.epfl.ch/imoniteur_ISAP/!GEDPUBLICREPORTS.filter?ww_x_GPS=-1&ww_b_list=1&ww_i_reportmodel=133685247&ww_c_langue=&ww_i_reportModelXsl=133685270&zz_x_UNITE_ACAD=&ww_x_UNITE_ACAD=944263&zz_x_PERIODE_ACAD=2014-2015&ww_x_PERIODE_ACAD=213637922&zz_x_PERIODE_PEDAGO=Bachelor+semestre+5&ww_x_PERIODE_PEDAGO=942120&zz_x_HIVERETE=&ww_x_HIVERETE=null&dummy=ok\"\n",
    "home_url = \"http://isa.epfl.ch/imoniteur_ISAP/!GEDPUBLICREPORTS.filter?ww_x_GPS=-1&ww_i_reportModel=133685247\"\n",
    "base_url = \"http://isa.epfl.ch/imoniteur_ISAP/!GEDPUBLICREPORTS.html?ww_x_GPS=-1&ww_i_reportModel=133685247&ww_i_reportModelXsl=133685270&ww_x_UNITE_ACAD=[UNITE_ACADEMIQUE]&ww_x_PERIODE_ACAD=[PERIODE_ACADEMIQUE]&ww_x_PERIODE_PEDAGO=[PERIODE_PEDAGOGIQUE]&ww_x_HIVERETE=null\"\n",
    "with urllib.request.urlopen(home_url) as url:\n",
    "    s = url.read()\n",
    "\n",
    "soup = BeautifulSoup(s, 'html.parser')    \n",
    "\n",
    "url_section = 0\n",
    "url_years = {}\n",
    "url_bachelor = {}\n",
    "for link in soup.find_all('option'):\n",
    "    if link.text == 'Informatique':\n",
    "        url_section = link.get('value')\n",
    "    if \"20\" in link.text:\n",
    "        #print(link.text)\n",
    "        url_years[link.text] = link.get('value')\n",
    "    if \"Bachelor\" in link.text:\n",
    "        #print(link.text)\n",
    "        url_bachelor[link.text] = link.get('value')\n",
    "        #get('value'))\n",
    "\n",
    "print(url_years)\n",
    "print(url_bachelor)\n",
    "#frame= frame.drop([2,3,4,5,6,8,9,11],axis=1)\n",
    "#frame.head(10)"
   ]
  },
  {
   "cell_type": "code",
   "execution_count": 2,
   "metadata": {
    "collapsed": false
   },
   "outputs": [
    {
     "ename": "SyntaxError",
     "evalue": "invalid syntax (<ipython-input-2-9693048ebdc5>, line 1)",
     "output_type": "error",
     "traceback": [
      "\u001b[0;36m  File \u001b[0;32m\"<ipython-input-2-9693048ebdc5>\"\u001b[0;36m, line \u001b[0;32m1\u001b[0m\n\u001b[0;31m    http://isa.epfl.ch/imoniteur_ISAP/!GEDPUBLICREPORTS.html?ww_x_GPS=213617944&ww_i_reportModel=133685247&ww_i_reportModelXsl=133685270&ww_x_UNITE_ACAD=249847&ww_x_PERIODE_ACAD=978195&ww_x_PERIODE_PEDAGO=249114&ww_x_HIVERETE=null\u001b[0m\n\u001b[0m        ^\u001b[0m\n\u001b[0;31mSyntaxError\u001b[0m\u001b[0;31m:\u001b[0m invalid syntax\n"
     ]
    }
   ],
   "source": [
    "http://isa.epfl.ch/imoniteur_ISAP/!GEDPUBLICREPORTS.html?ww_x_GPS=213617944&ww_i_reportModel=133685247&ww_i_reportModelXsl=133685270&ww_x_UNITE_ACAD=249847&ww_x_PERIODE_ACAD=978195&ww_x_PERIODE_PEDAGO=249114&ww_x_HIVERETE=null\n",
    "http://isa.epfl.ch/imoniteur_ISAP/!GEDPUBLICREPORTS.html?ww_x_GPS=213617925&ww_i_reportModel=133685247&ww_i_reportModelXsl=133685270&ww_x_UNITE_ACAD=249847&ww_x_PERIODE_ACAD=978195&ww_x_PERIODE_PEDAGO=249108&ww_x_HIVERETE=null\n",
    "http://isa.epfl.ch/imoniteur_ISAP/!GEDPUBLICREPORTS.html?ww_x_GPS=109576955&ww_i_reportModel=133685247&ww_i_reportModelXsl=133685270&ww_x_UNITE_ACAD=249847&ww_x_PERIODE_ACAD=978187&ww_x_PERIODE_PEDAGO=249114&ww_x_HIVERETE=null\n",
    "http://isa.epfl.ch/imoniteur_ISAP/!GEDPUBLICREPORTS.html?ww_x_GPS=109576936&ww_i_reportModel=133685247&ww_i_reportModelXsl=133685270&ww_x_UNITE_ACAD=249847&ww_x_PERIODE_ACAD=978187&ww_x_PERIODE_PEDAGO=249108&ww_x_HIVERETE=null\n",
    "http://isa.epfl.ch/imoniteur_ISAP/!GEDPUBLICREPORTS.html?ww_x_GPS=71297550&ww_i_reportModel=133685247&ww_i_reportModelXsl=133685270&ww_x_UNITE_ACAD=249847&ww_x_PERIODE_ACAD=978181&ww_x_PERIODE_PEDAGO=249114&ww_x_HIVERETE=null\n",
    "http://isa.epfl.ch/imoniteur_ISAP/!GEDPUBLICREPORTS.html?ww_x_GPS=71297531&ww_i_reportModel=133685247&ww_i_reportModelXsl=133685270&ww_x_UNITE_ACAD=249847&ww_x_PERIODE_ACAD=978181&ww_x_PERIODE_PEDAGO=249108&ww_x_HIVERETE=null"
   ]
  },
  {
   "cell_type": "code",
   "execution_count": 3,
   "metadata": {
    "collapsed": false
   },
   "outputs": [
    {
     "name": "stdout",
     "output_type": "stream",
     "text": [
      "http://isa.epfl.ch/imoniteur_ISAP/!GEDPUBLICREPORTS.html?ww_x_GPS=-1&ww_i_reportModel=133685247&ww_i_reportModelXsl=133685270&ww_x_UNITE_ACAD=249847&ww_x_PERIODE_ACAD=978181&ww_x_PERIODE_PEDAGO=249108&ww_x_HIVERETE=null\n"
     ]
    }
   ],
   "source": [
    "url = 'http://isa.epfl.ch/imoniteur_ISAP/!GEDPUBLICREPORTS.html?ww_x_GPS=-1&ww_i_reportModel=133685247&ww_i_reportModelXsl=133685270&ww_x_UNITE_ACAD=249847&ww_x_PERIODE_ACAD=978195&ww_x_PERIODE_PEDAGO=249114&ww_x_HIVERETE=null'\n",
    "\n",
    "def getFullUrl(PeriodeAcad, PeriodePedag):\n",
    "    url = base_url\n",
    "    url = url.replace('[UNITE_ACADEMIQUE]', str(url_section))\n",
    "    url = url.replace('[PERIODE_ACADEMIQUE]', str(url_years[PeriodeAcad]))\n",
    "    url = url.replace('[PERIODE_PEDAGOGIQUE]', str(url_bachelor[PeriodePedag]))\n",
    "    return url\n",
    "\n",
    "print(getFullUrl('2007-2008', 'Bachelor semestre 1'))\n"
   ]
  },
  {
   "cell_type": "code",
   "execution_count": 4,
   "metadata": {
    "collapsed": false
   },
   "outputs": [],
   "source": [
    "url = getFullUrl('2007-2008', 'Bachelor semestre 1')\n",
    "\n",
    "with urllib.request.urlopen(url) as url:\n",
    "    s = url.read()\n",
    "soup = BeautifulSoup(s, 'html.parser')    \n",
    "#print(soup.prettify())\n",
    "student_frame = pd.read_html(soup.prettify(), header=1)\n",
    "\n",
    "frame = student_frame[0].drop(0,axis=0)\n",
    "frame = frame[['Civilité', 'Nom Prénom', 'No Sciper']]\n",
    "frame\n",
    "\n",
    "current_student\n",
    "\n",
    "for year in range(10):\n",
    "    current_year = 2007+year\n",
    "    year_string = str(current_year) + '-' + str(current_year+1)\n",
    "    current_url_B1 = getFullUrl(year_string, 'Bachelor semestre 1')\n",
    "    with urllib.request.urlopen(current_url_B1) as url:\n",
    "        html_B1 = url.read()\n",
    "    student_frame_B1 = pd.read_html(soup.prettify(), header=1)\n",
    "    student_frame_B1 = frame[['Civilité', 'Nom Prénom', 'No Sciper']]\n",
    "    #student_frame_B1['Start year'] = \n",
    "    \n",
    "    current_url_B6 = getFullUrl(year_string, 'Bachelor semestre 6')\n",
    "    with urllib.request.urlopen(current_url_B6) as url:\n",
    "        s = url.read()"
   ]
  },
  {
   "cell_type": "code",
   "execution_count": null,
   "metadata": {
    "collapsed": true
   },
   "outputs": [],
   "source": []
  }
 ],
 "metadata": {
  "anaconda-cloud": {},
  "kernelspec": {
   "display_name": "Python 3",
   "language": "python",
   "name": "python3"
  },
  "language_info": {
   "codemirror_mode": {
    "name": "ipython",
    "version": 3
   },
   "file_extension": ".py",
   "mimetype": "text/x-python",
   "name": "python",
   "nbconvert_exporter": "python",
   "pygments_lexer": "ipython3",
   "version": "3.5.2"
  }
 },
 "nbformat": 4,
 "nbformat_minor": 0
}
