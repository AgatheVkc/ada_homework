{
 "cells": [
  {
   "cell_type": "code",
   "execution_count": 4,
   "metadata": {
    "collapsed": false
   },
   "outputs": [],
   "source": [
    "from bs4 import BeautifulSoup\n",
    "import urllib.request\n",
    "import pandas as pd\n",
    "import html5lib \n",
    "from lxml import html\n",
    "import numpy as np\n",
    "from helpers import *\n",
    "#import helpers as helpers"
   ]
  },
  {
   "cell_type": "code",
   "execution_count": 5,
   "metadata": {
    "collapsed": false
   },
   "outputs": [
    {
     "name": "stdout",
     "output_type": "stream",
     "text": [
      "{'2013-2014': '213637754', '2012-2013': '123456101', '2007-2008': '978181', '2008-2009': '978187', '2014-2015': '213637922', '2009-2010': '978195', '2010-2011': '39486325', '2015-2016': '213638028', '2016-2017': '355925344', '2011-2012': '123455150'}\n",
      "{'Projet Master printemps': '3781783', 'Projet Master automne': '249127', 'Master semestre 1': '2230106', 'Mineur semestre 2': '2335676', 'Master semestre 3': '2230128', 'Master semestre 4': '2230140', 'Mineur semestre 1': '2335667', 'Master semestre 2': '942192'}\n"
     ]
    }
   ],
   "source": [
    "# The URL of the \"start\" of the IS-Academia page listing the students.\n",
    "home_url = \"http://isa.epfl.ch/imoniteur_ISAP/!GEDPUBLICREPORTS.filter?ww_x_GPS=-1&ww_i_reportModel=133685247\"\n",
    "\n",
    "# The general form of the URL, with the fields to be replaced later (e.g. [UNITE_ACADEMIQUE])\n",
    "base_url = \"http://isa.epfl.ch/imoniteur_ISAP/!GEDPUBLICREPORTS.html?ww_x_GPS=-1&ww_i_reportModel=133685247&ww_i_reportModelXsl=133685270&ww_x_UNITE_ACAD=[UNITE_ACADEMIQUE]&ww_x_PERIODE_ACAD=[PERIODE_ACADEMIQUE]&ww_x_PERIODE_PEDAGO=[PERIODE_PEDAGOGIQUE]&ww_x_HIVERETE=null\"\n",
    "\n",
    "# Get the raw content from the page\n",
    "with urllib.request.urlopen(home_url) as url:\n",
    "    s = url.read()\n",
    "\n",
    "soup = BeautifulSoup(s, 'html.parser')\n",
    "\n",
    "# Parse the content\n",
    "url_section = 0\n",
    "url_years = {}\n",
    "url_master = {}\n",
    "\n",
    "#For loop on all the possible fields with <option> to get the value associated with each year, or each \"Bachelor\" semester\n",
    "for link in soup.find_all('option'):\n",
    "    if link.text == 'Informatique':\n",
    "        url_section = link.get('value')\n",
    "    if \"20\" in link.text:\n",
    "        #print(link.text)\n",
    "        url_years[link.text] = link.get('value')\n",
    "    if 'Master' in link.text or 'Mineur' in link.text:\n",
    "        url_master[link.text] = link.get('value')\n",
    "\n",
    "        \n",
    "print(url_years)\n",
    "print(url_master)\n",
    "#frame= frame.drop([2,3,4,5,6,8,9,11],axis=1)\n",
    "#frame.head(10)"
   ]
  },
  {
   "cell_type": "code",
   "execution_count": 6,
   "metadata": {
    "collapsed": true
   },
   "outputs": [],
   "source": [
    "def getFullUrl(PeriodeAcad, PeriodePedag):\n",
    "    url = base_url\n",
    "    url = url.replace('[UNITE_ACADEMIQUE]', str(url_section))\n",
    "    url = url.replace('[PERIODE_ACADEMIQUE]', str(url_years[PeriodeAcad]))\n",
    "    url = url.replace('[PERIODE_PEDAGOGIQUE]', str(url_master[PeriodePedag]))\n",
    "    return url"
   ]
  },
  {
   "cell_type": "markdown",
   "metadata": {},
   "source": [
    "Assumptions : \n",
    "- All students start in MS1 and do it only once since afterward it will be MS3."
   ]
  },
  {
   "cell_type": "code",
   "execution_count": 34,
   "metadata": {
    "collapsed": false
   },
   "outputs": [],
   "source": [
    "def MasterStart(year_string,master_student,pedag) : \n",
    "    current_url = getFullUrl(year_string, pedag)\n",
    "    with urllib.request.urlopen(current_url) as url:\n",
    "        html = url.read()\n",
    "    soup = BeautifulSoup(html, 'html.parser')\n",
    "    master_frame = pd.read_html(soup.prettify(), header=1)\n",
    "    if  len(master_frame)>0 :\n",
    "        master_frame = master_frame[0].drop(0,axis=0)\n",
    "        master_frame_sciper = master_frame[['No Sciper']]\n",
    "        master_frame = master_frame.set_index('No Sciper')\n",
    "        for sciper in master_frame_sciper.values:\n",
    "            sciper = sciper[0]\n",
    "            \n",
    "            if pedag == 'Master semestre 1' or sciper not in master_student.index:\n",
    "             master_student.loc[sciper] = 0   \n",
    "             master_student.loc[sciper,pedag] = 1\n",
    "            else :\n",
    "             master_student.loc[sciper,pedag] += 1   \n",
    "            master_student.loc[sciper,'Civilité'] = master_frame.loc[sciper,'Civilité']\n",
    "            master_student.loc[sciper,'Nom Prénom'] = master_frame.loc[sciper,'Nom Prénom']\n",
    "            master_student.loc[sciper,'Spécialisation'] = master_frame.loc[sciper,'Spécialisation']\n",
    "            master_student.loc[sciper,'Mineur'] = master_frame.loc[sciper,'Mineur']\n",
    "    return master_student"
   ]
  },
  {
   "cell_type": "code",
   "execution_count": 35,
   "metadata": {
    "collapsed": false
   },
   "outputs": [
    {
     "name": "stdout",
     "output_type": "stream",
     "text": [
      "True\n",
      "           Civilité                 Nom Prénom  Master semestre 1  \\\n",
      "No Sciper                                                           \n",
      "180027       Madame              Agarwal Megha                1.0   \n",
      "152232     Monsieur         Anagnostaras David                1.0   \n",
      "177395     Monsieur              Auroux Damien                1.0   \n",
      "161970     Monsieur             Awalebo Joseph                1.0   \n",
      "166258     Monsieur                  Balet Ken                1.0   \n",
      "173600     Monsieur  Barazzutti Raphaël Pierre                1.0   \n",
      "178879     Monsieur           Bayramoglu Ersoy                1.0   \n",
      "154573       Madame         Benabdallah Zeineb                1.0   \n",
      "160492     Monsieur                Bettex Marc                1.0   \n",
      "172687     Monsieur               Billaud Joël                1.0   \n",
      "\n",
      "           Master semestre 2  Master semestre 3  Projet Master printemps  \\\n",
      "No Sciper                                                                  \n",
      "180027                   1.0                0.0                      0.0   \n",
      "152232                   1.0                1.0                      0.0   \n",
      "177395                   1.0                1.0                      0.0   \n",
      "161970                   1.0                1.0                      0.0   \n",
      "166258                   1.0                1.0                      0.0   \n",
      "173600                   1.0                0.0                      0.0   \n",
      "178879                   1.0                1.0                      0.0   \n",
      "154573                   2.0                2.0                      1.0   \n",
      "160492                   1.0                0.0                      0.0   \n",
      "172687                   1.0                1.0                      0.0   \n",
      "\n",
      "           Projet Master automne      Spécialisation  \\\n",
      "No Sciper                                              \n",
      "180027                       0.0                 NaN   \n",
      "152232                       0.0                 NaN   \n",
      "177395                       0.0  Internet computing   \n",
      "161970                       0.0                 NaN   \n",
      "166258                       0.0  Internet computing   \n",
      "173600                       0.0                 NaN   \n",
      "178879                       0.0                 NaN   \n",
      "154573                       0.0        Biocomputing   \n",
      "160492                       0.0                 NaN   \n",
      "172687                       0.0                 NaN   \n",
      "\n",
      "                                                      Mineur  \n",
      "No Sciper                                                     \n",
      "180027                                                   NaN  \n",
      "152232     Mineur en Management, technologie et entrepren...  \n",
      "177395                                                   NaN  \n",
      "161970                                                   NaN  \n",
      "166258                                                   NaN  \n",
      "173600                                                   NaN  \n",
      "178879                                                   NaN  \n",
      "154573                                                   NaN  \n",
      "160492                                                   NaN  \n",
      "172687                                                   NaN  \n"
     ]
    }
   ],
   "source": [
    "master_student = pd.DataFrame(columns = ['Civilité', 'Nom Prénom', \n",
    "                                         'Master semestre 1', 'Master semestre 2', 'Master semestre 3',\n",
    "                                         'Projet Master printemps', 'Projet Master automne', \n",
    "                                         'Spécialisation', 'Mineur'])\n",
    "master_student.index.name = 'No Sciper'\n",
    "\n",
    "pedagogic_year = ['Master semestre 1','Master semestre 2','Master semestre 3',\n",
    "                  'Projet Master printemps','Projet Master automne']\n",
    "for year in range(2007,2016):\n",
    "    year_string = str(year) + '-' + str(year+1)\n",
    "    for pedag in  pedagogic_year :\n",
    "     master_student = MasterStart(year_string,master_student,pedag)\n"
   ]
  },
  {
   "cell_type": "markdown",
   "metadata": {},
   "source": [
    ".Assumptions  : \n",
    " - possible to have project master in spring and autumn\n",
    " - if no project master register assume thta student had project outside epfl and add +1 semester"
   ]
  },
  {
   "cell_type": "code",
   "execution_count": 55,
   "metadata": {
    "collapsed": false
   },
   "outputs": [
    {
     "name": "stdout",
     "output_type": "stream",
     "text": [
      "True\n"
     ]
    },
    {
     "data": {
      "text/html": [
       "<div>\n",
       "<table border=\"1\" class=\"dataframe\">\n",
       "  <thead>\n",
       "    <tr style=\"text-align: right;\">\n",
       "      <th></th>\n",
       "      <th>Civilité</th>\n",
       "      <th>Nom Prénom</th>\n",
       "      <th>Master semestre 1</th>\n",
       "      <th>Master semestre 2</th>\n",
       "      <th>Master semestre 3</th>\n",
       "      <th>Projet Master printemps</th>\n",
       "      <th>Projet Master automne</th>\n",
       "      <th>Spécialisation</th>\n",
       "      <th>Mineur</th>\n",
       "      <th>Time to Finish</th>\n",
       "    </tr>\n",
       "    <tr>\n",
       "      <th>No Sciper</th>\n",
       "      <th></th>\n",
       "      <th></th>\n",
       "      <th></th>\n",
       "      <th></th>\n",
       "      <th></th>\n",
       "      <th></th>\n",
       "      <th></th>\n",
       "      <th></th>\n",
       "      <th></th>\n",
       "      <th></th>\n",
       "    </tr>\n",
       "  </thead>\n",
       "  <tbody>\n",
       "    <tr>\n",
       "      <th>180027</th>\n",
       "      <td>Madame</td>\n",
       "      <td>Agarwal Megha</td>\n",
       "      <td>1.0</td>\n",
       "      <td>1.0</td>\n",
       "      <td>0.0</td>\n",
       "      <td>0.0</td>\n",
       "      <td>0.0</td>\n",
       "      <td>NaN</td>\n",
       "      <td>NaN</td>\n",
       "      <td>3.0</td>\n",
       "    </tr>\n",
       "    <tr>\n",
       "      <th>152232</th>\n",
       "      <td>Monsieur</td>\n",
       "      <td>Anagnostaras David</td>\n",
       "      <td>1.0</td>\n",
       "      <td>1.0</td>\n",
       "      <td>1.0</td>\n",
       "      <td>0.0</td>\n",
       "      <td>0.0</td>\n",
       "      <td>NaN</td>\n",
       "      <td>Mineur en Management, technologie et entrepren...</td>\n",
       "      <td>4.0</td>\n",
       "    </tr>\n",
       "    <tr>\n",
       "      <th>177395</th>\n",
       "      <td>Monsieur</td>\n",
       "      <td>Auroux Damien</td>\n",
       "      <td>1.0</td>\n",
       "      <td>1.0</td>\n",
       "      <td>1.0</td>\n",
       "      <td>0.0</td>\n",
       "      <td>0.0</td>\n",
       "      <td>Internet computing</td>\n",
       "      <td>NaN</td>\n",
       "      <td>4.0</td>\n",
       "    </tr>\n",
       "    <tr>\n",
       "      <th>161970</th>\n",
       "      <td>Monsieur</td>\n",
       "      <td>Awalebo Joseph</td>\n",
       "      <td>1.0</td>\n",
       "      <td>1.0</td>\n",
       "      <td>1.0</td>\n",
       "      <td>0.0</td>\n",
       "      <td>0.0</td>\n",
       "      <td>NaN</td>\n",
       "      <td>NaN</td>\n",
       "      <td>4.0</td>\n",
       "    </tr>\n",
       "    <tr>\n",
       "      <th>166258</th>\n",
       "      <td>Monsieur</td>\n",
       "      <td>Balet Ken</td>\n",
       "      <td>1.0</td>\n",
       "      <td>1.0</td>\n",
       "      <td>1.0</td>\n",
       "      <td>0.0</td>\n",
       "      <td>0.0</td>\n",
       "      <td>Internet computing</td>\n",
       "      <td>NaN</td>\n",
       "      <td>4.0</td>\n",
       "    </tr>\n",
       "  </tbody>\n",
       "</table>\n",
       "</div>"
      ],
      "text/plain": [
       "           Civilité          Nom Prénom  Master semestre 1  Master semestre 2  \\\n",
       "No Sciper                                                                       \n",
       "180027       Madame       Agarwal Megha                1.0                1.0   \n",
       "152232     Monsieur  Anagnostaras David                1.0                1.0   \n",
       "177395     Monsieur       Auroux Damien                1.0                1.0   \n",
       "161970     Monsieur      Awalebo Joseph                1.0                1.0   \n",
       "166258     Monsieur           Balet Ken                1.0                1.0   \n",
       "\n",
       "           Master semestre 3  Projet Master printemps  Projet Master automne  \\\n",
       "No Sciper                                                                      \n",
       "180027                   0.0                      0.0                    0.0   \n",
       "152232                   1.0                      0.0                    0.0   \n",
       "177395                   1.0                      0.0                    0.0   \n",
       "161970                   1.0                      0.0                    0.0   \n",
       "166258                   1.0                      0.0                    0.0   \n",
       "\n",
       "               Spécialisation  \\\n",
       "No Sciper                       \n",
       "180027                    NaN   \n",
       "152232                    NaN   \n",
       "177395     Internet computing   \n",
       "161970                    NaN   \n",
       "166258     Internet computing   \n",
       "\n",
       "                                                      Mineur  Time to Finish  \n",
       "No Sciper                                                                     \n",
       "180027                                                   NaN             3.0  \n",
       "152232     Mineur en Management, technologie et entrepren...             4.0  \n",
       "177395                                                   NaN             4.0  \n",
       "161970                                                   NaN             4.0  \n",
       "166258                                                   NaN             4.0  "
      ]
     },
     "execution_count": 55,
     "metadata": {},
     "output_type": "execute_result"
    }
   ],
   "source": [
    "print(master_student.index.is_unique)\n",
    "## sum over all the master 1,2,3 plus additional master project.\n",
    "time = (master_student['Master semestre 1']+master_student['Master semestre 2']+\n",
    "        master_student['Master semestre 3']+master_student['Projet Master printemps']+\n",
    "        master_student['Projet Master automne']+\n",
    "        1-(master_student['Projet Master printemps']+ master_student['Projet Master automne'])%1)\n",
    "\n",
    "master_student['Time to Finish']= time\n",
    "master_student.head()"
   ]
  },
  {
   "cell_type": "code",
   "execution_count": 66,
   "metadata": {
    "collapsed": false
   },
   "outputs": [
    {
     "data": {
      "text/plain": [
       "Ttest_1sampResult(statistic=5.3878631523425309, pvalue=1.6361493733246634e-07)"
      ]
     },
     "execution_count": 66,
     "metadata": {},
     "output_type": "execute_result"
    }
   ],
   "source": [
    "import scipy.stats as stats\n",
    "specialisation = master_student[master_student['Spécialisation']==master_student['Spécialisation']]                        \n",
    "mean_time_specialisation = specialisation['Time to Finish']\n",
    "mean_time  = master_student['Time to Finish'].mean()\n",
    "stats.ttest_1samp(a= mean_time_specialisation, \n",
    "                 popmean= mean_time)"
   ]
  },
  {
   "cell_type": "code",
   "execution_count": 54,
   "metadata": {
    "collapsed": false
   },
   "outputs": [
    {
     "data": {
      "text/html": [
       "<div>\n",
       "<table border=\"1\" class=\"dataframe\">\n",
       "  <thead>\n",
       "    <tr style=\"text-align: right;\">\n",
       "      <th></th>\n",
       "      <th>Master semestre 1</th>\n",
       "      <th>Master semestre 2</th>\n",
       "      <th>Master semestre 3</th>\n",
       "      <th>Projet Master printemps</th>\n",
       "      <th>Projet Master automne</th>\n",
       "      <th>Time to Finish</th>\n",
       "    </tr>\n",
       "  </thead>\n",
       "  <tbody>\n",
       "    <tr>\n",
       "      <th>count</th>\n",
       "      <td>851.000000</td>\n",
       "      <td>851.000000</td>\n",
       "      <td>851.000000</td>\n",
       "      <td>851.000000</td>\n",
       "      <td>851.000000</td>\n",
       "      <td>851.000000</td>\n",
       "    </tr>\n",
       "    <tr>\n",
       "      <th>mean</th>\n",
       "      <td>0.897767</td>\n",
       "      <td>1.151586</td>\n",
       "      <td>0.681551</td>\n",
       "      <td>0.041128</td>\n",
       "      <td>0.022327</td>\n",
       "      <td>3.794360</td>\n",
       "    </tr>\n",
       "    <tr>\n",
       "      <th>std</th>\n",
       "      <td>0.303132</td>\n",
       "      <td>0.583544</td>\n",
       "      <td>0.580771</td>\n",
       "      <td>0.198703</td>\n",
       "      <td>0.147831</td>\n",
       "      <td>1.106671</td>\n",
       "    </tr>\n",
       "    <tr>\n",
       "      <th>min</th>\n",
       "      <td>0.000000</td>\n",
       "      <td>0.000000</td>\n",
       "      <td>0.000000</td>\n",
       "      <td>0.000000</td>\n",
       "      <td>0.000000</td>\n",
       "      <td>2.000000</td>\n",
       "    </tr>\n",
       "    <tr>\n",
       "      <th>25%</th>\n",
       "      <td>1.000000</td>\n",
       "      <td>1.000000</td>\n",
       "      <td>0.000000</td>\n",
       "      <td>0.000000</td>\n",
       "      <td>0.000000</td>\n",
       "      <td>3.000000</td>\n",
       "    </tr>\n",
       "    <tr>\n",
       "      <th>50%</th>\n",
       "      <td>1.000000</td>\n",
       "      <td>1.000000</td>\n",
       "      <td>1.000000</td>\n",
       "      <td>0.000000</td>\n",
       "      <td>0.000000</td>\n",
       "      <td>4.000000</td>\n",
       "    </tr>\n",
       "    <tr>\n",
       "      <th>75%</th>\n",
       "      <td>1.000000</td>\n",
       "      <td>1.000000</td>\n",
       "      <td>1.000000</td>\n",
       "      <td>0.000000</td>\n",
       "      <td>0.000000</td>\n",
       "      <td>5.000000</td>\n",
       "    </tr>\n",
       "    <tr>\n",
       "      <th>max</th>\n",
       "      <td>1.000000</td>\n",
       "      <td>3.000000</td>\n",
       "      <td>3.000000</td>\n",
       "      <td>1.000000</td>\n",
       "      <td>1.000000</td>\n",
       "      <td>8.000000</td>\n",
       "    </tr>\n",
       "  </tbody>\n",
       "</table>\n",
       "</div>"
      ],
      "text/plain": [
       "       Master semestre 1  Master semestre 2  Master semestre 3  \\\n",
       "count         851.000000         851.000000         851.000000   \n",
       "mean            0.897767           1.151586           0.681551   \n",
       "std             0.303132           0.583544           0.580771   \n",
       "min             0.000000           0.000000           0.000000   \n",
       "25%             1.000000           1.000000           0.000000   \n",
       "50%             1.000000           1.000000           1.000000   \n",
       "75%             1.000000           1.000000           1.000000   \n",
       "max             1.000000           3.000000           3.000000   \n",
       "\n",
       "       Projet Master printemps  Projet Master automne  Time to Finish  \n",
       "count               851.000000             851.000000      851.000000  \n",
       "mean                  0.041128               0.022327        3.794360  \n",
       "std                   0.198703               0.147831        1.106671  \n",
       "min                   0.000000               0.000000        2.000000  \n",
       "25%                   0.000000               0.000000        3.000000  \n",
       "50%                   0.000000               0.000000        4.000000  \n",
       "75%                   0.000000               0.000000        5.000000  \n",
       "max                   1.000000               1.000000        8.000000  "
      ]
     },
     "execution_count": 54,
     "metadata": {},
     "output_type": "execute_result"
    }
   ],
   "source": [
    "master_student.describe()"
   ]
  },
  {
   "cell_type": "code",
   "execution_count": null,
   "metadata": {
    "collapsed": true
   },
   "outputs": [],
   "source": []
  }
 ],
 "metadata": {
  "kernelspec": {
   "display_name": "Python [Root]",
   "language": "python",
   "name": "Python [Root]"
  },
  "language_info": {
   "codemirror_mode": {
    "name": "ipython",
    "version": 3
   },
   "file_extension": ".py",
   "mimetype": "text/x-python",
   "name": "python",
   "nbconvert_exporter": "python",
   "pygments_lexer": "ipython3",
   "version": "3.5.2"
  }
 },
 "nbformat": 4,
 "nbformat_minor": 1
}
