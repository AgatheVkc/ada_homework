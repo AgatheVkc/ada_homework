{
 "cells": [
  {
   "cell_type": "code",
   "execution_count": 4,
   "metadata": {
    "collapsed": true
   },
   "outputs": [],
   "source": [
    "from bs4 import BeautifulSoup\n",
    "import urllib.request\n",
    "import pandas as pd\n",
    "import html5lib \n",
    "from lxml import html\n",
    "import numpy as np\n",
    "from helpers import *"
   ]
  },
  {
   "cell_type": "code",
   "execution_count": 6,
   "metadata": {
    "collapsed": false
   },
   "outputs": [
    {
     "name": "stdout",
     "output_type": "stream",
     "text": [
      "{'2010-2011': '39486325', '2014-2015': '213637922', '2013-2014': '213637754', '2016-2017': '355925344', '2007-2008': '978181', '2008-2009': '978187', '2009-2010': '978195', '2012-2013': '123456101', '2011-2012': '123455150', '2015-2016': '213638028'}\n",
      "{'Projet Master printemps': '3781783', 'Master semestre 1': '2230106', 'Master semestre 3': '2230128', 'Projet Master automne': '249127', 'Master semestre 2': '942192', 'Mineur semestre 1': '2335667', 'Mineur semestre 2': '2335676', 'Master semestre 4': '2230140'}\n"
     ]
    }
   ],
   "source": [
    "# The URL of the \"start\" of the IS-Academia page listing the students.\n",
    "home_url = \"http://isa.epfl.ch/imoniteur_ISAP/!GEDPUBLICREPORTS.filter?ww_x_GPS=-1&ww_i_reportModel=133685247\"\n",
    "\n",
    "# The general form of the URL, with the fields to be replaced later (e.g. [UNITE_ACADEMIQUE])\n",
    "base_url = \"http://isa.epfl.ch/imoniteur_ISAP/!GEDPUBLICREPORTS.html?ww_x_GPS=-1&ww_i_reportModel=133685247&ww_i_reportModelXsl=133685270&ww_x_UNITE_ACAD=[UNITE_ACADEMIQUE]&ww_x_PERIODE_ACAD=[PERIODE_ACADEMIQUE]&ww_x_PERIODE_PEDAGO=[PERIODE_PEDAGOGIQUE]&ww_x_HIVERETE=null\"\n",
    "\n",
    "# Get the raw content from the page\n",
    "with urllib.request.urlopen(home_url) as url:\n",
    "    s = url.read()\n",
    "\n",
    "soup = BeautifulSoup(s, 'html.parser')\n",
    "\n",
    "# Parse the content\n",
    "url_section = 0\n",
    "url_years = {}\n",
    "url_master = {}\n",
    "\n",
    "#For loop on all the possible fields with <option> to get the value associated with each year, or each \"Bachelor\" semester\n",
    "for link in soup.find_all('option'):\n",
    "    if link.text == 'Informatique':\n",
    "        url_section = link.get('value')\n",
    "    if \"20\" in link.text:\n",
    "        #print(link.text)\n",
    "        url_years[link.text] = link.get('value')\n",
    "    if 'Master' in link.text or 'Mineur' in link.text:\n",
    "        url_master[link.text] = link.get('value')\n",
    "\n",
    "        \n",
    "print(url_years)\n",
    "print(url_master)\n",
    "#frame= frame.drop([2,3,4,5,6,8,9,11],axis=1)\n",
    "#frame.head(10)"
   ]
  },
  {
   "cell_type": "markdown",
   "metadata": {},
   "source": [
    "Assumptions : \n",
    "- All students start in MS1 and do it only once."
   ]
  },
  {
   "cell_type": "code",
   "execution_count": null,
   "metadata": {
    "collapsed": true
   },
   "outputs": [],
   "source": [
    "master_student = pd.DataFrame(columns = ['Civilité', 'Nom Prénom', 'MS1', 'MS2', 'MS3', 'PDM Spring', 'PDM Autumn', 'Specialisation', 'Mineur'])\n",
    "master_student.index.name = 'No Sciper'\n",
    "\n",
    "for year in range(2007,2016):\n",
    "    year_string = str(year) + '-' + str(year+1)\n",
    "    \n",
    "    # MS1 : get all sciper of students in MS1 and add them all to the data frame with 1 in MS1 and 0 elsewhere\n",
    "    current_url_MS1 = getFullUrl(year_string, 'Master semestre 1')\n",
    "    with urllib.request.urlopen(current_url_B1) as url:\n",
    "        html_B1 = url.read()\n",
    "    soup = BeautifulSoup(html_B1, 'html.parser')\n",
    "    master_frame_MS1 = pd.read_html(soup.prettify(), header=1)\n",
    "    master_frame_MS1 = master_frame_MS1[0].drop(0,axis=0)\n",
    "    master_frame_MS1_sciper = np.array(master_frame_MS1[['No Sciper']])\n",
    "    master_student.loc[master_frame_MS1_sciper] = ['MS1'=1, 'MS2'=0, 'MS3'=0]\n",
    "    \n",
    "    # Create the data frame only keeping relevant fields\n",
    "    # Note that the student_frame_B1 DataFrame is a temporary dataframe that only orders the data from the webpage.\n",
    "    # We clean it and put all the non duplicate students into the current student DataFrame, that will contain our final entries\n",
    "    student_frame_B1 = pd.read_html(soup.prettify(), header=1)\n",
    "    student_frame_B1 = student_frame_B1[0].drop(0,axis=0)\n",
    "    student_frame_B1 = student_frame_B1[['Civilité', 'Nom Prénom', 'No Sciper']]\n",
    "    student_frame_B1 = student_frame_B1.set_index('No Sciper')\n",
    "    student_frame_B1['Starting year'] = int(year);\n",
    "    \n",
    "    # Only keep students that are in their first 1st year\n",
    "    student_frame_B1 = student_frame_B1[[not (sciper in current_student.index) for sciper in student_frame_B1.index]]\n",
    "    \n",
    "    current_student = pd.concat([current_student, student_frame_B1])\n",
    "    \n",
    "# We now check for all students starting in 2008 whether they have previously failed in year 2007-2008.\n",
    "# If so, we change their starting year.\n",
    "year_string = '2007-2008'\n",
    "# Get the data from the appropriate url -> the URL describing the students in first semester\n",
    "url_B1_2007 = getFullUrl(year_string, 'Bachelor semestre 1')\n",
    "with urllib.request.urlopen(url_B1_2007) as url:\n",
    "    html_B1_2007 = url.read()\n",
    "soup = BeautifulSoup(html_B1_2007, 'html.parser')\n",
    "student_frame_B1_2007 = pd.read_html(soup.prettify(), header=1)\n",
    "sciper_student_2007 = np.array(student_frame_B1_2007[0]['No Sciper'])\n",
    "current_student.loc[current_student.index.isin(sciper_student_2007), 'Starting year'] = 2007\n",
    "\n",
    "    \n",
    "print(current_student.index.is_unique)\n",
    "print(current_student.head(100))"
   ]
  },
  {
   "cell_type": "code",
   "execution_count": null,
   "metadata": {
    "collapsed": true
   },
   "outputs": [],
   "source": []
  }
 ],
 "metadata": {
  "kernelspec": {
   "display_name": "Python 3",
   "language": "python",
   "name": "python3"
  },
  "language_info": {
   "codemirror_mode": {
    "name": "ipython",
    "version": 3
   },
   "file_extension": ".py",
   "mimetype": "text/x-python",
   "name": "python",
   "nbconvert_exporter": "python",
   "pygments_lexer": "ipython3",
   "version": "3.5.2"
  }
 },
 "nbformat": 4,
 "nbformat_minor": 1
}
