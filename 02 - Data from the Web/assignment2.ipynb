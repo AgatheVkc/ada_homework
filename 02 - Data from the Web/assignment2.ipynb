{
 "cells": [
  {
   "cell_type": "markdown",
   "metadata": {},
   "source": [
    "# Assignment 2\n",
    "Perform a similar operation to what described above, this time for Master students. Notice that this data is more tricky, as there are many missing records in the IS-Academia database. Therefore, try to guess how much time a master student spent at EPFL by at least checking the distance in months between `Master semestre 1` and `Master semestre 2`. If the Mineur field is not empty, the student should also appear registered in `Master semestre 3`. Last but not the least, don't forget to check if the student has an entry also in the `Projet Master` tables. Once you can handle well this data, compute the \"average stay at EPFL\" for master students. Now extract all the students with a `Spécialisation` and compute the \"average stay\" per each category of that attribute -- compared to the general average, can you find any specialization for which the difference in average is statistically significant?"
   ]
  },
  {
   "cell_type": "markdown",
   "metadata": {},
   "source": [
    "Useful usual imports at first"
   ]
  },
  {
   "cell_type": "code",
   "execution_count": null,
   "metadata": {
    "collapsed": false
   },
   "outputs": [],
   "source": [
    "from bs4 import BeautifulSoup\n",
    "import urllib.request\n",
    "import pandas as pd\n",
    "import html5lib \n",
    "from lxml import html\n",
    "import numpy as np\n",
    "from helpers import *\n",
    "#import helpers as helpers"
   ]
  },
  {
   "cell_type": "markdown",
   "metadata": {},
   "source": [
    "Extracting the master students in the similar fashion we did in the first assignment : we associate each year/master stage with its value, that we extract from the html page using the BeautifulSoup package."
   ]
  },
  {
   "cell_type": "code",
   "execution_count": null,
   "metadata": {
    "collapsed": false
   },
   "outputs": [],
   "source": [
    "# The URL of the \"start\" of the IS-Academia page listing the students.\n",
    "home_url = \"http://isa.epfl.ch/imoniteur_ISAP/!GEDPUBLICREPORTS.filter?ww_x_GPS=-1&ww_i_reportModel=133685247\"\n",
    "\n",
    "# The general form of the URL, with the fields to be replaced later (e.g. [UNITE_ACADEMIQUE])\n",
    "base_url = \"http://isa.epfl.ch/imoniteur_ISAP/!GEDPUBLICREPORTS.html?ww_x_GPS=-1&ww_i_reportModel=133685247&ww_i_reportModelXsl=133685270&ww_x_UNITE_ACAD=[UNITE_ACADEMIQUE]&ww_x_PERIODE_ACAD=[PERIODE_ACADEMIQUE]&ww_x_PERIODE_PEDAGO=[PERIODE_PEDAGOGIQUE]&ww_x_HIVERETE=null\"\n",
    "\n",
    "# Get the raw content from the page\n",
    "with urllib.request.urlopen(home_url) as url:\n",
    "    s = url.read()\n",
    "\n",
    "soup = BeautifulSoup(s, 'html.parser')\n",
    "\n",
    "# Parse the content\n",
    "url_section = 0\n",
    "url_years = {}\n",
    "url_master = {}\n",
    "\n",
    "#For loop on all the possible fields with <option> to get the value associated with each year, or each \"Bachelor\" semester\n",
    "for link in soup.find_all('option'):\n",
    "    if link.text == 'Informatique':\n",
    "        url_section = link.get('value')\n",
    "    if \"20\" in link.text:\n",
    "        url_years[link.text] = link.get('value')\n",
    "    if 'Master' in link.text or 'Mineur' in link.text:\n",
    "        url_master[link.text] = link.get('value')\n",
    "\n",
    "        \n",
    "print(url_years)\n",
    "print(url_master)"
   ]
  },
  {
   "cell_type": "markdown",
   "metadata": {},
   "source": [
    "Function that replaces the general fields in the base_url with the fields for a given year and level of study"
   ]
  },
  {
   "cell_type": "code",
   "execution_count": null,
   "metadata": {
    "collapsed": true
   },
   "outputs": [],
   "source": [
    "def getFullUrl(PeriodeAcad, PeriodePedag):\n",
    "    \"\"\"\n",
    "    Given an academic period (years) and a pedagogic period (bachelor semester), \n",
    "    fills the general URL with the values associated to those parameters.\n",
    "    \n",
    "    @param PeriodeAcad :  Academic year string, in the form ('2015-2016')\n",
    "    @param PeriodePedag : Pedagogic period string, in the form ('Bachelor x')\n",
    "    @return url :         The complete url associated to those period, from which we can fetch the students.\n",
    "    \n",
    "    \"\"\"\n",
    "    url = base_url\n",
    "    url = url.replace('[UNITE_ACADEMIQUE]', str(url_section))\n",
    "    url = url.replace('[PERIODE_ACADEMIQUE]', str(url_years[PeriodeAcad]))\n",
    "    url = url.replace('[PERIODE_PEDAGOGIQUE]', str(url_master[PeriodePedag]))\n",
    "    return url"
   ]
  },
  {
   "cell_type": "markdown",
   "metadata": {},
   "source": [
    "We noticed that in the way the EPFL master works, we will have all students that start in the autumn semester in `MS1` and then moves onto the `MS2`, then every subsqeuent autumn semester that he does will be counted into `MS3`.\n",
    "\n",
    "The way our data structure extracts the information we want from the table of students is as simple as possible. Keeping track of a student and noting each semester in which is present can be quite tricky, even very difficult, due to the holes into the IS-Academia data. The simplest way we found to address this problem is not trying to make any assumptions into where a student that disappears goes. We count each time a student appears in ones of the master semesters or master project semesters and add a $1$ each time we find an occurence of the same student. Hence its master duration will be the sum of the semesters in which the student appears."
   ]
  },
  {
   "cell_type": "code",
   "execution_count": null,
   "metadata": {
    "collapsed": false
   },
   "outputs": [],
   "source": [
    "def MasterStart(year_string,master_student,pedag) : \n",
    "    \"\"\"\n",
    "    Given a year and a pedagogic period, edits the master_student frame, adding the students \n",
    "    that are not present and editting the values for the ones present (adding a +1 for the pedagogic period)\n",
    "    \n",
    "    @param year_string :    Academic year string, in the form ('2015-2016')\n",
    "    @param master_student : DataFrame containing the occurrence of each students into any possible semester of the master.\n",
    "    @param pedag :          Pedagogic period string (e.g. in the form 'Master semestre x')\n",
    "    @return master_student: The editted version of our DataFrame.\n",
    "    \n",
    "    \"\"\"    \n",
    "    #Reading the HTML page\n",
    "    current_url = getFullUrl(year_string, pedag)\n",
    "    \n",
    "    with urllib.request.urlopen(current_url) as url:\n",
    "        html = url.read()\n",
    "    soup = BeautifulSoup(html, 'html.parser')\n",
    "    master_frame = pd.read_html(soup.prettify(), header=1)\n",
    "    \n",
    "    #If the page has actually some students in it.\n",
    "    if  len(master_frame)>0 :\n",
    "        master_frame = master_frame[0].drop(0,axis=0)\n",
    "        master_frame_sciper = master_frame[['No Sciper']]\n",
    "        master_frame = master_frame.set_index('No Sciper')\n",
    "        for sciper in master_frame_sciper.values:\n",
    "            sciper = sciper[0]\n",
    "            \n",
    "            #As a student can be in 'Master semestre 1' only once, we add all of them automatically.\n",
    "            if pedag == 'Master semestre 1' or sciper not in master_student.index:\n",
    "                master_student.loc[sciper] = 0   \n",
    "                master_student.loc[sciper,pedag] = 1\n",
    "            else :\n",
    "                master_student.loc[sciper,pedag] += 1   \n",
    "            master_student.loc[sciper,'Civilité'] = master_frame.loc[sciper,'Civilité']\n",
    "            master_student.loc[sciper,'Nom Prénom'] = master_frame.loc[sciper,'Nom Prénom']\n",
    "            master_student.loc[sciper,'Spécialisation'] = master_frame.loc[sciper,'Spécialisation']\n",
    "            master_student.loc[sciper,'Mineur'] = master_frame.loc[sciper,'Mineur']\n",
    "    return master_student"
   ]
  },
  {
   "cell_type": "markdown",
   "metadata": {},
   "source": [
    "We perform here the extraction from all the years and master stages for each student we find, going from the period $2007$ to $2016$, counting for each student. The following essentially calls the `MasterStart` function at each iteration."
   ]
  },
  {
   "cell_type": "code",
   "execution_count": null,
   "metadata": {
    "collapsed": false
   },
   "outputs": [],
   "source": [
    "master_student = pd.DataFrame(columns = ['Civilité', 'Nom Prénom', \n",
    "                                         'Master semestre 1', 'Master semestre 2', 'Master semestre 3',\n",
    "                                         'Projet Master printemps', 'Projet Master automne', \n",
    "                                         'Spécialisation', 'Mineur'])\n",
    "master_student.index.name = 'No Sciper'\n",
    "\n",
    "pedagogic_year = ['Master semestre 1','Master semestre 2','Master semestre 3',\n",
    "                  'Projet Master printemps','Projet Master automne']\n",
    "for year in range(2007,2016):\n",
    "    year_string = str(year) + '-' + str(year+1)\n",
    "    for pedag in  pedagogic_year :\n",
    "         master_student = MasterStart(year_string,master_student,pedag)"
   ]
  },
  {
   "cell_type": "markdown",
   "metadata": {},
   "source": [
    "**Assumptions**  : \n",
    " - It is possible to have project master in spring and autumn (not really an assumption, but we realise it's possible to fail the master project and redo it, so the data is valid).\n",
    " - If no `projet master` field has been found, we assume that the student had his project outside epfl and add $+1$ semester to the total duration of his master.\n",
    " - If there are no entries in `Master semester 1` and `Master semester 2`, we also add a $+1$ to the total duration of the master, as a student needs to have done at least one of those, when he starts."
   ]
  },
  {
   "cell_type": "code",
   "execution_count": null,
   "metadata": {
    "collapsed": false
   },
   "outputs": [],
   "source": [
    "print(master_student.index.is_unique)\n",
    "## sum over all the master 1,2,3 plus additional master project.\n",
    "## The two long lines starting with one add a semester to the master for students having :\n",
    "## 0 semesters in MS1, MS2 // 0 semesters in Master project autumn/spring\n",
    "time = (master_student['Master semestre 1']+master_student['Master semestre 2']+\n",
    "        1-((master_student['Master semestre 1']+ master_student['Master semestre 2'])>=1) +\n",
    "        master_student['Master semestre 3']+master_student['Projet Master printemps']+\n",
    "        master_student['Projet Master automne']+\n",
    "        1-((master_student['Projet Master printemps']+ master_student['Projet Master automne'])>=1)) \n",
    "master_student['Time to Finish']= time\n",
    "master_student.sort_values(ascending=[True,True],by=['Master semestre 1', 'Master semestre 2']).head(10)"
   ]
  },
  {
   "cell_type": "markdown",
   "metadata": {},
   "source": [
    "We now perform the statistical test to determine whether doing a specialisation effectively has an effect on the duration of the master. We chose a 1-sample t-test, as we want to compare if the difference from the mean duration of the master without any specialisation is statistically significant. Our null hypothesis is then that the two samples are from the ame distribution."
   ]
  },
  {
   "cell_type": "code",
   "execution_count": null,
   "metadata": {
    "collapsed": false
   },
   "outputs": [],
   "source": [
    "import scipy.stats as stats\n",
    "specialisation = master_student[master_student['Spécialisation']==master_student['Spécialisation']]                        \n",
    "mean_time_specialisation = specialisation['Time to Finish']\n",
    "mean_time  = master_student['Time to Finish'].mean()\n",
    "print(mean_time)\n",
    "print(mean_time_specialisation.mean())\n",
    "stats.ttest_1samp(a= mean_time_specialisation, \n",
    "                 popmean= mean_time)"
   ]
  },
  {
   "cell_type": "markdown",
   "metadata": {},
   "source": [
    "The result shows VERY clearly that the difference is meaningful, as the p-value is almost zero, rejecting our null hypothesis. We can see even by eye from the averages that we have at least a 0.5 longer master duration for the people doing a specialisation."
   ]
  },
  {
   "cell_type": "markdown",
   "metadata": {},
   "source": [
    "We will then compute the mean duration of the master for each of the different specialisations."
   ]
  },
  {
   "cell_type": "code",
   "execution_count": null,
   "metadata": {
    "collapsed": false
   },
   "outputs": [],
   "source": [
    "master_student_grouped = master_student.groupby(master_student.Spécialisation)\n",
    "mean_spec = pd.DataFrame(columns=['Mean'])\n",
    "\n",
    "for spec,student in master_student_grouped:\n",
    "    #print('spec', spec)\n",
    "    #print('student', student['Time to Finish'])\n",
    "    mean_spec.loc[spec] = np.mean(student['Time to Finish'].values)\n",
    "\n",
    "mean_spec"
   ]
  },
  {
   "cell_type": "code",
   "execution_count": null,
   "metadata": {
    "collapsed": false
   },
   "outputs": [],
   "source": [
    "#print(master_student.head(20))\n",
    "#master_student = master_student.drop('Mineur', axis=1)\n",
    "\n",
    "master_student_with_Spec = master_student[master_student.Spécialisation == master_student.Spécialisation]\n",
    "list_Spec = master_student_with_Spec['Spécialisation'].drop_duplicates().values\n",
    "\n",
    "#print(master_student_with_Spec.shape)\n",
    "#print(master_student_with_Spec.sort_index().head())\n",
    "\n",
    "master_student_with_Spec['No Sciper'] = master_student_with_Spec.index\n",
    "master_student_with_Spec = master_student_with_Spec.set_index(['Spécialisation'])\n",
    "master_student_with_Spec = master_student_with_Spec.sort_index()\n",
    "master_student_with_Spec = master_student_with_Spec.set_index([master_student_with_Spec.index, 'No Sciper'])\n",
    "\n",
    "master_student_with_Spec.head(10)\n",
    "\n",
    "#print(master_student_with_Spec.head())\n"
   ]
  },
  {
   "cell_type": "code",
   "execution_count": null,
   "metadata": {
    "collapsed": false,
    "scrolled": true
   },
   "outputs": [],
   "source": [
    "#segments.groupby(segments.name).seg_length.sum().sort_values(ascending=False, inplace=False).head(20)\n",
    "\n",
    "#master_student_with_Spec.groupby(master_student_with_Spec.index).sum().head(10)"
   ]
  },
  {
   "cell_type": "code",
   "execution_count": null,
   "metadata": {
    "collapsed": false
   },
   "outputs": [],
   "source": [
    "#master_student['Spécialisation'].drop_duplicates()\n",
    "print(list_Spec)\n",
    "master_student_with_Spec.loc[list_Spec[1]]"
   ]
  },
  {
   "cell_type": "markdown",
   "metadata": {},
   "source": [
    "Now we perform the statistical test on the students regrouped by their specialisation"
   ]
  },
  {
   "cell_type": "code",
   "execution_count": null,
   "metadata": {
    "collapsed": false
   },
   "outputs": [],
   "source": [
    "for spec in list_Spec:\n",
    "    master_student_in_spec = master_student_with_Spec.loc[spec]\n",
    "    print('Specialisation ' + spec)\n",
    "    print(master_student_in_spec.loc[:,'Time to Finish'].shape)\n",
    "    print(stats.ttest_1samp(a= np.array(master_student_in_spec.loc[:,'Time to Finish']), popmean=mean_time))\n",
    "    print()\n",
    "    \n",
    "# Note : we get a NaN pvalue when there is only 1 student in a Specialisation as there is not enough data to perform\n",
    "# a statistical test."
   ]
  },
  {
   "cell_type": "markdown",
   "metadata": {},
   "source": [
    "We observe that there is a statistically significant difference of Master duration for students choosing Specifications **Internet Computing**, **Foundations of Software**, **Signals, Images and Interfaces**, **Computer Engineering - SP**, **Computer Engineering - SP** and **Data Analytics**"
   ]
  },
  {
   "cell_type": "markdown",
   "metadata": {},
   "source": [
    "# Assigment 3\n",
    "**BONUS**: perform the gender-based study also on the Master students, as explained in 1. Use scatterplots to visually identify changes over time. Plot males and females with different colors -- can you spot different trends that match the results of your statistical tests?"
   ]
  },
  {
   "cell_type": "code",
   "execution_count": null,
   "metadata": {
    "collapsed": false
   },
   "outputs": [],
   "source": [
    "men_master_student = master_student.loc[master_student['Civilité']=='Monsieur']\n",
    "women_master_student = master_student.loc[master_student['Civilité']=='Madame']\n",
    "\n",
    "#print(men_master_student.head())\n",
    "\n",
    "# Perform the statistical test\n",
    "stats.ttest_ind(a= np.array(women_master_student.loc[:,'Time to Finish']),\n",
    "                b= np.array(men_master_student.loc[:,'Time to Finish']),\n",
    "                equal_var=False)    # Assume samples have equal variance?"
   ]
  },
  {
   "cell_type": "code",
   "execution_count": null,
   "metadata": {
    "collapsed": false
   },
   "outputs": [],
   "source": [
    "import matplotlib.pyplot as plt\n",
    "\n",
    "x = np.random.normal(1, 2, 5000)\n",
    "y = np.random.normal(-1, 3, 5000)\n",
    "data = np.vstack([x, y]).T\n",
    "bins = np.linspace(-10, 10, 30)\n",
    "\n",
    "print(x.shape)\n",
    "print(y.shape)\n",
    "\n",
    "plt.hist(data, bins, alpha=0.7, label=['x', 'y'])\n",
    "plt.legend(loc='upper right')\n",
    "plt.show()"
   ]
  },
  {
   "cell_type": "code",
   "execution_count": null,
   "metadata": {
    "collapsed": false
   },
   "outputs": [],
   "source": [
    "import matplotlib.pyplot as plt\n",
    "\n",
    "#plt.figure()\n",
    "#plt.histogram(men_master_student.loc[:,'Time to Finish'].values)\n",
    "\n",
    "#print(women_master_student['Time to Finish'].values)\n",
    "\n",
    "\n",
    "#print(women_master_student['Time to Finish'])\n",
    "#women_master_student['Time to Finish'].hist(bins=20)\n",
    "#men_master_student['Time to Finish'].hist(bins=20)\n",
    "print(women_master_student['Time to Finish'].values.shape)\n",
    "print(men_master_student['Time to Finish'].values.shape)\n",
    "\n",
    "#data = np.vstack([women_master_student['Time to Finish'].values, men_master_student['Time to Finish'].values])\n",
    "\n",
    "#plt.hist(women_master_student['Time to Finish'].values, alpha=0.5, bins=20, stacked=True)\n",
    "#plt.hold()\n",
    "#plt.hist(men_master_student['Time to Finish'].values,alpha=0.5, bins=20, stacked=True)\n",
    "\n",
    "\n",
    "f, axarr = plt.subplots(2, sharex=True)\n",
    "axarr[0].hist(women_master_student['Time to Finish'].values, alpha=0.5, bins=15, stacked=True, color='r')\n",
    "axarr[0].set_title('Histogram plot of time taken to finish for each sex')\n",
    "axarr[1].hist(men_master_student['Time to Finish'].values,alpha=0.5, bins=15, stacked=True, color='b')\n",
    "axarr[0].set_ylabel('Number of \\nfemale students')\n",
    "axarr[1].set_ylabel('Number of \\nmale students')\n",
    "axarr[1].set_xlabel('Semesters taken to complete the master')\n",
    "plt.show()"
   ]
  },
  {
   "cell_type": "markdown",
   "metadata": {},
   "source": [
    "We indeed see that the distributions are the same, which agrees with the statistical test that gives no difference of duration beteween men and women."
   ]
  }
 ],
 "metadata": {
  "anaconda-cloud": {},
  "kernelspec": {
   "display_name": "Python [default]",
   "language": "python",
   "name": "python3"
  },
  "language_info": {
   "codemirror_mode": {
    "name": "ipython",
    "version": 3
   },
   "file_extension": ".py",
   "mimetype": "text/x-python",
   "name": "python",
   "nbconvert_exporter": "python",
   "pygments_lexer": "ipython3",
   "version": "3.5.2"
  }
 },
 "nbformat": 4,
 "nbformat_minor": 1
}
