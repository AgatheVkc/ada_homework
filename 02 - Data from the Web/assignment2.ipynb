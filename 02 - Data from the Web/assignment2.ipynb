{
 "cells": [
  {
   "cell_type": "markdown",
   "metadata": {},
   "source": [
    "# Homework 2 - Data from the web (II)\n",
    "## Assignment 2 (Bonus assignment at the bottom)\n",
    "Perform a similar operation to what described above, this time for Master students. Notice that this data is more tricky, as there are many missing records in the IS-Academia database. Therefore, try to guess how much time a master student spent at EPFL by at least checking the distance in months between `Master semestre 1` and `Master semestre 2`. If the Mineur field is not empty, the student should also appear registered in `Master semestre 3`. Last but not the least, don't forget to check if the student has an entry also in the `Projet Master` tables. Once you can handle well this data, compute the \"average stay at EPFL\" for master students. Now extract all the students with a `Spécialisation` and compute the \"average stay\" per each category of that attribute -- compared to the general average, can you find any specialization for which the difference in average is statistically significant?"
   ]
  },
  {
   "cell_type": "markdown",
   "metadata": {},
   "source": [
    "### Getting the parameters\n",
    "Useful usual imports at first"
   ]
  },
  {
   "cell_type": "code",
   "execution_count": 1,
   "metadata": {
    "collapsed": false
   },
   "outputs": [],
   "source": [
    "from bs4 import BeautifulSoup\n",
    "import urllib.request\n",
    "import pandas as pd\n",
    "import html5lib \n",
    "from lxml import html\n",
    "import numpy as np\n",
    "from helpers import *\n",
    "#import helpers as helpers"
   ]
  },
  {
   "cell_type": "markdown",
   "metadata": {},
   "source": [
    "Extracting the master students in the similar fashion we did in the first assignment : we associate each year/master stage with its value, that we extract from the html page using the BeautifulSoup package."
   ]
  },
  {
   "cell_type": "code",
   "execution_count": 2,
   "metadata": {
    "collapsed": false
   },
   "outputs": [
    {
     "name": "stdout",
     "output_type": "stream",
     "text": [
      "{'2008-2009': '978187', '2015-2016': '213638028', '2009-2010': '978195', '2012-2013': '123456101', '2011-2012': '123455150', '2010-2011': '39486325', '2013-2014': '213637754', '2007-2008': '978181', '2016-2017': '355925344', '2014-2015': '213637922'}\n",
      "{'Master semestre 3': '2230128', 'Projet Master printemps': '3781783', 'Master semestre 2': '942192', 'Master semestre 4': '2230140', 'Master semestre 1': '2230106', 'Projet Master automne': '249127', 'Mineur semestre 1': '2335667', 'Mineur semestre 2': '2335676'}\n"
     ]
    }
   ],
   "source": [
    "# The URL of the \"start\" of the IS-Academia page listing the students.\n",
    "home_url = \"http://isa.epfl.ch/imoniteur_ISAP/!GEDPUBLICREPORTS.filter?ww_x_GPS=-1&ww_i_reportModel=133685247\"\n",
    "\n",
    "# The general form of the URL, with the fields to be replaced later (e.g. [UNITE_ACADEMIQUE])\n",
    "base_url = \"http://isa.epfl.ch/imoniteur_ISAP/!GEDPUBLICREPORTS.html?ww_x_GPS=-1&ww_i_reportModel=133685247&ww_i_reportModelXsl=133685270&ww_x_UNITE_ACAD=[UNITE_ACADEMIQUE]&ww_x_PERIODE_ACAD=[PERIODE_ACADEMIQUE]&ww_x_PERIODE_PEDAGO=[PERIODE_PEDAGOGIQUE]&ww_x_HIVERETE=null\"\n",
    "\n",
    "# Get the raw content from the page\n",
    "with urllib.request.urlopen(home_url) as url:\n",
    "    s = url.read()\n",
    "\n",
    "soup = BeautifulSoup(s, 'html.parser')\n",
    "\n",
    "# Parse the content\n",
    "url_section = 0\n",
    "url_years = {}\n",
    "url_master = {}\n",
    "\n",
    "#For loop on all the possible fields with <option> to get the value associated with each year, or each \"Bachelor\" semester\n",
    "for link in soup.find_all('option'):\n",
    "    if link.text == 'Informatique':\n",
    "        url_section = link.get('value')\n",
    "    if \"20\" in link.text:\n",
    "        url_years[link.text] = link.get('value')\n",
    "    if 'Master' in link.text or 'Mineur' in link.text:\n",
    "        url_master[link.text] = link.get('value')\n",
    "\n",
    "        \n",
    "print(url_years)\n",
    "print(url_master)"
   ]
  },
  {
   "cell_type": "markdown",
   "metadata": {},
   "source": [
    "Function that replaces the general fields in the base_url with the fields for a given year and level of study"
   ]
  },
  {
   "cell_type": "code",
   "execution_count": 3,
   "metadata": {
    "collapsed": true
   },
   "outputs": [],
   "source": [
    "def getFullUrl(PeriodeAcad, PeriodePedag):\n",
    "    \"\"\"\n",
    "    Given an academic period (years) and a pedagogic period (bachelor semester), \n",
    "    fills the general URL with the values associated to those parameters.\n",
    "    \n",
    "    @param PeriodeAcad :  Academic year string, in the form ('2015-2016')\n",
    "    @param PeriodePedag : Pedagogic period string, in the form ('Bachelor x')\n",
    "    @return url :         The complete url associated to those period, from which we can fetch the students.\n",
    "    \n",
    "    \"\"\"\n",
    "    url = base_url\n",
    "    url = url.replace('[UNITE_ACADEMIQUE]', str(url_section))\n",
    "    url = url.replace('[PERIODE_ACADEMIQUE]', str(url_years[PeriodeAcad]))\n",
    "    url = url.replace('[PERIODE_PEDAGOGIQUE]', str(url_master[PeriodePedag]))\n",
    "    return url"
   ]
  },
  {
   "cell_type": "markdown",
   "metadata": {},
   "source": [
    "### Extracting and formatting the data\n",
    "We noticed that in the way the EPFL master works, we will have all students that start in the autumn semester in `MS1` and then moves onto the `MS2`, then every subsequent autumn semester that he does will be counted into `MS3`.\n",
    "\n",
    "The way our data structure extracts the information we want from the table of students is as simple as possible. Keeping track of a student and noting each semester in which is present can be quite tricky, even very difficult, due to the holes into the IS-Academia data. The simplest way we found to address this problem is not trying to make any assumptions into where a student that disappears goes during the whole in the data. We count each time a student appears in ones of the master semesters or master project semesters and add a $1$ each time we find an occurence of the same student. Hence its master duration will be the sum of the semesters in which the student appears."
   ]
  },
  {
   "cell_type": "code",
   "execution_count": 4,
   "metadata": {
    "collapsed": false
   },
   "outputs": [],
   "source": [
    "def MasterStart(year,master_student,pedag) : \n",
    "    \"\"\"\n",
    "    Given a year and a pedagogic period, edits the master_student frame, adding the students \n",
    "    that are not present and editting the values for the ones present (adding a +1 for the pedagogic period)\n",
    "    \n",
    "    @param year_string :    Academic year string, in the form ('2015-2016')\n",
    "    @param master_student : DataFrame containing the occurrence of each students into any possible semester of the master.\n",
    "    @param pedag :          Pedagogic period string (e.g. in the form 'Master semestre x')\n",
    "    @return master_student: The editted version of our DataFrame.\n",
    "    \n",
    "    \"\"\"  \n",
    "    year_string = str(year) + '-' + str(year+1)\n",
    "    #Reading the HTML page\n",
    "    current_url = getFullUrl(year_string, pedag)\n",
    "    \n",
    "    with urllib.request.urlopen(current_url) as url:\n",
    "        html = url.read()\n",
    "    soup = BeautifulSoup(html, 'html.parser')\n",
    "    master_frame = pd.read_html(soup.prettify(), header=1)\n",
    "    \n",
    "    #If the page has actually some students in it.\n",
    "    if  len(master_frame)>0 :\n",
    "        master_frame = master_frame[0].drop(0,axis=0)\n",
    "        master_frame_sciper = master_frame[['No Sciper']]\n",
    "        master_frame = master_frame.set_index('No Sciper')\n",
    "        for sciper in master_frame_sciper.values:\n",
    "            sciper = sciper[0]\n",
    "            \n",
    "            #As a student can be in 'Master semestre 1' only once, we add all of them automatically.\n",
    "            if pedag == 'Master semestre 1' or sciper not in master_student.index:\n",
    "                master_student.loc[sciper] = 0   \n",
    "                master_student.loc[sciper,pedag] = 1\n",
    "                master_student.loc[sciper,'Starting Year'] = year\n",
    "            else :\n",
    "                master_student.loc[sciper,pedag] += 1   \n",
    "            master_student.loc[sciper,'Civilité'] = master_frame.loc[sciper,'Civilité']\n",
    "            master_student.loc[sciper,'Nom Prénom'] = master_frame.loc[sciper,'Nom Prénom']\n",
    "            master_student.loc[sciper,'Spécialisation'] = master_frame.loc[sciper,'Spécialisation']\n",
    "            master_student.loc[sciper,'Mineur'] = master_frame.loc[sciper,'Mineur']\n",
    "    return master_student"
   ]
  },
  {
   "cell_type": "markdown",
   "metadata": {},
   "source": [
    "We perform here the extraction from all the years and master stages for each student we find, going from the period 2007 to 2016, counting for each student. The following essentially calls the `MasterStart` function at each iteration.\n",
    "\n",
    "Further down, we will perform some filtering in order to remove from the DataFrame students that cause an obvious bias. We will remove them according to those 3 criteria :\n",
    " 1. If there are no entries in `Master semestre 1` for a student in the year 2007-2008, we erase it from our DataFrame, as it is most likely that the student has started in the previous year.\n",
    " 2. If there is an entry in `Master semestre 1` for a student in the year 2015-2016, we erase it from our DataFrame, as he will not have enough time to complete his master in the data we have.\n",
    " 3. Then, after having done that, we will remove from our DataFrame all the students that have only 1 semester of presence over their whole cursus, because we do not have enough data about them to make reasonable assumptions."
   ]
  },
  {
   "cell_type": "code",
   "execution_count": 5,
   "metadata": {
    "collapsed": false
   },
   "outputs": [],
   "source": [
    "# In the following we retrieve all the students from IS-Academia\n",
    "master_student = pd.DataFrame(columns = ['Civilité', 'Nom Prénom', \n",
    "                                         'Master semestre 1', 'Master semestre 2', 'Master semestre 3',\n",
    "                                         'Projet Master printemps', 'Projet Master automne', \n",
    "                                         'Spécialisation', 'Mineur','Starting Year'])\n",
    "master_student.index.name = 'No Sciper'\n",
    "\n",
    "pedagogic_year = ['Master semestre 1','Master semestre 2','Master semestre 3',\n",
    "                  'Projet Master printemps','Projet Master automne']\n",
    "for year in range(2007,2016):   \n",
    "    for pedag in  pedagogic_year :\n",
    "         master_student = MasterStart(year,master_student,pedag)"
   ]
  },
  {
   "cell_type": "code",
   "execution_count": 6,
   "metadata": {
    "collapsed": false
   },
   "outputs": [
    {
     "data": {
      "text/html": [
       "<div>\n",
       "<table border=\"1\" class=\"dataframe\">\n",
       "  <thead>\n",
       "    <tr style=\"text-align: right;\">\n",
       "      <th></th>\n",
       "      <th>Civilité</th>\n",
       "      <th>Nom Prénom</th>\n",
       "      <th>Master semestre 1</th>\n",
       "      <th>Master semestre 2</th>\n",
       "      <th>Master semestre 3</th>\n",
       "      <th>Projet Master printemps</th>\n",
       "      <th>Projet Master automne</th>\n",
       "      <th>Spécialisation</th>\n",
       "      <th>Mineur</th>\n",
       "      <th>Starting Year</th>\n",
       "    </tr>\n",
       "    <tr>\n",
       "      <th>No Sciper</th>\n",
       "      <th></th>\n",
       "      <th></th>\n",
       "      <th></th>\n",
       "      <th></th>\n",
       "      <th></th>\n",
       "      <th></th>\n",
       "      <th></th>\n",
       "      <th></th>\n",
       "      <th></th>\n",
       "      <th></th>\n",
       "    </tr>\n",
       "  </thead>\n",
       "  <tbody>\n",
       "    <tr>\n",
       "      <th>170525</th>\n",
       "      <td>Monsieur</td>\n",
       "      <td>Galimberti Davide</td>\n",
       "      <td>0.0</td>\n",
       "      <td>1.0</td>\n",
       "      <td>1.0</td>\n",
       "      <td>0.0</td>\n",
       "      <td>0.0</td>\n",
       "      <td>NaN</td>\n",
       "      <td>NaN</td>\n",
       "      <td>2008.0</td>\n",
       "    </tr>\n",
       "    <tr>\n",
       "      <th>175190</th>\n",
       "      <td>Monsieur</td>\n",
       "      <td>Hanser Valérian</td>\n",
       "      <td>0.0</td>\n",
       "      <td>1.0</td>\n",
       "      <td>1.0</td>\n",
       "      <td>1.0</td>\n",
       "      <td>0.0</td>\n",
       "      <td>NaN</td>\n",
       "      <td>NaN</td>\n",
       "      <td>2010.0</td>\n",
       "    </tr>\n",
       "    <tr>\n",
       "      <th>202878</th>\n",
       "      <td>Madame</td>\n",
       "      <td>Tapandjieva Gorica</td>\n",
       "      <td>0.0</td>\n",
       "      <td>1.0</td>\n",
       "      <td>1.0</td>\n",
       "      <td>0.0</td>\n",
       "      <td>0.0</td>\n",
       "      <td>NaN</td>\n",
       "      <td>NaN</td>\n",
       "      <td>2010.0</td>\n",
       "    </tr>\n",
       "    <tr>\n",
       "      <th>184772</th>\n",
       "      <td>Monsieur</td>\n",
       "      <td>Arnfred Jonas</td>\n",
       "      <td>0.0</td>\n",
       "      <td>1.0</td>\n",
       "      <td>1.0</td>\n",
       "      <td>0.0</td>\n",
       "      <td>0.0</td>\n",
       "      <td>NaN</td>\n",
       "      <td>Area and Cultural Studies minor</td>\n",
       "      <td>2011.0</td>\n",
       "    </tr>\n",
       "    <tr>\n",
       "      <th>232468</th>\n",
       "      <td>Madame</td>\n",
       "      <td>Bagcioglu Egeyar Özlen</td>\n",
       "      <td>0.0</td>\n",
       "      <td>1.0</td>\n",
       "      <td>2.0</td>\n",
       "      <td>0.0</td>\n",
       "      <td>0.0</td>\n",
       "      <td>Internet computing</td>\n",
       "      <td>NaN</td>\n",
       "      <td>2014.0</td>\n",
       "    </tr>\n",
       "  </tbody>\n",
       "</table>\n",
       "</div>"
      ],
      "text/plain": [
       "           Civilité              Nom Prénom  Master semestre 1  \\\n",
       "No Sciper                                                        \n",
       "170525     Monsieur       Galimberti Davide                0.0   \n",
       "175190     Monsieur         Hanser Valérian                0.0   \n",
       "202878       Madame      Tapandjieva Gorica                0.0   \n",
       "184772     Monsieur           Arnfred Jonas                0.0   \n",
       "232468       Madame  Bagcioglu Egeyar Özlen                0.0   \n",
       "\n",
       "           Master semestre 2  Master semestre 3  Projet Master printemps  \\\n",
       "No Sciper                                                                  \n",
       "170525                   1.0                1.0                      0.0   \n",
       "175190                   1.0                1.0                      1.0   \n",
       "202878                   1.0                1.0                      0.0   \n",
       "184772                   1.0                1.0                      0.0   \n",
       "232468                   1.0                2.0                      0.0   \n",
       "\n",
       "           Projet Master automne      Spécialisation  \\\n",
       "No Sciper                                              \n",
       "170525                       0.0                 NaN   \n",
       "175190                       0.0                 NaN   \n",
       "202878                       0.0                 NaN   \n",
       "184772                       0.0                 NaN   \n",
       "232468                       0.0  Internet computing   \n",
       "\n",
       "                                    Mineur  Starting Year  \n",
       "No Sciper                                                  \n",
       "170525                                 NaN         2008.0  \n",
       "175190                                 NaN         2010.0  \n",
       "202878                                 NaN         2010.0  \n",
       "184772     Area and Cultural Studies minor         2011.0  \n",
       "232468                                 NaN         2014.0  "
      ]
     },
     "execution_count": 6,
     "metadata": {},
     "output_type": "execute_result"
    }
   ],
   "source": [
    "# Here, we filter the students accordingly to the criteria given above\n",
    "\n",
    "# 1. Remove students with no MS1 in 2007-2008\n",
    "master_student = master_student[np.logical_not((master_student['Starting Year'] ==2007)&(master_student['Master semestre 1']==0))]\n",
    "# 2. Remove students in MS1 in 2015-2016\n",
    "master_student = master_student[np.logical_not((master_student['Starting Year'] ==2015)&(master_student['Master semestre 1']==1))]\n",
    "# 3. Remove students with only one semester of presence overall\n",
    "course_time = (master_student['Master semestre 1']+master_student['Master semestre 2']+\n",
    "        master_student['Master semestre 3']+master_student['Projet Master printemps']+\n",
    "        master_student['Projet Master automne'])\n",
    "master_student = master_student[course_time>1]\n",
    "\n",
    "master_student.sort_values(ascending =[True, True],by=['Master semestre 1','Master semestre 2']).head()"
   ]
  },
  {
   "cell_type": "markdown",
   "metadata": {},
   "source": [
    "### Analysing the data and performing the statistical tests\n",
    "**Assumptions**  : \n",
    " - It is possible to have project master in spring and autumn (not really an assumption, but we realise it's possible to fail the master project and redo it, so the data is valid).\n",
    " - If no `projet master` field has been found, we assume that the student had his project outside epfl and add $+1$ semester to the total duration of his master. Because if we were to remove all the students with no master project entry in our data, we would get rid of most of the students we have, as there seems to be extensive holes in IS-Academia's data about master projects."
   ]
  },
  {
   "cell_type": "code",
   "execution_count": 7,
   "metadata": {
    "collapsed": false
   },
   "outputs": [
    {
     "name": "stdout",
     "output_type": "stream",
     "text": [
      "True\n"
     ]
    },
    {
     "data": {
      "text/html": [
       "<div>\n",
       "<table border=\"1\" class=\"dataframe\">\n",
       "  <thead>\n",
       "    <tr style=\"text-align: right;\">\n",
       "      <th></th>\n",
       "      <th>Civilité</th>\n",
       "      <th>Nom Prénom</th>\n",
       "      <th>Master semestre 1</th>\n",
       "      <th>Master semestre 2</th>\n",
       "      <th>Master semestre 3</th>\n",
       "      <th>Projet Master printemps</th>\n",
       "      <th>Projet Master automne</th>\n",
       "      <th>Spécialisation</th>\n",
       "      <th>Mineur</th>\n",
       "      <th>Starting Year</th>\n",
       "      <th>Time to Finish</th>\n",
       "    </tr>\n",
       "    <tr>\n",
       "      <th>No Sciper</th>\n",
       "      <th></th>\n",
       "      <th></th>\n",
       "      <th></th>\n",
       "      <th></th>\n",
       "      <th></th>\n",
       "      <th></th>\n",
       "      <th></th>\n",
       "      <th></th>\n",
       "      <th></th>\n",
       "      <th></th>\n",
       "      <th></th>\n",
       "    </tr>\n",
       "  </thead>\n",
       "  <tbody>\n",
       "    <tr>\n",
       "      <th>170525</th>\n",
       "      <td>Monsieur</td>\n",
       "      <td>Galimberti Davide</td>\n",
       "      <td>0.0</td>\n",
       "      <td>1.0</td>\n",
       "      <td>1.0</td>\n",
       "      <td>0.0</td>\n",
       "      <td>0.0</td>\n",
       "      <td>NaN</td>\n",
       "      <td>NaN</td>\n",
       "      <td>2008.0</td>\n",
       "      <td>3</td>\n",
       "    </tr>\n",
       "    <tr>\n",
       "      <th>175190</th>\n",
       "      <td>Monsieur</td>\n",
       "      <td>Hanser Valérian</td>\n",
       "      <td>0.0</td>\n",
       "      <td>1.0</td>\n",
       "      <td>1.0</td>\n",
       "      <td>1.0</td>\n",
       "      <td>0.0</td>\n",
       "      <td>NaN</td>\n",
       "      <td>NaN</td>\n",
       "      <td>2010.0</td>\n",
       "      <td>3</td>\n",
       "    </tr>\n",
       "    <tr>\n",
       "      <th>202878</th>\n",
       "      <td>Madame</td>\n",
       "      <td>Tapandjieva Gorica</td>\n",
       "      <td>0.0</td>\n",
       "      <td>1.0</td>\n",
       "      <td>1.0</td>\n",
       "      <td>0.0</td>\n",
       "      <td>0.0</td>\n",
       "      <td>NaN</td>\n",
       "      <td>NaN</td>\n",
       "      <td>2010.0</td>\n",
       "      <td>3</td>\n",
       "    </tr>\n",
       "    <tr>\n",
       "      <th>184772</th>\n",
       "      <td>Monsieur</td>\n",
       "      <td>Arnfred Jonas</td>\n",
       "      <td>0.0</td>\n",
       "      <td>1.0</td>\n",
       "      <td>1.0</td>\n",
       "      <td>0.0</td>\n",
       "      <td>0.0</td>\n",
       "      <td>NaN</td>\n",
       "      <td>Area and Cultural Studies minor</td>\n",
       "      <td>2011.0</td>\n",
       "      <td>3</td>\n",
       "    </tr>\n",
       "    <tr>\n",
       "      <th>232468</th>\n",
       "      <td>Madame</td>\n",
       "      <td>Bagcioglu Egeyar Özlen</td>\n",
       "      <td>0.0</td>\n",
       "      <td>1.0</td>\n",
       "      <td>2.0</td>\n",
       "      <td>0.0</td>\n",
       "      <td>0.0</td>\n",
       "      <td>Internet computing</td>\n",
       "      <td>NaN</td>\n",
       "      <td>2014.0</td>\n",
       "      <td>4</td>\n",
       "    </tr>\n",
       "  </tbody>\n",
       "</table>\n",
       "</div>"
      ],
      "text/plain": [
       "           Civilité              Nom Prénom  Master semestre 1  \\\n",
       "No Sciper                                                        \n",
       "170525     Monsieur       Galimberti Davide                0.0   \n",
       "175190     Monsieur         Hanser Valérian                0.0   \n",
       "202878       Madame      Tapandjieva Gorica                0.0   \n",
       "184772     Monsieur           Arnfred Jonas                0.0   \n",
       "232468       Madame  Bagcioglu Egeyar Özlen                0.0   \n",
       "\n",
       "           Master semestre 2  Master semestre 3  Projet Master printemps  \\\n",
       "No Sciper                                                                  \n",
       "170525                   1.0                1.0                      0.0   \n",
       "175190                   1.0                1.0                      1.0   \n",
       "202878                   1.0                1.0                      0.0   \n",
       "184772                   1.0                1.0                      0.0   \n",
       "232468                   1.0                2.0                      0.0   \n",
       "\n",
       "           Projet Master automne      Spécialisation  \\\n",
       "No Sciper                                              \n",
       "170525                       0.0                 NaN   \n",
       "175190                       0.0                 NaN   \n",
       "202878                       0.0                 NaN   \n",
       "184772                       0.0                 NaN   \n",
       "232468                       0.0  Internet computing   \n",
       "\n",
       "                                    Mineur  Starting Year Time to Finish  \n",
       "No Sciper                                                                 \n",
       "170525                                 NaN         2008.0              3  \n",
       "175190                                 NaN         2010.0              3  \n",
       "202878                                 NaN         2010.0              3  \n",
       "184772     Area and Cultural Studies minor         2011.0              3  \n",
       "232468                                 NaN         2014.0              4  "
      ]
     },
     "execution_count": 7,
     "metadata": {},
     "output_type": "execute_result"
    }
   ],
   "source": [
    "print(master_student.index.is_unique)\n",
    "# We take the total duration and add 1 semester if there are no fields in PDM spring or autumn\n",
    "time = (course_time + 1-((master_student['Projet Master printemps']+ master_student['Projet Master automne'])>=1)) \n",
    "master_student['Time to Finish']= time\n",
    "master_student.sort_values(ascending=[True,True],by=['Master semestre 1', 'Master semestre 2']).head()"
   ]
  },
  {
   "cell_type": "markdown",
   "metadata": {},
   "source": [
    "We now perform the statistical test to determine whether doing a specialisation effectively has an effect on the duration of the master. We chose a **1-sample T-test**, as we want to compare if the difference from the mean duration of the master without any specialisation is statistically significant. Our null hypothesis is then that the two samples are from the ame distribution."
   ]
  },
  {
   "cell_type": "code",
   "execution_count": 8,
   "metadata": {
    "collapsed": false
   },
   "outputs": [
    {
     "name": "stdout",
     "output_type": "stream",
     "text": [
      "Mean time for a master:  4.17839607201 vs Mean time for a master with a specialisation:  4.67914438503\n"
     ]
    },
    {
     "data": {
      "text/plain": [
       "Ttest_1sampResult(statistic=7.9861088560362354, pvalue=1.408381869015009e-13)"
      ]
     },
     "execution_count": 8,
     "metadata": {},
     "output_type": "execute_result"
    }
   ],
   "source": [
    "import scipy.stats as stats\n",
    "specialisation = master_student[master_student['Spécialisation']==master_student['Spécialisation']]                        \n",
    "mean_time_specialisation = specialisation['Time to Finish']\n",
    "mean_time  = master_student['Time to Finish'].mean()\n",
    "print('Mean time for a master: ',mean_time,'vs Mean time for a master with a specialisation: ',mean_time_specialisation.mean())\n",
    "stats.ttest_1samp(a= mean_time_specialisation, \n",
    "                 popmean= mean_time)"
   ]
  },
  {
   "cell_type": "markdown",
   "metadata": {},
   "source": [
    "The result shows VERY clearly that the difference is meaningful, as the p-value is almost zero, rejecting our null hypothesis. We can see even by eye from the averages that we have at least a 0.5 longer master duration for the people doing a specialisation."
   ]
  },
  {
   "cell_type": "markdown",
   "metadata": {},
   "source": [
    "**Now extract all the students with a `Spécialisation` and compute the \"average stay\" per each category of that attribute -- compared to the general average, can you find any specialization for which the difference in average is statistically significant?**"
   ]
  },
  {
   "cell_type": "markdown",
   "metadata": {
    "collapsed": false
   },
   "source": [
    "The way we will proceed is the following : \n",
    "- we will remove all students without a specialisation\n",
    "- we will group all the students with a specialisation\n",
    "- we will try to see whether the difference in the mean duration of the master is significant compared to the mean duratin of the master"
   ]
  },
  {
   "cell_type": "code",
   "execution_count": 9,
   "metadata": {
    "collapsed": false
   },
   "outputs": [
    {
     "data": {
      "text/html": [
       "<div>\n",
       "<table border=\"1\" class=\"dataframe\">\n",
       "  <thead>\n",
       "    <tr style=\"text-align: right;\">\n",
       "      <th></th>\n",
       "      <th></th>\n",
       "      <th>Civilité</th>\n",
       "      <th>Nom Prénom</th>\n",
       "      <th>Master semestre 1</th>\n",
       "      <th>Master semestre 2</th>\n",
       "      <th>Master semestre 3</th>\n",
       "      <th>Projet Master printemps</th>\n",
       "      <th>Projet Master automne</th>\n",
       "      <th>Mineur</th>\n",
       "      <th>Starting Year</th>\n",
       "      <th>Time to Finish</th>\n",
       "    </tr>\n",
       "    <tr>\n",
       "      <th>Spécialisation</th>\n",
       "      <th>No Sciper</th>\n",
       "      <th></th>\n",
       "      <th></th>\n",
       "      <th></th>\n",
       "      <th></th>\n",
       "      <th></th>\n",
       "      <th></th>\n",
       "      <th></th>\n",
       "      <th></th>\n",
       "      <th></th>\n",
       "      <th></th>\n",
       "    </tr>\n",
       "  </thead>\n",
       "  <tbody>\n",
       "    <tr>\n",
       "      <th rowspan=\"3\" valign=\"top\">Biocomputing</th>\n",
       "      <th>154573</th>\n",
       "      <td>Madame</td>\n",
       "      <td>Benabdallah Zeineb</td>\n",
       "      <td>1.0</td>\n",
       "      <td>2.0</td>\n",
       "      <td>2.0</td>\n",
       "      <td>1.0</td>\n",
       "      <td>0.0</td>\n",
       "      <td>NaN</td>\n",
       "      <td>2007.0</td>\n",
       "      <td>6</td>\n",
       "    </tr>\n",
       "    <tr>\n",
       "      <th>169734</th>\n",
       "      <td>Monsieur</td>\n",
       "      <td>Koller Yannick</td>\n",
       "      <td>1.0</td>\n",
       "      <td>2.0</td>\n",
       "      <td>2.0</td>\n",
       "      <td>0.0</td>\n",
       "      <td>0.0</td>\n",
       "      <td>NaN</td>\n",
       "      <td>2007.0</td>\n",
       "      <td>6</td>\n",
       "    </tr>\n",
       "    <tr>\n",
       "      <th>183185</th>\n",
       "      <td>Madame</td>\n",
       "      <td>Yurovsky Alisa</td>\n",
       "      <td>1.0</td>\n",
       "      <td>1.0</td>\n",
       "      <td>1.0</td>\n",
       "      <td>0.0</td>\n",
       "      <td>0.0</td>\n",
       "      <td>NaN</td>\n",
       "      <td>2008.0</td>\n",
       "      <td>4</td>\n",
       "    </tr>\n",
       "    <tr>\n",
       "      <th rowspan=\"2\" valign=\"top\">Computer Engineering - SP</th>\n",
       "      <th>166262</th>\n",
       "      <td>Monsieur</td>\n",
       "      <td>Plancherel Pascal</td>\n",
       "      <td>1.0</td>\n",
       "      <td>1.0</td>\n",
       "      <td>1.0</td>\n",
       "      <td>0.0</td>\n",
       "      <td>0.0</td>\n",
       "      <td>NaN</td>\n",
       "      <td>2007.0</td>\n",
       "      <td>4</td>\n",
       "    </tr>\n",
       "    <tr>\n",
       "      <th>178271</th>\n",
       "      <td>Monsieur</td>\n",
       "      <td>Boéchat Marc-Alexandre</td>\n",
       "      <td>1.0</td>\n",
       "      <td>1.0</td>\n",
       "      <td>1.0</td>\n",
       "      <td>0.0</td>\n",
       "      <td>0.0</td>\n",
       "      <td>NaN</td>\n",
       "      <td>2010.0</td>\n",
       "      <td>4</td>\n",
       "    </tr>\n",
       "  </tbody>\n",
       "</table>\n",
       "</div>"
      ],
      "text/plain": [
       "                                     Civilité              Nom Prénom  \\\n",
       "Spécialisation            No Sciper                                     \n",
       "Biocomputing              154573       Madame      Benabdallah Zeineb   \n",
       "                          169734     Monsieur          Koller Yannick   \n",
       "                          183185       Madame          Yurovsky Alisa   \n",
       "Computer Engineering - SP 166262     Monsieur       Plancherel Pascal   \n",
       "                          178271     Monsieur  Boéchat Marc-Alexandre   \n",
       "\n",
       "                                     Master semestre 1  Master semestre 2  \\\n",
       "Spécialisation            No Sciper                                         \n",
       "Biocomputing              154573                   1.0                2.0   \n",
       "                          169734                   1.0                2.0   \n",
       "                          183185                   1.0                1.0   \n",
       "Computer Engineering - SP 166262                   1.0                1.0   \n",
       "                          178271                   1.0                1.0   \n",
       "\n",
       "                                     Master semestre 3  \\\n",
       "Spécialisation            No Sciper                      \n",
       "Biocomputing              154573                   2.0   \n",
       "                          169734                   2.0   \n",
       "                          183185                   1.0   \n",
       "Computer Engineering - SP 166262                   1.0   \n",
       "                          178271                   1.0   \n",
       "\n",
       "                                     Projet Master printemps  \\\n",
       "Spécialisation            No Sciper                            \n",
       "Biocomputing              154573                         1.0   \n",
       "                          169734                         0.0   \n",
       "                          183185                         0.0   \n",
       "Computer Engineering - SP 166262                         0.0   \n",
       "                          178271                         0.0   \n",
       "\n",
       "                                     Projet Master automne Mineur  \\\n",
       "Spécialisation            No Sciper                                 \n",
       "Biocomputing              154573                       0.0    NaN   \n",
       "                          169734                       0.0    NaN   \n",
       "                          183185                       0.0    NaN   \n",
       "Computer Engineering - SP 166262                       0.0    NaN   \n",
       "                          178271                       0.0    NaN   \n",
       "\n",
       "                                     Starting Year Time to Finish  \n",
       "Spécialisation            No Sciper                                \n",
       "Biocomputing              154573            2007.0              6  \n",
       "                          169734            2007.0              6  \n",
       "                          183185            2008.0              4  \n",
       "Computer Engineering - SP 166262            2007.0              4  \n",
       "                          178271            2010.0              4  "
      ]
     },
     "execution_count": 9,
     "metadata": {},
     "output_type": "execute_result"
    }
   ],
   "source": [
    "#Remove all the students that don't have a specialisation.\n",
    "master_student_with_Spec = master_student[master_student.Spécialisation == master_student.Spécialisation]\n",
    "\n",
    "#Lists of the specialisations for the master \n",
    "list_Spec = master_student_with_Spec['Spécialisation'].drop_duplicates().values\n",
    "\n",
    "#We group all the students by specialisation\n",
    "master_student_with_Spec.reset_index(level=0, inplace=True)\n",
    "master_student_with_Spec = master_student_with_Spec.set_index(['Spécialisation', 'No Sciper'])\n",
    "master_student_with_Spec = master_student_with_Spec.sort_index()\n",
    "master_student_with_Spec.head()"
   ]
  },
  {
   "cell_type": "markdown",
   "metadata": {
    "collapsed": false,
    "scrolled": true
   },
   "source": [
    "Let us display the average duration of the master for each specialisation and see if we're able to tell something by eye."
   ]
  },
  {
   "cell_type": "code",
   "execution_count": 10,
   "metadata": {
    "collapsed": false
   },
   "outputs": [
    {
     "name": "stdout",
     "output_type": "stream",
     "text": [
      "                                    Mean\n",
      "Biocomputing                    5.333333\n",
      "Computer Engineering - SP       4.533333\n",
      "Foundations of Software         4.678571\n",
      "Information Security - SP       5.000000\n",
      "Internet computing              4.628205\n",
      "Service science                 4.333333\n",
      "Signals, Images and Interfaces  5.000000\n",
      "Software Systems                4.444444\n",
      "Mean time for a master with or without specialisation  4.17839607201\n"
     ]
    }
   ],
   "source": [
    "master_student_grouped = master_student.groupby(master_student.Spécialisation)\n",
    "mean_spec = pd.DataFrame(columns=['Mean'])\n",
    "\n",
    "for spec,student in master_student_grouped:\n",
    "    mean_spec.loc[spec] = np.mean(student['Time to Finish'].values)\n",
    "\n",
    "print(mean_spec.sort_index())\n",
    "print('Mean time for a master with or without specialisation ',mean_time)"
   ]
  },
  {
   "cell_type": "markdown",
   "metadata": {},
   "source": [
    "We see that some specialisation seem really to take longer each time, like the Biocomputing, Computer Engineering, ... We will want to see if performing the statistical test tells us that those differences are signigificative (Note also that we see clearly by eye that all of those specialisation take a longer time to complete than an average master, as all of them take almost a semester longer to complete)."
   ]
  },
  {
   "cell_type": "code",
   "execution_count": 11,
   "metadata": {
    "collapsed": false
   },
   "outputs": [
    {
     "name": "stdout",
     "output_type": "stream",
     "text": [
      "Specialisation Internet computing - Number of students 78\n",
      "Ttest_1sampResult(statistic=4.3500339301191948, pvalue=4.1264011063954382e-05)\n",
      "\n",
      "Specialisation Biocomputing - Number of students 3\n",
      "Ttest_1sampResult(statistic=1.7324058919803591, pvalue=0.22533982304616587)\n",
      "\n",
      "Specialisation Foundations of Software - Number of students 56\n",
      "Ttest_1sampResult(statistic=4.6127263072574376, pvalue=2.4167675454377703e-05)\n",
      "\n",
      "Specialisation Signals, Images and Interfaces - Number of students 22\n",
      "Ttest_1sampResult(statistic=3.7650621912730458, pvalue=0.0011377787787976163)\n",
      "\n",
      "Specialisation Computer Engineering - SP - Number of students 15\n",
      "Ttest_1sampResult(statistic=2.6620294599017975, pvalue=0.018587216141772396)\n",
      "\n",
      "Specialisation Service science - Number of students 3\n",
      "Ttest_1sampResult(statistic=0.46481178396071859, pvalue=0.68776085227831718)\n",
      "\n",
      "Specialisation Software Systems - Number of students 9\n",
      "Ttest_1sampResult(statistic=1.514373884394874, pvalue=0.16839324348573934)\n",
      "\n",
      "Specialisation Information Security - SP - Number of students 1\n",
      "Statistical test not possible on 1 sample.\n",
      "\n"
     ]
    }
   ],
   "source": [
    "for spec in list_Spec:\n",
    "    master_student_in_spec = master_student_with_Spec.loc[spec]\n",
    "    print('Specialisation ' + spec,'- Number of students',len(master_student_in_spec.loc[:,'Time to Finish']))\n",
    "    if master_student_in_spec.loc[:,'Time to Finish'].shape[0]!=1 :\n",
    "        print(stats.ttest_1samp(a= np.array(master_student_in_spec.loc[:,'Time to Finish']), popmean=mean_time))\n",
    "    else:\n",
    "        print('Statistical test not possible on 1 sample.')\n",
    "    print()\n",
    "    \n",
    "# Note : we get a NaN pvalue when there is only 1 student in a Specialisation as there is not enough data to perform\n",
    "# a statistical test."
   ]
  },
  {
   "cell_type": "markdown",
   "metadata": {},
   "source": [
    "We observe that there is a statistically significant difference of Master duration for students choosing Specifications **Internet Computing**; **Foundations of Software**; **Signals, Images and Interfaces**; **Computer Engineering - SP**. Note that some of our predictions are wrong, because some specialisations have very few students, so the difference is in the end not statistically significative, like in Biocomputing."
   ]
  },
  {
   "cell_type": "markdown",
   "metadata": {},
   "source": [
    "# Assigment 3 (Only data anlysis here)\n",
    "**BONUS**: perform the gender-based study also on the Master students, as explained in 1. Use scatterplots to visually identify changes over time. Plot males and females with different colors -- can you spot different trends that match the results of your statistical tests?"
   ]
  },
  {
   "cell_type": "markdown",
   "metadata": {},
   "source": [
    "Let us perform the statistical test to see whether the difference in the distribution of the length of the master for each sex is significant. As for the first assignment, we perform a **2-sample T-test**, for the same reasons as before."
   ]
  },
  {
   "cell_type": "code",
   "execution_count": 12,
   "metadata": {
    "collapsed": false
   },
   "outputs": [
    {
     "data": {
      "text/plain": [
       "Ttest_indResult(statistic=0.19691130990824771, pvalue=0.84426325892762888)"
      ]
     },
     "execution_count": 12,
     "metadata": {},
     "output_type": "execute_result"
    }
   ],
   "source": [
    "men_master_student = master_student.loc[master_student['Civilité']=='Monsieur']\n",
    "women_master_student = master_student.loc[master_student['Civilité']=='Madame']\n",
    "\n",
    "\n",
    "stats.ttest_ind(a= np.array(women_master_student.loc[:,'Time to Finish']),\n",
    "                b= np.array(men_master_student.loc[:,'Time to Finish']),\n",
    "                equal_var=False)    # Assume samples have equal variance?"
   ]
  },
  {
   "cell_type": "markdown",
   "metadata": {},
   "source": [
    "Here, the test is clearly not significative, meaning that men and women have the same distribution of length of the master. The next plot helps us to visualise that. Note that we do rescale the values for each sex, as there are far less women than men, it is done for visualisation's sake."
   ]
  },
  {
   "cell_type": "code",
   "execution_count": 13,
   "metadata": {
    "collapsed": false
   },
   "outputs": [
    {
     "data": {
      "text/plain": [
       "<matplotlib.text.Text at 0x7fb91f5dfda0>"
      ]
     },
     "execution_count": 13,
     "metadata": {},
     "output_type": "execute_result"
    },
    {
     "data": {
      "image/png": "[encoded data removed]",
      "text/plain": [
       "<matplotlib.figure.Figure at 0x7fb929e50fd0>"
      ]
     },
     "metadata": {},
     "output_type": "display_data"
    }
   ],
   "source": [
    "%matplotlib inline\n",
    "import matplotlib.pyplot as plt\n",
    "\n",
    "number_men = len(men_master_student.index)\n",
    "number_women = len(women_master_student.index)\n",
    "\n",
    "f, axarr = plt.subplots(2, sharex=True)\n",
    "axarr[0].hist(women_master_student['Time to Finish'].values, alpha=1, bins=10,color='red',stacked=True,\n",
    "        weights=np.zeros_like(women_master_student['Time to Finish']) + 1. / number_women)\n",
    "axarr[1].hist(men_master_student['Time to Finish'].values,alpha=1, bins=10, stacked=True,\n",
    "         weights=np.zeros_like(men_master_student['Time to Finish']) + 1. / number_men)\n",
    "axarr[0].set_title('Percentage of the population men and women\\n completing their master against the number of semester')\n",
    "axarr[0].set_ylabel('Percentage\\n of the men')\n",
    "axarr[1].set_ylabel('Percentage\\n of the women')"
   ]
  },
  {
   "cell_type": "markdown",
   "metadata": {},
   "source": [
    "We see that the distributions look really the same, the slight shift and the different thicknesses being an artifcat from the visualisation. This visualisation helps us then to understand that the difference in the distributions is really NOT significative."
   ]
  },
  {
   "cell_type": "markdown",
   "metadata": {},
   "source": [
    "The last task that we perform is a scatterplot to see the evolution over time of the duration of the master."
   ]
  },
  {
   "cell_type": "code",
   "execution_count": 14,
   "metadata": {
    "collapsed": false
   },
   "outputs": [],
   "source": [
    "def scatterCount(frame) :\n",
    "    \"\"\"\n",
    "        As scatter needs 3 vectors, we vectorize the data from our frame.\n",
    "        @param frame  : the DataFrame with the duration of the studies of each student and the year they started\n",
    "        @return x[rows.ravel()] : vectorized version of the duration of the master, with each entry repeated for plotting\n",
    "        @return y[rows.ravel()] : vectorized version of the starting year of the master, with each entry repeated for plotting\n",
    "        @return s :               the sum of all students that finished in a given time during a given year    \n",
    "    \"\"\"\n",
    "    x = np.array([3,4,5,6,7,8])\n",
    "    y = np.array([2007,2008,2009,2010,2011,2012,2013,2014,2015])\n",
    "    rows, cols = np.indices((x.shape[0], y.shape[0]))\n",
    "    s = np.zeros(len(x[rows.ravel()]))\n",
    "    for sciper in frame.index :\n",
    "        #Position in the vector s\n",
    "        index =((frame.loc[sciper,['Time to Finish']].values[0]-3)*y.shape[0]\n",
    "                +frame.loc[sciper,['Starting Year']].values[0]-2007)\n",
    "        s[index]+=3000/len(frame.index) \n",
    "    return x[rows.ravel()],y[cols.ravel()],s"
   ]
  },
  {
   "cell_type": "code",
   "execution_count": 15,
   "metadata": {
    "collapsed": false
   },
   "outputs": [
    {
     "name": "stderr",
     "output_type": "stream",
     "text": [
      "/home/thomas/anaconda3/lib/python3.5/site-packages/ipykernel/__main__.py:17: VisibleDeprecationWarning: using a non-integer number instead of an integer will result in an error in the future\n"
     ]
    },
    {
     "data": {
      "text/plain": [
       "<matplotlib.text.Text at 0x7fb91f220748>"
      ]
     },
     "execution_count": 15,
     "metadata": {},
     "output_type": "execute_result"
    },
    {
     "data": {
      "image/png": "[encoded data removed]",
      "text/plain": [
       "<matplotlib.figure.Figure at 0x7fb91f557518>"
      ]
     },
     "metadata": {},
     "output_type": "display_data"
    },
    {
     "data": {
      "image/png": "[encoded data removed]",
      "text/plain": [
       "<matplotlib.figure.Figure at 0x7fb91f220e48>"
      ]
     },
     "metadata": {},
     "output_type": "display_data"
    }
   ],
   "source": [
    "x_men,y_men,s_men=scatterCount(men_master_student)\n",
    "x_women,y_women,s_women=scatterCount(women_master_student)\n",
    "\n",
    "plt.figure(1)\n",
    "plt.scatter(y_women,x_women, s_women,'r')\n",
    "plt.title('Duration of the master (in semesters) for women')\n",
    "plt.ylabel('Number of semesters')\n",
    "plt.xlabel('Year')\n",
    "plt.figure(2)\n",
    "plt.scatter(y_men,x_men, s_men,alpha=1)\n",
    "plt.title('Duration of the master (in semesters) for men')\n",
    "plt.ylabel('Number of semesters')\n",
    "plt.xlabel('Year')"
   ]
  }
 ],
 "metadata": {
  "anaconda-cloud": {},
  "kernelspec": {
   "display_name": "Python [Root]",
   "language": "python",
   "name": "Python [Root]"
  },
  "language_info": {
   "codemirror_mode": {
    "name": "ipython",
    "version": 3
   },
   "file_extension": ".py",
   "mimetype": "text/x-python",
   "name": "python",
   "nbconvert_exporter": "python",
   "pygments_lexer": "ipython3",
   "version": "3.5.2"
  }
 },
 "nbformat": 4,
 "nbformat_minor": 1
}
