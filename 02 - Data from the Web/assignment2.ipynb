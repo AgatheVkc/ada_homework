{
 "cells": [
  {
   "cell_type": "code",
   "execution_count": null,
   "metadata": {
    "collapsed": false
   },
   "outputs": [],
   "source": [
    "from bs4 import BeautifulSoup\n",
    "import urllib.request\n",
    "import pandas as pd\n",
    "import html5lib \n",
    "from lxml import html\n",
    "import numpy as np\n",
    "from helpers import *\n",
    "#import helpers as helpers"
   ]
  },
  {
   "cell_type": "code",
   "execution_count": null,
   "metadata": {
    "collapsed": false
   },
   "outputs": [],
   "source": [
    "# The URL of the \"start\" of the IS-Academia page listing the students.\n",
    "home_url = \"http://isa.epfl.ch/imoniteur_ISAP/!GEDPUBLICREPORTS.filter?ww_x_GPS=-1&ww_i_reportModel=133685247\"\n",
    "\n",
    "# The general form of the URL, with the fields to be replaced later (e.g. [UNITE_ACADEMIQUE])\n",
    "base_url = \"http://isa.epfl.ch/imoniteur_ISAP/!GEDPUBLICREPORTS.html?ww_x_GPS=-1&ww_i_reportModel=133685247&ww_i_reportModelXsl=133685270&ww_x_UNITE_ACAD=[UNITE_ACADEMIQUE]&ww_x_PERIODE_ACAD=[PERIODE_ACADEMIQUE]&ww_x_PERIODE_PEDAGO=[PERIODE_PEDAGOGIQUE]&ww_x_HIVERETE=null\"\n",
    "\n",
    "# Get the raw content from the page\n",
    "with urllib.request.urlopen(home_url) as url:\n",
    "    s = url.read()\n",
    "\n",
    "soup = BeautifulSoup(s, 'html.parser')\n",
    "\n",
    "# Parse the content\n",
    "url_section = 0\n",
    "url_years = {}\n",
    "url_master = {}\n",
    "\n",
    "#For loop on all the possible fields with <option> to get the value associated with each year, or each \"Bachelor\" semester\n",
    "for link in soup.find_all('option'):\n",
    "    if link.text == 'Informatique':\n",
    "        url_section = link.get('value')\n",
    "    if \"20\" in link.text:\n",
    "        #print(link.text)\n",
    "        url_years[link.text] = link.get('value')\n",
    "    if 'Master' in link.text or 'Mineur' in link.text:\n",
    "        url_master[link.text] = link.get('value')\n",
    "\n",
    "        \n",
    "print(url_years)\n",
    "print(url_master)\n",
    "#frame= frame.drop([2,3,4,5,6,8,9,11],axis=1)\n",
    "#frame.head(10)"
   ]
  },
  {
   "cell_type": "code",
   "execution_count": null,
   "metadata": {
    "collapsed": true
   },
   "outputs": [],
   "source": [
    "def getFullUrl(PeriodeAcad, PeriodePedag):\n",
    "    url = base_url\n",
    "    url = url.replace('[UNITE_ACADEMIQUE]', str(url_section))\n",
    "    url = url.replace('[PERIODE_ACADEMIQUE]', str(url_years[PeriodeAcad]))\n",
    "    url = url.replace('[PERIODE_PEDAGOGIQUE]', str(url_master[PeriodePedag]))\n",
    "    return url"
   ]
  },
  {
   "cell_type": "markdown",
   "metadata": {},
   "source": [
    "Assumptions : \n",
    "- All students start in MS1 and do it only once since afterward it will be MS3."
   ]
  },
  {
   "cell_type": "code",
   "execution_count": null,
   "metadata": {
    "collapsed": false
   },
   "outputs": [],
   "source": [
    "def MasterStart(year_string,master_student,pedag) : \n",
    "    current_url = getFullUrl(year_string, pedag)\n",
    "    with urllib.request.urlopen(current_url) as url:\n",
    "        html = url.read()\n",
    "    soup = BeautifulSoup(html, 'html.parser')\n",
    "    master_frame = pd.read_html(soup.prettify(), header=1)\n",
    "    if  len(master_frame)>0 :\n",
    "        master_frame = master_frame[0].drop(0,axis=0)\n",
    "        master_frame_sciper = master_frame[['No Sciper']]\n",
    "        master_frame = master_frame.set_index('No Sciper')\n",
    "        for sciper in master_frame_sciper.values:\n",
    "            sciper = sciper[0]\n",
    "            \n",
    "            if pedag == 'Master semestre 1' or sciper not in master_student.index:\n",
    "             master_student.loc[sciper] = 0   \n",
    "             master_student.loc[sciper,pedag] = 1\n",
    "            else :\n",
    "             master_student.loc[sciper,pedag] += 1   \n",
    "            master_student.loc[sciper,'Civilité'] = master_frame.loc[sciper,'Civilité']\n",
    "            master_student.loc[sciper,'Nom Prénom'] = master_frame.loc[sciper,'Nom Prénom']\n",
    "            master_student.loc[sciper,'Spécialisation'] = master_frame.loc[sciper,'Spécialisation']\n",
    "            master_student.loc[sciper,'Mineur'] = master_frame.loc[sciper,'Mineur']\n",
    "    return master_student"
   ]
  },
  {
   "cell_type": "code",
   "execution_count": null,
   "metadata": {
    "collapsed": false
   },
   "outputs": [],
   "source": [
    "master_student = pd.DataFrame(columns = ['Civilité', 'Nom Prénom', \n",
    "                                         'Master semestre 1', 'Master semestre 2', 'Master semestre 3',\n",
    "                                         'Projet Master printemps', 'Projet Master automne', \n",
    "                                         'Spécialisation', 'Mineur'])\n",
    "master_student.index.name = 'No Sciper'\n",
    "\n",
    "pedagogic_year = ['Master semestre 1','Master semestre 2','Master semestre 3',\n",
    "                  'Projet Master printemps','Projet Master automne']\n",
    "for year in range(2007,2016):\n",
    "    year_string = str(year) + '-' + str(year+1)\n",
    "    for pedag in  pedagogic_year :\n",
    "     master_student = MasterStart(year_string,master_student,pedag)\n"
   ]
  },
  {
   "cell_type": "markdown",
   "metadata": {},
   "source": [
    ".Assumptions  : \n",
    " - possible to have project master in spring and autumn\n",
    " - if no project master register assume thta student had project outside epfl and add +1 semester"
   ]
  },
  {
   "cell_type": "code",
   "execution_count": null,
   "metadata": {
    "collapsed": false
   },
   "outputs": [],
   "source": [
    "print(master_student.index.is_unique)\n",
    "## sum over all the master 1,2,3 plus additional master project.\n",
    "time = (master_student['Master semestre 1']+master_student['Master semestre 2']+\n",
    "        master_student['Master semestre 3']+master_student['Projet Master printemps']+\n",
    "        master_student['Projet Master automne']+\n",
    "        1-(master_student['Projet Master printemps']+ master_student['Projet Master automne'])%1)\n",
    "\n",
    "master_student['Time to Finish']= time\n",
    "master_student.head()"
   ]
  },
  {
   "cell_type": "code",
   "execution_count": null,
   "metadata": {
    "collapsed": false
   },
   "outputs": [],
   "source": [
    "import scipy.stats as stats\n",
    "specialisation = master_student[master_student['Spécialisation']==master_student['Spécialisation']]                        \n",
    "mean_time_specialisation = specialisation['Time to Finish']\n",
    "mean_time  = master_student['Time to Finish'].mean()\n",
    "print(mean_time)\n",
    "print(mean_time_specialisation.mean())\n",
    "stats.ttest_1samp(a= mean_time_specialisation, \n",
    "                 popmean= mean_time)"
   ]
  },
  {
   "cell_type": "code",
   "execution_count": null,
   "metadata": {
    "collapsed": false
   },
   "outputs": [],
   "source": [
    "master_student.describe()"
   ]
  },
  {
   "cell_type": "code",
   "execution_count": null,
   "metadata": {
    "collapsed": false
   },
   "outputs": [],
   "source": [
    "master_student_grouped = master_student.groupby(master_student.Spécialisation)\n",
    "mean_spec = pd.DataFrame(columns=['Mean'])\n",
    "\n",
    "for spec,student in master_student_grouped:\n",
    "    #print('spec', spec)\n",
    "    #print('student', student['Time to Finish'])\n",
    "    mean_spec.loc[spec] = np.mean(student['Time to Finish'].values)\n",
    "\n",
    "mean_spec"
   ]
  },
  {
   "cell_type": "code",
   "execution_count": null,
   "metadata": {
    "collapsed": false
   },
   "outputs": [],
   "source": [
    "#print(master_student.head(20))\n",
    "#master_student = master_student.drop('Mineur', axis=1)\n",
    "\n",
    "master_student_with_Spec = master_student[master_student.Spécialisation == master_student.Spécialisation]\n",
    "list_Spec = master_student_with_Spec['Spécialisation'].drop_duplicates().values\n",
    "\n",
    "#print(master_student_with_Spec.shape)\n",
    "#print(master_student_with_Spec.sort_index().head())\n",
    "\n",
    "#baseball_newind.sort_index(axis=1).head()\n",
    "master_student_with_Spec['No Sciper'] = master_student_with_Spec.index\n",
    "master_student_with_Spec = master_student_with_Spec.set_index(['Spécialisation'])\n",
    "master_student_with_Spec = master_student_with_Spec.sort_index()\n",
    "master_student_with_Spec = master_student_with_Spec.set_index([master_student_with_Spec.index, 'No Sciper'])\n",
    "\n",
    "master_student_with_Spec.head(100)\n",
    "\n",
    "#print(master_student_with_Spec.head())\n"
   ]
  },
  {
   "cell_type": "code",
   "execution_count": null,
   "metadata": {
    "collapsed": false
   },
   "outputs": [],
   "source": [
    "#segments.groupby(segments.name).seg_length.sum().sort_values(ascending=False, inplace=False).head(20)\n",
    "\n",
    "master_student_with_Spec.groupby(master_student_with_Spec.index).sum()"
   ]
  },
  {
   "cell_type": "code",
   "execution_count": null,
   "metadata": {
    "collapsed": false
   },
   "outputs": [],
   "source": [
    "#master_student['Spécialisation'].drop_duplicates()\n",
    "print(list_Spec)\n",
    "master_student_with_Spec.loc[list_Spec[1]]"
   ]
  },
  {
   "cell_type": "code",
   "execution_count": null,
   "metadata": {
    "collapsed": false
   },
   "outputs": [],
   "source": [
    "\n",
    "for spec in list_Spec:\n",
    "    master_student_in_spec = master_student_with_Spec.loc[spec]\n",
    "    print('Specialisation ' + spec)\n",
    "    print(master_student_in_spec.loc[:,'Time to Finish'].shape)\n",
    "    print(stats.ttest_1samp(a= np.array(master_student_in_spec.loc[:,'Time to Finish']), popmean=mean_time))\n",
    "    print()\n",
    "    \n",
    "# Note : we get a NaN pvalue when there is only 1 student in a Specialisation as there is not enough data to perform\n",
    "# a statistical test."
   ]
  },
  {
   "cell_type": "markdown",
   "metadata": {},
   "source": [
    "We observe that there is a statistically significant difference of Master duration for students choosing Specifications **Internet Computing**, **Foundations of Software**, **Signals, Images and Interfaces**, **Computer Engineering - SP**, **Computer Engineering - SP** and **Data Analytics**"
   ]
  },
  {
   "cell_type": "code",
   "execution_count": null,
   "metadata": {
    "collapsed": true
   },
   "outputs": [],
   "source": []
  }
 ],
 "metadata": {
  "anaconda-cloud": {},
  "kernelspec": {
   "display_name": "Python 3",
   "language": "python",
   "name": "python3"
  },
  "language_info": {
   "codemirror_mode": {
    "name": "ipython",
    "version": 3
   },
   "file_extension": ".py",
   "mimetype": "text/x-python",
   "name": "python",
   "nbconvert_exporter": "python",
   "pygments_lexer": "ipython3",
   "version": "3.5.2"
  }
 },
 "nbformat": 4,
 "nbformat_minor": 1
}
