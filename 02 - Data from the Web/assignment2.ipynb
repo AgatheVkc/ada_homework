{
 "cells": [
  {
   "cell_type": "markdown",
   "metadata": {},
   "source": [
    "# Assignment 2\n",
    "Perform a similar operation to what described above, this time for Master students. Notice that this data is more tricky, as there are many missing records in the IS-Academia database. Therefore, try to guess how much time a master student spent at EPFL by at least checking the distance in months between `Master semestre 1` and `Master semestre 2`. If the Mineur field is not empty, the student should also appear registered in `Master semestre 3`. Last but not the least, don't forget to check if the student has an entry also in the `Projet Master` tables. Once you can handle well this data, compute the \"average stay at EPFL\" for master students. Now extract all the students with a `Spécialisation` and compute the \"average stay\" per each category of that attribute -- compared to the general average, can you find any specialization for which the difference in average is statistically significant?"
   ]
  },
  {
   "cell_type": "markdown",
   "metadata": {},
   "source": [
    "Useful usual imports at first"
   ]
  },
  {
   "cell_type": "code",
   "execution_count": null,
   "metadata": {
    "collapsed": false
   },
   "outputs": [],
   "source": [
    "from bs4 import BeautifulSoup\n",
    "import urllib.request\n",
    "import pandas as pd\n",
    "import html5lib \n",
    "from lxml import html\n",
    "import numpy as np\n",
    "from helpers import *\n",
    "#import helpers as helpers"
   ]
  },
  {
   "cell_type": "markdown",
   "metadata": {},
   "source": [
    "Extracting the master students in the similar fashion we did in the first assignment : we associate each year/master stage with its value, that we extract from the html page using the BeautifulSoup package."
   ]
  },
  {
   "cell_type": "code",
   "execution_count": null,
   "metadata": {
    "collapsed": false
   },
   "outputs": [],
   "source": [
    "# The URL of the \"start\" of the IS-Academia page listing the students.\n",
    "home_url = \"http://isa.epfl.ch/imoniteur_ISAP/!GEDPUBLICREPORTS.filter?ww_x_GPS=-1&ww_i_reportModel=133685247\"\n",
    "\n",
    "# The general form of the URL, with the fields to be replaced later (e.g. [UNITE_ACADEMIQUE])\n",
    "base_url = \"http://isa.epfl.ch/imoniteur_ISAP/!GEDPUBLICREPORTS.html?ww_x_GPS=-1&ww_i_reportModel=133685247&ww_i_reportModelXsl=133685270&ww_x_UNITE_ACAD=[UNITE_ACADEMIQUE]&ww_x_PERIODE_ACAD=[PERIODE_ACADEMIQUE]&ww_x_PERIODE_PEDAGO=[PERIODE_PEDAGOGIQUE]&ww_x_HIVERETE=null\"\n",
    "\n",
    "# Get the raw content from the page\n",
    "with urllib.request.urlopen(home_url) as url:\n",
    "    s = url.read()\n",
    "\n",
    "soup = BeautifulSoup(s, 'html.parser')\n",
    "\n",
    "# Parse the content\n",
    "url_section = 0\n",
    "url_years = {}\n",
    "url_master = {}\n",
    "\n",
    "#For loop on all the possible fields with <option> to get the value associated with each year, or each \"Bachelor\" semester\n",
    "for link in soup.find_all('option'):\n",
    "    if link.text == 'Informatique':\n",
    "        url_section = link.get('value')\n",
    "    if \"20\" in link.text:\n",
    "        url_years[link.text] = link.get('value')\n",
    "    if 'Master' in link.text or 'Mineur' in link.text:\n",
    "        url_master[link.text] = link.get('value')\n",
    "\n",
    "        \n",
    "print(url_years)\n",
    "print(url_master)"
   ]
  },
  {
   "cell_type": "markdown",
   "metadata": {},
   "source": [
    "Function that replaces the general fields in the base_url with the fields for a given year and level of study"
   ]
  },
  {
   "cell_type": "code",
   "execution_count": null,
   "metadata": {
    "collapsed": true
   },
   "outputs": [],
   "source": [
    "def getFullUrl(PeriodeAcad, PeriodePedag):\n",
    "    \"\"\"\n",
    "    Given an academic period (years) and a pedagogic period (bachelor semester), \n",
    "    fills the general URL with the values associated to those parameters.\n",
    "    \n",
    "    @param PeriodeAcad :  Academic year string, in the form ('2015-2016')\n",
    "    @param PeriodePedag : Pedagogic period string, in the form ('Bachelor x')\n",
    "    @return url :         The complete url associated to those period, from which we can fetch the students.\n",
    "    \n",
    "    \"\"\"\n",
    "    url = base_url\n",
    "    url = url.replace('[UNITE_ACADEMIQUE]', str(url_section))\n",
    "    url = url.replace('[PERIODE_ACADEMIQUE]', str(url_years[PeriodeAcad]))\n",
    "    url = url.replace('[PERIODE_PEDAGOGIQUE]', str(url_master[PeriodePedag]))\n",
    "    return url"
   ]
  },
  {
   "cell_type": "markdown",
   "metadata": {},
   "source": [
    "We noticed that in the way the EPFL master works, we will have all students that start in the autumn semester in `MS1` and then moves onto the `MS2`, then every subsqeuent autumn semester that he does will be counted into `MS3`.\n",
    "\n",
    "The way our data structure extracts the information we want from the table of students is as simple as possible. Keeping track of a student and noting each semester in which is present can be quite tricky, even very difficult, due to the holes into the IS-Academia data. The simplest way we found to address this problem is not trying to make any assumptions into where a student that disappears goes during the whole in the data. We count each time a student appears in ones of the master semesters or master project semesters and add a $1$ each time we find an occurence of the same student. Hence its master duration will be the sum of the semesters in which the student appears."
   ]
  },
  {
   "cell_type": "code",
   "execution_count": null,
   "metadata": {
    "collapsed": false
   },
   "outputs": [],
   "source": [
    "def MasterStart(year,master_student,pedag) : \n",
    "    \"\"\"\n",
    "    Given a year and a pedagogic period, edits the master_student frame, adding the students \n",
    "    that are not present and editting the values for the ones present (adding a +1 for the pedagogic period)\n",
    "    \n",
    "    @param year_string :    Academic year string, in the form ('2015-2016')\n",
    "    @param master_student : DataFrame containing the occurrence of each students into any possible semester of the master.\n",
    "    @param pedag :          Pedagogic period string (e.g. in the form 'Master semestre x')\n",
    "    @return master_student: The editted version of our DataFrame.\n",
    "    \n",
    "    \"\"\"  \n",
    "    year_string = str(year) + '-' + str(year+1)\n",
    "    #Reading the HTML page\n",
    "    current_url = getFullUrl(year_string, pedag)\n",
    "    \n",
    "    with urllib.request.urlopen(current_url) as url:\n",
    "        html = url.read()\n",
    "    soup = BeautifulSoup(html, 'html.parser')\n",
    "    master_frame = pd.read_html(soup.prettify(), header=1)\n",
    "    \n",
    "    #If the page has actually some students in it.\n",
    "    if  len(master_frame)>0 :\n",
    "        master_frame = master_frame[0].drop(0,axis=0)\n",
    "        master_frame_sciper = master_frame[['No Sciper']]\n",
    "        master_frame = master_frame.set_index('No Sciper')\n",
    "        for sciper in master_frame_sciper.values:\n",
    "            sciper = sciper[0]\n",
    "            \n",
    "            #As a student can be in 'Master semestre 1' only once, we add all of them automatically.\n",
    "            if pedag == 'Master semestre 1' or sciper not in master_student.index:\n",
    "                master_student.loc[sciper] = 0   \n",
    "                master_student.loc[sciper,pedag] = 1\n",
    "                master_student.loc[sciper,'Starting Year'] = year\n",
    "            else :\n",
    "                master_student.loc[sciper,pedag] += 1   \n",
    "            master_student.loc[sciper,'Civilité'] = master_frame.loc[sciper,'Civilité']\n",
    "            master_student.loc[sciper,'Nom Prénom'] = master_frame.loc[sciper,'Nom Prénom']\n",
    "            master_student.loc[sciper,'Spécialisation'] = master_frame.loc[sciper,'Spécialisation']\n",
    "            master_student.loc[sciper,'Mineur'] = master_frame.loc[sciper,'Mineur']\n",
    "    return master_student"
   ]
  },
  {
   "cell_type": "markdown",
   "metadata": {},
   "source": [
    "We perform here the extraction from all the years and master stages for each student we find, going from the period $2007$ to $2016$, counting for each student. The following essentially calls the `MasterStart` function at each iteration.\n",
    " - If there are no entries in `Master semestre 1` for a student in the year 2007-2008, we erase it from our DataFrame, as it is most likely that the student has started in the previous year.\n",
    " - If there is an entry in `Master semestre 1` for a student in the year 2015-2016, we erase it from our DataFrame, as he will not have enough time to complete his master in the data we have.\n",
    " - Then, after having done that, we will remove from our DataFrame all the students that have only 1 semester of presence over their whole cursus, because we do not have enough data about them to make reasonable assumptions."
   ]
  },
  {
   "cell_type": "code",
   "execution_count": null,
   "metadata": {
    "collapsed": false
   },
   "outputs": [],
   "source": [
    "# In the following we retrieve all the students from IS-Academia\n",
    "master_student = pd.DataFrame(columns = ['Civilité', 'Nom Prénom', \n",
    "                                         'Master semestre 1', 'Master semestre 2', 'Master semestre 3',\n",
    "                                         'Projet Master printemps', 'Projet Master automne', \n",
    "                                         'Spécialisation', 'Mineur','Starting Year'])\n",
    "master_student.index.name = 'No Sciper'\n",
    "\n",
    "pedagogic_year = ['Master semestre 1','Master semestre 2','Master semestre 3',\n",
    "                  'Projet Master printemps','Projet Master automne']\n",
    "for year in range(2007,2016):   \n",
    "    for pedag in  pedagogic_year :\n",
    "         master_student = MasterStart(year,master_student,pedag)s"
   ]
  },
  {
   "cell_type": "code",
   "execution_count": null,
   "metadata": {
    "collapsed": false
   },
   "outputs": [],
   "source": [
    "# Here, we filter the students accordingly to the criteria given above\n",
    "\n",
    "# 1. Remove students with no MS1 in 2007-2008\n",
    "master_student = master_student[np.logical_not((master_student['Starting Year'] ==2007)&(master_student['Master semestre 1']==0))]\n",
    "# 2. Remove students in MS1 in 2015-2016\n",
    "master_student = master_student[np.logical_not((master_student['Starting Year'] ==2015)&(master_student['Master semestre 1']==1))]\n",
    "# 3. Remove students with only one semester of presence overall\n",
    "course_time = (master_student['Master semestre 1']+master_student['Master semestre 2']+\n",
    "        master_student['Master semestre 3']+master_student['Projet Master printemps']+\n",
    "        master_student['Projet Master automne'])\n",
    "master_student = master_student[course_time>1]\n",
    "\n",
    "master_student.sort_values(ascending =[True, True],by=['Master semestre 1','Master semestre 2']).head()"
   ]
  },
  {
   "cell_type": "markdown",
   "metadata": {},
   "source": [
    "**Assumptions**  : \n",
    " - It is possible to have project master in spring and autumn (not really an assumption, but we realise it's possible to fail the master project and redo it, so the data is valid).\n",
    " - If no `projet master` field has been found, we assume that the student had his project outside epfl and add $+1$ semester to the total duration of his master. Because if we were to remove all the students with no master project entry in our data, we would get rid of most of the students we have, as there seems to be extensive holes in IS-Academia's data about master projects."
   ]
  },
  {
   "cell_type": "code",
   "execution_count": null,
   "metadata": {
    "collapsed": false
   },
   "outputs": [],
   "source": [
    "print(master_student.index.is_unique)\n",
    "# We take the total duration and add 1 semester if there are no fields in PDM spring or autumn\n",
    "time = (course_time + 1-((master_student['Projet Master printemps']+ master_student['Projet Master automne'])>=1)) \n",
    "master_student['Time to Finish']= time\n",
    "master_student.sort_values(ascending=[True,True],by=['Master semestre 1', 'Master semestre 2']).head(10)"
   ]
  },
  {
   "cell_type": "markdown",
   "metadata": {},
   "source": [
    "We now perform the statistical test to determine whether doing a specialisation effectively has an effect on the duration of the master. We chose a 1-sample t-test, as we want to compare if the difference from the mean duration of the master without any specialisation is statistically significant. Our null hypothesis is then that the two samples are from the ame distribution."
   ]
  },
  {
   "cell_type": "code",
   "execution_count": null,
   "metadata": {
    "collapsed": false
   },
   "outputs": [],
   "source": [
    "import scipy.stats as stats\n",
    "specialisation = master_student[master_student['Spécialisation']==master_student['Spécialisation']]                        \n",
    "mean_time_specialisation = specialisation['Time to Finish']\n",
    "mean_time  = master_student['Time to Finish'].mean()\n",
    "print('Mean time for a master: ',mean_time,'vs Mean time for a master with a specialisation: ',mean_time_specialisation.mean())\n",
    "stats.ttest_1samp(a= mean_time_specialisation, \n",
    "                 popmean= mean_time)"
   ]
  },
  {
   "cell_type": "markdown",
   "metadata": {},
   "source": [
    "The result shows VERY clearly that the difference is meaningful, as the p-value is almost zero, rejecting our null hypothesis. We can see even by eye from the averages that we have at least a 0.5 longer master duration for the people doing a specialisation."
   ]
  },
  {
   "cell_type": "markdown",
   "metadata": {},
   "source": [
    "**Now extract all the students with a `Spécialisation` and compute the \"average stay\" per each category of that attribute -- compared to the general average, can you find any specialization for which the difference in average is statistically significant?**"
   ]
  },
  {
   "cell_type": "markdown",
   "metadata": {},
   "source": [
    "The way we will proceed is the following : \n",
    "- we will remove all students without a specialisation\n",
    "- we will group all the students with a specialisation\n",
    "- we will try to see whether the difference in the mean duration of the master is significant compared to the mean duratin of the master"
   ]
  },
  {
   "cell_type": "code",
   "execution_count": null,
   "metadata": {
    "collapsed": false
   },
   "outputs": [],
   "source": [
    "#Remove all the students that don't have a specialisation.\n",
    "master_student_with_Spec = master_student[master_student.Spécialisation == master_student.Spécialisation]\n",
    "\n",
    "#Lists of the specialisations for the master \n",
    "list_Spec = master_student_with_Spec['Spécialisation'].drop_duplicates().values\n",
    "\n",
    "#We group all the students by specialisation\n",
    "master_student_with_Spec.reset_index(level=0, inplace=True)\n",
    "master_student_with_Spec = master_student_with_Spec.set_index(['Spécialisation', 'No Sciper'])\n",
    "master_student_with_Spec = master_student_with_Spec.sort_index()\n",
    "master_student_with_Spec.head()"
   ]
  },
  {
   "cell_type": "markdown",
   "metadata": {},
   "source": [
    "Let us display the average duration of the master for each specialisation and see if we're able to tell something by eye."
   ]
  },
  {
   "cell_type": "code",
   "execution_count": null,
   "metadata": {
    "collapsed": false
   },
   "outputs": [],
   "source": [
    "master_student_grouped = master_student.groupby(master_student.Spécialisation)\n",
    "mean_spec = pd.DataFrame(columns=['Mean'])\n",
    "\n",
    "for spec,student in master_student_grouped:\n",
    "    mean_spec.loc[spec] = np.mean(student['Time to Finish'].values)\n",
    "\n",
    "print(mean_spec.sort_index())\n",
    "print('Mean time for a master with or without specialisation ',mean_time)"
   ]
  },
  {
   "cell_type": "markdown",
   "metadata": {},
   "source": [
    "We see that some specialisation seem really to take longer each time, like the Biocomputing, Computer Engineering, ... We will want to see if performing the statistical test tells us that those differences are signigificative. Note also that we see clearly by eye that all of those specialisation take a longer time to complete than an average master, as all of them take almost a semester longer to complete."
   ]
  },
  {
   "cell_type": "code",
   "execution_count": null,
   "metadata": {
    "collapsed": false
   },
   "outputs": [],
   "source": [
    "for spec in list_Spec:\n",
    "    master_student_in_spec = master_student_with_Spec.loc[spec]\n",
    "    print('Specialisation ' + spec,'- Number of students',len(master_student_in_spec.loc[:,'Time to Finish']))\n",
    "    if master_student_in_spec.loc[:,'Time to Finish'].shape[0]!=1 :\n",
    "        print(stats.ttest_1samp(a= np.array(master_student_in_spec.loc[:,'Time to Finish']), popmean=mean_time))\n",
    "    else:\n",
    "        print('Statistical test not possible on 1 sample.')\n",
    "    print()\n",
    "    \n",
    "# Note : we get a NaN pvalue when there is only 1 student in a Specialisation as there is not enough data to perform\n",
    "# a statistical test."
   ]
  },
  {
   "cell_type": "markdown",
   "metadata": {},
   "source": [
    "We observe that there is a statistically significant difference of Master duration for students choosing Specifications **Internet Computing**; **Foundations of Software**; **Signals, Images and Interfaces**; **Computer Engineering - SP**. Note that some of our predictions are wrong, because some specialisations have very few students, so the difference is in the end not statistically significative, like in Biocomputing."
   ]
  },
  {
   "cell_type": "markdown",
   "metadata": {},
   "source": [
    "# Assigment 3\n",
    "**BONUS**: perform the gender-based study also on the Master students, as explained in 1. Use scatterplots to visually identify changes over time. Plot males and females with different colors -- can you spot different trends that match the results of your statistical tests?"
   ]
  },
  {
   "cell_type": "code",
   "execution_count": null,
   "metadata": {
    "collapsed": false
   },
   "outputs": [],
   "source": [
    "men_master_student = master_student.loc[master_student['Civilité']=='Monsieur']\n",
    "women_master_student = master_student.loc[master_student['Civilité']=='Madame']\n",
    "\n",
    "#print(men_master_student.head())\n",
    "\n",
    "# Perform the statistical test\n",
    "stats.ttest_ind(a= np.array(women_master_student.loc[:,'Time to Finish']),\n",
    "                b= np.array(men_master_student.loc[:,'Time to Finish']),\n",
    "                equal_var=False)    # Assume samples have equal variance?"
   ]
  },
  {
   "cell_type": "code",
   "execution_count": null,
   "metadata": {
    "collapsed": false
   },
   "outputs": [],
   "source": [
    "def scatterCount(frame) :\n",
    "    x = np.array([3,4,5,6,7,8])\n",
    "    y = np.array([2007,2008,2009,2010,2011,2012,2013,2014,2015])\n",
    "    rows, cols = np.indices((x.shape[0], y.shape[0]))\n",
    "    s = np.zeros(len(x[rows.ravel()]))\n",
    "    for sciper in frame.index :\n",
    "        index =((frame.loc[sciper,['Time to Finish']].values[0]-3)*y.shape[0]\n",
    "                +frame.loc[sciper,['Starting Year']].values[0]-2007)\n",
    "        #print(index)\n",
    "        s[index]+=3000/len(frame.index) \n",
    "    return x[rows.ravel()],y[cols.ravel()],s"
   ]
  },
  {
   "cell_type": "code",
   "execution_count": null,
   "metadata": {
    "collapsed": false
   },
   "outputs": [],
   "source": [
    "%matplotlib inline\n",
    "import matplotlib.pyplot as plt\n",
    "x_men,y_men,s_men=scatterCount(men_master_student)\n",
    "x_women,y_women,s_women=scatterCount(women_master_student)\n",
    "plt.figure(1)\n",
    "plt.scatter(y_men,x_men, s_men,alpha=0.5)\n",
    "plt.scatter(y_women,x_women, s_women,'r',alpha=0.5)\n",
    "\n",
    "plt.figure(2)\n",
    "plt.scatter(y_women,x_women, s_women,'r')\n",
    "plt.figure(3)\n",
    "plt.scatter(y_men,x_men, s_men,alpha=1)\n",
    "\n",
    "#plt.show()"
   ]
  },
  {
   "cell_type": "code",
   "execution_count": null,
   "metadata": {
    "collapsed": true
   },
   "outputs": [],
   "source": []
  },
  {
   "cell_type": "code",
   "execution_count": null,
   "metadata": {
    "collapsed": false
   },
   "outputs": [],
   "source": [
    "%matplotlib inline\n",
    "\n",
    "import matplotlib.pyplot as plt\n",
    "\n",
    "#plt.figure()\n",
    "#plt.histogram(men_master_student.loc[:,'Time to Finish'].values)\n",
    "\n",
    "#print(women_master_student['Time to Finish'].values)\n",
    "\n",
    "\n",
    "#print(women_master_student['Time to Finish'])\n",
    "#women_master_student['Time to Finish'].hist(bins=20)\n",
    "#men_master_student['Time to Finish'].hist(bins=20)\n",
    "print(women_master_student['Time to Finish'].values.shape)\n",
    "print(men_master_student['Time to Finish'].values.shape)\n",
    "\n",
    "#data = np.vstack([women_master_student['Time to Finish'].values, men_master_student['Time to Finish'].values])\n",
    "\n",
    "plt.hist(women_master_student['Time to Finish'].values, alpha=0.5, bins=10, stacked=True)\n",
    "#plt.hold()\n",
    "plt.hist(men_master_student['Time to Finish'].values,alpha=0.5, bins=10, stacked=True)\n",
    "\n",
    "\n",
    "#f, axarr = plt.subplots(2, sharex=True)\n",
    "#axarr[0].hist(women_master_student['Time to Finish'].values, alpha=0.5, bins=15, stacked=True, color='r')\n",
    "##axarr[0].set_title('Histogram plot of time taken to finish for each sex')\n",
    "#axarr[1].hist(men_master_student['Time to Finish'].values,alpha=0.5, bins=15, stacked=True, color='b')\n",
    "#axarr[0].set_ylabel('Number of \\nfemale students')\n",
    "#axarr[1].set_ylabel('Number of \\nmale students')\n",
    "#axarr[1].set_xlabel('Semesters taken to complete the master')\n",
    "#plt.show()"
   ]
  },
  {
   "cell_type": "markdown",
   "metadata": {},
   "source": [
    "We indeed see that the distributions are the same, which agrees with the statistical test that gives no difference of duration beteween men and women."
   ]
  }
 ],
 "metadata": {
  "anaconda-cloud": {},
  "kernelspec": {
   "display_name": "Python [Root]",
   "language": "python",
   "name": "Python [Root]"
  },
  "language_info": {
   "codemirror_mode": {
    "name": "ipython",
    "version": 3
   },
   "file_extension": ".py",
   "mimetype": "text/x-python",
   "name": "python",
   "nbconvert_exporter": "python",
   "pygments_lexer": "ipython3",
   "version": "3.5.2"
  }
 },
 "nbformat": 4,
 "nbformat_minor": 1
}
