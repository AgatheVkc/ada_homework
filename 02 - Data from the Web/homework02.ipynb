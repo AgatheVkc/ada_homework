{
 "cells": [
  {
   "cell_type": "markdown",
   "metadata": {},
   "source": [
    "# Homework 2 -Data from the Web"
   ]
  },
  {
   "cell_type": "markdown",
   "metadata": {},
   "source": [
    "Useful imports first"
   ]
  },
  {
   "cell_type": "code",
   "execution_count": null,
   "metadata": {
    "collapsed": true
   },
   "outputs": [],
   "source": [
    "from bs4 import BeautifulSoup\n",
    "import urllib.request\n",
    "import pandas as pd\n",
    "import html5lib \n",
    "from lxml import html\n",
    "import numpy as np"
   ]
  },
  {
   "cell_type": "markdown",
   "metadata": {},
   "source": [
    "We want to get first all the parameters that are possible, i.e. we will fill two dictionnaries, one with the year as index, and the \"value\" of the link associated to it (e.g. {'2016-2017': '355925344'}), and the same with the bachelor year and the \"value\" of the link associated to it.\n",
    "\n",
    "We do that in order to be able to extract all students from all possible years (2007-2016) and from all stages of the bachelor automatically later."
   ]
  },
  {
   "cell_type": "code",
   "execution_count": null,
   "metadata": {
    "collapsed": false
   },
   "outputs": [],
   "source": [
    "# The URL of the \"start\" of the IS-Academia page listing the students.\n",
    "home_url = \"http://isa.epfl.ch/imoniteur_ISAP/!GEDPUBLICREPORTS.filter?ww_x_GPS=-1&ww_i_reportModel=133685247\"\n",
    "\n",
    "# The general form of the URL, with the fields to be replaced later (e.g. [UNITE_ACADEMIQUE])\n",
    "base_url = \"http://isa.epfl.ch/imoniteur_ISAP/!GEDPUBLICREPORTS.html?ww_x_GPS=-1&ww_i_reportModel=133685247&ww_i_reportModelXsl=133685270&ww_x_UNITE_ACAD=[UNITE_ACADEMIQUE]&ww_x_PERIODE_ACAD=[PERIODE_ACADEMIQUE]&ww_x_PERIODE_PEDAGO=[PERIODE_PEDAGOGIQUE]&ww_x_HIVERETE=null\"\n",
    "\n",
    "# Get the raw content from the page\n",
    "with urllib.request.urlopen(home_url) as url:\n",
    "    s = url.read()\n",
    "\n",
    "soup = BeautifulSoup(s, 'html.parser')\n",
    "\n",
    "# Parse the content\n",
    "url_section = 0\n",
    "url_years = {}\n",
    "url_bachelor = {}\n",
    "url_master = {}\n",
    "\n",
    "#For loop on all the possible fields with <option> to get the value associated with each year, or each \"Bachelor\" semester\n",
    "for link in soup.find_all('option'):\n",
    "    if link.text == 'Informatique':\n",
    "        url_section = link.get('value')\n",
    "    if \"20\" in link.text:\n",
    "        #print(link.text)\n",
    "        url_years[link.text] = link.get('value')\n",
    "    if \"Bachelor\" in link.text:\n",
    "        #print(link.text)\n",
    "        url_bachelor[link.text] = link.get('value')\n",
    "        #get('value'))\n",
    "    if 'Master' in link.text or 'Mineur' in link.text:\n",
    "        url_bachelor[link.text] = link.get('value')\n",
    "\n",
    "        \n",
    "print(url_years)\n",
    "print(url_bachelor)\n",
    "print(url_master)\n",
    "#frame= frame.drop([2,3,4,5,6,8,9,11],axis=1)\n",
    "#frame.head(10)"
   ]
  },
  {
   "cell_type": "markdown",
   "metadata": {},
   "source": [
    "Function that replaces the general fields in the base_url with the fields for a given year and level of study"
   ]
  },
  {
   "cell_type": "code",
   "execution_count": null,
   "metadata": {
    "collapsed": false
   },
   "outputs": [],
   "source": [
    "def getFullUrl(PeriodeAcad, PeriodePedag):\n",
    "    url = base_url\n",
    "    url = url.replace('[UNITE_ACADEMIQUE]', str(url_section))\n",
    "    url = url.replace('[PERIODE_ACADEMIQUE]', str(url_years[PeriodeAcad]))\n",
    "    url = url.replace('[PERIODE_PEDAGOGIQUE]', str(url_bachelor[PeriodePedag]))\n",
    "    return url\n",
    "\n",
    "print(getFullUrl('2007-2008', 'Bachelor semestre 1'))\n"
   ]
  },
  {
   "cell_type": "markdown",
   "metadata": {},
   "source": [
    " - We are interested only in the students that started between 2007-2010, in order to be sure that they will have completed their bachelor studies before or in 2016. It avoids our results getting biased by students actually still in studies (e.g. if we count students from 2013, we would only count students who finished their bachelor in 3 years, not actually those still in studies).\n",
    " - In order to have no bias at all, we will also have to check the records from the year 2006-2007,in order to verify whether the students actually are starting their studies in 2007-2008 or have already failed first year once before."
   ]
  },
  {
   "cell_type": "code",
   "execution_count": null,
   "metadata": {
    "collapsed": false
   },
   "outputs": [],
   "source": [
    "## Load all student from that have started EPFL from 2007 in current_student DataFrame\n",
    "# We set the Sciper as index, as it is uniquely identifying each student.\n",
    "\n",
    "current_student = pd.DataFrame(columns = ['Civilité', 'Nom Prénom', 'Starting year'])\n",
    "current_student['Starting year']= current_student['Starting year'].astype(int)\n",
    "current_student.index.name = 'No Sciper'\n",
    "\n",
    "# We iterate over 3 years : 2008,2009,2010 -> We make sure the students all will have finished by 2016,\n",
    "# as doing a bachelor can take only up to 6 years.\n",
    "for year in range(2008,2011):\n",
    "    year_string = str(year) + '-' + str(year+1)\n",
    "    \n",
    "    # Get the data from the appropriate url -> the URL describing the students in first semester\n",
    "    current_url_B1 = getFullUrl(year_string, 'Bachelor semestre 1')\n",
    "    with urllib.request.urlopen(current_url_B1) as url:\n",
    "        html_B1 = url.read()\n",
    "    soup = BeautifulSoup(html_B1, 'html.parser')\n",
    "    \n",
    "    # Create the data frame only keeping relevant fields\n",
    "    # Note that the student_frame_B1 DataFrame is a temporary dataframe that only orders the data from the webpage.\n",
    "    # We clean it and put all the non duplicate students into the current student DataFrame, that will contain our final entries\n",
    "    student_frame_B1 = pd.read_html(soup.prettify(), header=1)\n",
    "    student_frame_B1 = student_frame_B1[0].drop(0,axis=0)\n",
    "    student_frame_B1 = student_frame_B1[['Civilité', 'Nom Prénom', 'No Sciper']]\n",
    "    student_frame_B1 = student_frame_B1.set_index('No Sciper')\n",
    "    student_frame_B1['Starting year'] = int(year);\n",
    "    \n",
    "    # Only keep students that are in their first 1st year\n",
    "    student_frame_B1 = student_frame_B1[[not (sciper in current_student.index) for sciper in student_frame_B1.index]]\n",
    "    \n",
    "    current_student = pd.concat([current_student, student_frame_B1])\n",
    "    \n",
    "# We now check for all students starting in 2008 whether they have previously failed in year 2007-2008.\n",
    "# If so, we change their starting year.\n",
    "year_string = '2007-2008'\n",
    "# Get the data from the appropriate url -> the URL describing the students in first semester\n",
    "url_B1_2007 = getFullUrl(year_string, 'Bachelor semestre 1')\n",
    "with urllib.request.urlopen(url_B1_2007) as url:\n",
    "    html_B1_2007 = url.read()\n",
    "soup = BeautifulSoup(html_B1_2007, 'html.parser')\n",
    "student_frame_B1_2007 = pd.read_html(soup.prettify(), header=1)\n",
    "sciper_student_2007 = np.array(student_frame_B1_2007[0]['No Sciper'])\n",
    "current_student.loc[current_student.index.isin(sciper_student_2007), 'Starting year'] = 2007\n",
    "\n",
    "    \n",
    "print(current_student.index.is_unique)\n",
    "print(current_student.head(100))"
   ]
  },
  {
   "cell_type": "code",
   "execution_count": null,
   "metadata": {
    "collapsed": false
   },
   "outputs": [],
   "source": [
    "## and all students that have finished from 2007 in finished_student data frame\n",
    "\n",
    "\n",
    "finished_student = pd.DataFrame(columns = ['Civilité', 'Nom Prénom', 'Finishing year'])\n",
    "finished_student.index.name = 'No Sciper'\n",
    "\n",
    "for year in range(2010,2017):\n",
    "    year_string = str(year) + '-' + str(year+1)\n",
    "    \n",
    "    # Get the data from the appropriate url -> The URL containing the students in last semester.\n",
    "    current_url_B6 = getFullUrl(year_string, 'Bachelor semestre 6')\n",
    "    with urllib.request.urlopen(current_url_B6) as url:\n",
    "        html_B6 = url.read()\n",
    "    soup = BeautifulSoup(html_B6, 'html.parser')\n",
    "    \n",
    "    # Create the data frame only keeping relevant fields\n",
    "    student_frame_B6 = pd.read_html(soup.prettify(), header=1)\n",
    "    student_frame_B6 = student_frame_B6[0].drop(0,axis=0)\n",
    "    student_frame_B6 = student_frame_B6[['Civilité', 'Nom Prénom', 'No Sciper']]\n",
    "    student_frame_B6 = student_frame_B6.set_index('No Sciper') \n",
    "    # If we find a duplicate into the finished_student array, i.e. a student that was already in bachelor 6\n",
    "    # the year before, it means that he failed his year and that we need to update his finishing year\n",
    "    finished_student = finished_student[[not (sciper in student_frame_B6.index) for sciper in  finished_student.index]]\n",
    "    student_frame_B6['Finishing year'] = int(year+1); # The +1 here gives us the finishing year (i.e. 2008 for the period 2007-2008)\n",
    "    finished_student = pd.concat([finished_student, student_frame_B6])\n",
    "        \n",
    "\n",
    "print(finished_student.index.is_unique)\n",
    "print(finished_student.head(5))\n"
   ]
  },
  {
   "cell_type": "markdown",
   "metadata": {},
   "source": [
    "## Assignment 1\n",
    "\n",
    "Obtain all the data for the Bachelor students, starting from 2007. Keep only the students for which you have an entry for both `Bachelor semestre 1` and `Bachelor semestre 6`. Compute how many months it took each student to go from the first to the sixth semester. Partition the data between male and female students, and compute the average -- is the difference in average statistically significant?"
   ]
  },
  {
   "cell_type": "markdown",
   "metadata": {},
   "source": [
    "Note that we assume here that **a student reaching bachelor 6 and disappearing after in the dataset has successfully completed his bachelor**, as there is absolutely no way to be sure he actually did so. We cannot check the first master year because he might change section/university, ... "
   ]
  },
  {
   "cell_type": "code",
   "execution_count": null,
   "metadata": {
    "collapsed": false
   },
   "outputs": [],
   "source": [
    "finished_student_sciper = finished_student.index\n",
    "\n",
    "# Only keep students that started after 2007.\n",
    "finished_student_from_2007 = current_student.loc[finished_student_sciper]\n",
    "\n",
    "# Merge the two dataFrames so we get all the students that started and finished. \n",
    "# The number of dropouts could be computed by taking the difference between everyone that \n",
    "# entered in first year and does not appear at the end (Note that we wouldn't count the people who changed their section).\n",
    "sample_student = pd.merge(current_student, finished_student)\n",
    "\n",
    "#Compute the duration it took to complete the bachelor and group by sex, then compute the average.\n",
    "sample_student['Bachelor duration'] = sample_student['Finishing year']-sample_student['Starting year']\n",
    "sample_student.groupby('Civilité')['Bachelor duration'].mean()\n",
    "\n",
    "#There is yet to conclude whether it is statistically significant or not.\n",
    "\n",
    "print(sample_student)"
   ]
  },
  {
   "cell_type": "code",
   "execution_count": 1,
   "metadata": {
    "collapsed": false
   },
   "outputs": [
    {
     "ename": "NameError",
     "evalue": "name 'current_student' is not defined",
     "output_type": "error",
     "traceback": [
      "\u001b[0;31m---------------------------------------------------------------------------\u001b[0m",
      "\u001b[0;31mNameError\u001b[0m                                 Traceback (most recent call last)",
      "\u001b[0;32m<ipython-input-1-dcb3f0c8e052>\u001b[0m in \u001b[0;36m<module>\u001b[0;34m()\u001b[0m\n\u001b[1;32m      3\u001b[0m \u001b[0;32mimport\u001b[0m \u001b[0mmath\u001b[0m\u001b[0;34m\u001b[0m\u001b[0m\n\u001b[1;32m      4\u001b[0m \u001b[0;34m\u001b[0m\u001b[0m\n\u001b[0;32m----> 5\u001b[0;31m \u001b[0mcurrent_student\u001b[0m\u001b[0;34m.\u001b[0m\u001b[0mloc\u001b[0m\u001b[0;34m[\u001b[0m\u001b[0mcurrent_student\u001b[0m\u001b[0;34m.\u001b[0m\u001b[0mindex\u001b[0m\u001b[0;34m.\u001b[0m\u001b[0misin\u001b[0m\u001b[0;34m(\u001b[0m\u001b[0msciper_student_2007\u001b[0m\u001b[0;34m)\u001b[0m\u001b[0;34m,\u001b[0m \u001b[0;34m'Starting year'\u001b[0m\u001b[0;34m]\u001b[0m\u001b[0;34m\u001b[0m\u001b[0m\n\u001b[0m\u001b[1;32m      6\u001b[0m \u001b[0;34m\u001b[0m\u001b[0m\n\u001b[1;32m      7\u001b[0m \u001b[0mmen_student\u001b[0m \u001b[0;34m=\u001b[0m \u001b[0msample_student\u001b[0m\u001b[0;34m.\u001b[0m\u001b[0mloc\u001b[0m\u001b[0;34m[\u001b[0m\u001b[0msample_student\u001b[0m\u001b[0;34m[\u001b[0m\u001b[0;34m'Civilité'\u001b[0m\u001b[0;34m]\u001b[0m\u001b[0;34m==\u001b[0m\u001b[0;34m'Monsieur'\u001b[0m\u001b[0;34m]\u001b[0m\u001b[0;34m\u001b[0m\u001b[0m\n",
      "\u001b[0;31mNameError\u001b[0m: name 'current_student' is not defined"
     ]
    }
   ],
   "source": [
    "# Statistical test\n",
    "import scipy.stats as stats\n",
    "import math\n",
    "\n",
    "current_student.loc[current_student.index.isin(sciper_student_2007), 'Starting year']\n",
    "\n",
    "men_student = sample_student.loc[sample_student['Civilité']=='Monsieur']\n",
    "women_student = sample_student.loc[sample_student['Civilité']=='Madame']\n",
    "print(women_student)\n",
    "#print(women_student.columns)\n",
    "print(women_student.loc[:,'Bachelor duration'])\n",
    "\n",
    "print(men_student.loc[:,'Bachelor duration'].mean())\n",
    "print(women_student.loc[:,'Bachelor duration'].mean())\n",
    "print(men_student.loc[:,'Bachelor duration'].std())\n",
    "print(women_student.loc[:,'Bachelor duration'].std())\n",
    "\n",
    "stats.ttest_ind(a= np.array(women_student.loc[:,'Bachelor duration']),\n",
    "                b= np.array(men_student.loc[:,'Bachelor duration']),\n",
    "                equal_var=False)    # Assume samples have equal variance?"
   ]
  },
  {
   "cell_type": "markdown",
   "metadata": {},
   "source": [
    "Assignment 2 : Master students"
   ]
  }
 ],
 "metadata": {
  "anaconda-cloud": {},
  "kernelspec": {
   "display_name": "Python 3",
   "language": "python",
   "name": "python3"
  },
  "language_info": {
   "codemirror_mode": {
    "name": "ipython",
    "version": 3
   },
   "file_extension": ".py",
   "mimetype": "text/x-python",
   "name": "python",
   "nbconvert_exporter": "python",
   "pygments_lexer": "ipython3",
   "version": "3.5.2"
  }
 },
 "nbformat": 4,
 "nbformat_minor": 0
}
