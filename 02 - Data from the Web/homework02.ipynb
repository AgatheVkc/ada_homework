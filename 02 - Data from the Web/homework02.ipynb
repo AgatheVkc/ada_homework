{
 "cells": [
  {
   "cell_type": "code",
   "execution_count": 5,
   "metadata": {
    "collapsed": false
   },
   "outputs": [
    {
     "ename": "ImportError",
     "evalue": "No module named 'html5lib'",
     "output_type": "error",
     "traceback": [
      "\u001b[1;31m---------------------------------------------------------------------------\u001b[0m",
      "\u001b[1;31mImportError\u001b[0m                               Traceback (most recent call last)",
      "\u001b[1;32m<ipython-input-5-7ed947a02839>\u001b[0m in \u001b[0;36m<module>\u001b[1;34m()\u001b[0m\n\u001b[0;32m      2\u001b[0m \u001b[1;32mimport\u001b[0m \u001b[0murllib\u001b[0m\u001b[1;33m.\u001b[0m\u001b[0mrequest\u001b[0m\u001b[1;33m\u001b[0m\u001b[0m\n\u001b[0;32m      3\u001b[0m \u001b[1;32mimport\u001b[0m \u001b[0mpandas\u001b[0m \u001b[1;32mas\u001b[0m \u001b[0mpd\u001b[0m\u001b[1;33m\u001b[0m\u001b[0m\n\u001b[1;32m----> 4\u001b[1;33m \u001b[1;32mimport\u001b[0m \u001b[0mhtml5lib\u001b[0m\u001b[1;33m\u001b[0m\u001b[0m\n\u001b[0m\u001b[0;32m      5\u001b[0m \u001b[1;32mfrom\u001b[0m \u001b[0mlxml\u001b[0m \u001b[1;32mimport\u001b[0m \u001b[0mhtml\u001b[0m\u001b[1;33m\u001b[0m\u001b[0m\n\u001b[0;32m      6\u001b[0m \u001b[1;33m\u001b[0m\u001b[0m\n",
      "\u001b[1;31mImportError\u001b[0m: No module named 'html5lib'"
     ]
    }
   ],
   "source": [
    "from bs4 import BeautifulSoup\n",
    "import urllib.request\n",
    "import pandas as pd\n",
    "import html5lib \n",
    "from lxml import html\n",
    "\n",
    "#home_url = \"http://isa.epfl.ch/imoniteur_ISAP/!GEDPUBLICREPORTS.filter?ww_x_GPS=-1&ww_b_list=1&ww_i_reportmodel=133685247&ww_c_langue=&ww_i_reportModelXsl=133685270&zz_x_UNITE_ACAD=&ww_x_UNITE_ACAD=944263&zz_x_PERIODE_ACAD=2014-2015&ww_x_PERIODE_ACAD=213637922&zz_x_PERIODE_PEDAGO=Bachelor+semestre+5&ww_x_PERIODE_PEDAGO=942120&zz_x_HIVERETE=&ww_x_HIVERETE=null&dummy=ok\"\n",
    "home_url = \"http://isa.epfl.ch/imoniteur_ISAP/!GEDPUBLICREPORTS.filter?ww_x_GPS=-1&ww_i_reportModel=133685247\"\n",
    "base_url = \"http://isa.epfl.ch/imoniteur_ISAP/!GEDPUBLICREPORTS.html?ww_x_GPS=-1&ww_i_reportModel=133685247&ww_i_reportModelXsl=133685270&ww_x_UNITE_ACAD=[UNITE_ACADEMIQUE]&ww_x_PERIODE_ACAD=[PERIODE_ACADEMIQUE]&ww_x_PERIODE_PEDAGO=[PERIODE_PEDAGOGIQUE]&ww_x_HIVERETE=null\"\n",
    "with urllib.request.urlopen(home_url) as url:\n",
    "    s = url.read()\n",
    "\n",
    "soup = BeautifulSoup(s, 'html.parser')    \n",
    "\n",
    "url_section = 0\n",
    "url_years = {}\n",
    "url_bachelor = {}\n",
    "for link in soup.find_all('option'):\n",
    "    if link.text == 'Informatique':\n",
    "        url_section = link.get('value')\n",
    "    if \"20\" in link.text:\n",
    "        #print(link.text)\n",
    "        url_years[link.text] = link.get('value')\n",
    "    if \"Bachelor\" in link.text:\n",
    "        #print(link.text)\n",
    "        url_bachelor[link.text] = link.get('value')\n",
    "        #get('value'))\n",
    "\n",
    "print(url_years)\n",
    "print(url_bachelor)\n",
    "#frame= frame.drop([2,3,4,5,6,8,9,11],axis=1)\n",
    "#frame.head(10)"
   ]
  },
  {
   "cell_type": "code",
   "execution_count": 2,
   "metadata": {
    "collapsed": false
   },
   "outputs": [
    {
     "ename": "SyntaxError",
     "evalue": "invalid syntax (<ipython-input-2-9693048ebdc5>, line 1)",
     "output_type": "error",
     "traceback": [
      "\u001b[1;36m  File \u001b[1;32m\"<ipython-input-2-9693048ebdc5>\"\u001b[1;36m, line \u001b[1;32m1\u001b[0m\n\u001b[1;33m    http://isa.epfl.ch/imoniteur_ISAP/!GEDPUBLICREPORTS.html?ww_x_GPS=213617944&ww_i_reportModel=133685247&ww_i_reportModelXsl=133685270&ww_x_UNITE_ACAD=249847&ww_x_PERIODE_ACAD=978195&ww_x_PERIODE_PEDAGO=249114&ww_x_HIVERETE=null\u001b[0m\n\u001b[1;37m        ^\u001b[0m\n\u001b[1;31mSyntaxError\u001b[0m\u001b[1;31m:\u001b[0m invalid syntax\n"
     ]
    }
   ],
   "source": [
    "http://isa.epfl.ch/imoniteur_ISAP/!GEDPUBLICREPORTS.html?ww_x_GPS=213617944&ww_i_reportModel=133685247&ww_i_reportModelXsl=133685270&ww_x_UNITE_ACAD=249847&ww_x_PERIODE_ACAD=978195&ww_x_PERIODE_PEDAGO=249114&ww_x_HIVERETE=null\n",
    "http://isa.epfl.ch/imoniteur_ISAP/!GEDPUBLICREPORTS.html?ww_x_GPS=213617925&ww_i_reportModel=133685247&ww_i_reportModelXsl=133685270&ww_x_UNITE_ACAD=249847&ww_x_PERIODE_ACAD=978195&ww_x_PERIODE_PEDAGO=249108&ww_x_HIVERETE=null\n",
    "http://isa.epfl.ch/imoniteur_ISAP/!GEDPUBLICREPORTS.html?ww_x_GPS=109576955&ww_i_reportModel=133685247&ww_i_reportModelXsl=133685270&ww_x_UNITE_ACAD=249847&ww_x_PERIODE_ACAD=978187&ww_x_PERIODE_PEDAGO=249114&ww_x_HIVERETE=null\n",
    "http://isa.epfl.ch/imoniteur_ISAP/!GEDPUBLICREPORTS.html?ww_x_GPS=109576936&ww_i_reportModel=133685247&ww_i_reportModelXsl=133685270&ww_x_UNITE_ACAD=249847&ww_x_PERIODE_ACAD=978187&ww_x_PERIODE_PEDAGO=249108&ww_x_HIVERETE=null\n",
    "http://isa.epfl.ch/imoniteur_ISAP/!GEDPUBLICREPORTS.html?ww_x_GPS=71297550&ww_i_reportModel=133685247&ww_i_reportModelXsl=133685270&ww_x_UNITE_ACAD=249847&ww_x_PERIODE_ACAD=978181&ww_x_PERIODE_PEDAGO=249114&ww_x_HIVERETE=null\n",
    "http://isa.epfl.ch/imoniteur_ISAP/!GEDPUBLICREPORTS.html?ww_x_GPS=71297531&ww_i_reportModel=133685247&ww_i_reportModelXsl=133685270&ww_x_UNITE_ACAD=249847&ww_x_PERIODE_ACAD=978181&ww_x_PERIODE_PEDAGO=249108&ww_x_HIVERETE=null"
   ]
  },
  {
   "cell_type": "code",
   "execution_count": 4,
   "metadata": {
    "collapsed": false
   },
   "outputs": [
    {
     "ename": "NameError",
     "evalue": "name 'base_url' is not defined",
     "output_type": "error",
     "traceback": [
      "\u001b[1;31m---------------------------------------------------------------------------\u001b[0m",
      "\u001b[1;31mNameError\u001b[0m                                 Traceback (most recent call last)",
      "\u001b[1;32m<ipython-input-4-82a200caffd3>\u001b[0m in \u001b[0;36m<module>\u001b[1;34m()\u001b[0m\n\u001b[0;32m      8\u001b[0m     \u001b[1;32mreturn\u001b[0m \u001b[0murl\u001b[0m\u001b[1;33m\u001b[0m\u001b[0m\n\u001b[0;32m      9\u001b[0m \u001b[1;33m\u001b[0m\u001b[0m\n\u001b[1;32m---> 10\u001b[1;33m \u001b[0mprint\u001b[0m\u001b[1;33m(\u001b[0m\u001b[0mgetFullUrl\u001b[0m\u001b[1;33m(\u001b[0m\u001b[1;34m'2007-2008'\u001b[0m\u001b[1;33m,\u001b[0m \u001b[1;34m'Bachelor semestre 1'\u001b[0m\u001b[1;33m)\u001b[0m\u001b[1;33m)\u001b[0m\u001b[1;33m\u001b[0m\u001b[0m\n\u001b[0m",
      "\u001b[1;32m<ipython-input-4-82a200caffd3>\u001b[0m in \u001b[0;36mgetFullUrl\u001b[1;34m(PeriodeAcad, PeriodePedag)\u001b[0m\n\u001b[0;32m      2\u001b[0m \u001b[1;33m\u001b[0m\u001b[0m\n\u001b[0;32m      3\u001b[0m \u001b[1;32mdef\u001b[0m \u001b[0mgetFullUrl\u001b[0m\u001b[1;33m(\u001b[0m\u001b[0mPeriodeAcad\u001b[0m\u001b[1;33m,\u001b[0m \u001b[0mPeriodePedag\u001b[0m\u001b[1;33m)\u001b[0m\u001b[1;33m:\u001b[0m\u001b[1;33m\u001b[0m\u001b[0m\n\u001b[1;32m----> 4\u001b[1;33m     \u001b[0murl\u001b[0m \u001b[1;33m=\u001b[0m \u001b[0mbase_url\u001b[0m\u001b[1;33m\u001b[0m\u001b[0m\n\u001b[0m\u001b[0;32m      5\u001b[0m     \u001b[0murl\u001b[0m \u001b[1;33m=\u001b[0m \u001b[0murl\u001b[0m\u001b[1;33m.\u001b[0m\u001b[0mreplace\u001b[0m\u001b[1;33m(\u001b[0m\u001b[1;34m'[UNITE_ACADEMIQUE]'\u001b[0m\u001b[1;33m,\u001b[0m \u001b[0mstr\u001b[0m\u001b[1;33m(\u001b[0m\u001b[0murl_section\u001b[0m\u001b[1;33m)\u001b[0m\u001b[1;33m)\u001b[0m\u001b[1;33m\u001b[0m\u001b[0m\n\u001b[0;32m      6\u001b[0m     \u001b[0murl\u001b[0m \u001b[1;33m=\u001b[0m \u001b[0murl\u001b[0m\u001b[1;33m.\u001b[0m\u001b[0mreplace\u001b[0m\u001b[1;33m(\u001b[0m\u001b[1;34m'[PERIODE_ACADEMIQUE]'\u001b[0m\u001b[1;33m,\u001b[0m \u001b[0mstr\u001b[0m\u001b[1;33m(\u001b[0m\u001b[0murl_years\u001b[0m\u001b[1;33m[\u001b[0m\u001b[0mPeriodeAcad\u001b[0m\u001b[1;33m]\u001b[0m\u001b[1;33m)\u001b[0m\u001b[1;33m)\u001b[0m\u001b[1;33m\u001b[0m\u001b[0m\n",
      "\u001b[1;31mNameError\u001b[0m: name 'base_url' is not defined"
     ]
    }
   ],
   "source": [
    "url = 'http://isa.epfl.ch/imoniteur_ISAP/!GEDPUBLICREPORTS.html?ww_x_GPS=-1&ww_i_reportModel=133685247&ww_i_reportModelXsl=133685270&ww_x_UNITE_ACAD=249847&ww_x_PERIODE_ACAD=978195&ww_x_PERIODE_PEDAGO=249114&ww_x_HIVERETE=null'\n",
    "\n",
    "def getFullUrl(PeriodeAcad, PeriodePedag):\n",
    "    url = base_url\n",
    "    url = url.replace('[UNITE_ACADEMIQUE]', str(url_section))\n",
    "    url = url.replace('[PERIODE_ACADEMIQUE]', str(url_years[PeriodeAcad]))\n",
    "    url = url.replace('[PERIODE_PEDAGOGIQUE]', str(url_bachelor[PeriodePedag]))\n",
    "    return url\n",
    "\n",
    "print(getFullUrl('2007-2008', 'Bachelor semestre 1'))\n"
   ]
  },
  {
   "cell_type": "code",
   "execution_count": null,
   "metadata": {
    "collapsed": false
   },
   "outputs": [],
   "source": [
    "url = getFullUrl('2007-2008', 'Bachelor semestre 1')\n",
    "\n",
    "with urllib.request.urlopen(url) as url:\n",
    "    s = url.read()\n",
    "soup = BeautifulSoup(s, 'html.parser')    \n",
    "#print(soup.prettify())\n",
    "student_frame = pd.read_html(soup.prettify(), header=1)\n",
    "\n",
    "frame = student_frame[0].drop(0,axis=0)\n",
    "frame = frame[['Civilité', 'Nom Prénom', 'No Sciper']]\n",
    "frame\n",
    "\n",
    "for year in range(10):\n",
    "    current_year = 2007+year\n",
    "    year_string = str(current_year) + '-' + str(current_year+1)\n",
    "    current_url_B1 = getFullUrl(year_string, 'Bachelor semestre 1')\n",
    "    with urllib.request.urlopen(current_url_B1) as url:\n",
    "        html_B1 = url.read()\n",
    "    student_frame_B1 = pd.read_html(soup.prettify(), header=1)\n",
    "    student_frame_B1 = frame[['Civilité', 'Nom Prénom', 'No Sciper']]\n",
    "    #student_frame_B1['Start year'] = \n",
    "    \n",
    "    current_url_B6 = getFullUrl(year_string, 'Bachelor semestre 6')\n",
    "    with urllib.request.urlopen(current_url_B6) as url:\n",
    "        s = url.read()"
   ]
  },
  {
   "cell_type": "code",
   "execution_count": null,
   "metadata": {
    "collapsed": true
   },
   "outputs": [],
   "source": []
  }
 ],
 "metadata": {
  "anaconda-cloud": {},
  "kernelspec": {
   "display_name": "Python [Root]",
   "language": "python",
   "name": "Python [Root]"
  },
  "language_info": {
   "codemirror_mode": {
    "name": "ipython",
    "version": 3
   },
   "file_extension": ".py",
   "mimetype": "text/x-python",
   "name": "python",
   "nbconvert_exporter": "python",
   "pygments_lexer": "ipython3",
   "version": "3.5.2"
  }
 },
 "nbformat": 4,
 "nbformat_minor": 0
}
