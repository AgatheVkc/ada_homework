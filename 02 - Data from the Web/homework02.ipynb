{
 "cells": [
  {
   "cell_type": "markdown",
   "metadata": {},
   "source": [
    "# Homework 2 -Data from the Web"
   ]
  },
  {
   "cell_type": "markdown",
   "metadata": {},
   "source": [
    "Useful imports first"
   ]
  },
  {
   "cell_type": "code",
   "execution_count": 23,
   "metadata": {
    "collapsed": true
   },
   "outputs": [],
   "source": [
    "from bs4 import BeautifulSoup\n",
    "import urllib.request\n",
    "import pandas as pd\n",
    "import html5lib \n",
    "from lxml import html\n",
    "import numpy as np"
   ]
  },
  {
   "cell_type": "markdown",
   "metadata": {},
   "source": [
    "We want to get first all the parameters that are possible, i.e. we will fill two dictionnaries, one with the year as index, and the \"value\" of the link associated to it (e.g. {'2016-2017': '355925344'}), and the same with the bachelor year and the \"value\" of the link associated to it.\n",
    "\n",
    "We do that in order to be able to extract all students from all possible years (2007-2016) and from all stages of the bachelor automatically later."
   ]
  },
  {
   "cell_type": "code",
   "execution_count": 85,
   "metadata": {
    "collapsed": false
   },
   "outputs": [
    {
     "name": "stdout",
     "output_type": "stream",
     "text": [
      "{'2010-2011': '39486325', '2016-2017': '355925344', '2014-2015': '213637922', '2012-2013': '123456101', '2011-2012': '123455150', '2007-2008': '978181', '2009-2010': '978195', '2015-2016': '213638028', '2013-2014': '213637754', '2008-2009': '978187'}\n",
      "{'Projet Master automne': '249127', 'Master semestre 1': '2230106', 'Bachelor semestre 2': '249114', 'Master semestre 3': '2230128', 'Mineur semestre 1': '2335667', 'Mineur semestre 2': '2335676', 'Bachelor semestre 5b': '2226768', 'Master semestre 4': '2230140', 'Master semestre 2': '942192', 'Bachelor semestre 6': '942175', 'Bachelor semestre 4': '942163', 'Bachelor semestre 5': '942120', 'Bachelor semestre 1': '249108', 'Bachelor semestre 3': '942155', 'Bachelor semestre 6b': '2226785', 'Projet Master printemps': '3781783'}\n",
      "{}\n"
     ]
    }
   ],
   "source": [
    "# The URL of the \"start\" of the IS-Academia page listing the students.\n",
    "home_url = \"http://isa.epfl.ch/imoniteur_ISAP/!GEDPUBLICREPORTS.filter?ww_x_GPS=-1&ww_i_reportModel=133685247\"\n",
    "\n",
    "# The general form of the URL, with the fields to be replaced later (e.g. [UNITE_ACADEMIQUE])\n",
    "base_url = \"http://isa.epfl.ch/imoniteur_ISAP/!GEDPUBLICREPORTS.html?ww_x_GPS=-1&ww_i_reportModel=133685247&ww_i_reportModelXsl=133685270&ww_x_UNITE_ACAD=[UNITE_ACADEMIQUE]&ww_x_PERIODE_ACAD=[PERIODE_ACADEMIQUE]&ww_x_PERIODE_PEDAGO=[PERIODE_PEDAGOGIQUE]&ww_x_HIVERETE=null\"\n",
    "\n",
    "# Get the raw content from the page\n",
    "with urllib.request.urlopen(home_url) as url:\n",
    "    s = url.read()\n",
    "\n",
    "soup = BeautifulSoup(s, 'html.parser')\n",
    "\n",
    "# Parse the content\n",
    "url_section = 0\n",
    "url_years = {}\n",
    "url_bachelor = {}\n",
    "url_master = {}\n",
    "\n",
    "#For loop on all the possible fields with <option> to get the value associated with each year, or each \"Bachelor\" semester\n",
    "for link in soup.find_all('option'):\n",
    "    if link.text == 'Informatique':\n",
    "        url_section = link.get('value')\n",
    "    if \"20\" in link.text:\n",
    "        #print(link.text)\n",
    "        url_years[link.text] = link.get('value')\n",
    "    if \"Bachelor\" in link.text:\n",
    "        #print(link.text)\n",
    "        url_bachelor[link.text] = link.get('value')\n",
    "        #get('value'))\n",
    "    if 'Master' in link.text or 'Mineur' in link.text:\n",
    "        url_bachelor[link.text] = link.get('value')\n",
    "\n",
    "        \n",
    "print(url_years)\n",
    "print(url_bachelor)\n",
    "print(url_master)\n",
    "#frame= frame.drop([2,3,4,5,6,8,9,11],axis=1)\n",
    "#frame.head(10)"
   ]
  },
  {
   "cell_type": "markdown",
   "metadata": {},
   "source": [
    "Function that replaces the general fields in the base_url with the fields for a given year and level of study"
   ]
  },
  {
   "cell_type": "code",
   "execution_count": 5,
   "metadata": {
    "collapsed": false
   },
   "outputs": [
    {
     "name": "stdout",
     "output_type": "stream",
     "text": [
      "http://isa.epfl.ch/imoniteur_ISAP/!GEDPUBLICREPORTS.html?ww_x_GPS=-1&ww_i_reportModel=133685247&ww_i_reportModelXsl=133685270&ww_x_UNITE_ACAD=249847&ww_x_PERIODE_ACAD=978181&ww_x_PERIODE_PEDAGO=249108&ww_x_HIVERETE=null\n"
     ]
    }
   ],
   "source": [
    "def getFullUrl(PeriodeAcad, PeriodePedag):\n",
    "    url = base_url\n",
    "    url = url.replace('[UNITE_ACADEMIQUE]', str(url_section))\n",
    "    url = url.replace('[PERIODE_ACADEMIQUE]', str(url_years[PeriodeAcad]))\n",
    "    url = url.replace('[PERIODE_PEDAGOGIQUE]', str(url_bachelor[PeriodePedag]))\n",
    "    return url\n",
    "\n",
    "print(getFullUrl('2007-2008', 'Bachelor semestre 1'))\n"
   ]
  },
  {
   "cell_type": "markdown",
   "metadata": {},
   "source": [
    " - We are interested only in the students that started between 2007-2010, in order to be sure that they will have completed their bachelor studies before or in 2016. It avoids our results getting biased by students actually still in studies (e.g. if we count students from 2013, we would only count students who finished their bachelor in 3 years, not actually those still in studies).\n",
    " - In order to have no bias at all, we will also have to check the records from the year 2006-2007,in order to verify whether the students actually are starting their studies in 2007-2008 or have already failed first year once before."
   ]
  },
  {
   "cell_type": "code",
   "execution_count": 55,
   "metadata": {
    "collapsed": false
   },
   "outputs": [
    {
     "name": "stdout",
     "output_type": "stream",
     "text": [
      "True\n",
      "           Civilité                    Nom Prénom  Starting year\n",
      "No Sciper                                                       \n",
      "179383     Monsieur                    Amiet Nils           2008\n",
      "186836     Monsieur         Andenmatten Alexandre           2008\n",
      "184772     Monsieur                 Arnfred Jonas           2008\n",
      "187235     Monsieur       Badila Constantin-Tudor           2008\n",
      "186264     Monsieur                Bougacha Malik           2008\n",
      "185949     Monsieur              Bourgeois Jérémy           2008\n",
      "184264     Monsieur                  Bourqui Marc           2008\n",
      "186825     Monsieur                Bruchez Lionel           2008\n",
      "186009     Monsieur                   Bullot Marc           2008\n",
      "179864     Monsieur              Cambazard Thomas           2007\n",
      "184991     Monsieur              Chablais Michael           2008\n",
      "185283     Monsieur             Constantin Victor           2008\n",
      "178287     Monsieur               Cressier Gilles           2008\n",
      "185952     Monsieur              Cuony Maximilien           2008\n",
      "187001     Monsieur          De Carvalho Jonathan           2008\n",
      "186733     Monsieur         De Labouchere Michael           2008\n",
      "174915     Monsieur       De Tiberge Gabriel Eric           2008\n",
      "185969     Monsieur                 Dias Emanuele           2008\n",
      "185959     Monsieur                Droxler Thomas           2008\n",
      "187060     Monsieur        Dupertuis Didier Louis           2008\n",
      "181232     Monsieur                Epiney Vincent           2007\n",
      "180284     Monsieur          Fankhauser Alexandre           2007\n",
      "189885       Madame    Farfan Cabrera Diana Lucia           2008\n",
      "181109     Monsieur                   Fiaux Anaël           2008\n",
      "184372     Monsieur                   Fol Charles           2008\n",
      "180816     Monsieur                 Fond Matthieu           2008\n",
      "184844     Monsieur             Franscella Mattia           2008\n",
      "181159     Monsieur            Gallidabino Andrea           2008\n",
      "185853     Monsieur                  Gardiol Loïc           2008\n",
      "186449     Monsieur                Germain Arthur           2008\n",
      "...             ...                           ...            ...\n",
      "180979     Monsieur                  Rudaz Fabien           2007\n",
      "179703       Madame               Salvisberg Véra           2008\n",
      "186833     Monsieur           Sanchez Witt Carlos           2008\n",
      "185975     Monsieur              Sanglard Nicolas           2008\n",
      "185301     Monsieur             Sarfati Alexandre           2008\n",
      "186784     Monsieur                 Savoy Florian           2008\n",
      "186768     Monsieur    Schoenenberger Yann Mikaël           2008\n",
      "184373       Madame                   Sisto Maria           2008\n",
      "187611     Monsieur            Tacchini Guillaume           2008\n",
      "175407     Monsieur              Tapparel Yannick           2008\n",
      "185754     Monsieur          Testuz Romain Pierre           2008\n",
      "186717     Monsieur  Trang Jean-Pierre Thanh-Phat           2008\n",
      "181419       Madame        Triponez Elodie Nilane           2008\n",
      "186796     Monsieur              Ulrich Guillaume           2008\n",
      "180185     Monsieur            Vo Nhu-Hoài Robert           2007\n",
      "186268     Monsieur   Voirol Nicolas Charles Yves           2008\n",
      "182695     Monsieur                Vulliet Romain           2008\n",
      "186215     Monsieur                Watrin Thibaut           2008\n",
      "180008     Monsieur              Wertenbroek Rick           2008\n",
      "186188     Monsieur                Widmer Florian           2008\n",
      "174340       Madame             Wüthrich Nathalie           2007\n",
      "180916     Monsieur                  Zhou Yunpeng           2008\n",
      "184342     Monsieur               Zimmermann Marc           2008\n",
      "186301     Monsieur                 Zoppi Florian           2008\n",
      "178942     Monsieur               Zürn Christophe           2008\n",
      "195766       Madame                Al Azawi Marwa           2009\n",
      "186942     Monsieur                 Amrani Ismaïl           2009\n",
      "194182     Monsieur               Antognini Marco           2009\n",
      "186595     Monsieur             Augsburger Damien           2009\n",
      "192757       Madame             Balmau Oana Maria           2009\n",
      "\n",
      "[100 rows x 3 columns]\n"
     ]
    }
   ],
   "source": [
    "## Load all student from that have started EPFL from 2007 in current_student DataFrame\n",
    "# We set the Sciper as index, as it is uniquely identifying each student.\n",
    "\n",
    "current_student = pd.DataFrame(columns = ['Civilité', 'Nom Prénom', 'Starting year'])\n",
    "current_student['Starting year']= current_student['Starting year'].astype(int)\n",
    "current_student.index.name = 'No Sciper'\n",
    "\n",
    "# We iterate over 3 years : 2008,2009,2010 -> We make sure the students all will have finished by 2016,\n",
    "# as doing a bachelor can take only up to 6 years.\n",
    "for year in range(2008,2011):\n",
    "    year_string = str(year) + '-' + str(year+1)\n",
    "    \n",
    "    # Get the data from the appropriate url -> the URL describing the students in first semester\n",
    "    current_url_B1 = getFullUrl(year_string, 'Bachelor semestre 1')\n",
    "    with urllib.request.urlopen(current_url_B1) as url:\n",
    "        html_B1 = url.read()\n",
    "    soup = BeautifulSoup(html_B1, 'html.parser')\n",
    "    \n",
    "    # Create the data frame only keeping relevant fields\n",
    "    # Note that the student_frame_B1 DataFrame is a temporary dataframe that only orders the data from the webpage.\n",
    "    # We clean it and put all the non duplicate students into the current student DataFrame, that will contain our final entries\n",
    "    student_frame_B1 = pd.read_html(soup.prettify(), header=1)\n",
    "    student_frame_B1 = student_frame_B1[0].drop(0,axis=0)\n",
    "    student_frame_B1 = student_frame_B1[['Civilité', 'Nom Prénom', 'No Sciper']]\n",
    "    student_frame_B1 = student_frame_B1.set_index('No Sciper')\n",
    "    student_frame_B1['Starting year'] = int(year);\n",
    "    \n",
    "    # Only keep students that are in their first 1st year\n",
    "    student_frame_B1 = student_frame_B1[[not (sciper in current_student.index) for sciper in student_frame_B1.index]]\n",
    "    \n",
    "    current_student = pd.concat([current_student, student_frame_B1])\n",
    "    \n",
    "# We now check for all students starting in 2008 whether they have previously failed in year 2007-2008.\n",
    "# If so, we change their starting year.\n",
    "year_string = '2007-2008'\n",
    "# Get the data from the appropriate url -> the URL describing the students in first semester\n",
    "url_B1_2007 = getFullUrl(year_string, 'Bachelor semestre 1')\n",
    "with urllib.request.urlopen(url_B1_2007) as url:\n",
    "    html_B1_2007 = url.read()\n",
    "soup = BeautifulSoup(html_B1_2007, 'html.parser')\n",
    "student_frame_B1_2007 = pd.read_html(soup.prettify(), header=1)\n",
    "sciper_student_2007 = np.array(student_frame_B1_2007[0]['No Sciper'])\n",
    "current_student.loc[current_student.index.isin(sciper_student_2007), 'Starting year'] = 2007\n",
    "\n",
    "    \n",
    "print(current_student.index.is_unique)\n",
    "print(current_student.head(100))"
   ]
  },
  {
   "cell_type": "code",
   "execution_count": 56,
   "metadata": {
    "collapsed": false
   },
   "outputs": [
    {
     "name": "stdout",
     "output_type": "stream",
     "text": [
      "True\n",
      "           Civilité          Nom Prénom  Finishing year\n",
      "No Sciper                                              \n",
      "174905     Monsieur     Aubelle Flavien            2011\n",
      "179406     Monsieur  Baeriswyl Jonathan            2011\n",
      "179428     Monsieur     Barroco Michael            2011\n",
      "179426     Monsieur          Bloch Remi            2011\n",
      "185949     Monsieur    Bourgeois Jérémy            2011\n"
     ]
    }
   ],
   "source": [
    "## and all students that have finished from 2007 in finished_student data frame\n",
    "\n",
    "\n",
    "finished_student = pd.DataFrame(columns = ['Civilité', 'Nom Prénom', 'Finishing year'])\n",
    "finished_student.index.name = 'No Sciper'\n",
    "\n",
    "for year in range(2010,2017):\n",
    "    year_string = str(year) + '-' + str(year+1)\n",
    "    \n",
    "    # Get the data from the appropriate url -> The URL containing the students in last semester.\n",
    "    current_url_B6 = getFullUrl(year_string, 'Bachelor semestre 6')\n",
    "    with urllib.request.urlopen(current_url_B6) as url:\n",
    "        html_B6 = url.read()\n",
    "    soup = BeautifulSoup(html_B6, 'html.parser')\n",
    "    \n",
    "    # Create the data frame only keeping relevant fields\n",
    "    student_frame_B6 = pd.read_html(soup.prettify(), header=1)\n",
    "    student_frame_B6 = student_frame_B6[0].drop(0,axis=0)\n",
    "    student_frame_B6 = student_frame_B6[['Civilité', 'Nom Prénom', 'No Sciper']]\n",
    "    student_frame_B6 = student_frame_B6.set_index('No Sciper') \n",
    "    # If we find a duplicate into the finished_student array, i.e. a student that was already in bachelor 6\n",
    "    # the year before, it means that he failed his year and that we need to update his finishing year\n",
    "    finished_student = finished_student[[not (sciper in student_frame_B6.index) for sciper in  finished_student.index]]\n",
    "    student_frame_B6['Finishing year'] = int(year+1); # The +1 here gives us the finishing year (i.e. 2008 for the period 2007-2008)\n",
    "    finished_student = pd.concat([finished_student, student_frame_B6])\n",
    "        \n",
    "\n",
    "print(finished_student.index.is_unique)\n",
    "print(finished_student.head(5))\n"
   ]
  },
  {
   "cell_type": "markdown",
   "metadata": {},
   "source": [
    "## Assignment 1\n",
    "\n",
    "Obtain all the data for the Bachelor students, starting from 2007. Keep only the students for which you have an entry for both `Bachelor semestre 1` and `Bachelor semestre 6`. Compute how many months it took each student to go from the first to the sixth semester. Partition the data between male and female students, and compute the average -- is the difference in average statistically significant?"
   ]
  },
  {
   "cell_type": "markdown",
   "metadata": {},
   "source": [
    "Note that we assume here that **a student reaching bachelor 6 and disappearing after in the dataset has successfully completed his bachelor**, as there is absolutely no way to be sure he actually did so. We cannot check the first master year because he might change section/university, ... "
   ]
  },
  {
   "cell_type": "code",
   "execution_count": 58,
   "metadata": {
    "collapsed": false
   },
   "outputs": [
    {
     "name": "stdout",
     "output_type": "stream",
     "text": [
      "     Civilité                         Nom Prénom  Starting year  \\\n",
      "0    Monsieur                     Bougacha Malik           2008   \n",
      "1    Monsieur                   Bourgeois Jérémy           2008   \n",
      "2    Monsieur                       Bourqui Marc           2008   \n",
      "3    Monsieur                     Bruchez Lionel           2008   \n",
      "4    Monsieur                   Chablais Michael           2008   \n",
      "5    Monsieur                  Constantin Victor           2008   \n",
      "6    Monsieur                    Cressier Gilles           2008   \n",
      "7    Monsieur                   Cuony Maximilien           2008   \n",
      "8    Monsieur                     Droxler Thomas           2008   \n",
      "9    Monsieur                        Fiaux Anaël           2008   \n",
      "10   Monsieur                        Fol Charles           2008   \n",
      "11   Monsieur                      Fond Matthieu           2008   \n",
      "12   Monsieur                  Franscella Mattia           2008   \n",
      "13   Monsieur                       Gardiol Loïc           2008   \n",
      "14   Monsieur                        Good Xavier           2008   \n",
      "15   Monsieur                  Gremion Sébastien           2007   \n",
      "16     Madame                     Heldner Céline           2008   \n",
      "17   Monsieur                      Hobbs Michael           2008   \n",
      "18   Monsieur            Hutzli Michael Benedikt           2008   \n",
      "19   Monsieur                     Jolidon Fabien           2007   \n",
      "20   Monsieur                      Kessel Alexis           2008   \n",
      "21   Monsieur       Mégard Lomig Corentin Amédée           2008   \n",
      "22   Monsieur                   Moumni Benyounes           2008   \n",
      "23   Monsieur                 Mühlematter Thomas           2008   \n",
      "24   Monsieur                   Rebert Alexandre           2008   \n",
      "25   Monsieur                    Rodrigues Dinis           2008   \n",
      "26     Madame                   Rodriguez Oriane           2008   \n",
      "27   Monsieur                  Rohrbach Jonathan           2008   \n",
      "28   Monsieur                Rojanawisut Bastien           2008   \n",
      "29     Madame                    Salvisberg Véra           2008   \n",
      "..        ...                                ...            ...   \n",
      "115  Monsieur                Grütter Karl Samuel           2010   \n",
      "116  Monsieur                       Güzelhan Can           2010   \n",
      "117  Monsieur             Kashani-Akhavan Sahand           2010   \n",
      "118  Monsieur                      La Spada Luca           2010   \n",
      "119  Monsieur              Lau Schut Hang Pascal           2010   \n",
      "120  Monsieur       Link Jonathan Stéphane Oskar           2010   \n",
      "121  Monsieur              Marengo Julien Lionel           2010   \n",
      "122  Monsieur  Marguet Alban Michel Louis Joseph           2010   \n",
      "123  Monsieur     Martres Guillaume André Fradji           2010   \n",
      "124  Monsieur            Matter Valentin Nicolas           2010   \n",
      "125  Monsieur            Mettraux Vincent Michel           2010   \n",
      "126  Monsieur                    Modoux Thiébaud           2010   \n",
      "127  Monsieur        Moutet Clément André Xavier           2010   \n",
      "128    Madame         Musso Claire Cécile Hélène           2010   \n",
      "129  Monsieur                    Nyfeler Thierry           2010   \n",
      "130  Monsieur              Ouwehand Frédéric Jan           2010   \n",
      "131  Monsieur           Pittet Valérian Thibault           2010   \n",
      "132  Monsieur                       Prakash Aman           2010   \n",
      "133  Monsieur                       Quarta Jonny           2010   \n",
      "134  Monsieur                         Reber Sven           2010   \n",
      "135  Monsieur            Rensch Colla Davóg Ross           2010   \n",
      "136  Monsieur                       Rossier Joël           2010   \n",
      "137  Monsieur                  Schaeffer Yannick           2010   \n",
      "138  Monsieur             Schmutz Michaël Steven           2010   \n",
      "139  Monsieur             Valette Laurent Michel           2010   \n",
      "140  Monsieur                     Vessaz Florian           2010   \n",
      "141  Monsieur        Von Aarburg Raphaël Richard           2010   \n",
      "142  Monsieur                Weber Martin Takeya           2010   \n",
      "143  Monsieur                  Zellweger Vincent           2010   \n",
      "144  Monsieur      Zommerfelds Christian Georges           2010   \n",
      "\n",
      "     Finishing year  Bachelor duration  \n",
      "0              2013                  5  \n",
      "1              2011                  3  \n",
      "2              2013                  5  \n",
      "3              2011                  3  \n",
      "4              2011                  3  \n",
      "5              2013                  5  \n",
      "6              2011                  3  \n",
      "7              2011                  3  \n",
      "8              2012                  4  \n",
      "9              2012                  4  \n",
      "10             2014                  6  \n",
      "11             2012                  4  \n",
      "12             2012                  4  \n",
      "13             2011                  3  \n",
      "14             2011                  3  \n",
      "15             2011                  4  \n",
      "16             2011                  3  \n",
      "17             2012                  4  \n",
      "18             2011                  3  \n",
      "19             2013                  6  \n",
      "20             2013                  5  \n",
      "21             2011                  3  \n",
      "22             2011                  3  \n",
      "23             2013                  5  \n",
      "24             2011                  3  \n",
      "25             2012                  4  \n",
      "26             2011                  3  \n",
      "27             2012                  4  \n",
      "28             2011                  3  \n",
      "29             2011                  3  \n",
      "..              ...                ...  \n",
      "115            2013                  3  \n",
      "116            2014                  4  \n",
      "117            2014                  4  \n",
      "118            2013                  3  \n",
      "119            2014                  4  \n",
      "120            2015                  5  \n",
      "121            2015                  5  \n",
      "122            2013                  3  \n",
      "123            2013                  3  \n",
      "124            2013                  3  \n",
      "125            2014                  4  \n",
      "126            2014                  4  \n",
      "127            2013                  3  \n",
      "128            2013                  3  \n",
      "129            2013                  3  \n",
      "130            2014                  4  \n",
      "131            2013                  3  \n",
      "132            2013                  3  \n",
      "133            2013                  3  \n",
      "134            2013                  3  \n",
      "135            2013                  3  \n",
      "136            2013                  3  \n",
      "137            2015                  5  \n",
      "138            2014                  4  \n",
      "139            2014                  4  \n",
      "140            2013                  3  \n",
      "141            2013                  3  \n",
      "142            2015                  5  \n",
      "143            2014                  4  \n",
      "144            2013                  3  \n",
      "\n",
      "[145 rows x 5 columns]\n"
     ]
    }
   ],
   "source": [
    "finished_student_sciper = finished_student.index\n",
    "\n",
    "# Only keep students that started after 2007.\n",
    "finished_student_from_2007 = current_student.loc[finished_student_sciper]\n",
    "\n",
    "# Merge the two dataFrames so we get all the students that started and finished. \n",
    "# The number of dropouts could be computed by taking the difference between everyone that \n",
    "# entered in first year and does not appear at the end (Note that we wouldn't count the people who changed their section).\n",
    "sample_student = pd.merge(current_student, finished_student)\n",
    "\n",
    "#Compute the duration it took to complete the bachelor and group by sex, then compute the average.\n",
    "sample_student['Bachelor duration'] = sample_student['Finishing year']-sample_student['Starting year']\n",
    "sample_student.groupby('Civilité')['Bachelor duration'].mean()\n",
    "\n",
    "#There is yet to conclude whether it is statistically significant or not.\n",
    "\n",
    "print(sample_student)"
   ]
  },
  {
   "cell_type": "code",
   "execution_count": 83,
   "metadata": {
    "collapsed": false
   },
   "outputs": [
    {
     "name": "stdout",
     "output_type": "stream",
     "text": [
      "    Civilité                  Nom Prénom  Starting year  Finishing year  \\\n",
      "16    Madame              Heldner Céline           2008            2011   \n",
      "26    Madame            Rodriguez Oriane           2008            2011   \n",
      "29    Madame             Salvisberg Véra           2008            2011   \n",
      "33    Madame                 Sisto Maria           2008            2012   \n",
      "36    Madame      Triponez Elodie Nilane           2008            2011   \n",
      "46    Madame           Balmau Oana Maria           2009            2012   \n",
      "75    Madame             Rollier Orianne           2009            2013   \n",
      "99    Madame         Colussi Maëlle Lise           2010            2013   \n",
      "128   Madame  Musso Claire Cécile Hélène           2010            2013   \n",
      "\n",
      "     Bachelor duration  \n",
      "16                   3  \n",
      "26                   3  \n",
      "29                   3  \n",
      "33                   4  \n",
      "36                   3  \n",
      "46                   3  \n",
      "75                   4  \n",
      "99                   3  \n",
      "128                  3  \n",
      "16     3\n",
      "26     3\n",
      "29     3\n",
      "33     4\n",
      "36     3\n",
      "46     3\n",
      "75     4\n",
      "99     3\n",
      "128    3\n",
      "Name: Bachelor duration, dtype: int64\n",
      "3.67647058824\n",
      "3.22222222222\n",
      "0.901704993568\n",
      "0.440958551844\n"
     ]
    },
    {
     "data": {
      "text/plain": [
       "Ttest_indResult(statistic=-2.7350760802265679, pvalue=0.017034663994017443)"
      ]
     },
     "execution_count": 83,
     "metadata": {},
     "output_type": "execute_result"
    }
   ],
   "source": [
    "# Statistical test\n",
    "import scipy.stats as stats\n",
    "import math\n",
    "\n",
    "current_student.loc[current_student.index.isin(sciper_student_2007), 'Starting year']\n",
    "\n",
    "men_student = sample_student.loc[sample_student['Civilité']=='Monsieur']\n",
    "women_student = sample_student.loc[sample_student['Civilité']=='Madame']\n",
    "print(women_student)\n",
    "#print(women_student.columns)\n",
    "print(women_student.loc[:,'Bachelor duration'])\n",
    "\n",
    "print(men_student.loc[:,'Bachelor duration'].mean())\n",
    "print(women_student.loc[:,'Bachelor duration'].mean())\n",
    "print(men_student.loc[:,'Bachelor duration'].std())\n",
    "print(women_student.loc[:,'Bachelor duration'].std())\n",
    "\n",
    "stats.ttest_ind(a= np.array(women_student.loc[:,'Bachelor duration']),\n",
    "                b= np.array(men_student.loc[:,'Bachelor duration']),\n",
    "                equal_var=False)    # Assume samples have equal variance?"
   ]
  },
  {
   "cell_type": "markdown",
   "metadata": {},
   "source": [
    "Assignment 2 : Master students"
   ]
  },
  {
   "cell_type": "code",
   "execution_count": null,
   "metadata": {
    "collapsed": true
   },
   "outputs": [],
   "source": []
  }
 ],
 "metadata": {
  "anaconda-cloud": {},
  "kernelspec": {
   "display_name": "Python 3",
   "language": "python",
   "name": "python3"
  },
  "language_info": {
   "codemirror_mode": {
    "name": "ipython",
    "version": 3
   },
   "file_extension": ".py",
   "mimetype": "text/x-python",
   "name": "python",
   "nbconvert_exporter": "python",
   "pygments_lexer": "ipython3",
   "version": "3.5.2"
  }
 },
 "nbformat": 4,
 "nbformat_minor": 0
}
