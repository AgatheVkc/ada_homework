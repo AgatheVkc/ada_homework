{
 "cells": [
  {
   "cell_type": "markdown",
   "metadata": {},
   "source": [
    "# Homework 2 -Data from the Web"
   ]
  },
  {
   "cell_type": "markdown",
   "metadata": {},
   "source": [
    "Useful imports first"
   ]
  },
  {
   "cell_type": "code",
   "execution_count": 4,
   "metadata": {
    "collapsed": true
   },
   "outputs": [],
   "source": [
    "from bs4 import BeautifulSoup\n",
    "import urllib.request\n",
    "import pandas as pd\n",
    "import html5lib \n",
    "from lxml import html"
   ]
  },
  {
   "cell_type": "markdown",
   "metadata": {},
   "source": [
    "We want to get first all the parameters that are possible, i.e. we will fill two dictionnaries, one with the year as index, and the \"value\" of the link associated to it (e.g. {'2016-2017': '355925344'}), and the same with the bachelor year and the \"value\" of the link associated to it.\n",
    "\n",
    "We do that in order to be able to extract all students from all possible years (2007-2016) and from all stages of the bachelor automatically later."
   ]
  },
  {
   "cell_type": "code",
   "execution_count": 5,
   "metadata": {
    "collapsed": false
   },
   "outputs": [
    {
     "name": "stdout",
     "output_type": "stream",
     "text": [
      "{'2008-2009': '978187', '2010-2011': '39486325', '2009-2010': '978195', '2011-2012': '123455150', '2013-2014': '213637754', '2014-2015': '213637922', '2015-2016': '213638028', '2007-2008': '978181', '2012-2013': '123456101', '2016-2017': '355925344'}\n",
      "{'Bachelor semestre 4': '942163', 'Bachelor semestre 6': '942175', 'Bachelor semestre 2': '249114', 'Bachelor semestre 1': '249108', 'Bachelor semestre 5b': '2226768', 'Bachelor semestre 3': '942155', 'Bachelor semestre 5': '942120', 'Bachelor semestre 6b': '2226785'}\n"
     ]
    }
   ],
   "source": [
    "# The URL of the \"start\" of the IS-Academia page listing the students.\n",
    "home_url = \"http://isa.epfl.ch/imoniteur_ISAP/!GEDPUBLICREPORTS.filter?ww_x_GPS=-1&ww_i_reportModel=133685247\"\n",
    "\n",
    "# The general form of the URL, with the fields to be replaced later (e.g. [UNITE_ACADEMIQUE])\n",
    "base_url = \"http://isa.epfl.ch/imoniteur_ISAP/!GEDPUBLICREPORTS.html?ww_x_GPS=-1&ww_i_reportModel=133685247&ww_i_reportModelXsl=133685270&ww_x_UNITE_ACAD=[UNITE_ACADEMIQUE]&ww_x_PERIODE_ACAD=[PERIODE_ACADEMIQUE]&ww_x_PERIODE_PEDAGO=[PERIODE_PEDAGOGIQUE]&ww_x_HIVERETE=null\"\n",
    "\n",
    "# Get the raw content from the page\n",
    "with urllib.request.urlopen(home_url) as url:\n",
    "    s = url.read()\n",
    "\n",
    "soup = BeautifulSoup(s, 'html.parser')    \n",
    "\n",
    "# Parse the content\n",
    "url_section = 0\n",
    "url_years = {}\n",
    "url_bachelor = {}\n",
    "\n",
    "#For loop on all the possible fields with <option> to get the value associated with each year, or each \"Bachelor\" semester\n",
    "for link in soup.find_all('option'):\n",
    "    if link.text == 'Informatique':\n",
    "        url_section = link.get('value')\n",
    "    if \"20\" in link.text:\n",
    "        #print(link.text)\n",
    "        url_years[link.text] = link.get('value')\n",
    "    if \"Bachelor\" in link.text:\n",
    "        #print(link.text)\n",
    "        url_bachelor[link.text] = link.get('value')\n",
    "        #get('value'))\n",
    "\n",
    "        \n",
    "print(url_years)\n",
    "print(url_bachelor)\n",
    "#frame= frame.drop([2,3,4,5,6,8,9,11],axis=1)\n",
    "#frame.head(10)"
   ]
  },
  {
   "cell_type": "markdown",
   "metadata": {},
   "source": [
    "Function that replaces the general fields in the base_url with the fields for a given year and level of study"
   ]
  },
  {
   "cell_type": "code",
   "execution_count": 6,
   "metadata": {
    "collapsed": false
   },
   "outputs": [
    {
     "name": "stdout",
     "output_type": "stream",
     "text": [
      "http://isa.epfl.ch/imoniteur_ISAP/!GEDPUBLICREPORTS.html?ww_x_GPS=-1&ww_i_reportModel=133685247&ww_i_reportModelXsl=133685270&ww_x_UNITE_ACAD=249847&ww_x_PERIODE_ACAD=978181&ww_x_PERIODE_PEDAGO=249108&ww_x_HIVERETE=null\n"
     ]
    }
   ],
   "source": [
    "def getFullUrl(PeriodeAcad, PeriodePedag):\n",
    "    url = base_url\n",
    "    url = url.replace('[UNITE_ACADEMIQUE]', str(url_section))\n",
    "    url = url.replace('[PERIODE_ACADEMIQUE]', str(url_years[PeriodeAcad]))\n",
    "    url = url.replace('[PERIODE_PEDAGOGIQUE]', str(url_bachelor[PeriodePedag]))\n",
    "    return url\n",
    "\n",
    "print(getFullUrl('2007-2008', 'Bachelor semestre 1'))\n"
   ]
  },
  {
   "cell_type": "code",
   "execution_count": 83,
   "metadata": {
    "collapsed": false
   },
   "outputs": [
    {
     "name": "stdout",
     "output_type": "stream",
     "text": [
      "(1317, 3)\n",
      "True\n",
      "True\n",
      "           Civilité                         Nom Prénom  Finishing year\n",
      "No Sciper                                                             \n",
      "161634     Monsieur                   Boksanyi Michael            2007\n",
      "170451     Monsieur                 Bolkensteyn Dinesh            2007\n",
      "170219     Monsieur        Bornet Cyril Antoine Michel            2007\n",
      "153762     Monsieur                       Conus Johann            2007\n",
      "166548     Monsieur                     Delort Vincent            2007\n",
      "166746     Monsieur                     Donzé Benjamin            2007\n",
      "166748     Monsieur                 Dos Santos Patrick            2007\n",
      "166751     Monsieur                       Droz Olivier            2007\n",
      "170414     Monsieur                      Eberle Julien            2007\n",
      "166889     Monsieur                        Genet Henry            2007\n",
      "161091       Madame                   Grivet Ekaterina            2007\n",
      "159998       Madame                        Jesse Julia            2007\n",
      "170823     Monsieur               Jonnalagedda Manohar            2007\n",
      "170241     Monsieur                   Laprade Philippe            2007\n",
      "170242     Monsieur                       Lauber Jonas            2007\n",
      "165562     Monsieur                       Lorch Daniel            2007\n",
      "166260     Monsieur                       Mader Arnaud            2007\n",
      "167313     Monsieur                    Marfurt Nicolas            2007\n",
      "171028     Monsieur                          Neu Raoul            2007\n",
      "167386     Monsieur                 Nguyen-Xuan Jérémy            2007\n",
      "159516     Monsieur                        Raja Yanick            2007\n",
      "161127     Monsieur                      Sahy François            2007\n",
      "170931     Monsieur                      Smaga Jérémie            2007\n",
      "167045     Monsieur                      Tangui Achraf            2007\n",
      "170975     Monsieur                    Treccani Adrien            2007\n",
      "170265     Monsieur                        Vogt Pascal            2007\n",
      "167439     Monsieur                     Waldmeyer Marc            2007\n",
      "171042     Monsieur                       Züger Walter            2007\n",
      "170220     Monsieur                     Barras Florian            2008\n",
      "166701     Monsieur                     Beuret Thibaut            2008\n",
      "...             ...                                ...             ...\n",
      "178656     Monsieur                  Curreli Alexandre            2009\n",
      "167845     Monsieur                  Del Colle Grégory            2009\n",
      "176061     Monsieur                      Ecuyer Adrien            2009\n",
      "178706       Madame                Falbriard Stéphanie            2009\n",
      "174584     Monsieur                      Fertani Mehdi            2009\n",
      "181121     Monsieur                         Frund Loïc            2009\n",
      "174579       Madame             Grometto Cécile Sahoko            2009\n",
      "170235     Monsieur                      Gruner Samuel            2009\n",
      "169942     Monsieur                   Habegger Mathieu            2009\n",
      "180570     Monsieur                       Habfast Paul            2009\n",
      "175190     Monsieur                    Hanser Valérian            2009\n",
      "173345     Monsieur                      Hayoz Thierry            2009\n",
      "181248     Monsieur                     Helfer Etienne            2009\n",
      "170239     Monsieur             Houdemer Charles-Henry            2009\n",
      "170827     Monsieur                    Jutzeler Arnaud            2009\n",
      "178433     Monsieur                  Leuenberger Johan            2009\n",
      "181298     Monsieur                       Lütolf Lukas            2009\n",
      "161930     Monsieur       Lunang Pomkam Auguste Carmen            2009\n",
      "167007     Monsieur                    Ly Papa Alioune            2009\n",
      "170224     Monsieur                   Margot Alexandre            2009\n",
      "181115     Monsieur  Miraglia Franco de Carvalho Pedro            2009\n",
      "180094     Monsieur                        Mirza Elias            2009\n",
      "171091     Monsieur                      Mortada Hamid            2009\n",
      "181017     Monsieur                      Nötzli Andres            2009\n",
      "179194     Monsieur                      Obrist Damien            2009\n",
      "171735     Monsieur                   Pache Christophe            2009\n",
      "176382     Monsieur     Pamingle Michael Maurice Roger            2009\n",
      "179670     Monsieur            Perrenoud Basile Samuel            2009\n",
      "179988       Madame                    Portmann Joëlle            2009\n",
      "180959     Monsieur                   Restani Stéphane            2009\n",
      "\n",
      "[100 rows x 3 columns]\n"
     ]
    }
   ],
   "source": [
    "#url = getFullUrl('2007-2008', 'Bachelor semestre 1')\n",
    "\n",
    "#with urllib.request.urlopen(url) as url:\n",
    "#    s = url.read()\n",
    "#soup = BeautifulSoup(s, 'html.parser')    \n",
    "#print(soup.prettify())\n",
    "#student_frame = pd.read_html(soup.prettify(), header=1)\n",
    "\n",
    "#frame = student_frame[0].drop(0,axis=0)\n",
    "#frame = frame[['Civilité', 'Nom Prénom', 'No Sciper']]\n",
    "\n",
    "## Load all student from that have started EPFL from 2007 in current_student data frame\n",
    "## and all students that have finished from 2007 in finished_student data frame\n",
    "\n",
    "current_student = pd.DataFrame(columns = ['Civilité', 'Nom Prénom', 'Starting year'])\n",
    "finished_student = pd.DataFrame(columns = ['Civilité', 'Nom Prénom', 'Finishing year'])\n",
    "\n",
    "\n",
    "for year in range(10):\n",
    "    current_year = 2007+year\n",
    "    year_string = str(current_year) + '-' + str(current_year+1)\n",
    "    \n",
    "    # Get the data from the appropriate url\n",
    "    current_url_B1 = getFullUrl(year_string, 'Bachelor semestre 1')\n",
    "    with urllib.request.urlopen(current_url_B1) as url:\n",
    "        html_B1 = url.read()\n",
    "    soup = BeautifulSoup(html_B1, 'html.parser')\n",
    "    \n",
    "    # Create the data frame only keeping relevant fields\n",
    "    student_frame_B1 = pd.read_html(soup.prettify(), header=1)\n",
    "    student_frame_B1 = student_frame_B1[0].drop(0,axis=0)\n",
    "    student_frame_B1 = student_frame_B1[['Civilité', 'Nom Prénom', 'No Sciper']]\n",
    "    student_frame_B1.index = student_frame_B1['No Sciper']\n",
    "    student_frame_B1 = student_frame_B1.drop('No Sciper', axis=1)\n",
    "    student_frame_B1['Starting year'] = current_year;\n",
    "    # Only keep students that are in their first 1st year\n",
    "    student_frame_B1 = student_frame_B1[[not (sciper in current_student.index) for sciper in student_frame_B1.index]]\n",
    "    current_student = pd.concat([current_student, student_frame_B1])\n",
    "    \n",
    "    # Get the data from the appropriate url\n",
    "    current_url_B6 = getFullUrl(year_string, 'Bachelor semestre 6')\n",
    "    with urllib.request.urlopen(current_url_B6) as url:\n",
    "        html_B6 = url.read()\n",
    "    soup = BeautifulSoup(html_B6, 'html.parser')\n",
    "    \n",
    "    # Create the data frame only keeping relevant fields\n",
    "    student_frame_B6 = pd.read_html(soup.prettify(), header=1)\n",
    "    student_frame_B6 = student_frame_B6[0].drop(0,axis=0)\n",
    "    student_frame_B6 = student_frame_B6[['Civilité', 'Nom Prénom', 'No Sciper']]\n",
    "    student_frame_B6.index = student_frame_B6['No Sciper']\n",
    "    student_frame_B6 = student_frame_B6.drop('No Sciper', axis=1)\n",
    "    # We replace students \n",
    "    current_student[[(sciper in finished_student_sciper) for sciper in current_student.index]]\n",
    "    finished_student = finished_student[[not (sciper in student_frame_B6.index) for sciper in  finished_student.index]]\n",
    "    student_frame_B6['Finishing year'] = current_year;\n",
    "    finished_student = pd.concat([finished_student, student_frame_B6])\n",
    "        \n",
    "#print(current_student.head(5))\n",
    "#print(current_student.tail(5))\n",
    "print(current_student.shape)\n",
    "print(current_student.index.is_unique)\n",
    "print(finished_student.index.is_unique)\n",
    "print(finished_student.head(100))\n",
    "#print(finished_student.tail(5))\n"
   ]
  },
  {
   "cell_type": "code",
   "execution_count": 78,
   "metadata": {
    "collapsed": false
   },
   "outputs": [
    {
     "name": "stdout",
     "output_type": "stream",
     "text": [
      "(1317, 3)\n",
      "(654, 3)\n",
      "(654,)\n",
      "(654, 3)\n",
      "False\n",
      "Int64Index([166701, 161279, 166344, 161634, 170451, 170219, 161814, 153762,\n",
      "            166548, 166746,\n",
      "            ...\n",
      "            247855, 227311, 245782, 247233, 225452, 250362, 235935, 247680,\n",
      "            246532, 247891],\n",
      "           dtype='int64', length=654)\n",
      "        Civilité                          Nom Prénom  Starting year\n",
      "174905  Monsieur                     Aubelle Flavien         2007.0\n",
      "179406  Monsieur                  Baeriswyl Jonathan         2007.0\n",
      "179428  Monsieur                     Barroco Michael         2007.0\n",
      "179449  Monsieur               Bindschaedler Vincent         2007.0\n",
      "178553  Monsieur                  Bloch Marc-Olivier         2007.0\n",
      "179426  Monsieur                          Bloch Remi         2007.0\n",
      "178271  Monsieur              Boéchat Marc-Alexandre         2007.0\n",
      "180731  Monsieur                Bricola Jean-Charles         2007.0\n",
      "171619  Monsieur                Buchschacher Nicolas         2007.0\n",
      "179157  Monsieur                      Calvert Thomas         2007.0\n",
      "178711  Monsieur                        Cino Emanuel         2007.0\n",
      "178786  Monsieur                        Coiro Andrea         2007.0\n",
      "178656  Monsieur                   Curreli Alexandre         2007.0\n",
      "178718  Monsieur                    Dal Mas Gianluca         2007.0\n",
      "178706    Madame                 Falbriard Stéphanie         2007.0\n",
      "181121  Monsieur                          Frund Loïc         2007.0\n",
      "175379  Monsieur                   Gremion Sébastien         2007.0\n",
      "180570  Monsieur                        Habfast Paul         2007.0\n",
      "178604  Monsieur                     Haefliger Roger         2007.0\n",
      "175190  Monsieur                     Hanser Valérian         2007.0\n",
      "181248  Monsieur                      Helfer Etienne         2007.0\n",
      "181244  Monsieur                      Jolidon Fabien         2007.0\n",
      "169731  Monsieur                      Knecht Mathieu         2007.0\n",
      "178433  Monsieur                   Leuenberger Johan         2007.0\n",
      "181298  Monsieur                        Lütolf Lukas         2007.0\n",
      "181076  Monsieur                      Martins Acacio         2007.0\n",
      "181115  Monsieur   Miraglia Franco de Carvalho Pedro         2007.0\n",
      "180094  Monsieur                         Mirza Elias         2007.0\n",
      "181017  Monsieur                       Nötzli Andres         2007.0\n",
      "179194  Monsieur                       Obrist Damien         2007.0\n",
      "...          ...                                 ...            ...\n",
      "228354  Monsieur                         Pires Lucas         2013.0\n",
      "238150  Monsieur                        Poma Florian         2013.0\n",
      "235014  Monsieur        Premi Max Charles-Yves Piotr         2013.0\n",
      "225691  Monsieur                   Rey Samuel Pierre         2013.0\n",
      "235350  Monsieur                       Rizzello Luca         2013.0\n",
      "236522  Monsieur                       Rosset Marius         2013.0\n",
      "235746  Monsieur            Soccard Aurélien Tristan         2013.0\n",
      "239124  Monsieur                     Tâche Guillaume         2013.0\n",
      "235117  Monsieur  Tournigand Guillaume Nicolas Louis         2013.0\n",
      "237151  Monsieur                Zbinden Boris Adrien         2013.0\n",
      "251759  Monsieur                   Alami-Idrissi Ali         2014.0\n",
      "249498  Monsieur                       Aoun Leonardo         2014.0\n",
      "234551  Monsieur            Bachmann Roman Christian         2014.0\n",
      "247328  Monsieur                Beck Johannes Magnus         2014.0\n",
      "251758  Monsieur                        Benlalah Ali         2014.0\n",
      "250300  Monsieur            Bovel Matthieu Alexandre         2014.0\n",
      "249954  Monsieur    Burgelin Clément Louis Alexandre         2014.0\n",
      "249996  Monsieur                Coudert Rémi Edouard         2014.0\n",
      "239489    Madame                     Evrova Gabriela         2014.0\n",
      "246663  Monsieur                 Haefeli Simon Lucas         2014.0\n",
      "245511  Monsieur                       Lamonato Yves         2014.0\n",
      "250703  Monsieur            Madillo Raphael Frederic         2014.0\n",
      "245512  Monsieur           Massemin Lucas Christophe         2014.0\n",
      "247855  Monsieur   Mösching Guillaume Edouard Albert         2014.0\n",
      "245782  Monsieur                      Perret Thibaud         2014.0\n",
      "247233  Monsieur                       Ramirez Lucas         2014.0\n",
      "250362  Monsieur              Rigori Valentin Joseph         2014.0\n",
      "247680  Monsieur                          Soufi Raja         2014.0\n",
      "246532  Monsieur               Vaucher Timoté Pascal         2014.0\n",
      "247891  Monsieur                      Weier Philippe         2014.0\n",
      "\n",
      "[393 rows x 3 columns]\n"
     ]
    }
   ],
   "source": [
    "finished_student_sciper = finished_student.index\n",
    "\n",
    "# Only keep students that started after 2007.\n",
    "finished_student_from_2007 = current_student.loc[finished_student_sciper]\n",
    "\n",
    "print(current_student.shape)\n",
    "print(finished_student.shape)\n",
    "print(finished_student_sciper.shape)\n",
    "print(finished_student_from_2007.shape)\n",
    "print(finished_student.index.is_unique)\n",
    "\n",
    "print(finished_student_sciper)\n",
    "\n",
    "#print(finished_student.duplicated, 'Nom Prénom')\n",
    "#print(finished_student)\n",
    "#print(finished_student[[gender.endswith('Madame') for gender in finished_student.Civilité]])\n",
    "\n",
    "print(current_student[[(sciper in finished_student_sciper) for sciper in current_student.index]])\n",
    "#data[[name.endswith('bacteria') for name in data.phylum] and data.value > 1000]\n",
    "\n"
   ]
  }
 ],
 "metadata": {
  "anaconda-cloud": {},
  "kernelspec": {
   "display_name": "Python [Root]",
   "language": "python",
   "name": "Python [Root]"
  },
  "language_info": {
   "codemirror_mode": {
    "name": "ipython",
    "version": 3
   },
   "file_extension": ".py",
   "mimetype": "text/x-python",
   "name": "python",
   "nbconvert_exporter": "python",
   "pygments_lexer": "ipython3",
   "version": "3.5.2"
  }
 },
 "nbformat": 4,
 "nbformat_minor": 0
}
