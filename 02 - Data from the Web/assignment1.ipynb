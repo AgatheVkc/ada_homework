{
 "cells": [
  {
   "cell_type": "markdown",
   "metadata": {},
   "source": [
    "# Homework 2 -Data from the Web"
   ]
  },
  {
   "cell_type": "markdown",
   "metadata": {},
   "source": [
    "Useful imports first"
   ]
  },
  {
   "cell_type": "code",
   "execution_count": null,
   "metadata": {
    "collapsed": false
   },
   "outputs": [],
   "source": [
    "from bs4 import BeautifulSoup\n",
    "import urllib.request\n",
    "import pandas as pd\n",
    "import html5lib \n",
    "from lxml import html\n",
    "import numpy as np"
   ]
  },
  {
   "cell_type": "markdown",
   "metadata": {},
   "source": [
    "We want to get first all the parameters that are possible, i.e. we will fill two dictionnaries, one with the year as index, and the \"value\" of the link associated to it (e.g. {'2016-2017': '355925344'}), and the same with the bachelor year and the \"value\" of the link associated to it.\n",
    "\n",
    "We do that in order to be able to extract all students from all possible years (2007-2016) and from all stages of the bachelor automatically later."
   ]
  },
  {
   "cell_type": "code",
   "execution_count": null,
   "metadata": {
    "collapsed": false
   },
   "outputs": [],
   "source": [
    "def home_url_options(html_soup) :\n",
    " \"\"\" \n",
    "     Given a soup object, extracts the value of the years and bachelor stages, and returns 3 dictionnaries\n",
    "     \n",
    "     @param html_soup :      soup given as input, from which the params will be extracted.\n",
    "     @return url_section :   a dictionnary with the value associated to the field 'Informatique'\n",
    "     @return url_years :     a dictionnary with the values associated to all the 'years' fields \n",
    "                             (we simply looked at everything starting with 20)\n",
    "     @return url_bachelor :  a dictionnary wiht the values associated to all the 'Bachelor' semester fields\n",
    " \"\"\"\n",
    " url_section = 0\n",
    " url_years = {}\n",
    " url_bachelor = {}\n",
    " #For loop on all the possible fields with <option> to get the value associated with each year, or each \"Bachelor\" semester\n",
    " for link in soup.find_all('option'):\n",
    "    if link.text == 'Informatique':\n",
    "        url_section = link.get('value')\n",
    "        \n",
    "    if \"20\" in link.text:\n",
    "        url_years[link.text] = link.get('value')\n",
    "        \n",
    "    if \"Bachelor\" in link.text:\n",
    "        url_bachelor[link.text] = link.get('value')\n",
    "  \n",
    " return url_section, url_years , url_bachelor"
   ]
  },
  {
   "cell_type": "markdown",
   "metadata": {},
   "source": [
    "We extract the fields from IS-Academia now."
   ]
  },
  {
   "cell_type": "code",
   "execution_count": null,
   "metadata": {
    "collapsed": false
   },
   "outputs": [],
   "source": [
    "# The URL of the \"start\" of the IS-Academia page listing the students.\n",
    "home_url = \"http://isa.epfl.ch/imoniteur_ISAP/!GEDPUBLICREPORTS.filter?ww_x_GPS=-1&ww_i_reportModel=133685247\"\n",
    "\n",
    "# The general form of the URL, with the fields to be replaced later (e.g. [UNITE_ACADEMIQUE])\n",
    "base_url = \"http://isa.epfl.ch/imoniteur_ISAP/!GEDPUBLICREPORTS.html?ww_x_GPS=-1&ww_i_reportModel=133685247&ww_i_reportModelXsl=133685270&ww_x_UNITE_ACAD=[UNITE_ACADEMIQUE]&ww_x_PERIODE_ACAD=[PERIODE_ACADEMIQUE]&ww_x_PERIODE_PEDAGO=[PERIODE_PEDAGOGIQUE]&ww_x_HIVERETE=null\"\n",
    "\n",
    "# Get the raw content from the page\n",
    "with urllib.request.urlopen(home_url) as url:\n",
    "    s = url.read()\n",
    "\n",
    "soup = BeautifulSoup(s, 'html.parser')\n",
    "\n",
    "# Parse the content\n",
    "\n",
    "url_section, url_years ,url_bachelor = home_url_options(soup)\n",
    "\n",
    "        \n",
    "print(url_years)\n",
    "print(url_bachelor)"
   ]
  },
  {
   "cell_type": "markdown",
   "metadata": {},
   "source": [
    "Function that replaces the general fields in the base_url with the fields for a given year and level of study"
   ]
  },
  {
   "cell_type": "code",
   "execution_count": null,
   "metadata": {
    "collapsed": false
   },
   "outputs": [],
   "source": [
    "def getFullUrl(PeriodeAcad, PeriodePedag):\n",
    "    \"\"\"\n",
    "    Given an academic period (years) and a pedagogic period (bachelor semester), \n",
    "    fills the general URL with the values associated to those parameters.\n",
    "    \n",
    "    @param PeriodeAcad :  Academic year string, in the form ('2015-2016')\n",
    "    @param PeriodePedag : Pedagogic period string, in the form ('Bachelor x')\n",
    "    @return url :         The complete url associated to those period, from which we can fetch the students.\n",
    "    \n",
    "    \"\"\"\n",
    "    url = base_url\n",
    "    url = url.replace('[UNITE_ACADEMIQUE]', str(url_section))\n",
    "    url = url.replace('[PERIODE_ACADEMIQUE]', str(url_years[PeriodeAcad]))\n",
    "    url = url.replace('[PERIODE_PEDAGOGIQUE]', str(url_bachelor[PeriodePedag]))\n",
    "    return url\n",
    "\n",
    "print(getFullUrl('2007-2008', 'Bachelor semestre 1'))\n"
   ]
  },
  {
   "cell_type": "markdown",
   "metadata": {},
   "source": [
    "### Reasoning\n",
    "- We are interested only in the students that started between **2008-2010**, in order to be sure that they will have completed their bachelor studies before or in 2016 (even if they take 6 years to do it). It avoids our results getting biased by students actually still in studies (e.g. if we count students from 2013, we would only count students who finished their bachelor in 3 years, not actually those still in studies).\n",
    "- In order to have to minimize our bias, we will also have to check the records from the year 2006-2007,in order to verify whether the students actually are starting their studies in 2007-2008 or have already failed first year once before. \n",
    "- We also assume that the bachelor 6 is the semester where someone ends his bachelor. We neglect the people returning to bachelor 5 in order to finish some courses then moving onto the master.\n",
    "*We will then have only the students starting from **2008-2010** in our starting dataFrame, and will consider students ending from 2011 (i.e. they will have done at least 2008-2009, 2009-2010, 2010-2011).*"
   ]
  },
  {
   "cell_type": "code",
   "execution_count": null,
   "metadata": {
    "collapsed": true
   },
   "outputs": [],
   "source": [
    "# defining our constants.\n",
    "STARTING_YEAR_LOW = 2008\n",
    "STARTING_YEAR_HIGH = 2010\n",
    "\n",
    "FINISHING_YEAR_LOW = 2011\n",
    "FINISHING_YEAR_HIGH= 2016"
   ]
  },
  {
   "cell_type": "code",
   "execution_count": null,
   "metadata": {
    "collapsed": false
   },
   "outputs": [],
   "source": [
    "def YearEvent(year_string, bachelor,column) :\n",
    "    \"\"\"\n",
    "    Reads the student from a given year, bachelor semester, and stores the year into the column named \"column\",\n",
    "    returns the formatted DataFrame so we can immediately use it afterwards.\n",
    "    @param year_string :    the year (e.g. '2011-2012') from which we get the students\n",
    "    @param bachelor :       the Bachelor semester from which we fetch the students\n",
    "    @param column :         the way we name the column \n",
    "    @return student_frame : the DataFrame containing the students, their sex, name,\n",
    "                            and Sciper number as index along with their 'Starting/Finishing' year.\n",
    "    \"\"\"\n",
    "  # Get the data from the appropriate url -> the URL describing the students in first semester\n",
    "    current_url = getFullUrl(year_string, bachelor)\n",
    "    with urllib.request.urlopen(current_url) as url:\n",
    "        html = url.read()\n",
    "    soup = BeautifulSoup(html, 'html.parser')\n",
    "    \n",
    "    # Create the data frame only keeping relevant fields\n",
    "    student_frame = pd.read_html(soup.prettify(), header=1)\n",
    "    student_frame = student_frame[0].drop(0,axis=0)\n",
    "    student_frame = student_frame[['Civilité', 'Nom Prénom', 'No Sciper']]\n",
    "    student_frame = student_frame.set_index('No Sciper')\n",
    "    student_frame[column] = int(year); \n",
    "    return student_frame"
   ]
  },
  {
   "cell_type": "code",
   "execution_count": null,
   "metadata": {
    "collapsed": false
   },
   "outputs": [],
   "source": [
    "## Load all student from that have started EPFL from 2007 in current_student DataFrame\n",
    "# We set the Sciper as index, as it is uniquely identifying each student.\n",
    "\n",
    "event_year = 'Starting year'\n",
    "event_bachelor = 'Bachelor semestre 1'\n",
    "\n",
    "current_student = pd.DataFrame(columns = ['Civilité', 'Nom Prénom', event_year])\n",
    "current_student[event_year]= current_student[event_year].astype(int)\n",
    "current_student.index.name = 'No Sciper'\n",
    "\n",
    "# We iterate over 3 years : 2008,2009,2010 -> We make sure the students all will have finished by 2016,\n",
    "# as doing a bachelor can take only up to 6 years.\n",
    "for year in range(STARTING_YEAR_LOW,STARTING_YEAR_HIGH+1):\n",
    "    year_string = str(year) + '-' + str(year+1)\n",
    "    student_frame_B1 = YearEvent(year_string,event_bachelor,event_year)\n",
    "    # Only keep students that are in their first 1st year\n",
    "    student_frame_B1 = student_frame_B1[[not (sciper in current_student.index) for sciper in student_frame_B1.index]]\n",
    "    \n",
    "    current_student = pd.concat([current_student, student_frame_B1])\n",
    "current_student.head()"
   ]
  },
  {
   "cell_type": "markdown",
   "metadata": {},
   "source": [
    " We now check for all students starting in 2008 whether they have previously failed in year 2007-2008 (i.e. we make sure if this is their first first year or whether it is the second one). If so, we change their starting year to the oldest one."
   ]
  },
  {
   "cell_type": "code",
   "execution_count": null,
   "metadata": {
    "collapsed": false
   },
   "outputs": [],
   "source": [
    "#Get the year url previous to the first year.\n",
    "year_string = str(STARTING_YEAR_LOW-1) + '-' + str(STARTING_YEAR_LOW)\n",
    "\n",
    "# Get the data from the URL describing the students in first semester in 2007\n",
    "url_B1_previous = getFullUrl(year_string, 'Bachelor semestre 1')\n",
    "with urllib.request.urlopen(url_B1_previous) as url:\n",
    "    html_B1_previous = url.read()\n",
    "soup = BeautifulSoup(html_B1_previous, 'html.parser')\n",
    "\n",
    "student_frame_B1_previous = pd.read_html(soup.prettify(), header=1)\n",
    "\n",
    "#We only keep the scipers, these are the only data we need as they are the indices of the current_student DataFrame\n",
    "sciper_student_previous = np.array(student_frame_B1_previous[0]['No Sciper'])\n",
    "\n",
    "#We change the starting year of the students who started in the earlier year\n",
    "current_student.loc[current_student.index.isin(sciper_student_previous), 'Starting year'] = 2007\n",
    "\n",
    "print('Is the index unique :', current_student.index.is_unique)\n",
    "print(current_student.sort_values(ascending=True, by = 'Starting year').head(20))"
   ]
  },
  {
   "cell_type": "markdown",
   "metadata": {},
   "source": [
    "We see that we get the students starting in 2007 but failed the first year and hence are shown here with starting year 2007."
   ]
  },
  {
   "cell_type": "markdown",
   "metadata": {},
   "source": [
    "We now apply roughly the same process to the finishing year of bachelor"
   ]
  },
  {
   "cell_type": "code",
   "execution_count": null,
   "metadata": {
    "collapsed": false
   },
   "outputs": [],
   "source": [
    "event_year = 'Finishing year'\n",
    "event_bachelor = 'Bachelor semestre 6'\n",
    "\n",
    "finished_student = pd.DataFrame(columns = ['Civilité', 'Nom Prénom', 'Finishing year'])\n",
    "finished_student[event_year]= finished_student[event_year].astype(int)\n",
    "finished_student.index.name = 'No Sciper'\n",
    "\n",
    "\n",
    "for year in range(FINISHING_YEAR_LOW,FINISHING_YEAR_HIGH+1):\n",
    "    year_string = str(year-1) + '-' + str(year)\n",
    "    student_frame_B6 = YearEvent(year_string,event_bachelor,event_year)\n",
    "\n",
    "    # If we find a duplicate into the finished_student array, i.e. a student that was already in bachelor 6\n",
    "    # the year before, it means that he failed his year and that we need to update his finishing year\n",
    "    finished_student = finished_student[[not (sciper in student_frame_B6.index) for sciper in  finished_student.index]]    \n",
    "    finished_student = pd.concat([finished_student, student_frame_B6])\n",
    "print('Is the index unique: ', finished_student.index.is_unique)\n",
    "\n",
    "finished_student.head(10)"
   ]
  },
  {
   "cell_type": "markdown",
   "metadata": {},
   "source": [
    "## Assignment 1\n",
    "\n",
    "*Obtain all the data for the Bachelor students, starting from 2007. Keep only the students for which you have an entry for both `Bachelor semestre 1` and `Bachelor semestre 6`. Compute how many months it took each student to go from the first to the sixth semester. Partition the data between male and female students, and compute the average -- is the difference in average statistically significant?*"
   ]
  },
  {
   "cell_type": "markdown",
   "metadata": {},
   "source": [
    "Note that we **assume here that a student reaching bachelor 6 and disappearing after in the dataset has successfully completed his bachelor**, as there is absolutely no way to be sure he actually did so. We cannot check the first master year because he might change section/university, ... "
   ]
  },
  {
   "cell_type": "code",
   "execution_count": null,
   "metadata": {
    "collapsed": false,
    "scrolled": true
   },
   "outputs": [],
   "source": [
    "# Merge the two dataFrames so we get all the students that started and finished. \n",
    "\n",
    "# The number of dropouts could be computed by taking the difference between everyone that \n",
    "# entered in first year and does not appear at the end (Note that we wouldn't count the people who changed their section).\n",
    "sample_student = pd.merge(current_student, finished_student)\n",
    "\n",
    "#Compute the duration it took to complete the bachelor and group by sex, then compute the average.\n",
    "sample_student['Bachelor duration'] = sample_student['Finishing year']-sample_student['Starting year']\n",
    "\n",
    "#There is yet to conclude whether it is statistically significant or not.\n",
    "\n",
    "sample_student.head(10)"
   ]
  },
  {
   "cell_type": "markdown",
   "metadata": {},
   "source": [
    "We know see the result of our statistical set. We perform a **Two-Sample T-Test** because we want to establish whether the difference in average of our two independent groups (the duration of the bachelor for men and women) is significant or not. The null hypothesis means that both groups are the same."
   ]
  },
  {
   "cell_type": "code",
   "execution_count": null,
   "metadata": {
    "collapsed": false
   },
   "outputs": [],
   "source": [
    "# Statistical test\n",
    "import scipy.stats as stats\n",
    "import math\n",
    "\n",
    "#current_student.loc[current_student.index.isin(sciper_student_2007), 'Starting year']\n",
    "\n",
    "#We split our DataFrames into one for the men, one for the women.\n",
    "men_student = sample_student.loc[sample_student['Civilité']=='Monsieur']\n",
    "women_student = sample_student.loc[sample_student['Civilité']=='Madame']\n",
    "\n",
    "print('\\nMen bachelor duration', round(men_student.loc[:,'Bachelor duration'].mean(),3), '+-', round(men_student.loc[:,'Bachelor duration'].std(),3))\n",
    "print('Women bachelor duration',round(women_student.loc[:,'Bachelor duration'].mean(),3),'+-',round(women_student.loc[:,'Bachelor duration'].std(),3))\n",
    "print('Number of women graduating  :',women_student.shape[0])\n",
    "\n",
    "# Perform the statistical test\n",
    "stats.ttest_ind(a= np.array(women_student.loc[:,'Bachelor duration']),\n",
    "                b= np.array(men_student.loc[:,'Bachelor duration']),\n",
    "                equal_var=False)    # Assume samples have equal variance?"
   ]
  },
  {
   "cell_type": "markdown",
   "metadata": {},
   "source": [
    "We printed first the mean $\\pm$ the standard deviation, and see that it is quite different for our two samples. We set then `equal_var` to `False`. We see then our p-value to be $1\\%$, so it means that the difference in the average is statistically significant. \n",
    "\n",
    "Note that due to the fact that we have very few women (only 9 graduated from bachelor in those years from our data!). This is due to our quite strict filtering. Even if the p-value yields that our result is very significant statistically, we must still handle it with care before jumping to conclusions, as it rests on many assumptions."
   ]
  }
 ],
 "metadata": {
  "anaconda-cloud": {},
  "kernelspec": {
   "display_name": "Python [conda root]",
   "language": "python",
   "name": "conda-root-py"
  },
  "language_info": {
   "codemirror_mode": {
    "name": "ipython",
    "version": 3
   },
   "file_extension": ".py",
   "mimetype": "text/x-python",
   "name": "python",
   "nbconvert_exporter": "python",
   "pygments_lexer": "ipython3",
   "version": "3.5.2"
  }
 },
 "nbformat": 4,
 "nbformat_minor": 0
}
