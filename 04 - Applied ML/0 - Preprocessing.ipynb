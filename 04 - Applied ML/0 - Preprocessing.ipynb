{
 "cells": [
  {
   "cell_type": "code",
   "execution_count": 1,
   "metadata": {
    "collapsed": false
   },
   "outputs": [],
   "source": [
    "# Import Libraries\n",
    "import pandas as pd\n",
    "import numpy as np\n",
    "import os\n",
    "import matplotlib.pyplot as plt\n",
    "\n",
    "%matplotlib inline\n",
    "%load_ext autoreload\n",
    "%autoreload 2\n",
    "\n",
    "# There's a lot of columns in the DF. \n",
    "# Therefore, we add this option so that we can see more columns\n",
    "pd.options.display.max_columns = 100"
   ]
  },
  {
   "cell_type": "markdown",
   "metadata": {},
   "source": [
    "# Data Preprocessing\n",
    "\n",
    "In this notebook, we will perform some cleaning and analysis of the data before applying the Machine Learning algorithm. \n",
    "\n",
    "First, let us load the data."
   ]
  },
  {
   "cell_type": "code",
   "execution_count": 2,
   "metadata": {
    "collapsed": false
   },
   "outputs": [
    {
     "data": {
      "text/html": [
       "<div>\n",
       "<table border=\"1\" class=\"dataframe\">\n",
       "  <thead>\n",
       "    <tr style=\"text-align: right;\">\n",
       "      <th></th>\n",
       "      <th>playerShort</th>\n",
       "      <th>player</th>\n",
       "      <th>club</th>\n",
       "      <th>leagueCountry</th>\n",
       "      <th>birthday</th>\n",
       "      <th>height</th>\n",
       "      <th>weight</th>\n",
       "      <th>position</th>\n",
       "      <th>games</th>\n",
       "      <th>victories</th>\n",
       "      <th>ties</th>\n",
       "      <th>defeats</th>\n",
       "      <th>goals</th>\n",
       "      <th>yellowCards</th>\n",
       "      <th>yellowReds</th>\n",
       "      <th>redCards</th>\n",
       "      <th>photoID</th>\n",
       "      <th>rater1</th>\n",
       "      <th>rater2</th>\n",
       "      <th>refNum</th>\n",
       "      <th>refCountry</th>\n",
       "      <th>Alpha_3</th>\n",
       "      <th>meanIAT</th>\n",
       "      <th>nIAT</th>\n",
       "      <th>seIAT</th>\n",
       "      <th>meanExp</th>\n",
       "      <th>nExp</th>\n",
       "      <th>seExp</th>\n",
       "    </tr>\n",
       "  </thead>\n",
       "  <tbody>\n",
       "    <tr>\n",
       "      <th>0</th>\n",
       "      <td>lucas-wilchez</td>\n",
       "      <td>Lucas Wilchez</td>\n",
       "      <td>Real Zaragoza</td>\n",
       "      <td>Spain</td>\n",
       "      <td>31.08.1983</td>\n",
       "      <td>177.0</td>\n",
       "      <td>72.0</td>\n",
       "      <td>Attacking Midfielder</td>\n",
       "      <td>1</td>\n",
       "      <td>0</td>\n",
       "      <td>0</td>\n",
       "      <td>1</td>\n",
       "      <td>0</td>\n",
       "      <td>0</td>\n",
       "      <td>0</td>\n",
       "      <td>0</td>\n",
       "      <td>95212.jpg</td>\n",
       "      <td>0.25</td>\n",
       "      <td>0.50</td>\n",
       "      <td>1</td>\n",
       "      <td>1</td>\n",
       "      <td>GRC</td>\n",
       "      <td>0.326391</td>\n",
       "      <td>712.0</td>\n",
       "      <td>0.000564</td>\n",
       "      <td>0.396000</td>\n",
       "      <td>750.0</td>\n",
       "      <td>0.002696</td>\n",
       "    </tr>\n",
       "    <tr>\n",
       "      <th>1</th>\n",
       "      <td>john-utaka</td>\n",
       "      <td>John Utaka</td>\n",
       "      <td>Montpellier HSC</td>\n",
       "      <td>France</td>\n",
       "      <td>08.01.1982</td>\n",
       "      <td>179.0</td>\n",
       "      <td>82.0</td>\n",
       "      <td>Right Winger</td>\n",
       "      <td>1</td>\n",
       "      <td>0</td>\n",
       "      <td>0</td>\n",
       "      <td>1</td>\n",
       "      <td>0</td>\n",
       "      <td>1</td>\n",
       "      <td>0</td>\n",
       "      <td>0</td>\n",
       "      <td>1663.jpg</td>\n",
       "      <td>0.75</td>\n",
       "      <td>0.75</td>\n",
       "      <td>2</td>\n",
       "      <td>2</td>\n",
       "      <td>ZMB</td>\n",
       "      <td>0.203375</td>\n",
       "      <td>40.0</td>\n",
       "      <td>0.010875</td>\n",
       "      <td>-0.204082</td>\n",
       "      <td>49.0</td>\n",
       "      <td>0.061504</td>\n",
       "    </tr>\n",
       "    <tr>\n",
       "      <th>2</th>\n",
       "      <td>abdon-prats</td>\n",
       "      <td>Abdón Prats</td>\n",
       "      <td>RCD Mallorca</td>\n",
       "      <td>Spain</td>\n",
       "      <td>17.12.1992</td>\n",
       "      <td>181.0</td>\n",
       "      <td>79.0</td>\n",
       "      <td>NaN</td>\n",
       "      <td>1</td>\n",
       "      <td>0</td>\n",
       "      <td>1</td>\n",
       "      <td>0</td>\n",
       "      <td>0</td>\n",
       "      <td>1</td>\n",
       "      <td>0</td>\n",
       "      <td>0</td>\n",
       "      <td>NaN</td>\n",
       "      <td>NaN</td>\n",
       "      <td>NaN</td>\n",
       "      <td>3</td>\n",
       "      <td>3</td>\n",
       "      <td>ESP</td>\n",
       "      <td>0.369894</td>\n",
       "      <td>1785.0</td>\n",
       "      <td>0.000229</td>\n",
       "      <td>0.588297</td>\n",
       "      <td>1897.0</td>\n",
       "      <td>0.001002</td>\n",
       "    </tr>\n",
       "    <tr>\n",
       "      <th>3</th>\n",
       "      <td>pablo-mari</td>\n",
       "      <td>Pablo Marí</td>\n",
       "      <td>RCD Mallorca</td>\n",
       "      <td>Spain</td>\n",
       "      <td>31.08.1993</td>\n",
       "      <td>191.0</td>\n",
       "      <td>87.0</td>\n",
       "      <td>Center Back</td>\n",
       "      <td>1</td>\n",
       "      <td>1</td>\n",
       "      <td>0</td>\n",
       "      <td>0</td>\n",
       "      <td>0</td>\n",
       "      <td>0</td>\n",
       "      <td>0</td>\n",
       "      <td>0</td>\n",
       "      <td>NaN</td>\n",
       "      <td>NaN</td>\n",
       "      <td>NaN</td>\n",
       "      <td>3</td>\n",
       "      <td>3</td>\n",
       "      <td>ESP</td>\n",
       "      <td>0.369894</td>\n",
       "      <td>1785.0</td>\n",
       "      <td>0.000229</td>\n",
       "      <td>0.588297</td>\n",
       "      <td>1897.0</td>\n",
       "      <td>0.001002</td>\n",
       "    </tr>\n",
       "    <tr>\n",
       "      <th>4</th>\n",
       "      <td>ruben-pena</td>\n",
       "      <td>Rubén Peña</td>\n",
       "      <td>Real Valladolid</td>\n",
       "      <td>Spain</td>\n",
       "      <td>18.07.1991</td>\n",
       "      <td>172.0</td>\n",
       "      <td>70.0</td>\n",
       "      <td>Right Midfielder</td>\n",
       "      <td>1</td>\n",
       "      <td>1</td>\n",
       "      <td>0</td>\n",
       "      <td>0</td>\n",
       "      <td>0</td>\n",
       "      <td>0</td>\n",
       "      <td>0</td>\n",
       "      <td>0</td>\n",
       "      <td>NaN</td>\n",
       "      <td>NaN</td>\n",
       "      <td>NaN</td>\n",
       "      <td>3</td>\n",
       "      <td>3</td>\n",
       "      <td>ESP</td>\n",
       "      <td>0.369894</td>\n",
       "      <td>1785.0</td>\n",
       "      <td>0.000229</td>\n",
       "      <td>0.588297</td>\n",
       "      <td>1897.0</td>\n",
       "      <td>0.001002</td>\n",
       "    </tr>\n",
       "    <tr>\n",
       "      <th>5</th>\n",
       "      <td>aaron-hughes</td>\n",
       "      <td>Aaron Hughes</td>\n",
       "      <td>Fulham FC</td>\n",
       "      <td>England</td>\n",
       "      <td>08.11.1979</td>\n",
       "      <td>182.0</td>\n",
       "      <td>71.0</td>\n",
       "      <td>Center Back</td>\n",
       "      <td>1</td>\n",
       "      <td>0</td>\n",
       "      <td>0</td>\n",
       "      <td>1</td>\n",
       "      <td>0</td>\n",
       "      <td>0</td>\n",
       "      <td>0</td>\n",
       "      <td>0</td>\n",
       "      <td>3868.jpg</td>\n",
       "      <td>0.25</td>\n",
       "      <td>0.00</td>\n",
       "      <td>4</td>\n",
       "      <td>4</td>\n",
       "      <td>LUX</td>\n",
       "      <td>0.325185</td>\n",
       "      <td>127.0</td>\n",
       "      <td>0.003297</td>\n",
       "      <td>0.538462</td>\n",
       "      <td>130.0</td>\n",
       "      <td>0.013752</td>\n",
       "    </tr>\n",
       "    <tr>\n",
       "      <th>6</th>\n",
       "      <td>aleksandar-kolarov</td>\n",
       "      <td>Aleksandar Kolarov</td>\n",
       "      <td>Manchester City</td>\n",
       "      <td>England</td>\n",
       "      <td>10.11.1985</td>\n",
       "      <td>187.0</td>\n",
       "      <td>80.0</td>\n",
       "      <td>Left Fullback</td>\n",
       "      <td>1</td>\n",
       "      <td>1</td>\n",
       "      <td>0</td>\n",
       "      <td>0</td>\n",
       "      <td>0</td>\n",
       "      <td>0</td>\n",
       "      <td>0</td>\n",
       "      <td>0</td>\n",
       "      <td>47704.jpg</td>\n",
       "      <td>0.00</td>\n",
       "      <td>0.25</td>\n",
       "      <td>4</td>\n",
       "      <td>4</td>\n",
       "      <td>LUX</td>\n",
       "      <td>0.325185</td>\n",
       "      <td>127.0</td>\n",
       "      <td>0.003297</td>\n",
       "      <td>0.538462</td>\n",
       "      <td>130.0</td>\n",
       "      <td>0.013752</td>\n",
       "    </tr>\n",
       "    <tr>\n",
       "      <th>7</th>\n",
       "      <td>alexander-tettey</td>\n",
       "      <td>Alexander Tettey</td>\n",
       "      <td>Norwich City</td>\n",
       "      <td>England</td>\n",
       "      <td>04.04.1986</td>\n",
       "      <td>180.0</td>\n",
       "      <td>68.0</td>\n",
       "      <td>Defensive Midfielder</td>\n",
       "      <td>1</td>\n",
       "      <td>0</td>\n",
       "      <td>0</td>\n",
       "      <td>1</td>\n",
       "      <td>0</td>\n",
       "      <td>0</td>\n",
       "      <td>0</td>\n",
       "      <td>0</td>\n",
       "      <td>22356.jpg</td>\n",
       "      <td>1.00</td>\n",
       "      <td>1.00</td>\n",
       "      <td>4</td>\n",
       "      <td>4</td>\n",
       "      <td>LUX</td>\n",
       "      <td>0.325185</td>\n",
       "      <td>127.0</td>\n",
       "      <td>0.003297</td>\n",
       "      <td>0.538462</td>\n",
       "      <td>130.0</td>\n",
       "      <td>0.013752</td>\n",
       "    </tr>\n",
       "    <tr>\n",
       "      <th>8</th>\n",
       "      <td>anders-lindegaard</td>\n",
       "      <td>Anders Lindegaard</td>\n",
       "      <td>Manchester United</td>\n",
       "      <td>England</td>\n",
       "      <td>13.04.1984</td>\n",
       "      <td>193.0</td>\n",
       "      <td>80.0</td>\n",
       "      <td>Goalkeeper</td>\n",
       "      <td>1</td>\n",
       "      <td>0</td>\n",
       "      <td>1</td>\n",
       "      <td>0</td>\n",
       "      <td>0</td>\n",
       "      <td>0</td>\n",
       "      <td>0</td>\n",
       "      <td>0</td>\n",
       "      <td>16528.jpg</td>\n",
       "      <td>0.25</td>\n",
       "      <td>0.25</td>\n",
       "      <td>4</td>\n",
       "      <td>4</td>\n",
       "      <td>LUX</td>\n",
       "      <td>0.325185</td>\n",
       "      <td>127.0</td>\n",
       "      <td>0.003297</td>\n",
       "      <td>0.538462</td>\n",
       "      <td>130.0</td>\n",
       "      <td>0.013752</td>\n",
       "    </tr>\n",
       "    <tr>\n",
       "      <th>9</th>\n",
       "      <td>andreas-beck</td>\n",
       "      <td>Andreas Beck</td>\n",
       "      <td>1899 Hoffenheim</td>\n",
       "      <td>Germany</td>\n",
       "      <td>13.03.1987</td>\n",
       "      <td>180.0</td>\n",
       "      <td>70.0</td>\n",
       "      <td>Right Fullback</td>\n",
       "      <td>1</td>\n",
       "      <td>1</td>\n",
       "      <td>0</td>\n",
       "      <td>0</td>\n",
       "      <td>0</td>\n",
       "      <td>0</td>\n",
       "      <td>0</td>\n",
       "      <td>0</td>\n",
       "      <td>36499.jpg</td>\n",
       "      <td>0.00</td>\n",
       "      <td>0.00</td>\n",
       "      <td>4</td>\n",
       "      <td>4</td>\n",
       "      <td>LUX</td>\n",
       "      <td>0.325185</td>\n",
       "      <td>127.0</td>\n",
       "      <td>0.003297</td>\n",
       "      <td>0.538462</td>\n",
       "      <td>130.0</td>\n",
       "      <td>0.013752</td>\n",
       "    </tr>\n",
       "  </tbody>\n",
       "</table>\n",
       "</div>"
      ],
      "text/plain": [
       "          playerShort              player               club leagueCountry  \\\n",
       "0       lucas-wilchez       Lucas Wilchez      Real Zaragoza         Spain   \n",
       "1          john-utaka          John Utaka    Montpellier HSC        France   \n",
       "2         abdon-prats         Abdón Prats       RCD Mallorca         Spain   \n",
       "3          pablo-mari          Pablo Marí       RCD Mallorca         Spain   \n",
       "4          ruben-pena          Rubén Peña    Real Valladolid         Spain   \n",
       "5        aaron-hughes        Aaron Hughes          Fulham FC       England   \n",
       "6  aleksandar-kolarov  Aleksandar Kolarov    Manchester City       England   \n",
       "7    alexander-tettey    Alexander Tettey       Norwich City       England   \n",
       "8   anders-lindegaard   Anders Lindegaard  Manchester United       England   \n",
       "9        andreas-beck        Andreas Beck    1899 Hoffenheim       Germany   \n",
       "\n",
       "     birthday  height  weight              position  games  victories  ties  \\\n",
       "0  31.08.1983   177.0    72.0  Attacking Midfielder      1          0     0   \n",
       "1  08.01.1982   179.0    82.0          Right Winger      1          0     0   \n",
       "2  17.12.1992   181.0    79.0                   NaN      1          0     1   \n",
       "3  31.08.1993   191.0    87.0           Center Back      1          1     0   \n",
       "4  18.07.1991   172.0    70.0      Right Midfielder      1          1     0   \n",
       "5  08.11.1979   182.0    71.0           Center Back      1          0     0   \n",
       "6  10.11.1985   187.0    80.0         Left Fullback      1          1     0   \n",
       "7  04.04.1986   180.0    68.0  Defensive Midfielder      1          0     0   \n",
       "8  13.04.1984   193.0    80.0            Goalkeeper      1          0     1   \n",
       "9  13.03.1987   180.0    70.0        Right Fullback      1          1     0   \n",
       "\n",
       "   defeats  goals  yellowCards  yellowReds  redCards    photoID  rater1  \\\n",
       "0        1      0            0           0         0  95212.jpg    0.25   \n",
       "1        1      0            1           0         0   1663.jpg    0.75   \n",
       "2        0      0            1           0         0        NaN     NaN   \n",
       "3        0      0            0           0         0        NaN     NaN   \n",
       "4        0      0            0           0         0        NaN     NaN   \n",
       "5        1      0            0           0         0   3868.jpg    0.25   \n",
       "6        0      0            0           0         0  47704.jpg    0.00   \n",
       "7        1      0            0           0         0  22356.jpg    1.00   \n",
       "8        0      0            0           0         0  16528.jpg    0.25   \n",
       "9        0      0            0           0         0  36499.jpg    0.00   \n",
       "\n",
       "   rater2  refNum  refCountry Alpha_3   meanIAT    nIAT     seIAT   meanExp  \\\n",
       "0    0.50       1           1     GRC  0.326391   712.0  0.000564  0.396000   \n",
       "1    0.75       2           2     ZMB  0.203375    40.0  0.010875 -0.204082   \n",
       "2     NaN       3           3     ESP  0.369894  1785.0  0.000229  0.588297   \n",
       "3     NaN       3           3     ESP  0.369894  1785.0  0.000229  0.588297   \n",
       "4     NaN       3           3     ESP  0.369894  1785.0  0.000229  0.588297   \n",
       "5    0.00       4           4     LUX  0.325185   127.0  0.003297  0.538462   \n",
       "6    0.25       4           4     LUX  0.325185   127.0  0.003297  0.538462   \n",
       "7    1.00       4           4     LUX  0.325185   127.0  0.003297  0.538462   \n",
       "8    0.25       4           4     LUX  0.325185   127.0  0.003297  0.538462   \n",
       "9    0.00       4           4     LUX  0.325185   127.0  0.003297  0.538462   \n",
       "\n",
       "     nExp     seExp  \n",
       "0   750.0  0.002696  \n",
       "1    49.0  0.061504  \n",
       "2  1897.0  0.001002  \n",
       "3  1897.0  0.001002  \n",
       "4  1897.0  0.001002  \n",
       "5   130.0  0.013752  \n",
       "6   130.0  0.013752  \n",
       "7   130.0  0.013752  \n",
       "8   130.0  0.013752  \n",
       "9   130.0  0.013752  "
      ]
     },
     "execution_count": 2,
     "metadata": {},
     "output_type": "execute_result"
    }
   ],
   "source": [
    "df = pd.read_csv('./Data/CrowdstormingDataJuly1st.csv')\n",
    "df.head(10)"
   ]
  },
  {
   "cell_type": "markdown",
   "metadata": {},
   "source": [
    "The data description, which is the `Data.md` file in the `Data` folder, tells us that we are working on \n",
    "> a dataset of player–referee dyads including the number of matches players and referees encountered each other and our dependent variable, the number of red cards given to a player by a particular referee throughout all matches the two encountered each other.\n",
    "\n",
    "A dyad between a player and a referee simply means the interaction between a player and a referee. \n",
    "\n",
    "\n",
    "## 1. Cleaning the NaNs values for the colours of players\n",
    "\n",
    "We want to see the number of entries in the Dataframe before starting to clean the DataFrame."
   ]
  },
  {
   "cell_type": "code",
   "execution_count": 3,
   "metadata": {
    "collapsed": false,
    "scrolled": true
   },
   "outputs": [
    {
     "name": "stdout",
     "output_type": "stream",
     "text": [
      "(146028, 28)\n"
     ]
    }
   ],
   "source": [
    "df_size_init = df.shape\n",
    "print(df_size_init)"
   ]
  },
  {
   "cell_type": "markdown",
   "metadata": {},
   "source": [
    "The first step we want to take is to remove all the players from which the skin column was not identified, i.e. the ones who have NaN entries in the *rater1* and *rater2* columns, which measures the darkness of the skin color."
   ]
  },
  {
   "cell_type": "code",
   "execution_count": 4,
   "metadata": {
    "collapsed": false
   },
   "outputs": [
    {
     "name": "stdout",
     "output_type": "stream",
     "text": [
      "(124621, 28)\n"
     ]
    }
   ],
   "source": [
    "df = df.dropna(subset=['rater1', 'rater2'])\n",
    "print(df.shape)"
   ]
  },
  {
   "cell_type": "markdown",
   "metadata": {},
   "source": [
    "We see now that we dropped already quite some entries."
   ]
  },
  {
   "cell_type": "code",
   "execution_count": 5,
   "metadata": {
    "collapsed": false
   },
   "outputs": [
    {
     "data": {
      "text/plain": [
       "21407"
      ]
     },
     "execution_count": 5,
     "metadata": {},
     "output_type": "execute_result"
    }
   ],
   "source": [
    "df_size_init[0] - df.shape[0]"
   ]
  },
  {
   "cell_type": "code",
   "execution_count": 6,
   "metadata": {
    "collapsed": false,
    "scrolled": true
   },
   "outputs": [
    {
     "data": {
      "text/plain": [
       "playerShort      False\n",
       "player           False\n",
       "club             False\n",
       "leagueCountry    False\n",
       "birthday         False\n",
       "height            True\n",
       "weight            True\n",
       "position          True\n",
       "games            False\n",
       "victories        False\n",
       "ties             False\n",
       "defeats          False\n",
       "goals            False\n",
       "yellowCards      False\n",
       "yellowReds       False\n",
       "redCards         False\n",
       "photoID          False\n",
       "rater1           False\n",
       "rater2           False\n",
       "refNum           False\n",
       "refCountry       False\n",
       "Alpha_3           True\n",
       "meanIAT           True\n",
       "nIAT              True\n",
       "seIAT             True\n",
       "meanExp           True\n",
       "nExp              True\n",
       "seExp             True\n",
       "dtype: bool"
      ]
     },
     "execution_count": 6,
     "metadata": {},
     "output_type": "execute_result"
    }
   ],
   "source": [
    "# Check for other null values\n",
    "df.isnull().any()"
   ]
  },
  {
   "cell_type": "markdown",
   "metadata": {},
   "source": [
    "There are still quite few entries that have null values, and we want to assess if they are correlated in any fashion."
   ]
  },
  {
   "cell_type": "code",
   "execution_count": 7,
   "metadata": {
    "collapsed": false
   },
   "outputs": [
    {
     "name": "stdout",
     "output_type": "stream",
     "text": [
      "(153, 28)\n",
      "(153, 28)\n"
     ]
    }
   ],
   "source": [
    "print(df[df['meanIAT'].isnull()].shape)\n",
    "print(df[df['meanExp'].isnull()].shape)"
   ]
  },
  {
   "cell_type": "markdown",
   "metadata": {},
   "source": [
    "We see first that there is exactly the same number of entries having NaN *meanIAT* and *meanExp* entries, and we see below that"
   ]
  },
  {
   "cell_type": "code",
   "execution_count": 8,
   "metadata": {
    "collapsed": false
   },
   "outputs": [
    {
     "data": {
      "text/plain": [
       "array([  19,   23,  335,  883, 1352, 1650, 1789, 1802, 1974, 2272, 2457])"
      ]
     },
     "execution_count": 8,
     "metadata": {},
     "output_type": "execute_result"
    }
   ],
   "source": [
    "df[df['meanExp'].isnull()].refNum.unique()"
   ]
  },
  {
   "cell_type": "markdown",
   "metadata": {},
   "source": [
    "We see that there are only a few referees (the names are not here for anonymization purposes), that have NaN entries in both field. Let's just remove the them from our dataset."
   ]
  },
  {
   "cell_type": "code",
   "execution_count": 9,
   "metadata": {
    "collapsed": false
   },
   "outputs": [
    {
     "name": "stdout",
     "output_type": "stream",
     "text": [
      "playerShort      False\n",
      "player           False\n",
      "club             False\n",
      "leagueCountry    False\n",
      "birthday         False\n",
      "height            True\n",
      "weight            True\n",
      "position          True\n",
      "games            False\n",
      "victories        False\n",
      "ties             False\n",
      "defeats          False\n",
      "goals            False\n",
      "yellowCards      False\n",
      "yellowReds       False\n",
      "redCards         False\n",
      "photoID          False\n",
      "rater1           False\n",
      "rater2           False\n",
      "refNum           False\n",
      "refCountry       False\n",
      "Alpha_3          False\n",
      "meanIAT          False\n",
      "nIAT             False\n",
      "seIAT            False\n",
      "meanExp          False\n",
      "nExp             False\n",
      "seExp            False\n",
      "dtype: bool\n",
      "(124468, 28)\n"
     ]
    }
   ],
   "source": [
    "df = df[~df['meanIAT'].isnull()]\n",
    "print(df.isnull().any())\n",
    "print(df.shape)"
   ]
  },
  {
   "cell_type": "markdown",
   "metadata": {},
   "source": [
    "We can see here that there are still some columns with NaN entries, which we will deal with later on."
   ]
  },
  {
   "cell_type": "markdown",
   "metadata": {},
   "source": [
    "## 2. Uniquely defining the skin column : creating a `skin_colour` column\n",
    "\n",
    "We define the skin_colour column as the mean of the *rater1* and *rater2* columns. They are described as the following  :\n",
    "\n",
    ">rater1 - skin rating of photo by rater 1 (5-point scale ranging from “very light skin” to “very dark skin”)\n",
    "\n",
    ">rater2 - skin rating of photo by rater 2 (5-point scale ranging from “very light skin” to “very dark skin”).\n",
    "\n",
    "As both describe the same thing with different scales, it is sensible to average them. We then remove the *rater1* and *rater2* columns, as they will not be of use for us anymore. "
   ]
  },
  {
   "cell_type": "code",
   "execution_count": 10,
   "metadata": {
    "collapsed": false,
    "scrolled": true
   },
   "outputs": [
    {
     "data": {
      "text/html": [
       "<div>\n",
       "<table border=\"1\" class=\"dataframe\">\n",
       "  <thead>\n",
       "    <tr style=\"text-align: right;\">\n",
       "      <th></th>\n",
       "      <th>playerShort</th>\n",
       "      <th>player</th>\n",
       "      <th>club</th>\n",
       "      <th>leagueCountry</th>\n",
       "      <th>birthday</th>\n",
       "      <th>height</th>\n",
       "      <th>weight</th>\n",
       "      <th>position</th>\n",
       "      <th>games</th>\n",
       "      <th>victories</th>\n",
       "      <th>ties</th>\n",
       "      <th>defeats</th>\n",
       "      <th>goals</th>\n",
       "      <th>yellowCards</th>\n",
       "      <th>yellowReds</th>\n",
       "      <th>redCards</th>\n",
       "      <th>photoID</th>\n",
       "      <th>refNum</th>\n",
       "      <th>refCountry</th>\n",
       "      <th>Alpha_3</th>\n",
       "      <th>meanIAT</th>\n",
       "      <th>nIAT</th>\n",
       "      <th>seIAT</th>\n",
       "      <th>meanExp</th>\n",
       "      <th>nExp</th>\n",
       "      <th>seExp</th>\n",
       "      <th>skin_colour</th>\n",
       "    </tr>\n",
       "  </thead>\n",
       "  <tbody>\n",
       "    <tr>\n",
       "      <th>0</th>\n",
       "      <td>lucas-wilchez</td>\n",
       "      <td>Lucas Wilchez</td>\n",
       "      <td>Real Zaragoza</td>\n",
       "      <td>Spain</td>\n",
       "      <td>31.08.1983</td>\n",
       "      <td>177.0</td>\n",
       "      <td>72.0</td>\n",
       "      <td>Attacking Midfielder</td>\n",
       "      <td>1</td>\n",
       "      <td>0</td>\n",
       "      <td>0</td>\n",
       "      <td>1</td>\n",
       "      <td>0</td>\n",
       "      <td>0</td>\n",
       "      <td>0</td>\n",
       "      <td>0</td>\n",
       "      <td>95212.jpg</td>\n",
       "      <td>1</td>\n",
       "      <td>1</td>\n",
       "      <td>GRC</td>\n",
       "      <td>0.326391</td>\n",
       "      <td>712.0</td>\n",
       "      <td>0.000564</td>\n",
       "      <td>0.396000</td>\n",
       "      <td>750.0</td>\n",
       "      <td>0.002696</td>\n",
       "      <td>0.375</td>\n",
       "    </tr>\n",
       "    <tr>\n",
       "      <th>1</th>\n",
       "      <td>john-utaka</td>\n",
       "      <td>John Utaka</td>\n",
       "      <td>Montpellier HSC</td>\n",
       "      <td>France</td>\n",
       "      <td>08.01.1982</td>\n",
       "      <td>179.0</td>\n",
       "      <td>82.0</td>\n",
       "      <td>Right Winger</td>\n",
       "      <td>1</td>\n",
       "      <td>0</td>\n",
       "      <td>0</td>\n",
       "      <td>1</td>\n",
       "      <td>0</td>\n",
       "      <td>1</td>\n",
       "      <td>0</td>\n",
       "      <td>0</td>\n",
       "      <td>1663.jpg</td>\n",
       "      <td>2</td>\n",
       "      <td>2</td>\n",
       "      <td>ZMB</td>\n",
       "      <td>0.203375</td>\n",
       "      <td>40.0</td>\n",
       "      <td>0.010875</td>\n",
       "      <td>-0.204082</td>\n",
       "      <td>49.0</td>\n",
       "      <td>0.061504</td>\n",
       "      <td>0.750</td>\n",
       "    </tr>\n",
       "    <tr>\n",
       "      <th>5</th>\n",
       "      <td>aaron-hughes</td>\n",
       "      <td>Aaron Hughes</td>\n",
       "      <td>Fulham FC</td>\n",
       "      <td>England</td>\n",
       "      <td>08.11.1979</td>\n",
       "      <td>182.0</td>\n",
       "      <td>71.0</td>\n",
       "      <td>Center Back</td>\n",
       "      <td>1</td>\n",
       "      <td>0</td>\n",
       "      <td>0</td>\n",
       "      <td>1</td>\n",
       "      <td>0</td>\n",
       "      <td>0</td>\n",
       "      <td>0</td>\n",
       "      <td>0</td>\n",
       "      <td>3868.jpg</td>\n",
       "      <td>4</td>\n",
       "      <td>4</td>\n",
       "      <td>LUX</td>\n",
       "      <td>0.325185</td>\n",
       "      <td>127.0</td>\n",
       "      <td>0.003297</td>\n",
       "      <td>0.538462</td>\n",
       "      <td>130.0</td>\n",
       "      <td>0.013752</td>\n",
       "      <td>0.125</td>\n",
       "    </tr>\n",
       "    <tr>\n",
       "      <th>6</th>\n",
       "      <td>aleksandar-kolarov</td>\n",
       "      <td>Aleksandar Kolarov</td>\n",
       "      <td>Manchester City</td>\n",
       "      <td>England</td>\n",
       "      <td>10.11.1985</td>\n",
       "      <td>187.0</td>\n",
       "      <td>80.0</td>\n",
       "      <td>Left Fullback</td>\n",
       "      <td>1</td>\n",
       "      <td>1</td>\n",
       "      <td>0</td>\n",
       "      <td>0</td>\n",
       "      <td>0</td>\n",
       "      <td>0</td>\n",
       "      <td>0</td>\n",
       "      <td>0</td>\n",
       "      <td>47704.jpg</td>\n",
       "      <td>4</td>\n",
       "      <td>4</td>\n",
       "      <td>LUX</td>\n",
       "      <td>0.325185</td>\n",
       "      <td>127.0</td>\n",
       "      <td>0.003297</td>\n",
       "      <td>0.538462</td>\n",
       "      <td>130.0</td>\n",
       "      <td>0.013752</td>\n",
       "      <td>0.125</td>\n",
       "    </tr>\n",
       "    <tr>\n",
       "      <th>7</th>\n",
       "      <td>alexander-tettey</td>\n",
       "      <td>Alexander Tettey</td>\n",
       "      <td>Norwich City</td>\n",
       "      <td>England</td>\n",
       "      <td>04.04.1986</td>\n",
       "      <td>180.0</td>\n",
       "      <td>68.0</td>\n",
       "      <td>Defensive Midfielder</td>\n",
       "      <td>1</td>\n",
       "      <td>0</td>\n",
       "      <td>0</td>\n",
       "      <td>1</td>\n",
       "      <td>0</td>\n",
       "      <td>0</td>\n",
       "      <td>0</td>\n",
       "      <td>0</td>\n",
       "      <td>22356.jpg</td>\n",
       "      <td>4</td>\n",
       "      <td>4</td>\n",
       "      <td>LUX</td>\n",
       "      <td>0.325185</td>\n",
       "      <td>127.0</td>\n",
       "      <td>0.003297</td>\n",
       "      <td>0.538462</td>\n",
       "      <td>130.0</td>\n",
       "      <td>0.013752</td>\n",
       "      <td>1.000</td>\n",
       "    </tr>\n",
       "  </tbody>\n",
       "</table>\n",
       "</div>"
      ],
      "text/plain": [
       "          playerShort              player             club leagueCountry  \\\n",
       "0       lucas-wilchez       Lucas Wilchez    Real Zaragoza         Spain   \n",
       "1          john-utaka          John Utaka  Montpellier HSC        France   \n",
       "5        aaron-hughes        Aaron Hughes        Fulham FC       England   \n",
       "6  aleksandar-kolarov  Aleksandar Kolarov  Manchester City       England   \n",
       "7    alexander-tettey    Alexander Tettey     Norwich City       England   \n",
       "\n",
       "     birthday  height  weight              position  games  victories  ties  \\\n",
       "0  31.08.1983   177.0    72.0  Attacking Midfielder      1          0     0   \n",
       "1  08.01.1982   179.0    82.0          Right Winger      1          0     0   \n",
       "5  08.11.1979   182.0    71.0           Center Back      1          0     0   \n",
       "6  10.11.1985   187.0    80.0         Left Fullback      1          1     0   \n",
       "7  04.04.1986   180.0    68.0  Defensive Midfielder      1          0     0   \n",
       "\n",
       "   defeats  goals  yellowCards  yellowReds  redCards    photoID  refNum  \\\n",
       "0        1      0            0           0         0  95212.jpg       1   \n",
       "1        1      0            1           0         0   1663.jpg       2   \n",
       "5        1      0            0           0         0   3868.jpg       4   \n",
       "6        0      0            0           0         0  47704.jpg       4   \n",
       "7        1      0            0           0         0  22356.jpg       4   \n",
       "\n",
       "   refCountry Alpha_3   meanIAT   nIAT     seIAT   meanExp   nExp     seExp  \\\n",
       "0           1     GRC  0.326391  712.0  0.000564  0.396000  750.0  0.002696   \n",
       "1           2     ZMB  0.203375   40.0  0.010875 -0.204082   49.0  0.061504   \n",
       "5           4     LUX  0.325185  127.0  0.003297  0.538462  130.0  0.013752   \n",
       "6           4     LUX  0.325185  127.0  0.003297  0.538462  130.0  0.013752   \n",
       "7           4     LUX  0.325185  127.0  0.003297  0.538462  130.0  0.013752   \n",
       "\n",
       "   skin_colour  \n",
       "0        0.375  \n",
       "1        0.750  \n",
       "5        0.125  \n",
       "6        0.125  \n",
       "7        1.000  "
      ]
     },
     "execution_count": 10,
     "metadata": {},
     "output_type": "execute_result"
    }
   ],
   "source": [
    "df['skin_colour'] = df[['rater1', 'rater2']].mean(axis=1)\n",
    "df = df.drop(['rater1', 'rater2'], axis=1)\n",
    "df.head()"
   ]
  },
  {
   "cell_type": "markdown",
   "metadata": {},
   "source": [
    "Let us quickly check all the different `skin_colour` values that a player can have."
   ]
  },
  {
   "cell_type": "code",
   "execution_count": 11,
   "metadata": {
    "collapsed": false,
    "scrolled": true
   },
   "outputs": [
    {
     "data": {
      "text/plain": [
       "array([ 0.   ,  0.125,  0.25 ,  0.375,  0.5  ,  0.625,  0.75 ,  0.875,  1.   ])"
      ]
     },
     "execution_count": 11,
     "metadata": {},
     "output_type": "execute_result"
    }
   ],
   "source": [
    "unique_colours = df['skin_colour'].unique()\n",
    "np.sort(unique_colours)"
   ]
  },
  {
   "cell_type": "markdown",
   "metadata": {},
   "source": [
    "We see the 5 values that were initially given by the *rater1* and *rater2* columns, along with the values inbetween those, leading us to a grand total of 9 different entries (still from “very light skin” to “very dark skin”)"
   ]
  },
  {
   "cell_type": "markdown",
   "metadata": {},
   "source": [
    "## 3. Removing some more features\n",
    "\n",
    "There are many columns that do not convey useful information to our purpose, we want to identify and remove them."
   ]
  },
  {
   "cell_type": "code",
   "execution_count": 12,
   "metadata": {
    "collapsed": false
   },
   "outputs": [
    {
     "name": "stdout",
     "output_type": "stream",
     "text": [
      "Index(['playerShort', 'player', 'club', 'leagueCountry', 'birthday', 'height',\n",
      "       'weight', 'position', 'games', 'victories', 'ties', 'defeats', 'goals',\n",
      "       'yellowCards', 'yellowReds', 'redCards', 'photoID', 'refNum',\n",
      "       'refCountry', 'Alpha_3', 'meanIAT', 'nIAT', 'seIAT', 'meanExp', 'nExp',\n",
      "       'seExp', 'skin_colour'],\n",
      "      dtype='object')\n"
     ]
    }
   ],
   "source": [
    "print(df.columns)"
   ]
  },
  {
   "cell_type": "markdown",
   "metadata": {},
   "source": [
    "There are some very obvious entries that are of no use to us : \n",
    "- *photoID*: We do not have the pictures !\n",
    "- *refNum*: We will aggregate the values by the name of the player, so we do not need it.\n",
    "- *refCountry*: We do not need it for the same reason.\n",
    "- *Alpha_3*: We do not need it for the same reason.\n",
    "\n",
    "The following features only are related to a referee, and we will remove them as well.\n",
    "- *meanIAT*\n",
    "- *nIAT*\n",
    "- *seIAT*\n",
    "- *meanExp*\n",
    "- *nExp*\n",
    "- *seExp*\n",
    "\n",
    "**N.B.** We are doing this as the aim of the exercise is to determine the skin colour of a player from the stats we have on him. His skin colour should not depend on the referee present in his matches ;)"
   ]
  },
  {
   "cell_type": "code",
   "execution_count": 13,
   "metadata": {
    "collapsed": false
   },
   "outputs": [],
   "source": [
    "columns_to_remove = ['photoID', 'refNum', 'refCountry', 'Alpha_3', 'meanIAT', 'nIAT', 'seIAT', 'meanExp', 'nExp', 'seExp']\n",
    "df_cleaned = df.drop(columns_to_remove, axis=1)"
   ]
  },
  {
   "cell_type": "code",
   "execution_count": 14,
   "metadata": {
    "collapsed": false,
    "scrolled": false
   },
   "outputs": [
    {
     "name": "stdout",
     "output_type": "stream",
     "text": [
      "(124468, 17)\n"
     ]
    },
    {
     "data": {
      "text/html": [
       "<div>\n",
       "<table border=\"1\" class=\"dataframe\">\n",
       "  <thead>\n",
       "    <tr style=\"text-align: right;\">\n",
       "      <th></th>\n",
       "      <th>playerShort</th>\n",
       "      <th>player</th>\n",
       "      <th>club</th>\n",
       "      <th>leagueCountry</th>\n",
       "      <th>birthday</th>\n",
       "      <th>height</th>\n",
       "      <th>weight</th>\n",
       "      <th>position</th>\n",
       "      <th>games</th>\n",
       "      <th>victories</th>\n",
       "      <th>ties</th>\n",
       "      <th>defeats</th>\n",
       "      <th>goals</th>\n",
       "      <th>yellowCards</th>\n",
       "      <th>yellowReds</th>\n",
       "      <th>redCards</th>\n",
       "      <th>skin_colour</th>\n",
       "    </tr>\n",
       "  </thead>\n",
       "  <tbody>\n",
       "    <tr>\n",
       "      <th>0</th>\n",
       "      <td>lucas-wilchez</td>\n",
       "      <td>Lucas Wilchez</td>\n",
       "      <td>Real Zaragoza</td>\n",
       "      <td>Spain</td>\n",
       "      <td>31.08.1983</td>\n",
       "      <td>177.0</td>\n",
       "      <td>72.0</td>\n",
       "      <td>Attacking Midfielder</td>\n",
       "      <td>1</td>\n",
       "      <td>0</td>\n",
       "      <td>0</td>\n",
       "      <td>1</td>\n",
       "      <td>0</td>\n",
       "      <td>0</td>\n",
       "      <td>0</td>\n",
       "      <td>0</td>\n",
       "      <td>0.375</td>\n",
       "    </tr>\n",
       "    <tr>\n",
       "      <th>1</th>\n",
       "      <td>john-utaka</td>\n",
       "      <td>John Utaka</td>\n",
       "      <td>Montpellier HSC</td>\n",
       "      <td>France</td>\n",
       "      <td>08.01.1982</td>\n",
       "      <td>179.0</td>\n",
       "      <td>82.0</td>\n",
       "      <td>Right Winger</td>\n",
       "      <td>1</td>\n",
       "      <td>0</td>\n",
       "      <td>0</td>\n",
       "      <td>1</td>\n",
       "      <td>0</td>\n",
       "      <td>1</td>\n",
       "      <td>0</td>\n",
       "      <td>0</td>\n",
       "      <td>0.750</td>\n",
       "    </tr>\n",
       "    <tr>\n",
       "      <th>5</th>\n",
       "      <td>aaron-hughes</td>\n",
       "      <td>Aaron Hughes</td>\n",
       "      <td>Fulham FC</td>\n",
       "      <td>England</td>\n",
       "      <td>08.11.1979</td>\n",
       "      <td>182.0</td>\n",
       "      <td>71.0</td>\n",
       "      <td>Center Back</td>\n",
       "      <td>1</td>\n",
       "      <td>0</td>\n",
       "      <td>0</td>\n",
       "      <td>1</td>\n",
       "      <td>0</td>\n",
       "      <td>0</td>\n",
       "      <td>0</td>\n",
       "      <td>0</td>\n",
       "      <td>0.125</td>\n",
       "    </tr>\n",
       "    <tr>\n",
       "      <th>6</th>\n",
       "      <td>aleksandar-kolarov</td>\n",
       "      <td>Aleksandar Kolarov</td>\n",
       "      <td>Manchester City</td>\n",
       "      <td>England</td>\n",
       "      <td>10.11.1985</td>\n",
       "      <td>187.0</td>\n",
       "      <td>80.0</td>\n",
       "      <td>Left Fullback</td>\n",
       "      <td>1</td>\n",
       "      <td>1</td>\n",
       "      <td>0</td>\n",
       "      <td>0</td>\n",
       "      <td>0</td>\n",
       "      <td>0</td>\n",
       "      <td>0</td>\n",
       "      <td>0</td>\n",
       "      <td>0.125</td>\n",
       "    </tr>\n",
       "    <tr>\n",
       "      <th>7</th>\n",
       "      <td>alexander-tettey</td>\n",
       "      <td>Alexander Tettey</td>\n",
       "      <td>Norwich City</td>\n",
       "      <td>England</td>\n",
       "      <td>04.04.1986</td>\n",
       "      <td>180.0</td>\n",
       "      <td>68.0</td>\n",
       "      <td>Defensive Midfielder</td>\n",
       "      <td>1</td>\n",
       "      <td>0</td>\n",
       "      <td>0</td>\n",
       "      <td>1</td>\n",
       "      <td>0</td>\n",
       "      <td>0</td>\n",
       "      <td>0</td>\n",
       "      <td>0</td>\n",
       "      <td>1.000</td>\n",
       "    </tr>\n",
       "    <tr>\n",
       "      <th>8</th>\n",
       "      <td>anders-lindegaard</td>\n",
       "      <td>Anders Lindegaard</td>\n",
       "      <td>Manchester United</td>\n",
       "      <td>England</td>\n",
       "      <td>13.04.1984</td>\n",
       "      <td>193.0</td>\n",
       "      <td>80.0</td>\n",
       "      <td>Goalkeeper</td>\n",
       "      <td>1</td>\n",
       "      <td>0</td>\n",
       "      <td>1</td>\n",
       "      <td>0</td>\n",
       "      <td>0</td>\n",
       "      <td>0</td>\n",
       "      <td>0</td>\n",
       "      <td>0</td>\n",
       "      <td>0.250</td>\n",
       "    </tr>\n",
       "    <tr>\n",
       "      <th>9</th>\n",
       "      <td>andreas-beck</td>\n",
       "      <td>Andreas Beck</td>\n",
       "      <td>1899 Hoffenheim</td>\n",
       "      <td>Germany</td>\n",
       "      <td>13.03.1987</td>\n",
       "      <td>180.0</td>\n",
       "      <td>70.0</td>\n",
       "      <td>Right Fullback</td>\n",
       "      <td>1</td>\n",
       "      <td>1</td>\n",
       "      <td>0</td>\n",
       "      <td>0</td>\n",
       "      <td>0</td>\n",
       "      <td>0</td>\n",
       "      <td>0</td>\n",
       "      <td>0</td>\n",
       "      <td>0.000</td>\n",
       "    </tr>\n",
       "    <tr>\n",
       "      <th>10</th>\n",
       "      <td>antonio-rukavina</td>\n",
       "      <td>Antonio Rukavina</td>\n",
       "      <td>Real Valladolid</td>\n",
       "      <td>Spain</td>\n",
       "      <td>26.01.1984</td>\n",
       "      <td>177.0</td>\n",
       "      <td>74.0</td>\n",
       "      <td>Right Fullback</td>\n",
       "      <td>2</td>\n",
       "      <td>2</td>\n",
       "      <td>0</td>\n",
       "      <td>0</td>\n",
       "      <td>0</td>\n",
       "      <td>1</td>\n",
       "      <td>0</td>\n",
       "      <td>0</td>\n",
       "      <td>0.000</td>\n",
       "    </tr>\n",
       "    <tr>\n",
       "      <th>11</th>\n",
       "      <td>ashkan-dejagah</td>\n",
       "      <td>Ashkan Dejagah</td>\n",
       "      <td>Fulham FC</td>\n",
       "      <td>England</td>\n",
       "      <td>05.07.1986</td>\n",
       "      <td>181.0</td>\n",
       "      <td>74.0</td>\n",
       "      <td>Left Winger</td>\n",
       "      <td>1</td>\n",
       "      <td>1</td>\n",
       "      <td>0</td>\n",
       "      <td>0</td>\n",
       "      <td>0</td>\n",
       "      <td>0</td>\n",
       "      <td>0</td>\n",
       "      <td>0</td>\n",
       "      <td>0.500</td>\n",
       "    </tr>\n",
       "    <tr>\n",
       "      <th>12</th>\n",
       "      <td>benedikt-hoewedes</td>\n",
       "      <td>Benedikt Höwedes</td>\n",
       "      <td>FC Schalke 04</td>\n",
       "      <td>Germany</td>\n",
       "      <td>29.02.1988</td>\n",
       "      <td>187.0</td>\n",
       "      <td>80.0</td>\n",
       "      <td>Center Back</td>\n",
       "      <td>1</td>\n",
       "      <td>1</td>\n",
       "      <td>0</td>\n",
       "      <td>0</td>\n",
       "      <td>0</td>\n",
       "      <td>0</td>\n",
       "      <td>0</td>\n",
       "      <td>0</td>\n",
       "      <td>0.000</td>\n",
       "    </tr>\n",
       "  </tbody>\n",
       "</table>\n",
       "</div>"
      ],
      "text/plain": [
       "           playerShort              player               club leagueCountry  \\\n",
       "0        lucas-wilchez       Lucas Wilchez      Real Zaragoza         Spain   \n",
       "1           john-utaka          John Utaka    Montpellier HSC        France   \n",
       "5         aaron-hughes        Aaron Hughes          Fulham FC       England   \n",
       "6   aleksandar-kolarov  Aleksandar Kolarov    Manchester City       England   \n",
       "7     alexander-tettey    Alexander Tettey       Norwich City       England   \n",
       "8    anders-lindegaard   Anders Lindegaard  Manchester United       England   \n",
       "9         andreas-beck        Andreas Beck    1899 Hoffenheim       Germany   \n",
       "10    antonio-rukavina    Antonio Rukavina    Real Valladolid         Spain   \n",
       "11      ashkan-dejagah      Ashkan Dejagah          Fulham FC       England   \n",
       "12   benedikt-hoewedes    Benedikt Höwedes      FC Schalke 04       Germany   \n",
       "\n",
       "      birthday  height  weight              position  games  victories  ties  \\\n",
       "0   31.08.1983   177.0    72.0  Attacking Midfielder      1          0     0   \n",
       "1   08.01.1982   179.0    82.0          Right Winger      1          0     0   \n",
       "5   08.11.1979   182.0    71.0           Center Back      1          0     0   \n",
       "6   10.11.1985   187.0    80.0         Left Fullback      1          1     0   \n",
       "7   04.04.1986   180.0    68.0  Defensive Midfielder      1          0     0   \n",
       "8   13.04.1984   193.0    80.0            Goalkeeper      1          0     1   \n",
       "9   13.03.1987   180.0    70.0        Right Fullback      1          1     0   \n",
       "10  26.01.1984   177.0    74.0        Right Fullback      2          2     0   \n",
       "11  05.07.1986   181.0    74.0           Left Winger      1          1     0   \n",
       "12  29.02.1988   187.0    80.0           Center Back      1          1     0   \n",
       "\n",
       "    defeats  goals  yellowCards  yellowReds  redCards  skin_colour  \n",
       "0         1      0            0           0         0        0.375  \n",
       "1         1      0            1           0         0        0.750  \n",
       "5         1      0            0           0         0        0.125  \n",
       "6         0      0            0           0         0        0.125  \n",
       "7         1      0            0           0         0        1.000  \n",
       "8         0      0            0           0         0        0.250  \n",
       "9         0      0            0           0         0        0.000  \n",
       "10        0      0            1           0         0        0.000  \n",
       "11        0      0            0           0         0        0.500  \n",
       "12        0      0            0           0         0        0.000  "
      ]
     },
     "execution_count": 14,
     "metadata": {},
     "output_type": "execute_result"
    }
   ],
   "source": [
    "print(df_cleaned.shape)\n",
    "df_cleaned.head(10)"
   ]
  },
  {
   "cell_type": "markdown",
   "metadata": {},
   "source": [
    "We did not change the number of entries here, but now only have 17 columns remaining. The following transformation is to get all the data related to each player, i.e. aggregate by their name.\n",
    "\n",
    "## 4. Aggregating the table\n",
    "\n",
    "The number of unique `player` entries is our database is way smaller than the total number of entries !"
   ]
  },
  {
   "cell_type": "code",
   "execution_count": 15,
   "metadata": {
    "collapsed": false,
    "scrolled": true
   },
   "outputs": [
    {
     "name": "stdout",
     "output_type": "stream",
     "text": [
      "Total number of players:  1572\n"
     ]
    }
   ],
   "source": [
    "print(\"Total number of players: \", len(df_cleaned['player'].unique()))"
   ]
  },
  {
   "cell_type": "markdown",
   "metadata": {},
   "source": [
    "This means that have extensive data on a few players, as they played many matches in their career. We will now perform the aggregation of our data."
   ]
  },
  {
   "cell_type": "code",
   "execution_count": 16,
   "metadata": {
    "collapsed": false
   },
   "outputs": [],
   "source": [
    "unique_players = df_cleaned['player'].unique()"
   ]
  },
  {
   "cell_type": "markdown",
   "metadata": {},
   "source": [
    "Let us create the DataFrame in which we'll store our unique player entries. "
   ]
  },
  {
   "cell_type": "code",
   "execution_count": 17,
   "metadata": {
    "collapsed": false,
    "scrolled": false
   },
   "outputs": [
    {
     "name": "stdout",
     "output_type": "stream",
     "text": [
      "(1585, 17)\n",
      "(1419, 17)\n"
     ]
    },
    {
     "data": {
      "text/html": [
       "<div>\n",
       "<table border=\"1\" class=\"dataframe\">\n",
       "  <thead>\n",
       "    <tr style=\"text-align: right;\">\n",
       "      <th></th>\n",
       "      <th>playerShort</th>\n",
       "      <th>player</th>\n",
       "      <th>club</th>\n",
       "      <th>leagueCountry</th>\n",
       "      <th>birthday</th>\n",
       "      <th>height</th>\n",
       "      <th>weight</th>\n",
       "      <th>position</th>\n",
       "      <th>skin_colour</th>\n",
       "      <th>games</th>\n",
       "      <th>victories</th>\n",
       "      <th>ties</th>\n",
       "      <th>defeats</th>\n",
       "      <th>goals</th>\n",
       "      <th>yellowCards</th>\n",
       "      <th>yellowReds</th>\n",
       "      <th>redCards</th>\n",
       "    </tr>\n",
       "  </thead>\n",
       "  <tbody>\n",
       "    <tr>\n",
       "      <th>0</th>\n",
       "      <td>aaron-hughes</td>\n",
       "      <td>Aaron Hughes</td>\n",
       "      <td>Fulham FC</td>\n",
       "      <td>England</td>\n",
       "      <td>08.11.1979</td>\n",
       "      <td>182.0</td>\n",
       "      <td>71.0</td>\n",
       "      <td>Center Back</td>\n",
       "      <td>0.125</td>\n",
       "      <td>654</td>\n",
       "      <td>247</td>\n",
       "      <td>179</td>\n",
       "      <td>228</td>\n",
       "      <td>9</td>\n",
       "      <td>19</td>\n",
       "      <td>0</td>\n",
       "      <td>0</td>\n",
       "    </tr>\n",
       "    <tr>\n",
       "      <th>1</th>\n",
       "      <td>aaron-hunt</td>\n",
       "      <td>Aaron Hunt</td>\n",
       "      <td>Werder Bremen</td>\n",
       "      <td>Germany</td>\n",
       "      <td>04.09.1986</td>\n",
       "      <td>183.0</td>\n",
       "      <td>73.0</td>\n",
       "      <td>Attacking Midfielder</td>\n",
       "      <td>0.125</td>\n",
       "      <td>336</td>\n",
       "      <td>141</td>\n",
       "      <td>73</td>\n",
       "      <td>122</td>\n",
       "      <td>62</td>\n",
       "      <td>42</td>\n",
       "      <td>0</td>\n",
       "      <td>1</td>\n",
       "    </tr>\n",
       "    <tr>\n",
       "      <th>2</th>\n",
       "      <td>aaron-lennon</td>\n",
       "      <td>Aaron Lennon</td>\n",
       "      <td>Tottenham Hotspur</td>\n",
       "      <td>England</td>\n",
       "      <td>16.04.1987</td>\n",
       "      <td>165.0</td>\n",
       "      <td>63.0</td>\n",
       "      <td>Right Midfielder</td>\n",
       "      <td>0.250</td>\n",
       "      <td>412</td>\n",
       "      <td>200</td>\n",
       "      <td>97</td>\n",
       "      <td>115</td>\n",
       "      <td>31</td>\n",
       "      <td>11</td>\n",
       "      <td>0</td>\n",
       "      <td>0</td>\n",
       "    </tr>\n",
       "    <tr>\n",
       "      <th>3</th>\n",
       "      <td>aaron-ramsey</td>\n",
       "      <td>Aaron Ramsey</td>\n",
       "      <td>Arsenal FC</td>\n",
       "      <td>England</td>\n",
       "      <td>26.12.1990</td>\n",
       "      <td>178.0</td>\n",
       "      <td>76.0</td>\n",
       "      <td>Center Midfielder</td>\n",
       "      <td>0.000</td>\n",
       "      <td>260</td>\n",
       "      <td>150</td>\n",
       "      <td>42</td>\n",
       "      <td>68</td>\n",
       "      <td>39</td>\n",
       "      <td>31</td>\n",
       "      <td>0</td>\n",
       "      <td>1</td>\n",
       "    </tr>\n",
       "    <tr>\n",
       "      <th>4</th>\n",
       "      <td>abdelhamid-el-kaoutari</td>\n",
       "      <td>Abdelhamid El-Kaoutari</td>\n",
       "      <td>Montpellier HSC</td>\n",
       "      <td>France</td>\n",
       "      <td>17.03.1990</td>\n",
       "      <td>180.0</td>\n",
       "      <td>73.0</td>\n",
       "      <td>Center Back</td>\n",
       "      <td>0.250</td>\n",
       "      <td>124</td>\n",
       "      <td>41</td>\n",
       "      <td>40</td>\n",
       "      <td>43</td>\n",
       "      <td>1</td>\n",
       "      <td>8</td>\n",
       "      <td>4</td>\n",
       "      <td>2</td>\n",
       "    </tr>\n",
       "  </tbody>\n",
       "</table>\n",
       "</div>"
      ],
      "text/plain": [
       "              playerShort                  player               club  \\\n",
       "0            aaron-hughes            Aaron Hughes          Fulham FC   \n",
       "1              aaron-hunt              Aaron Hunt      Werder Bremen   \n",
       "2            aaron-lennon            Aaron Lennon  Tottenham Hotspur   \n",
       "3            aaron-ramsey            Aaron Ramsey         Arsenal FC   \n",
       "4  abdelhamid-el-kaoutari  Abdelhamid El-Kaoutari    Montpellier HSC   \n",
       "\n",
       "  leagueCountry    birthday  height  weight              position  \\\n",
       "0       England  08.11.1979   182.0    71.0           Center Back   \n",
       "1       Germany  04.09.1986   183.0    73.0  Attacking Midfielder   \n",
       "2       England  16.04.1987   165.0    63.0      Right Midfielder   \n",
       "3       England  26.12.1990   178.0    76.0     Center Midfielder   \n",
       "4        France  17.03.1990   180.0    73.0           Center Back   \n",
       "\n",
       "   skin_colour  games  victories  ties  defeats  goals  yellowCards  \\\n",
       "0        0.125    654        247   179      228      9           19   \n",
       "1        0.125    336        141    73      122     62           42   \n",
       "2        0.250    412        200    97      115     31           11   \n",
       "3        0.000    260        150    42       68     39           31   \n",
       "4        0.250    124         41    40       43      1            8   \n",
       "\n",
       "   yellowReds  redCards  \n",
       "0           0         0  \n",
       "1           0         1  \n",
       "2           0         0  \n",
       "3           0         1  \n",
       "4           4         2  "
      ]
     },
     "execution_count": 17,
     "metadata": {},
     "output_type": "execute_result"
    }
   ],
   "source": [
    "# Values on whichc we want to sum\n",
    "summed = ['games', 'victories', 'ties', 'defeats', 'goals', \n",
    "         'yellowCards', 'yellowReds', 'redCards']\n",
    "#Dirty trick to keep the NaNs in the groupby because there is no other was to do so (opened issue in the project)\n",
    "df_players = df_cleaned.replace(np.nan, -1000).groupby(['playerShort', 'player' ,'club' ,'leagueCountry', 'birthday', 'height', 'weight','position','skin_colour'])\n",
    "df_players = df_players[summed].sum()\n",
    "df_players = df_players.reset_index().replace(-1000, np.NaN)\n",
    "print(df_players.shape)\n",
    "\n",
    "df_players_no_nan = df_players.dropna()\n",
    "print(df_players_no_nan.shape)\n",
    "\n",
    "df_players.head()"
   ]
  },
  {
   "cell_type": "markdown",
   "metadata": {},
   "source": [
    "We see here that if we don't keep the NaNs, we lose many players in the process. We want to see whether it is justified to do so. We computed all the players which are exluded of our newer DataFrame. First of all, we just want to note that that there are a few players who have the same name, so the sorting by the *playerShort* attribute will yield unique results. One such example is the following :"
   ]
  },
  {
   "cell_type": "code",
   "execution_count": 18,
   "metadata": {
    "collapsed": false
   },
   "outputs": [
    {
     "name": "stdout",
     "output_type": "stream",
     "text": [
      "0\n",
      "13\n"
     ]
    },
    {
     "data": {
      "text/html": [
       "<div>\n",
       "<table border=\"1\" class=\"dataframe\">\n",
       "  <thead>\n",
       "    <tr style=\"text-align: right;\">\n",
       "      <th></th>\n",
       "      <th>playerShort</th>\n",
       "      <th>player</th>\n",
       "      <th>club</th>\n",
       "      <th>leagueCountry</th>\n",
       "      <th>birthday</th>\n",
       "      <th>height</th>\n",
       "      <th>weight</th>\n",
       "      <th>position</th>\n",
       "      <th>skin_colour</th>\n",
       "      <th>games</th>\n",
       "      <th>victories</th>\n",
       "      <th>ties</th>\n",
       "      <th>defeats</th>\n",
       "      <th>goals</th>\n",
       "      <th>yellowCards</th>\n",
       "      <th>yellowReds</th>\n",
       "      <th>redCards</th>\n",
       "    </tr>\n",
       "  </thead>\n",
       "  <tbody>\n",
       "    <tr>\n",
       "      <th>790</th>\n",
       "      <td>juanfran</td>\n",
       "      <td>Juanfran</td>\n",
       "      <td>Levante UD</td>\n",
       "      <td>Spain</td>\n",
       "      <td>15.07.1976</td>\n",
       "      <td>183.0</td>\n",
       "      <td>78.0</td>\n",
       "      <td>Left Fullback</td>\n",
       "      <td>0.375</td>\n",
       "      <td>487</td>\n",
       "      <td>207</td>\n",
       "      <td>127</td>\n",
       "      <td>153</td>\n",
       "      <td>10</td>\n",
       "      <td>121</td>\n",
       "      <td>7</td>\n",
       "      <td>8</td>\n",
       "    </tr>\n",
       "    <tr>\n",
       "      <th>791</th>\n",
       "      <td>juanfran_2</td>\n",
       "      <td>Juanfran</td>\n",
       "      <td>Atlético Madrid</td>\n",
       "      <td>Spain</td>\n",
       "      <td>09.01.1985</td>\n",
       "      <td>180.0</td>\n",
       "      <td>72.0</td>\n",
       "      <td>Right Fullback</td>\n",
       "      <td>0.000</td>\n",
       "      <td>366</td>\n",
       "      <td>164</td>\n",
       "      <td>89</td>\n",
       "      <td>113</td>\n",
       "      <td>19</td>\n",
       "      <td>61</td>\n",
       "      <td>1</td>\n",
       "      <td>1</td>\n",
       "    </tr>\n",
       "    <tr>\n",
       "      <th>792</th>\n",
       "      <td>juanfran_4</td>\n",
       "      <td>Juanfran</td>\n",
       "      <td>Real Madrid</td>\n",
       "      <td>Spain</td>\n",
       "      <td>11.09.1988</td>\n",
       "      <td>179.0</td>\n",
       "      <td>72.0</td>\n",
       "      <td>Right Winger</td>\n",
       "      <td>0.625</td>\n",
       "      <td>92</td>\n",
       "      <td>31</td>\n",
       "      <td>18</td>\n",
       "      <td>43</td>\n",
       "      <td>4</td>\n",
       "      <td>5</td>\n",
       "      <td>0</td>\n",
       "      <td>0</td>\n",
       "    </tr>\n",
       "  </tbody>\n",
       "</table>\n",
       "</div>"
      ],
      "text/plain": [
       "    playerShort     player             club leagueCountry    birthday  height  \\\n",
       "790    juanfran   Juanfran       Levante UD         Spain  15.07.1976   183.0   \n",
       "791  juanfran_2   Juanfran  Atlético Madrid         Spain  09.01.1985   180.0   \n",
       "792  juanfran_4   Juanfran      Real Madrid         Spain  11.09.1988   179.0   \n",
       "\n",
       "     weight        position  skin_colour  games  victories  ties  defeats  \\\n",
       "790    78.0   Left Fullback        0.375    487        207   127      153   \n",
       "791    72.0  Right Fullback        0.000    366        164    89      113   \n",
       "792    72.0    Right Winger        0.625     92         31    18       43   \n",
       "\n",
       "     goals  yellowCards  yellowReds  redCards  \n",
       "790     10          121           7         8  \n",
       "791     19           61           1         1  \n",
       "792      4            5           0         0  "
      ]
     },
     "execution_count": 18,
     "metadata": {},
     "output_type": "execute_result"
    }
   ],
   "source": [
    "#Check whether the entries are unique for the playerShort attribute\n",
    "print(len(df_players.playerShort) - len(df_players.playerShort.unique()))\n",
    "\n",
    "#Check whether the entries are unique for the player attribute\n",
    "print(len(df_players.player) - len(df_players.player.unique()))\n",
    "\n",
    "df_players.loc[df_players.player == ' Juanfran']"
   ]
  },
  {
   "cell_type": "markdown",
   "metadata": {},
   "source": [
    "Let us now focus on the players which were excluded from the aggregation. There are three distinct cases for the exclusion of players from the DataFrame, as we show below. Either\n",
    "- the player has no *weight* entry,\n",
    "- the player has no *position* entry,\n",
    "- the player has no *height* entry,\n",
    "- or it can be a combination of those. \n",
    "\n",
    "Let us show a player with no *position entry*."
   ]
  },
  {
   "cell_type": "markdown",
   "metadata": {},
   "source": [
    "Here we have a player with both no *weight*, no *height* and no *position* !"
   ]
  },
  {
   "cell_type": "code",
   "execution_count": 19,
   "metadata": {
    "collapsed": false
   },
   "outputs": [
    {
     "data": {
      "text/html": [
       "<div>\n",
       "<table border=\"1\" class=\"dataframe\">\n",
       "  <thead>\n",
       "    <tr style=\"text-align: right;\">\n",
       "      <th></th>\n",
       "      <th>playerShort</th>\n",
       "      <th>player</th>\n",
       "      <th>club</th>\n",
       "      <th>leagueCountry</th>\n",
       "      <th>birthday</th>\n",
       "      <th>height</th>\n",
       "      <th>weight</th>\n",
       "      <th>position</th>\n",
       "      <th>skin_colour</th>\n",
       "      <th>games</th>\n",
       "      <th>victories</th>\n",
       "      <th>ties</th>\n",
       "      <th>defeats</th>\n",
       "      <th>goals</th>\n",
       "      <th>yellowCards</th>\n",
       "      <th>yellowReds</th>\n",
       "      <th>redCards</th>\n",
       "    </tr>\n",
       "  </thead>\n",
       "  <tbody>\n",
       "    <tr>\n",
       "      <th>484</th>\n",
       "      <td>filip-malbasic</td>\n",
       "      <td>Filip Malbašić</td>\n",
       "      <td>1899 Hoffenheim</td>\n",
       "      <td>Germany</td>\n",
       "      <td>18.11.1992</td>\n",
       "      <td>NaN</td>\n",
       "      <td>NaN</td>\n",
       "      <td>Left Winger</td>\n",
       "      <td>0.25</td>\n",
       "      <td>58</td>\n",
       "      <td>29</td>\n",
       "      <td>12</td>\n",
       "      <td>17</td>\n",
       "      <td>6</td>\n",
       "      <td>8</td>\n",
       "      <td>0</td>\n",
       "      <td>1</td>\n",
       "    </tr>\n",
       "    <tr>\n",
       "      <th>705</th>\n",
       "      <td>jerome-sinclair</td>\n",
       "      <td>Jerome Sinclair</td>\n",
       "      <td>Liverpool FC</td>\n",
       "      <td>England</td>\n",
       "      <td>20.09.1996</td>\n",
       "      <td>NaN</td>\n",
       "      <td>NaN</td>\n",
       "      <td>NaN</td>\n",
       "      <td>0.75</td>\n",
       "      <td>1</td>\n",
       "      <td>1</td>\n",
       "      <td>0</td>\n",
       "      <td>0</td>\n",
       "      <td>0</td>\n",
       "      <td>0</td>\n",
       "      <td>0</td>\n",
       "      <td>0</td>\n",
       "    </tr>\n",
       "    <tr>\n",
       "      <th>892</th>\n",
       "      <td>loic-abenzoar</td>\n",
       "      <td>Loïc Abenzoar</td>\n",
       "      <td>Olympique Lyon</td>\n",
       "      <td>France</td>\n",
       "      <td>14.02.1989</td>\n",
       "      <td>NaN</td>\n",
       "      <td>NaN</td>\n",
       "      <td>Right Fullback</td>\n",
       "      <td>0.75</td>\n",
       "      <td>12</td>\n",
       "      <td>0</td>\n",
       "      <td>3</td>\n",
       "      <td>9</td>\n",
       "      <td>0</td>\n",
       "      <td>2</td>\n",
       "      <td>0</td>\n",
       "      <td>0</td>\n",
       "    </tr>\n",
       "  </tbody>\n",
       "</table>\n",
       "</div>"
      ],
      "text/plain": [
       "         playerShort           player             club leagueCountry  \\\n",
       "484   filip-malbasic   Filip Malbašić  1899 Hoffenheim       Germany   \n",
       "705  jerome-sinclair  Jerome Sinclair     Liverpool FC       England   \n",
       "892    loic-abenzoar    Loïc Abenzoar   Olympique Lyon        France   \n",
       "\n",
       "       birthday  height  weight        position  skin_colour  games  \\\n",
       "484  18.11.1992     NaN     NaN     Left Winger         0.25     58   \n",
       "705  20.09.1996     NaN     NaN             NaN         0.75      1   \n",
       "892  14.02.1989     NaN     NaN  Right Fullback         0.75     12   \n",
       "\n",
       "     victories  ties  defeats  goals  yellowCards  yellowReds  redCards  \n",
       "484         29    12       17      6            8           0         1  \n",
       "705          1     0        0      0            0           0         0  \n",
       "892          0     3        9      0            2           0         0  "
      ]
     },
     "execution_count": 19,
     "metadata": {},
     "output_type": "execute_result"
    }
   ],
   "source": [
    "df_players.loc[df_players['height'].isnull()]"
   ]
  },
  {
   "cell_type": "markdown",
   "metadata": {},
   "source": [
    "We see that removing them is the simplest approach we can take, but let us first check the percentage of the population that they represent. "
   ]
  },
  {
   "cell_type": "code",
   "execution_count": 20,
   "metadata": {
    "collapsed": false
   },
   "outputs": [
    {
     "name": "stdout",
     "output_type": "stream",
     "text": [
      "Percentage of people removed with the aggregation:  10.473186119873812 %\n"
     ]
    }
   ],
   "source": [
    "print(\"Percentage of people removed with the aggregation: \", 100*(1-df_players_no_nan.shape[0]/len(df_cleaned.playerShort.unique())), \"%\")"
   ]
  },
  {
   "cell_type": "markdown",
   "metadata": {},
   "source": [
    "Even if they represent 10% of our population, we can remove them as including them in the Machine Learning process would yield many complications, having to create special cases for each of the missing data. We will however keep them in a separate DataFrame for comparison's sake.\n",
    "\n",
    "We also discretise the country in which they're playing and the birthYear in order to be able to use it in our algrithm, as it only takes numeric values."
   ]
  },
  {
   "cell_type": "code",
   "execution_count": 21,
   "metadata": {
    "collapsed": false
   },
   "outputs": [],
   "source": [
    "df_players['english'] = [int(country == 'England') for country in df_players['leagueCountry']]\n",
    "df_players['german'] = [int(country == 'Germany') for country in df_players['leagueCountry']]\n",
    "df_players['french'] = [int(country == 'France') for country in df_players['leagueCountry']]\n",
    "df_players['spanish'] = [int(country == 'Spain') for country in df_players['leagueCountry']]\n",
    "df_players['birthYear'] = [int(b[-4:]) for b in df_players['birthday']]"
   ]
  },
  {
   "cell_type": "markdown",
   "metadata": {},
   "source": [
    "\n",
    "We now save these DataFrames, making sure before that there are no more NaNs in our data."
   ]
  },
  {
   "cell_type": "code",
   "execution_count": 22,
   "metadata": {
    "collapsed": false
   },
   "outputs": [
    {
     "name": "stdout",
     "output_type": "stream",
     "text": [
      "playerShort      False\n",
      "player           False\n",
      "club             False\n",
      "leagueCountry    False\n",
      "birthday         False\n",
      "height           False\n",
      "weight           False\n",
      "position         False\n",
      "skin_colour      False\n",
      "games            False\n",
      "victories        False\n",
      "ties             False\n",
      "defeats          False\n",
      "goals            False\n",
      "yellowCards      False\n",
      "yellowReds       False\n",
      "redCards         False\n",
      "dtype: bool\n"
     ]
    }
   ],
   "source": [
    "print(df_players_no_nan.isnull().any())\n",
    "\n",
    "#actualise the value of the DataFrame\n",
    "df_players_no_nan = df_players.dropna()\n",
    "\n",
    "df_players.to_csv('./Data/players.csv', index=False)\n",
    "df_players_no_nan.to_csv('./Data/players_no_nan.csv', index=False)"
   ]
  },
  {
   "cell_type": "markdown",
   "metadata": {},
   "source": [
    "We will also save the dataFrames with only the numeric features."
   ]
  },
  {
   "cell_type": "code",
   "execution_count": 23,
   "metadata": {
    "collapsed": false
   },
   "outputs": [],
   "source": [
    "non_numeric = ['playerShort', 'player', 'club', 'leagueCountry', 'birthday', 'position']\n",
    "df_players.drop(non_numeric, axis=1).to_csv('./Data/players_num_values.csv', index=False)\n",
    "df_players_no_nan.drop(non_numeric, axis=1).to_csv('./Data/players_no_nan_only_num_values.csv', index=False)"
   ]
  },
  {
   "cell_type": "markdown",
   "metadata": {},
   "source": [
    "## 5. Cross-Featuring\n",
    "\n",
    "We can introduce some cross-features with the features we removed. We know for example that the columns with\n",
    "- **IAT** refer to the **race IAT test**, *i.e.* a high value correspond to someone who will prefer a white person (thinks it's a better person) over a black person.\n",
    "- **Exp** refer to the use of a **racial thermometer task**, *i.e.* a high value corresponds to greater feelings of warmth toward whites versus blacks.\n",
    "\n",
    "If we want to keep these information, we can cross-feature those information with the yellow and red cards given to the player . \n",
    "\n",
    "Let's introduce a **new variable**. We will call it the `gravity_factor`. It is given by:\n",
    "\n",
    "\n",
    "\\begin{equation}\n",
    "G = Y + \\frac{\\sum Y}{\\sum YR}  YR + \\frac{\\sum Y }{\\sum R} R\n",
    "\\end{equation}\n",
    "where:\n",
    "- $Y$ is the number of yellow cards given to a player\n",
    "- $\\sum Y$ is the total number of yellow cards given to all players\n",
    "- $YR$ is the number of yellow then red cards given to a player\n",
    "- $\\sum YR$ is the total number of yellow then red cards given to all players\n",
    "- $R$ is the number of red cards given to a player\n",
    "- $\\sum R$ is the total number of red cards given to all players\n",
    "\n",
    "Note that $\\frac{\\sum Y}{\\sum YR}$ and $\\frac{\\sum Y}{\\sum R}$ is giving a weight > 1 to the gravity of the card.\n",
    "This has been done in order to minize the bias if the player has hardly encounter the refery\n",
    "\n",
    "\n",
    "So, let's add this new value to the big DF."
   ]
  },
  {
   "cell_type": "code",
   "execution_count": 24,
   "metadata": {
    "collapsed": false,
    "scrolled": true
   },
   "outputs": [
    {
     "name": "stdout",
     "output_type": "stream",
     "text": [
      "Percentage of yellow cards:  13.33592576700279 %\n",
      "Percentage of yellow then red cards:  0.4030787384681399 %\n",
      "Percentage of red cards:  0.4261424586998498 %\n"
     ]
    }
   ],
   "source": [
    "print(\"Percentage of yellow cards: \", 100*df['yellowCards'].sum()/\n",
    "      df['games'].sum(), \"%\")\n",
    "print(\"Percentage of yellow then red cards: \", 100*df['yellowReds'].sum()/\n",
    "      df['games'].sum(), \"%\")\n",
    "print(\"Percentage of red cards: \", 100*df['redCards'].sum()/\n",
    "      df['games'].sum(), \"%\")"
   ]
  },
  {
   "cell_type": "markdown",
   "metadata": {},
   "source": [
    "- here we calculate the number $Y$,$YR$,$R$"
   ]
  },
  {
   "cell_type": "code",
   "execution_count": 25,
   "metadata": {
    "collapsed": false
   },
   "outputs": [],
   "source": [
    "nbr_yellow = df['yellowCards'].sum()\n",
    "nbr_yellowRed = df['yellowReds'].sum()\n",
    "nbr_red = df['redCards'].sum()"
   ]
  },
  {
   "cell_type": "markdown",
   "metadata": {},
   "source": [
    "- next we calculate the gravity with the previous formula"
   ]
  },
  {
   "cell_type": "code",
   "execution_count": 26,
   "metadata": {
    "collapsed": false
   },
   "outputs": [
    {
     "data": {
      "text/plain": [
       "array([   0.        ,    1.        ,   31.29452486,   33.08516301,\n",
       "         32.29452486,    2.        ,    4.        ,    3.        ,\n",
       "         35.08516301,   34.08516301,   34.29452486,    5.        ,\n",
       "         38.08516301,   36.08516301,   11.        ,   71.17032601,\n",
       "          6.        ,    8.        ,   43.08516301,   33.29452486,\n",
       "         42.08516301,   69.37968787,    7.        ,   35.29452486,\n",
       "         37.08516301,   40.08516301,   39.08516301,  111.46485087,\n",
       "         65.37968787,   66.17032601,   38.29452486,   67.37968787,\n",
       "        101.25548902,   36.29452486,   62.58904972,   66.37968787,\n",
       "         64.37968787,   64.58904972,   67.17032601,    9.        ,\n",
       "         68.17032601,   69.17032601,   70.17032601,   74.37968787,\n",
       "         70.37968787,   37.29452486,   10.        ,   68.58904972,\n",
       "         71.37968787,  101.67421272,   41.08516301,   63.58904972,\n",
       "         99.67421272,   40.29452486,   39.29452486,   99.25548902,\n",
       "         73.37968787,   44.08516301,   66.58904972,   46.08516301,\n",
       "         68.37968787,  102.25548902,   45.08516301,   65.58904972,\n",
       "         41.29452486])"
      ]
     },
     "execution_count": 26,
     "metadata": {},
     "output_type": "execute_result"
    }
   ],
   "source": [
    "gravity = df['yellowCards'] + nbr_yellow/nbr_yellowRed * df['yellowReds'] + nbr_yellow/nbr_red * df['redCards']\n",
    "gravity.unique()"
   ]
  },
  {
   "cell_type": "markdown",
   "metadata": {},
   "source": [
    "- next we simply create a new data frame adding the gravity to *df*\n",
    "- done only in order to visualize if the gravity is working"
   ]
  },
  {
   "cell_type": "code",
   "execution_count": 27,
   "metadata": {
    "collapsed": false,
    "scrolled": true
   },
   "outputs": [
    {
     "data": {
      "text/html": [
       "<div>\n",
       "<table border=\"1\" class=\"dataframe\">\n",
       "  <thead>\n",
       "    <tr style=\"text-align: right;\">\n",
       "      <th></th>\n",
       "      <th>playerShort</th>\n",
       "      <th>player</th>\n",
       "      <th>club</th>\n",
       "      <th>leagueCountry</th>\n",
       "      <th>birthday</th>\n",
       "      <th>height</th>\n",
       "      <th>weight</th>\n",
       "      <th>position</th>\n",
       "      <th>games</th>\n",
       "      <th>victories</th>\n",
       "      <th>ties</th>\n",
       "      <th>defeats</th>\n",
       "      <th>goals</th>\n",
       "      <th>yellowCards</th>\n",
       "      <th>yellowReds</th>\n",
       "      <th>redCards</th>\n",
       "      <th>photoID</th>\n",
       "      <th>refNum</th>\n",
       "      <th>refCountry</th>\n",
       "      <th>Alpha_3</th>\n",
       "      <th>meanIAT</th>\n",
       "      <th>nIAT</th>\n",
       "      <th>seIAT</th>\n",
       "      <th>meanExp</th>\n",
       "      <th>nExp</th>\n",
       "      <th>seExp</th>\n",
       "      <th>skin_colour</th>\n",
       "      <th>gravity</th>\n",
       "    </tr>\n",
       "  </thead>\n",
       "  <tbody>\n",
       "    <tr>\n",
       "      <th>0</th>\n",
       "      <td>lucas-wilchez</td>\n",
       "      <td>Lucas Wilchez</td>\n",
       "      <td>Real Zaragoza</td>\n",
       "      <td>Spain</td>\n",
       "      <td>31.08.1983</td>\n",
       "      <td>177.0</td>\n",
       "      <td>72.0</td>\n",
       "      <td>Attacking Midfielder</td>\n",
       "      <td>1</td>\n",
       "      <td>0</td>\n",
       "      <td>0</td>\n",
       "      <td>1</td>\n",
       "      <td>0</td>\n",
       "      <td>0</td>\n",
       "      <td>0</td>\n",
       "      <td>0</td>\n",
       "      <td>95212.jpg</td>\n",
       "      <td>1</td>\n",
       "      <td>1</td>\n",
       "      <td>GRC</td>\n",
       "      <td>0.326391</td>\n",
       "      <td>712.0</td>\n",
       "      <td>0.000564</td>\n",
       "      <td>0.396000</td>\n",
       "      <td>750.0</td>\n",
       "      <td>0.002696</td>\n",
       "      <td>0.375</td>\n",
       "      <td>0.0</td>\n",
       "    </tr>\n",
       "    <tr>\n",
       "      <th>1</th>\n",
       "      <td>john-utaka</td>\n",
       "      <td>John Utaka</td>\n",
       "      <td>Montpellier HSC</td>\n",
       "      <td>France</td>\n",
       "      <td>08.01.1982</td>\n",
       "      <td>179.0</td>\n",
       "      <td>82.0</td>\n",
       "      <td>Right Winger</td>\n",
       "      <td>1</td>\n",
       "      <td>0</td>\n",
       "      <td>0</td>\n",
       "      <td>1</td>\n",
       "      <td>0</td>\n",
       "      <td>1</td>\n",
       "      <td>0</td>\n",
       "      <td>0</td>\n",
       "      <td>1663.jpg</td>\n",
       "      <td>2</td>\n",
       "      <td>2</td>\n",
       "      <td>ZMB</td>\n",
       "      <td>0.203375</td>\n",
       "      <td>40.0</td>\n",
       "      <td>0.010875</td>\n",
       "      <td>-0.204082</td>\n",
       "      <td>49.0</td>\n",
       "      <td>0.061504</td>\n",
       "      <td>0.750</td>\n",
       "      <td>1.0</td>\n",
       "    </tr>\n",
       "    <tr>\n",
       "      <th>5</th>\n",
       "      <td>aaron-hughes</td>\n",
       "      <td>Aaron Hughes</td>\n",
       "      <td>Fulham FC</td>\n",
       "      <td>England</td>\n",
       "      <td>08.11.1979</td>\n",
       "      <td>182.0</td>\n",
       "      <td>71.0</td>\n",
       "      <td>Center Back</td>\n",
       "      <td>1</td>\n",
       "      <td>0</td>\n",
       "      <td>0</td>\n",
       "      <td>1</td>\n",
       "      <td>0</td>\n",
       "      <td>0</td>\n",
       "      <td>0</td>\n",
       "      <td>0</td>\n",
       "      <td>3868.jpg</td>\n",
       "      <td>4</td>\n",
       "      <td>4</td>\n",
       "      <td>LUX</td>\n",
       "      <td>0.325185</td>\n",
       "      <td>127.0</td>\n",
       "      <td>0.003297</td>\n",
       "      <td>0.538462</td>\n",
       "      <td>130.0</td>\n",
       "      <td>0.013752</td>\n",
       "      <td>0.125</td>\n",
       "      <td>0.0</td>\n",
       "    </tr>\n",
       "    <tr>\n",
       "      <th>6</th>\n",
       "      <td>aleksandar-kolarov</td>\n",
       "      <td>Aleksandar Kolarov</td>\n",
       "      <td>Manchester City</td>\n",
       "      <td>England</td>\n",
       "      <td>10.11.1985</td>\n",
       "      <td>187.0</td>\n",
       "      <td>80.0</td>\n",
       "      <td>Left Fullback</td>\n",
       "      <td>1</td>\n",
       "      <td>1</td>\n",
       "      <td>0</td>\n",
       "      <td>0</td>\n",
       "      <td>0</td>\n",
       "      <td>0</td>\n",
       "      <td>0</td>\n",
       "      <td>0</td>\n",
       "      <td>47704.jpg</td>\n",
       "      <td>4</td>\n",
       "      <td>4</td>\n",
       "      <td>LUX</td>\n",
       "      <td>0.325185</td>\n",
       "      <td>127.0</td>\n",
       "      <td>0.003297</td>\n",
       "      <td>0.538462</td>\n",
       "      <td>130.0</td>\n",
       "      <td>0.013752</td>\n",
       "      <td>0.125</td>\n",
       "      <td>0.0</td>\n",
       "    </tr>\n",
       "    <tr>\n",
       "      <th>7</th>\n",
       "      <td>alexander-tettey</td>\n",
       "      <td>Alexander Tettey</td>\n",
       "      <td>Norwich City</td>\n",
       "      <td>England</td>\n",
       "      <td>04.04.1986</td>\n",
       "      <td>180.0</td>\n",
       "      <td>68.0</td>\n",
       "      <td>Defensive Midfielder</td>\n",
       "      <td>1</td>\n",
       "      <td>0</td>\n",
       "      <td>0</td>\n",
       "      <td>1</td>\n",
       "      <td>0</td>\n",
       "      <td>0</td>\n",
       "      <td>0</td>\n",
       "      <td>0</td>\n",
       "      <td>22356.jpg</td>\n",
       "      <td>4</td>\n",
       "      <td>4</td>\n",
       "      <td>LUX</td>\n",
       "      <td>0.325185</td>\n",
       "      <td>127.0</td>\n",
       "      <td>0.003297</td>\n",
       "      <td>0.538462</td>\n",
       "      <td>130.0</td>\n",
       "      <td>0.013752</td>\n",
       "      <td>1.000</td>\n",
       "      <td>0.0</td>\n",
       "    </tr>\n",
       "  </tbody>\n",
       "</table>\n",
       "</div>"
      ],
      "text/plain": [
       "          playerShort              player             club leagueCountry  \\\n",
       "0       lucas-wilchez       Lucas Wilchez    Real Zaragoza         Spain   \n",
       "1          john-utaka          John Utaka  Montpellier HSC        France   \n",
       "5        aaron-hughes        Aaron Hughes        Fulham FC       England   \n",
       "6  aleksandar-kolarov  Aleksandar Kolarov  Manchester City       England   \n",
       "7    alexander-tettey    Alexander Tettey     Norwich City       England   \n",
       "\n",
       "     birthday  height  weight              position  games  victories  ties  \\\n",
       "0  31.08.1983   177.0    72.0  Attacking Midfielder      1          0     0   \n",
       "1  08.01.1982   179.0    82.0          Right Winger      1          0     0   \n",
       "5  08.11.1979   182.0    71.0           Center Back      1          0     0   \n",
       "6  10.11.1985   187.0    80.0         Left Fullback      1          1     0   \n",
       "7  04.04.1986   180.0    68.0  Defensive Midfielder      1          0     0   \n",
       "\n",
       "   defeats  goals  yellowCards  yellowReds  redCards    photoID  refNum  \\\n",
       "0        1      0            0           0         0  95212.jpg       1   \n",
       "1        1      0            1           0         0   1663.jpg       2   \n",
       "5        1      0            0           0         0   3868.jpg       4   \n",
       "6        0      0            0           0         0  47704.jpg       4   \n",
       "7        1      0            0           0         0  22356.jpg       4   \n",
       "\n",
       "   refCountry Alpha_3   meanIAT   nIAT     seIAT   meanExp   nExp     seExp  \\\n",
       "0           1     GRC  0.326391  712.0  0.000564  0.396000  750.0  0.002696   \n",
       "1           2     ZMB  0.203375   40.0  0.010875 -0.204082   49.0  0.061504   \n",
       "5           4     LUX  0.325185  127.0  0.003297  0.538462  130.0  0.013752   \n",
       "6           4     LUX  0.325185  127.0  0.003297  0.538462  130.0  0.013752   \n",
       "7           4     LUX  0.325185  127.0  0.003297  0.538462  130.0  0.013752   \n",
       "\n",
       "   skin_colour  gravity  \n",
       "0        0.375      0.0  \n",
       "1        0.750      1.0  \n",
       "5        0.125      0.0  \n",
       "6        0.125      0.0  \n",
       "7        1.000      0.0  "
      ]
     },
     "execution_count": 27,
     "metadata": {},
     "output_type": "execute_result"
    }
   ],
   "source": [
    "df_with_features = df\n",
    "df_with_features['gravity'] = gravity\n",
    "df_with_features.head()"
   ]
  },
  {
   "cell_type": "markdown",
   "metadata": {},
   "source": [
    "- same as before but this time using the agregated data with unique entry for each player to obtain the actual gravity \n",
    "for each player"
   ]
  },
  {
   "cell_type": "code",
   "execution_count": 28,
   "metadata": {
    "collapsed": false
   },
   "outputs": [],
   "source": [
    "gravity_players = df_players['yellowCards'] + nbr_yellow/nbr_yellowRed * df_players['yellowReds'] + nbr_yellow/nbr_red * df_players['redCards']"
   ]
  },
  {
   "cell_type": "code",
   "execution_count": 29,
   "metadata": {
    "collapsed": false,
    "scrolled": true
   },
   "outputs": [
    {
     "data": {
      "text/html": [
       "<div>\n",
       "<table border=\"1\" class=\"dataframe\">\n",
       "  <thead>\n",
       "    <tr style=\"text-align: right;\">\n",
       "      <th></th>\n",
       "      <th>playerShort</th>\n",
       "      <th>player</th>\n",
       "      <th>club</th>\n",
       "      <th>leagueCountry</th>\n",
       "      <th>birthday</th>\n",
       "      <th>height</th>\n",
       "      <th>weight</th>\n",
       "      <th>position</th>\n",
       "      <th>skin_colour</th>\n",
       "      <th>games</th>\n",
       "      <th>victories</th>\n",
       "      <th>ties</th>\n",
       "      <th>defeats</th>\n",
       "      <th>goals</th>\n",
       "      <th>yellowCards</th>\n",
       "      <th>yellowReds</th>\n",
       "      <th>redCards</th>\n",
       "      <th>english</th>\n",
       "      <th>german</th>\n",
       "      <th>french</th>\n",
       "      <th>spanish</th>\n",
       "      <th>birthYear</th>\n",
       "      <th>gravity</th>\n",
       "    </tr>\n",
       "  </thead>\n",
       "  <tbody>\n",
       "    <tr>\n",
       "      <th>0</th>\n",
       "      <td>aaron-hughes</td>\n",
       "      <td>Aaron Hughes</td>\n",
       "      <td>Fulham FC</td>\n",
       "      <td>England</td>\n",
       "      <td>08.11.1979</td>\n",
       "      <td>182.0</td>\n",
       "      <td>71.0</td>\n",
       "      <td>Center Back</td>\n",
       "      <td>0.125</td>\n",
       "      <td>654</td>\n",
       "      <td>247</td>\n",
       "      <td>179</td>\n",
       "      <td>228</td>\n",
       "      <td>9</td>\n",
       "      <td>19</td>\n",
       "      <td>0</td>\n",
       "      <td>0</td>\n",
       "      <td>1</td>\n",
       "      <td>0</td>\n",
       "      <td>0</td>\n",
       "      <td>0</td>\n",
       "      <td>1979</td>\n",
       "      <td>19.000000</td>\n",
       "    </tr>\n",
       "    <tr>\n",
       "      <th>1</th>\n",
       "      <td>aaron-hunt</td>\n",
       "      <td>Aaron Hunt</td>\n",
       "      <td>Werder Bremen</td>\n",
       "      <td>Germany</td>\n",
       "      <td>04.09.1986</td>\n",
       "      <td>183.0</td>\n",
       "      <td>73.0</td>\n",
       "      <td>Attacking Midfielder</td>\n",
       "      <td>0.125</td>\n",
       "      <td>336</td>\n",
       "      <td>141</td>\n",
       "      <td>73</td>\n",
       "      <td>122</td>\n",
       "      <td>62</td>\n",
       "      <td>42</td>\n",
       "      <td>0</td>\n",
       "      <td>1</td>\n",
       "      <td>0</td>\n",
       "      <td>1</td>\n",
       "      <td>0</td>\n",
       "      <td>0</td>\n",
       "      <td>1986</td>\n",
       "      <td>73.294525</td>\n",
       "    </tr>\n",
       "    <tr>\n",
       "      <th>2</th>\n",
       "      <td>aaron-lennon</td>\n",
       "      <td>Aaron Lennon</td>\n",
       "      <td>Tottenham Hotspur</td>\n",
       "      <td>England</td>\n",
       "      <td>16.04.1987</td>\n",
       "      <td>165.0</td>\n",
       "      <td>63.0</td>\n",
       "      <td>Right Midfielder</td>\n",
       "      <td>0.250</td>\n",
       "      <td>412</td>\n",
       "      <td>200</td>\n",
       "      <td>97</td>\n",
       "      <td>115</td>\n",
       "      <td>31</td>\n",
       "      <td>11</td>\n",
       "      <td>0</td>\n",
       "      <td>0</td>\n",
       "      <td>1</td>\n",
       "      <td>0</td>\n",
       "      <td>0</td>\n",
       "      <td>0</td>\n",
       "      <td>1987</td>\n",
       "      <td>11.000000</td>\n",
       "    </tr>\n",
       "    <tr>\n",
       "      <th>3</th>\n",
       "      <td>aaron-ramsey</td>\n",
       "      <td>Aaron Ramsey</td>\n",
       "      <td>Arsenal FC</td>\n",
       "      <td>England</td>\n",
       "      <td>26.12.1990</td>\n",
       "      <td>178.0</td>\n",
       "      <td>76.0</td>\n",
       "      <td>Center Midfielder</td>\n",
       "      <td>0.000</td>\n",
       "      <td>260</td>\n",
       "      <td>150</td>\n",
       "      <td>42</td>\n",
       "      <td>68</td>\n",
       "      <td>39</td>\n",
       "      <td>31</td>\n",
       "      <td>0</td>\n",
       "      <td>1</td>\n",
       "      <td>1</td>\n",
       "      <td>0</td>\n",
       "      <td>0</td>\n",
       "      <td>0</td>\n",
       "      <td>1990</td>\n",
       "      <td>62.294525</td>\n",
       "    </tr>\n",
       "    <tr>\n",
       "      <th>4</th>\n",
       "      <td>abdelhamid-el-kaoutari</td>\n",
       "      <td>Abdelhamid El-Kaoutari</td>\n",
       "      <td>Montpellier HSC</td>\n",
       "      <td>France</td>\n",
       "      <td>17.03.1990</td>\n",
       "      <td>180.0</td>\n",
       "      <td>73.0</td>\n",
       "      <td>Center Back</td>\n",
       "      <td>0.250</td>\n",
       "      <td>124</td>\n",
       "      <td>41</td>\n",
       "      <td>40</td>\n",
       "      <td>43</td>\n",
       "      <td>1</td>\n",
       "      <td>8</td>\n",
       "      <td>4</td>\n",
       "      <td>2</td>\n",
       "      <td>0</td>\n",
       "      <td>0</td>\n",
       "      <td>1</td>\n",
       "      <td>0</td>\n",
       "      <td>1990</td>\n",
       "      <td>202.929702</td>\n",
       "    </tr>\n",
       "  </tbody>\n",
       "</table>\n",
       "</div>"
      ],
      "text/plain": [
       "              playerShort                  player               club  \\\n",
       "0            aaron-hughes            Aaron Hughes          Fulham FC   \n",
       "1              aaron-hunt              Aaron Hunt      Werder Bremen   \n",
       "2            aaron-lennon            Aaron Lennon  Tottenham Hotspur   \n",
       "3            aaron-ramsey            Aaron Ramsey         Arsenal FC   \n",
       "4  abdelhamid-el-kaoutari  Abdelhamid El-Kaoutari    Montpellier HSC   \n",
       "\n",
       "  leagueCountry    birthday  height  weight              position  \\\n",
       "0       England  08.11.1979   182.0    71.0           Center Back   \n",
       "1       Germany  04.09.1986   183.0    73.0  Attacking Midfielder   \n",
       "2       England  16.04.1987   165.0    63.0      Right Midfielder   \n",
       "3       England  26.12.1990   178.0    76.0     Center Midfielder   \n",
       "4        France  17.03.1990   180.0    73.0           Center Back   \n",
       "\n",
       "   skin_colour  games  victories  ties  defeats  goals  yellowCards  \\\n",
       "0        0.125    654        247   179      228      9           19   \n",
       "1        0.125    336        141    73      122     62           42   \n",
       "2        0.250    412        200    97      115     31           11   \n",
       "3        0.000    260        150    42       68     39           31   \n",
       "4        0.250    124         41    40       43      1            8   \n",
       "\n",
       "   yellowReds  redCards  english  german  french  spanish  birthYear  \\\n",
       "0           0         0        1       0       0        0       1979   \n",
       "1           0         1        0       1       0        0       1986   \n",
       "2           0         0        1       0       0        0       1987   \n",
       "3           0         1        1       0       0        0       1990   \n",
       "4           4         2        0       0       1        0       1990   \n",
       "\n",
       "      gravity  \n",
       "0   19.000000  \n",
       "1   73.294525  \n",
       "2   11.000000  \n",
       "3   62.294525  \n",
       "4  202.929702  "
      ]
     },
     "execution_count": 29,
     "metadata": {},
     "output_type": "execute_result"
    }
   ],
   "source": [
    "df_players_with_features = df_players\n",
    "df_players_with_features['gravity'] = gravity_players\n",
    "df_players_with_features.head()"
   ]
  },
  {
   "cell_type": "markdown",
   "metadata": {},
   "source": [
    "- check if the aggregation gives the same result as summing over all the non aggregated values"
   ]
  },
  {
   "cell_type": "code",
   "execution_count": 30,
   "metadata": {
    "collapsed": false
   },
   "outputs": [
    {
     "name": "stdout",
     "output_type": "stream",
     "text": [
      "Gravity for 1st player in aggregated table:  19.0\n",
      "Gravity for 1st player in Non-aggregated table:  19.0\n"
     ]
    }
   ],
   "source": [
    "print(\"Gravity for 1st player in aggregated table: \", df_players_with_features['gravity'][0])\n",
    "print(\"Gravity for 1st player in Non-aggregated table: \", \n",
    "      df_with_features[df_with_features['player'] == 'Aaron Hughes']['gravity'].sum())\n",
    "\n",
    "# It's ok.. =)"
   ]
  },
  {
   "cell_type": "markdown",
   "metadata": {},
   "source": [
    "We can now introduce another cross-feature. The purpose of this one is to use the *meanIAT* and *meanExp* values. To do so, we will link them with the 4 following features: *yellowCards*, *yellowReds*, *redCards*, and *gravity*. We will use the following equation:\n",
    "\n",
    "\\begin{equation}\n",
    "F_{I-C} (P) = \\frac{1}{\\#R(P)} \\sum_{r\\in R(P)} \\frac{C(r)}{E(r)} \\cdot I(r)\n",
    "\\end{equation}\n",
    "\n",
    "where:\n",
    "- $F_{I-C} (P)$ defines the new feature.\n",
    "- $I$ is the indicator. It can be *meanIAT* or *meanExp*\n",
    "- $C$ defines the types of card received. It can be *yellowCards*, *yellowReds*, *redCards*, or *gravity*\n",
    "- $P$ is a given player.\n",
    "- $\\#R(P)$ is the number of referees with whom a player played.\n",
    "- $\\sum_{r\\in R(P)}$ is the sum over all referees who played with a given player.\n",
    "- $C(r)$ is the value of $C$ for a specific Player and a specific referee.\n",
    "- $E(r)$ is the number of times a referee played with a player.\n",
    "- $I(r)$ is the indicator of the referee. *meanIAT* or *meanExp*\n",
    "\n",
    "This will create 8 new features."
   ]
  },
  {
   "cell_type": "code",
   "execution_count": 31,
   "metadata": {
    "collapsed": true
   },
   "outputs": [],
   "source": [
    "indicators = ['meanIAT', 'meanExp']\n",
    "cards = ['yellowCards', 'yellowReds', 'redCards', 'gravity']"
   ]
  },
  {
   "cell_type": "markdown",
   "metadata": {},
   "source": [
    "#1) We created to tables to iterate on and have all the combinaison \n",
    "#2) We iterate on theses tables and calculate these cross-features\n",
    "#3) Finally we had directly the features in the *df_players_with_features* frame "
   ]
  },
  {
   "cell_type": "code",
   "execution_count": 32,
   "metadata": {
    "collapsed": false
   },
   "outputs": [
    {
     "name": "stdout",
     "output_type": "stream",
     "text": [
      "Start feature  meanIAT_yellowCards\n",
      "Start feature  meanIAT_yellowReds\n",
      "Start feature  meanIAT_redCards\n",
      "Start feature  meanIAT_gravity\n",
      "Start feature  meanExp_yellowCards\n",
      "Start feature  meanExp_yellowReds\n",
      "Start feature  meanExp_redCards\n",
      "Start feature  meanExp_gravity\n"
     ]
    },
    {
     "data": {
      "text/html": [
       "<div>\n",
       "<table border=\"1\" class=\"dataframe\">\n",
       "  <thead>\n",
       "    <tr style=\"text-align: right;\">\n",
       "      <th></th>\n",
       "      <th>playerShort</th>\n",
       "      <th>player</th>\n",
       "      <th>club</th>\n",
       "      <th>leagueCountry</th>\n",
       "      <th>birthday</th>\n",
       "      <th>height</th>\n",
       "      <th>weight</th>\n",
       "      <th>position</th>\n",
       "      <th>skin_colour</th>\n",
       "      <th>games</th>\n",
       "      <th>victories</th>\n",
       "      <th>ties</th>\n",
       "      <th>defeats</th>\n",
       "      <th>goals</th>\n",
       "      <th>yellowCards</th>\n",
       "      <th>yellowReds</th>\n",
       "      <th>redCards</th>\n",
       "      <th>english</th>\n",
       "      <th>german</th>\n",
       "      <th>french</th>\n",
       "      <th>spanish</th>\n",
       "      <th>birthYear</th>\n",
       "      <th>gravity</th>\n",
       "      <th>meanIAT_yellowCards</th>\n",
       "      <th>meanIAT_yellowReds</th>\n",
       "      <th>meanIAT_redCards</th>\n",
       "      <th>meanIAT_gravity</th>\n",
       "      <th>meanExp_yellowCards</th>\n",
       "      <th>meanExp_yellowReds</th>\n",
       "      <th>meanExp_redCards</th>\n",
       "      <th>meanExp_gravity</th>\n",
       "    </tr>\n",
       "  </thead>\n",
       "  <tbody>\n",
       "    <tr>\n",
       "      <th>0</th>\n",
       "      <td>aaron-hughes</td>\n",
       "      <td>Aaron Hughes</td>\n",
       "      <td>Fulham FC</td>\n",
       "      <td>England</td>\n",
       "      <td>08.11.1979</td>\n",
       "      <td>182.0</td>\n",
       "      <td>71.0</td>\n",
       "      <td>Center Back</td>\n",
       "      <td>0.125</td>\n",
       "      <td>654</td>\n",
       "      <td>247</td>\n",
       "      <td>179</td>\n",
       "      <td>228</td>\n",
       "      <td>9</td>\n",
       "      <td>19</td>\n",
       "      <td>0</td>\n",
       "      <td>0</td>\n",
       "      <td>1</td>\n",
       "      <td>0</td>\n",
       "      <td>0</td>\n",
       "      <td>0</td>\n",
       "      <td>1979</td>\n",
       "      <td>19.000000</td>\n",
       "      <td>0.091822</td>\n",
       "      <td>0.000000</td>\n",
       "      <td>0.000000</td>\n",
       "      <td>0.091822</td>\n",
       "      <td>0.021439</td>\n",
       "      <td>0.000000</td>\n",
       "      <td>0.000000</td>\n",
       "      <td>0.021439</td>\n",
       "    </tr>\n",
       "    <tr>\n",
       "      <th>1</th>\n",
       "      <td>aaron-hunt</td>\n",
       "      <td>Aaron Hunt</td>\n",
       "      <td>Werder Bremen</td>\n",
       "      <td>Germany</td>\n",
       "      <td>04.09.1986</td>\n",
       "      <td>183.0</td>\n",
       "      <td>73.0</td>\n",
       "      <td>Attacking Midfielder</td>\n",
       "      <td>0.125</td>\n",
       "      <td>336</td>\n",
       "      <td>141</td>\n",
       "      <td>73</td>\n",
       "      <td>122</td>\n",
       "      <td>62</td>\n",
       "      <td>42</td>\n",
       "      <td>0</td>\n",
       "      <td>1</td>\n",
       "      <td>0</td>\n",
       "      <td>1</td>\n",
       "      <td>0</td>\n",
       "      <td>0</td>\n",
       "      <td>1986</td>\n",
       "      <td>73.294525</td>\n",
       "      <td>0.650368</td>\n",
       "      <td>0.000000</td>\n",
       "      <td>0.004907</td>\n",
       "      <td>0.803920</td>\n",
       "      <td>0.065498</td>\n",
       "      <td>0.000000</td>\n",
       "      <td>0.000391</td>\n",
       "      <td>0.077720</td>\n",
       "    </tr>\n",
       "    <tr>\n",
       "      <th>2</th>\n",
       "      <td>aaron-lennon</td>\n",
       "      <td>Aaron Lennon</td>\n",
       "      <td>Tottenham Hotspur</td>\n",
       "      <td>England</td>\n",
       "      <td>16.04.1987</td>\n",
       "      <td>165.0</td>\n",
       "      <td>63.0</td>\n",
       "      <td>Right Midfielder</td>\n",
       "      <td>0.250</td>\n",
       "      <td>412</td>\n",
       "      <td>200</td>\n",
       "      <td>97</td>\n",
       "      <td>115</td>\n",
       "      <td>31</td>\n",
       "      <td>11</td>\n",
       "      <td>0</td>\n",
       "      <td>0</td>\n",
       "      <td>1</td>\n",
       "      <td>0</td>\n",
       "      <td>0</td>\n",
       "      <td>0</td>\n",
       "      <td>1987</td>\n",
       "      <td>11.000000</td>\n",
       "      <td>0.062796</td>\n",
       "      <td>0.000000</td>\n",
       "      <td>0.000000</td>\n",
       "      <td>0.062796</td>\n",
       "      <td>0.013361</td>\n",
       "      <td>0.000000</td>\n",
       "      <td>0.000000</td>\n",
       "      <td>0.013361</td>\n",
       "    </tr>\n",
       "    <tr>\n",
       "      <th>3</th>\n",
       "      <td>aaron-ramsey</td>\n",
       "      <td>Aaron Ramsey</td>\n",
       "      <td>Arsenal FC</td>\n",
       "      <td>England</td>\n",
       "      <td>26.12.1990</td>\n",
       "      <td>178.0</td>\n",
       "      <td>76.0</td>\n",
       "      <td>Center Midfielder</td>\n",
       "      <td>0.000</td>\n",
       "      <td>260</td>\n",
       "      <td>150</td>\n",
       "      <td>42</td>\n",
       "      <td>68</td>\n",
       "      <td>39</td>\n",
       "      <td>31</td>\n",
       "      <td>0</td>\n",
       "      <td>1</td>\n",
       "      <td>1</td>\n",
       "      <td>0</td>\n",
       "      <td>0</td>\n",
       "      <td>0</td>\n",
       "      <td>1990</td>\n",
       "      <td>62.294525</td>\n",
       "      <td>0.323404</td>\n",
       "      <td>0.000000</td>\n",
       "      <td>0.025803</td>\n",
       "      <td>1.130884</td>\n",
       "      <td>0.058870</td>\n",
       "      <td>0.000000</td>\n",
       "      <td>0.003781</td>\n",
       "      <td>0.177182</td>\n",
       "    </tr>\n",
       "    <tr>\n",
       "      <th>4</th>\n",
       "      <td>abdelhamid-el-kaoutari</td>\n",
       "      <td>Abdelhamid El-Kaoutari</td>\n",
       "      <td>Montpellier HSC</td>\n",
       "      <td>France</td>\n",
       "      <td>17.03.1990</td>\n",
       "      <td>180.0</td>\n",
       "      <td>73.0</td>\n",
       "      <td>Center Back</td>\n",
       "      <td>0.250</td>\n",
       "      <td>124</td>\n",
       "      <td>41</td>\n",
       "      <td>40</td>\n",
       "      <td>43</td>\n",
       "      <td>1</td>\n",
       "      <td>8</td>\n",
       "      <td>4</td>\n",
       "      <td>2</td>\n",
       "      <td>0</td>\n",
       "      <td>0</td>\n",
       "      <td>1</td>\n",
       "      <td>0</td>\n",
       "      <td>1990</td>\n",
       "      <td>202.929702</td>\n",
       "      <td>0.087327</td>\n",
       "      <td>0.058871</td>\n",
       "      <td>0.015179</td>\n",
       "      <td>2.510114</td>\n",
       "      <td>0.039711</td>\n",
       "      <td>0.028211</td>\n",
       "      <td>0.006903</td>\n",
       "      <td>1.189102</td>\n",
       "    </tr>\n",
       "  </tbody>\n",
       "</table>\n",
       "</div>"
      ],
      "text/plain": [
       "              playerShort                  player               club  \\\n",
       "0            aaron-hughes            Aaron Hughes          Fulham FC   \n",
       "1              aaron-hunt              Aaron Hunt      Werder Bremen   \n",
       "2            aaron-lennon            Aaron Lennon  Tottenham Hotspur   \n",
       "3            aaron-ramsey            Aaron Ramsey         Arsenal FC   \n",
       "4  abdelhamid-el-kaoutari  Abdelhamid El-Kaoutari    Montpellier HSC   \n",
       "\n",
       "  leagueCountry    birthday  height  weight              position  \\\n",
       "0       England  08.11.1979   182.0    71.0           Center Back   \n",
       "1       Germany  04.09.1986   183.0    73.0  Attacking Midfielder   \n",
       "2       England  16.04.1987   165.0    63.0      Right Midfielder   \n",
       "3       England  26.12.1990   178.0    76.0     Center Midfielder   \n",
       "4        France  17.03.1990   180.0    73.0           Center Back   \n",
       "\n",
       "   skin_colour  games  victories  ties  defeats  goals  yellowCards  \\\n",
       "0        0.125    654        247   179      228      9           19   \n",
       "1        0.125    336        141    73      122     62           42   \n",
       "2        0.250    412        200    97      115     31           11   \n",
       "3        0.000    260        150    42       68     39           31   \n",
       "4        0.250    124         41    40       43      1            8   \n",
       "\n",
       "   yellowReds  redCards  english  german  french  spanish  birthYear  \\\n",
       "0           0         0        1       0       0        0       1979   \n",
       "1           0         1        0       1       0        0       1986   \n",
       "2           0         0        1       0       0        0       1987   \n",
       "3           0         1        1       0       0        0       1990   \n",
       "4           4         2        0       0       1        0       1990   \n",
       "\n",
       "      gravity  meanIAT_yellowCards  meanIAT_yellowReds  meanIAT_redCards  \\\n",
       "0   19.000000             0.091822            0.000000          0.000000   \n",
       "1   73.294525             0.650368            0.000000          0.004907   \n",
       "2   11.000000             0.062796            0.000000          0.000000   \n",
       "3   62.294525             0.323404            0.000000          0.025803   \n",
       "4  202.929702             0.087327            0.058871          0.015179   \n",
       "\n",
       "   meanIAT_gravity  meanExp_yellowCards  meanExp_yellowReds  meanExp_redCards  \\\n",
       "0         0.091822             0.021439            0.000000          0.000000   \n",
       "1         0.803920             0.065498            0.000000          0.000391   \n",
       "2         0.062796             0.013361            0.000000          0.000000   \n",
       "3         1.130884             0.058870            0.000000          0.003781   \n",
       "4         2.510114             0.039711            0.028211          0.006903   \n",
       "\n",
       "   meanExp_gravity  \n",
       "0         0.021439  \n",
       "1         0.077720  \n",
       "2         0.013361  \n",
       "3         0.177182  \n",
       "4         1.189102  "
      ]
     },
     "execution_count": 32,
     "metadata": {},
     "output_type": "execute_result"
    }
   ],
   "source": [
    "for idcts in indicators:\n",
    "    for crds in cards:\n",
    "        feature_name = idcts + \"_\" + crds\n",
    "        array_feature = []\n",
    "        print(\"Start feature \", feature_name)\n",
    "        for plyr in df_players['player']:\n",
    "            feature = 0\n",
    "            # Get the DF with the player\n",
    "            df_player = df[df['player'] == plyr]\n",
    "            # Number of different referee\n",
    "            nbr_ref = len(df_player)\n",
    "            # Reindex\n",
    "            df_player.index = np.arange(nbr_ref)\n",
    "            # Sum for the new feature\n",
    "            for i in range(nbr_ref):\n",
    "                new_idtc = (df_player[idcts][i] + np.abs(np.min(df_player[idcts])))/(np.max(df_player[idcts])-np.min(df_player[idcts]))\n",
    "                feature += df_player[crds][i]/df_player['games'][i]*new_idtc\n",
    "            # Add it into the array\n",
    "            array_feature.append(feature/nbr_ref)\n",
    "        # Add it into the DataFrame\n",
    "        df_players_with_features[feature_name] = array_feature\n",
    "df_players_with_features.head()"
   ]
  },
  {
   "cell_type": "code",
   "execution_count": 40,
   "metadata": {
    "collapsed": false
   },
   "outputs": [],
   "source": [
    "# Let's save the new DF\n",
    "df_players_with_features.to_csv('./Data/players_with features.csv', index=False)"
   ]
  },
  {
   "cell_type": "code",
   "execution_count": 41,
   "metadata": {
    "collapsed": true
   },
   "outputs": [],
   "source": [
    "# We can also save the one without the nan\n",
    "df_players_with_features_no_nan = df_players_with_features.dropna()\n",
    "df_players_with_features_no_nan.to_csv('./Data/players_with features_no_nan.csv', index=False)"
   ]
  },
  {
   "cell_type": "markdown",
   "metadata": {},
   "source": [
    "- the columns with String values can be dropped since the clustering takes euclidian distance between features which makes no sense for these strings values"
   ]
  },
  {
   "cell_type": "code",
   "execution_count": 42,
   "metadata": {
    "collapsed": false
   },
   "outputs": [],
   "source": [
    "# We can remove all the columns with String values instead of numerical values.\n",
    "non_numeric = ['playerShort', 'player', 'club', 'leagueCountry', 'birthday', 'position']\n",
    "df_players_with_features.drop(non_numeric, axis=1).to_csv('./Data/players_with features_only_num_values.csv', index=False)\n",
    "df_players_with_features_no_nan.drop(non_numeric, axis=1).to_csv('./Data/players_with features_no_nan_only_num_values.csv', index=False)"
   ]
  },
  {
   "cell_type": "markdown",
   "metadata": {},
   "source": [
    "## Visualization of the data\n",
    "\n",
    "Let's do some scatter plot to see if some features are interesting with the *skin_colour*. We expect that some features such as the number of games played will be irrelevant with the *skin_colour*. "
   ]
  },
  {
   "cell_type": "code",
   "execution_count": 43,
   "metadata": {
    "collapsed": false
   },
   "outputs": [
    {
     "data": {
      "text/plain": [
       "(1304, 31)"
      ]
     },
     "execution_count": 43,
     "metadata": {},
     "output_type": "execute_result"
    }
   ],
   "source": [
    "df_players_with_features_no_nan.shape"
   ]
  },
  {
   "cell_type": "markdown",
   "metadata": {},
   "source": [
    "- create set of all the features to iterate on, omiting 'skin_color' since we want to scatter plot the skin color function of the others"
   ]
  },
  {
   "cell_type": "code",
   "execution_count": 44,
   "metadata": {
    "collapsed": false
   },
   "outputs": [
    {
     "data": {
      "text/plain": [
       "30"
      ]
     },
     "execution_count": 44,
     "metadata": {},
     "output_type": "execute_result"
    }
   ],
   "source": [
    "features_tmp = df_players_with_features.columns\n",
    "features = []\n",
    "label = 'skin_colour'\n",
    "for i in features_tmp:\n",
    "    if i != label:\n",
    "        features.append(i)\n",
    "len(features)"
   ]
  },
  {
   "cell_type": "markdown",
   "metadata": {},
   "source": [
    "- create mucho figures to roughly compare the differences wrt the skin color\n",
    "- it appends that not much of the features seems to show a hughe difference\n",
    "- note that some figures are not relevant such as country/color we could dig deeper to have a proper scatter plot\n",
    "but this should not have any interesting results"
   ]
  },
  {
   "cell_type": "code",
   "execution_count": 45,
   "metadata": {
    "collapsed": false
   },
   "outputs": [
    {
     "data": {
      "image/png": "[encoded data removed]",
      "text/plain": [
       "<matplotlib.figure.Figure at 0x11533f160>"
      ]
     },
     "metadata": {},
     "output_type": "display_data"
    },
    {
     "data": {
      "image/png": "[encoded data removed]",
      "text/plain": [
       "<matplotlib.figure.Figure at 0x115417a20>"
      ]
     },
     "metadata": {},
     "output_type": "display_data"
    },
    {
     "data": {
      "image/png": "[encoded data removed]",
      "text/plain": [
       "<matplotlib.figure.Figure at 0x115bceac8>"
      ]
     },
     "metadata": {},
     "output_type": "display_data"
    },
    {
     "data": {
      "image/png": "[encoded data removed]",
      "text/plain": [
       "<matplotlib.figure.Figure at 0x11567ae80>"
      ]
     },
     "metadata": {},
     "output_type": "display_data"
    },
    {
     "data": {
      "image/png": "[encoded data removed]",
      "text/plain": [
       "<matplotlib.figure.Figure at 0x115426ba8>"
      ]
     },
     "metadata": {},
     "output_type": "display_data"
    },
    {
     "data": {
      "image/png": "[encoded data removed]",
      "text/plain": [
       "<matplotlib.figure.Figure at 0x1154c76a0>"
      ]
     },
     "metadata": {},
     "output_type": "display_data"
    },
    {
     "data": {
      "image/png": "[encoded data removed]",
      "text/plain": [
       "<matplotlib.figure.Figure at 0x116ee7f60>"
      ]
     },
     "metadata": {},
     "output_type": "display_data"
    },
    {
     "data": {
      "image/png": "[encoded data removed]",
      "text/plain": [
       "<matplotlib.figure.Figure at 0x115c30a58>"
      ]
     },
     "metadata": {},
     "output_type": "display_data"
    },
    {
     "data": {
      "image/png": "[encoded data removed]",
      "text/plain": [
       "<matplotlib.figure.Figure at 0x109683ef0>"
      ]
     },
     "metadata": {},
     "output_type": "display_data"
    },
    {
     "data": {
      "image/png": "[encoded data removed]",
      "text/plain": [
       "<matplotlib.figure.Figure at 0x1154f6b70>"
      ]
     },
     "metadata": {},
     "output_type": "display_data"
    },
    {
     "data": {
      "image/png": "[encoded data removed]",
      "text/plain": [
       "<matplotlib.figure.Figure at 0x116128f28>"
      ]
     },
     "metadata": {},
     "output_type": "display_data"
    },
    {
     "data": {
      "image/png": "[encoded data removed]",
      "text/plain": [
       "<matplotlib.figure.Figure at 0x116edce48>"
      ]
     },
     "metadata": {},
     "output_type": "display_data"
    },
    {
     "data": {
      "image/png": "[encoded data removed]",
      "text/plain": [
       "<matplotlib.figure.Figure at 0x115f367b8>"
      ]
     },
     "metadata": {},
     "output_type": "display_data"
    },
    {
     "data": {
      "image/png": "[encoded data removed]",
      "text/plain": [
       "<matplotlib.figure.Figure at 0x114b99a20>"
      ]
     },
     "metadata": {},
     "output_type": "display_data"
    },
    {
     "data": {
      "image/png": "[encoded data removed]",
      "text/plain": [
       "<matplotlib.figure.Figure at 0x116f79470>"
      ]
     },
     "metadata": {},
     "output_type": "display_data"
    },
    {
     "data": {
      "image/png": "[encoded data removed]",
      "text/plain": [
       "<matplotlib.figure.Figure at 0x10966cf60>"
      ]
     },
     "metadata": {},
     "output_type": "display_data"
    },
    {
     "data": {
      "image/png": "[encoded data removed]",
      "text/plain": [
       "<matplotlib.figure.Figure at 0x1156f4c88>"
      ]
     },
     "metadata": {},
     "output_type": "display_data"
    },
    {
     "data": {
      "image/png": "[encoded data removed]",
      "text/plain": [
       "<matplotlib.figure.Figure at 0x1154c54a8>"
      ]
     },
     "metadata": {},
     "output_type": "display_data"
    },
    {
     "data": {
      "image/png": "[encoded data removed]",
      "text/plain": [
       "<matplotlib.figure.Figure at 0x1154e9668>"
      ]
     },
     "metadata": {},
     "output_type": "display_data"
    },
    {
     "data": {
      "image/png": "[encoded data removed]",
      "text/plain": [
       "<matplotlib.figure.Figure at 0x114ba3dd8>"
      ]
     },
     "metadata": {},
     "output_type": "display_data"
    },
    {
     "data": {
      "image/png": "[encoded data removed]",
      "text/plain": [
       "<matplotlib.figure.Figure at 0x1176b4ac8>"
      ]
     },
     "metadata": {},
     "output_type": "display_data"
    },
    {
     "data": {
      "image/png": "[encoded data removed]",
      "text/plain": [
       "<matplotlib.figure.Figure at 0x115bd2f60>"
      ]
     },
     "metadata": {},
     "output_type": "display_data"
    },
    {
     "data": {
      "image/png": "[encoded data removed]",
      "text/plain": [
       "<matplotlib.figure.Figure at 0x115f1bba8>"
      ]
     },
     "metadata": {},
     "output_type": "display_data"
    },
    {
     "data": {
      "image/png": "[encoded data removed]",
      "text/plain": [
       "<matplotlib.figure.Figure at 0x10a3254a8>"
      ]
     },
     "metadata": {},
     "output_type": "display_data"
    }
   ],
   "source": [
    "for ftre in features:\n",
    "    if ftre not in non_numeric:\n",
    "        plt.figure()\n",
    "        plt.scatter(list(df_players_with_features_no_nan[ftre]), list(df_players_with_features_no_nan[label]))\n",
    "        plt.title('Feature: %s'%(ftre))\n",
    "        plt.xlabel(ftre)\n",
    "        plt.ylabel(label)\n",
    "        plt.show()"
   ]
  },
  {
   "cell_type": "code",
   "execution_count": 39,
   "metadata": {
    "collapsed": false
   },
   "outputs": [
    {
     "data": {
      "text/plain": [
       "[<matplotlib.lines.Line2D at 0x11532acf8>]"
      ]
     },
     "execution_count": 39,
     "metadata": {},
     "output_type": "execute_result"
    },
    {
     "data": {
      "image/png": "[encoded data removed]",
      "text/plain": [
       "<matplotlib.figure.Figure at 0x114b47fd0>"
      ]
     },
     "metadata": {},
     "output_type": "display_data"
    }
   ],
   "source": [
    "# Just plot the values of meanExp because some values are less than 0\n",
    "plt.figure()\n",
    "plt.plot(df['meanExp'],color='b')\n",
    "plt.plot(df['meanIAT'],color='g')"
   ]
  },
  {
   "cell_type": "markdown",
   "metadata": {},
   "source": [
    "Plotting the data that are available did not seem to exhibit any obvious characteristic that would be correlated to the skin colour of a player. We will see whether our machine learning algorithm will be able to find a good classification."
   ]
  }
 ],
 "metadata": {
  "anaconda-cloud": {},
  "kernelspec": {
   "display_name": "Python [Root]",
   "language": "python",
   "name": "Python [Root]"
  },
  "language_info": {
   "codemirror_mode": {
    "name": "ipython",
    "version": 3
   },
   "file_extension": ".py",
   "mimetype": "text/x-python",
   "name": "python",
   "nbconvert_exporter": "python",
   "pygments_lexer": "ipython3",
   "version": "3.5.2"
  }
 },
 "nbformat": 4,
 "nbformat_minor": 1
}
