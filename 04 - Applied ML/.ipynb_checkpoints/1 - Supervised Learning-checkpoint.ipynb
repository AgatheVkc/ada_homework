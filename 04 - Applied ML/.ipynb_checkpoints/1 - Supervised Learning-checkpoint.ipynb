{
 "cells": [
  {
   "cell_type": "markdown",
   "metadata": {},
   "source": [
    "# Supervised Learning\n",
    ">Train a `sklearn.ensemble.RandomForestClassifier` that given a soccer player description outputs his skin color. Show how different parameters passed to the Classifier affect the overfitting issue. Perform cross-validation to mitigate the overfitting of your model. Once you assessed your model, inspect the feature\\_importances\\_ attribute and discuss the obtained results. With different assumptions on the data (e.g., dropping certain features even before feeding them to the classifier), can you obtain a substantially different feature\\_importances\\_ attribute?\n",
    "\n",
    "> *BONUS:* plot the learning curves against at least 2 different sets of parameters passed to your Random Forest. To obtain smooth curves, partition your data in at least 20 folds. Can you find a set of parameters that leads to high bias, and one which does not?\n",
    "\n",
    "From the preprocessing step, we generated 6 datasets, that we will use with our machine learning algorithm. We will later on compare the results we obtain. As a reminder, the 6 datasets are as follows\n",
    "1.  3 datasets with NaNs and 3 without NaNs\n",
    "\n",
    "2.  1. players.csv -> Simply the players, no added cross-features\n",
    "    2. players_with features.csv -> Added cross-features.\n",
    "    3. players_with features_only_num_values.csv -> We do not consider the textual fields.\n",
    "    \n",
    "    \n",
    "# 0. Imports"
   ]
  },
  {
   "cell_type": "code",
   "execution_count": 1,
   "metadata": {
    "collapsed": false
   },
   "outputs": [],
   "source": [
    "# Import Libraries\n",
    "import pandas as pd\n",
    "import numpy as np\n",
    "import os\n",
    "import matplotlib.pyplot as plt\n",
    "import sklearn\n",
    "import sklearn.ensemble\n",
    "from sklearn.ensemble import RandomForestClassifier\n",
    "from sklearn.model_selection import cross_val_score, train_test_split,cross_val_predict\n",
    "import sklearn.metrics\n",
    "%matplotlib inline\n",
    "%load_ext autoreload\n",
    "%autoreload 2\n",
    "\n",
    "# There's a lot of columns in the DF. \n",
    "# Therefore, we add this option so that we can see more columns\n",
    "pd.options.display.max_columns = 100"
   ]
  },
  {
   "cell_type": "markdown",
   "metadata": {},
   "source": [
    "# 1. Preparing the features\n",
    "Given a file, loads the features the way we need them to pass them to the `RandomForestClassifier` method. We first create a field named *X* which contains all the features (entries of the loaded DataFrame minus the *skin_colour* column of it). The *Y* will will be the output labels, containing the informations of the *skin_colour* columns DataFrame, but the values will be rescaled into integers. Finally, the *columns* fields contains the name of the features of *X*.\n",
    "\n",
    "\n",
    "We also prepare the output labels : first of all, we do a binary classification, setting the limit at a *threshold* which is by default fixed at *0.5*, in order to have a simple case to treat. We return as well the columns vector, which corresponds to the features we're dealing with."
   ]
  },
  {
   "cell_type": "code",
   "execution_count": 226,
   "metadata": {
    "collapsed": false
   },
   "outputs": [],
   "source": [
    "def prepare_features_binary(file_,thresh = 0.5):\n",
    "    \"\"\"\n",
    "        Loads the data contained in the file_ and formats it in the way we need for it to be fed into a sklearn classifier. \n",
    "        @param file_ : the file which contains the data we want to learn on.\n",
    "        @param thresh : the threshold at which we set the binary classification (x >= thresh -> y = 1, x < thresh -> y =0)\n",
    "        @return X : the features of the model (size n_samples x n_features)\n",
    "        @return Y : the labels of our set (size n_samples)\n",
    "        @return columns : the name of the features (list of string of size n_features)\n",
    "    \"\"\"\n",
    "    df = pd.read_csv(file_)\n",
    "\n",
    "    # We drop the skin colour as it is the solution, it goes into the output array.\n",
    "    X = df.drop('skin_colour',axis=1)\n",
    "    \n",
    "    columns = X.columns.values\n",
    "    \n",
    "    Y = np.array(df['skin_colour'])\n",
    "    \n",
    "    # Binary classification performed here.\n",
    "    Y = (Y>=thresh).astype(int)\n",
    "    \n",
    "    return X, Y, columns"
   ]
  },
  {
   "cell_type": "markdown",
   "metadata": {},
   "source": [
    "The second preparation splits the data into a given number of classes, in order to see how we perform which less aggregated data. It outputs a label from *0* to *split* for the *Y* attribute. \n",
    "\n",
    "An example is worth a thousand words. Our data *Y* are takes values in one of those : \n",
    "$y_i \\in [0, 0.125, 0.25, 0.375, 0.5, 0.625, 0.75, 0.875, 1]$\n",
    "\n",
    "Let us suppose our Y has the form  $Y = [0, 0.25, 0.5, 0.5, 0.75, 1, 0.625]$\n",
    "Hence, aggregating our data in 3 classes will yield the the Y's to go into \n",
    "- The class labelled 0 if $y_i \\in [0, 0.125, 0.25] $\n",
    "- The class labelled 1 if $y_i \\in [0.375, 0.5, 0.625]$\n",
    "- The class labelled 2 if $y_i \\in [0.75, 0.875, 1]$\n",
    "\n",
    "Thus, our example will end up being of the form $Y_{agg} = [0, 0, 1, 1, 2, 2, 1]$. This is what the routine `prepare_features_multi` does."
   ]
  },
  {
   "cell_type": "code",
   "execution_count": 292,
   "metadata": {
    "collapsed": true
   },
   "outputs": [],
   "source": [
    "def prepare_features_multi(file_,split):\n",
    "    \"\"\"\n",
    "        Loads the data contained in the file_ and formats it in the way we need for it to be fed into a sklearn classifier.\n",
    "        The form of the output is the following  : x in the interval [ split[i], split[i+1] [ -> output y = i\n",
    "        @param file_ : the file which contains the data we want to learn on.\n",
    "        @param split : the number of different output classes that we will have (2 to 9 classes only)\n",
    "        @return X : the features of the model (size n_samples x n_features)\n",
    "        @return Y : the labels of our set (size n_samples)\n",
    "        @return columns : the name of the features (list of string of size n_features)\n",
    "    \"\"\"\n",
    "    df = pd.read_csv(file_)\n",
    "    # We drop the skin colour as it is the solution, it goes into the output array.\n",
    "    X = df.drop('skin_colour',axis=1)\n",
    "    columns = X.columns.values\n",
    "    \n",
    "    \n",
    "    Y = np.array(df['skin_colour'])\n",
    "    #Array which contains the values at which we classify into a category or the next one\n",
    "    splits = np.linspace(0,1,split+1)\n",
    "    \n",
    "    #Array which starts at a basis negative (invalid value) and contains the labels of which of the \n",
    "    #class in which the data entry is.\n",
    "    Y_agg = -2*np.ones(len(Y))\n",
    "    \n",
    "    for i in range(0, split):\n",
    "        Y_agg[np.logical_and(Y >= splits[i], Y < splits[i+1])] = i\n",
    "    Y_agg[Y==1] = i\n",
    "    \n",
    "    return X, Y_agg,columns"
   ]
  },
  {
   "cell_type": "markdown",
   "metadata": {},
   "source": [
    "# 2. Classification of our data.\n",
    "The classifier we were asked to use is the Random Forest. In order to evaluate the performance of our results, we will use several tools, which will help us to understand better the results we obtain. \n",
    "\n",
    "1. The [cross_validation module of scikit-learn](http://scikit-learn.org/0.17/modules/generated/sklearn.cross_validation.cross_val_score.html) allows us to test the performance of our classification. The `cross_val_score` method returns the percentage of accuracy of our classification (average of the testing error of each iteration of the cross-validation. The `cv` field allows us to chose the number of folds of cross-validation we want to perform (e.g. cv=5 -> 5-fold cross-validation).\n",
    "2. The [F1 score](http://scikit-learn.org/stable/modules/generated/sklearn.metrics.f1_score.html) takes into account the false positives and the false negatives in the process of outputting the score. Hence, a model with a high prediction accuracy can get very poor results in the F1-metric if for instance it outputs everything to an output which is dominant in the population (cf. the examples \"Everybody has cancer\" in the lecture 07 of the course).\n",
    "3. [The confusion matrix](http://scikit-learn.org/stable/modules/generated/sklearn.metrics.confusion_matrix.html) plots the detail of the classification, and allows us to visualise the false positives, false negatives. We can compute the F1-score from this matrix.\n",
    "4. The [feature importances](http://scikit-learn.org/stable/auto_examples/ensemble/plot_forest_importances.html) allows us to see which of the features are the most significant for the classification. \n",
    "\n",
    "\n",
    "If we turn now to the coding, the first function below `print_confusion_matrix` is a helper function that helps us visualising the confusion matrix in a more elegant way than the usual way of displaying a 2D numpy array."
   ]
  },
  {
   "cell_type": "code",
   "execution_count": 293,
   "metadata": {
    "collapsed": false
   },
   "outputs": [],
   "source": [
    "def print_confusion_matrix(conf_matrix):\n",
    "    \"\"\"\n",
    "        Prints in textual way the entries of the confusion matrix conf_matrix and allows us to visualise it in a \n",
    "        more elegant way than when displaying it simply with print. It makes the understanding of it more intuitive.\n",
    "    \"\"\"\n",
    "    print('\\n\\t\\t\\tDISPLAYING THE CONFUSION MATRIX\\n')\n",
    "    print('\\tPredicted : ',end='\\t' )\n",
    "    features = conf_matrix.shape[0]\n",
    "    for i in range(0,features):\n",
    "        print(i,end='\\t')\n",
    "    print('TOTAL')\n",
    "    print('\\n Reality : ',end='\\t')\n",
    "    for i in range(0,features):\n",
    "        print(i,'||',end='\\t')\n",
    "        for j in range(0,features):\n",
    "            print(conf_matrix[i,j],end='\\t')\n",
    "        print(sum(conf_matrix[i,:]),end='\\n\\t\\t')\n",
    "    print('\\nTOTALS : \\t  ||',end='\\t')\n",
    "    for j in range(0,features):\n",
    "        print(sum(conf_matrix[:,j]),end='\\t')\n",
    "    print(sum(sum(conf_matrix)))"
   ]
  },
  {
   "cell_type": "markdown",
   "metadata": {},
   "source": [
    "The `cross_validation` function does perform the *cv_param*-fold cross-validation, and outputs the cross-validation result, along with F1-score and the confusion matrix, in order for us to understand the shape of our results. We perform by default a 20-fold cross validation, as we want a result as stable as possible."
   ]
  },
  {
   "cell_type": "code",
   "execution_count": 294,
   "metadata": {
    "collapsed": false
   },
   "outputs": [],
   "source": [
    "def cross_validation(X,Y,cv_param = 20): \n",
    "    \"\"\"\n",
    "        Cross_validation takes as input a dataset X and the labels Y and performs the cv_param-fold cross validation.\n",
    "        It uses a random forest classifier in order to do so and plots the cross-validation score, the f1-score\n",
    "        as well as the confusion matrix.\n",
    "    \"\"\"\n",
    "    # 1. Creates the classifier that we will use \n",
    "    forest = RandomForestClassifier()\n",
    "    # 2. Predicts the output of the classification after cv_param-fold cross-validation\n",
    "    Y_predicted = cross_val_predict(forest, X, Y, cv=cv_param)\n",
    "    \n",
    "    # 3. Print the results : scores, \n",
    "    print('Cross Validation result :', cross_val_score(forest,X,Y,cv = cv_param).mean(),\n",
    "        '\\nF1 score result :',sklearn.metrics.f1_score(Y, Y_predicted,average='micro'))\n",
    "    \n",
    "    print_confusion_matrix(sklearn.metrics.confusion_matrix(Y,Y_predicted))"
   ]
  },
  {
   "cell_type": "markdown",
   "metadata": {},
   "source": [
    "The `plot_feature_importances` function does rank each feature of *X* accordingly to the role it plays into the classification of the data we give it. This allows us to see whether a key subset of our features would turn out to be outstandingly better than the rest at determining the skin colour of a player."
   ]
  },
  {
   "cell_type": "code",
   "execution_count": 295,
   "metadata": {
    "collapsed": false,
    "scrolled": true
   },
   "outputs": [],
   "source": [
    "def plot_feature_importances(X, Y, columns,plot_flag = 1):\n",
    "    \"\"\"\n",
    "        plot_feature_importances displays the importance of each feature into determining the output of our problem. \n",
    "        @param plot_flag : a boolean which can be turned on or off for the plotting for the display of the results.\n",
    "    \"\"\"\n",
    "    forest = RandomForestClassifier()\n",
    "    forest = forest.fit(X,Y)\n",
    "    importances = forest.feature_importances_\n",
    "    std = np.std([tree.feature_importances_ for tree in forest.estimators_],axis=0)\n",
    "    indices = np.argsort(importances)[::-1]\n",
    "    # Print the feature ranking\n",
    "    print(\"Feature ranking:\")\n",
    "\n",
    "    if(plot_flag):    \n",
    "        for f in range(X.shape[1]):\n",
    "            print(\"%d. feature %d - %s (%f)\" % (f + 1, indices[f],  columns[indices[f]], importances[indices[f]]))\n",
    "            \n",
    "        # Plot the feature importances of the forest\n",
    "        plt.figure()\n",
    "        plt.title(\"Feature importances\")\n",
    "        plt.bar(range(X.shape[1]), importances[indices], color=\"r\", yerr=std[indices], align=\"center\")\n",
    "        plt.xticks(range(X.shape[1]), indices)\n",
    "        plt.xlim([-1, X.shape[1]])\n",
    "        plt.show()\n",
    "    return indices,importances"
   ]
  },
  {
   "cell_type": "markdown",
   "metadata": {},
   "source": [
    "# 3. Comparison of the results for different models.\n",
    "Let us start our comparison with the rawest data we have, taking only the numeric values of the basic features we were given and adding the country in which the player is currently playing as fields as well. We will iterate over different splits (i.e. binary classification, 3 classes, ...) and see the feature importances evolution with the number of classes we have for the classification. \n",
    "\n",
    "First, we only consider the result we obtain from cross-validation using 3 different number of classes : 2, 5 and 9.\n"
   ]
  },
  {
   "cell_type": "code",
   "execution_count": 324,
   "metadata": {
    "collapsed": false,
    "scrolled": true
   },
   "outputs": [
    {
     "name": "stdout",
     "output_type": "stream",
     "text": [
      "STARTING WITH BINARY CLASSIFICATION\n",
      "\n",
      "Cross Validation result : 0.759704616588 \n",
      "F1 score result : 0.764622973925\n",
      "\n",
      "\t\t\tDISPLAYING THE CONFUSION MATRIX\n",
      "\n",
      "\tPredicted : \t0\t1\tTOTAL\n",
      "\n",
      " Reality : \t0 ||\t1030\t59\t1089\n",
      "\t\t1 ||\t275\t55\t330\n",
      "\t\t\n",
      "TOTALS : \t  ||\t1305\t114\t1419\n"
     ]
    }
   ],
   "source": [
    "#Binary classification\n",
    "print('STARTING WITH BINARY CLASSIFICATION\\n')\n",
    "X_no_ft_binary,Y_no_ft_binary,columns_no_ft_binary = prepare_features_multi('Data/players_no_nan_only_num_values.csv',2)\n",
    "cross_validation(X_no_ft_binary, Y_no_ft_binary, cv_param=20)"
   ]
  },
  {
   "cell_type": "markdown",
   "metadata": {},
   "source": [
    "Starting with the raw features and the binary classification, one can immediately that there is a huge problem ! The first problem comes from the data themselves, splitting in two groups of people at a threshold of 0.5, we get two very inegal groups. One with output 1 (white) contains 1089 entries, while the second one (coloured) contains 330 entries only. There is a quite large imbalance here. We get roughly 75% of the population in the first class, and only 25% percent in the second one.\n",
    "\n",
    "\n",
    "The classification, which actually got an accuracy of 75% is quite wrong, as it nearly classifies all the entries as 0, which gives 75% percent accuracy, as 75% percent of the population is in his class. We see that the problem lies in the fact that for the class 1, nearly all its entries (275 people), are wrongly classified as belonging to the class 0, while only 55 are correctly classified ! Only 17% of the members of the class with label 1 are classified correctly, against 95% of the members of the class 0. We hence see that our model with the raw features is not a good classifier. We will try later on to change the threshold to have a more balanced number of persons in each class for the binary classification to see whether the performance improves.\n",
    "\n",
    "Now, we will preform the 5/9-classes classification, and see how the prediction evolves."
   ]
  },
  {
   "cell_type": "code",
   "execution_count": 327,
   "metadata": {
    "collapsed": false
   },
   "outputs": [
    {
     "name": "stdout",
     "output_type": "stream",
     "text": [
      "\n",
      "5 CLASSES CLASSIFICATION\n",
      "\n",
      "Cross Validation result : 0.426212885988 \n",
      "F1 score result : 0.416490486258\n",
      "\n",
      "\t\t\tDISPLAYING THE CONFUSION MATRIX\n",
      "\n",
      "\tPredicted : \t0\t1\t2\t3\t4\tTOTAL\n",
      "\n",
      " Reality : \t0 ||\t383\t185\t9\t8\t11\t596\n",
      "\t\t1 ||\t258\t196\t14\t13\t12\t493\n",
      "\t\t2 ||\t65\t32\t0\t4\t2\t103\n",
      "\t\t3 ||\t55\t43\t3\t4\t8\t113\n",
      "\t\t4 ||\t57\t37\t7\t5\t8\t114\n",
      "\t\t\n",
      "TOTALS : \t  ||\t818\t493\t33\t34\t41\t1419\n"
     ]
    }
   ],
   "source": [
    "#5 classes classification\n",
    "print('\\n5 CLASSES CLASSIFICATION\\n')\n",
    "X_no_ft_5,Y_no_ft_5,columns_no_ft_5 = prepare_features_multi('Data/players_no_nan_only_num_values.csv',5)\n",
    "cross_validation(X_no_ft_5, Y_no_ft_5, cv_param=20)"
   ]
  },
  {
   "cell_type": "markdown",
   "metadata": {},
   "source": [
    "The results shows an accuracy of 42%, confirmed by the F1-metric score. The problem that shows here is exactly the same as before. The classes with a lot of entries (class with label 0 and 1 (i.e. skin_colour from 0 to 0.4) get almost all the entries 1311 out of 1419 entries, while \"only\" containing in reality 1089 entries. We get 20% people more than there should be in these classes. And the problems shows that nearly all the people from the smaller classes (resp. 103,113,114 entries) are very much missclassified, with only in total 32% of people correctly classified across those 3 classes. Another problem also arises here, it is the fact that a lot of people of the class 0 are wrongly classificated in the class 1, and a lot of people of the class 1 are wrongly classified into the class 0, yielding a very large error as well. \n",
    "\n",
    "If we now turn to the 9 classes classification, we would expect to get the same behaviour as here, only with more \"extreme\" cases."
   ]
  },
  {
   "cell_type": "code",
   "execution_count": 332,
   "metadata": {
    "collapsed": false,
    "scrolled": true
   },
   "outputs": [
    {
     "name": "stdout",
     "output_type": "stream",
     "text": [
      "\n",
      "9 CLASSES CLASSIFICATION\n",
      "\n",
      "Cross Validation result : 0.2663093931 \n",
      "F1 score result : 0.277660324172\n",
      "\n",
      "\t\t\tDISPLAYING THE CONFUSION MATRIX\n",
      "\n",
      "\tPredicted : \t0\t1\t2\t3\t4\t5\t6\t7\t8\tTOTAL\n",
      "\n",
      " Reality : \t0 ||\t165\t62\t135\t5\t6\t1\t6\t0\t6\t386\n",
      "\t\t1 ||\t90\t31\t75\t3\t4\t2\t2\t0\t3\t210\n",
      "\t\t2 ||\t160\t40\t188\t6\t9\t1\t7\t2\t6\t419\n",
      "\t\t3 ||\t28\t8\t32\t1\t3\t0\t1\t0\t1\t74\n",
      "\t\t4 ||\t51\t15\t29\t1\t2\t1\t1\t2\t1\t103\n",
      "\t\t5 ||\t14\t5\t7\t0\t1\t1\t0\t0\t0\t28\n",
      "\t\t6 ||\t30\t6\t36\t2\t4\t0\t4\t1\t2\t85\n",
      "\t\t7 ||\t13\t2\t13\t0\t1\t0\t4\t0\t1\t34\n",
      "\t\t8 ||\t32\t7\t33\t0\t3\t0\t1\t2\t2\t80\n",
      "\t\t\n",
      "TOTALS : \t  ||\t583\t176\t548\t18\t33\t6\t26\t7\t22\t1419\n"
     ]
    }
   ],
   "source": [
    "#9 classes classification\n",
    "print('\\n9 CLASSES CLASSIFICATION\\n')\n",
    "X_no_ft_9,Y_no_ft_9,columns_no_ft_9 = prepare_features_multi('Data/players_no_nan_only_num_values.csv',9)\n",
    "forest_no_ft = cross_validation(X_no_ft_9, Y_no_ft_9, cv_param=20)"
   ]
  },
  {
   "cell_type": "markdown",
   "metadata": {},
   "source": [
    "We see that our results again are in the same fasion as before : the classes with a lot of entries (here the classes 0 and 2) get a lot of entries, and actually a lot more than they should (583 and 548 against 386 and 419 resp.). The error of classification is again huge and is due a lot to the fact that roughly half of the entries of the class 0 are classified into class 2 and inversely ! The classifier does not do at all any difference between both entries. There is also another case of interest in the fact that the only 6 elements gets classified into class 5, while there are actually 74 elements in it, and only 1 of the elements that actually are in the class 5 got correctly classified ! It shows that having only the basic features is clearly not suffificent for our model to be able to classify the players in a reliable manner. \n",
    "\n",
    "Let us now turn to the feature importances and try to see whether some feature stands out in every case."
   ]
  },
  {
   "cell_type": "code",
   "execution_count": 333,
   "metadata": {
    "collapsed": false,
    "scrolled": false
   },
   "outputs": [
    {
     "name": "stdout",
     "output_type": "stream",
     "text": [
      "Feature ranking:\n",
      "1. feature 3 - victories (0.105911)\n",
      "2. feature 6 - goals (0.102884)\n",
      "3. feature 2 - games (0.096034)\n",
      "4. feature 7 - yellowCards (0.094302)\n",
      "5. feature 1 - weight (0.094095)\n",
      "6. feature 4 - ties (0.093969)\n",
      "7. feature 0 - height (0.090308)\n",
      "8. feature 5 - defeats (0.085298)\n",
      "9. feature 14 - birthYear (0.072532)\n",
      "10. feature 8 - yellowReds (0.040142)\n",
      "11. feature 9 - redCards (0.039767)\n",
      "12. feature 12 - french (0.031062)\n",
      "13. feature 10 - english (0.024012)\n",
      "14. feature 13 - spanish (0.017119)\n",
      "15. feature 11 - german (0.012567)\n"
     ]
    },
    {
     "data": {
      "image/png": "[encoded data removed]",
      "text/plain": [
       "<matplotlib.figure.Figure at 0x7f26953b6d68>"
      ]
     },
     "metadata": {},
     "output_type": "display_data"
    },
    {
     "name": "stdout",
     "output_type": "stream",
     "text": [
      "Feature ranking:\n",
      "1. feature 7 - yellowCards (0.110139)\n",
      "2. feature 3 - victories (0.100103)\n",
      "3. feature 2 - games (0.100040)\n",
      "4. feature 5 - defeats (0.099776)\n",
      "5. feature 4 - ties (0.096112)\n",
      "6. feature 0 - height (0.093379)\n",
      "7. feature 6 - goals (0.093199)\n",
      "8. feature 14 - birthYear (0.084989)\n",
      "9. feature 1 - weight (0.084965)\n",
      "10. feature 9 - redCards (0.044645)\n",
      "11. feature 8 - yellowReds (0.040089)\n",
      "12. feature 13 - spanish (0.015856)\n",
      "13. feature 12 - french (0.015198)\n",
      "14. feature 11 - german (0.014505)\n",
      "15. feature 10 - english (0.007004)\n"
     ]
    },
    {
     "data": {
      "image/png": "[encoded data removed]",
      "text/plain": [
       "<matplotlib.figure.Figure at 0x7f26980778d0>"
      ]
     },
     "metadata": {},
     "output_type": "display_data"
    },
    {
     "name": "stdout",
     "output_type": "stream",
     "text": [
      "Feature ranking:\n",
      "1. feature 3 - victories (0.109213)\n",
      "2. feature 7 - yellowCards (0.105189)\n",
      "3. feature 2 - games (0.098797)\n",
      "4. feature 4 - ties (0.096370)\n",
      "5. feature 6 - goals (0.095797)\n",
      "6. feature 0 - height (0.095273)\n",
      "7. feature 5 - defeats (0.089879)\n",
      "8. feature 1 - weight (0.088859)\n",
      "9. feature 14 - birthYear (0.084349)\n",
      "10. feature 9 - redCards (0.043355)\n",
      "11. feature 8 - yellowReds (0.040718)\n",
      "12. feature 13 - spanish (0.013833)\n",
      "13. feature 11 - german (0.013021)\n",
      "14. feature 10 - english (0.013009)\n",
      "15. feature 12 - french (0.012337)\n"
     ]
    },
    {
     "data": {
      "image/png": "[encoded data removed]",
      "text/plain": [
       "<matplotlib.figure.Figure at 0x7f2695bb5898>"
      ]
     },
     "metadata": {},
     "output_type": "display_data"
    }
   ],
   "source": [
    "features_2 = plot_feature_importances(X_no_ft_binary,Y_no_ft_binary,columns_no_ft_binary)\n",
    "features_5 = plot_feature_importances(X_no_ft_5, Y_no_ft_5, columns_no_ft_5)\n",
    "features_9 = plot_feature_importances(X_no_ft_9, Y_no_ft_9,columns_no_ft_9)"
   ]
  },
  {
   "cell_type": "markdown",
   "metadata": {},
   "source": [
    "There is a lot to say from these feature importances. Namely, the trends are the same for the three models, with a different number of classes. This shows that even if our results are not good, they are produced from the model with a consistent approach, and are maybe due to the fact that it is actually impossible to reliably predict the colour of the skin of a player from the features we considered here. \n",
    "\n",
    "On the results we just saw, one can clearly see that none of the features appears to be particularly significant : a few of them lie just around 10% of importance, 2-3 are intermediate and 3-4 are not useful. The ranking is as follows :\n",
    "\n",
    "- **Most useful features :**  games, yellowCards, goals, defeats, ties , victories, weight birthYear height \n",
    "- **Intermediate :** yellowReds, redCards, (french)\n",
    "- **Not useful :** (french), spanish, german, english\n",
    "\n",
    "It is interesting to constast that those results are consistent throughout the different runs. The *french* feature, which means the player is playing in France, seems to be just slightly more efficient in the binary classification, for an unknown reason. If one looks at those features, it seems indeed hard to determine the skin colour of a player from those data, as none of those features seem efficient in doing the difference. We will now try to redo the same pipeline, but with the features we created, which are linked to the bias of the referee towards the skin colour of the player, and we'll see if we obtain better results.\n",
    "\n",
    "Let us again first prepare our features, then cross-validate them and see the feature importances."
   ]
  },
  {
   "cell_type": "code",
   "execution_count": 343,
   "metadata": {
    "collapsed": false
   },
   "outputs": [
    {
     "name": "stdout",
     "output_type": "stream",
     "text": [
      "\n",
      "2 CLASSES CLASSIFICATION\n",
      "\n",
      "Cross Validation result : 0.761837972278 \n",
      "F1 score result : 0.754052149401\n",
      "\n",
      "\t\t\tDISPLAYING THE CONFUSION MATRIX\n",
      "\n",
      "\tPredicted : \t0\t1\tTOTAL\n",
      "\n",
      " Reality : \t0 ||\t1022\t67\t1089\n",
      "\t\t1 ||\t282\t48\t330\n",
      "\t\t\n",
      "TOTALS : \t  ||\t1304\t115\t1419\n",
      "\n",
      "\n",
      "RESULTS WITH NO FEATURES ADDED\n",
      "\n",
      "Cross Validation result : 0.75911971831 \n",
      "F1 score result : 0.760394644116\n",
      "\n",
      "\t\t\tDISPLAYING THE CONFUSION MATRIX\n",
      "\n",
      "\tPredicted : \t0\t1\tTOTAL\n",
      "\n",
      " Reality : \t0 ||\t1025\t64\t1089\n",
      "\t\t1 ||\t276\t54\t330\n",
      "\t\t\n",
      "TOTALS : \t  ||\t1301\t118\t1419\n"
     ]
    }
   ],
   "source": [
    "#2 classes classification\n",
    "print('\\n2 CLASSES CLASSIFICATION\\n')\n",
    "X_2, Y_2, columns_2 = prepare_features_multi('Data/players_with features_no_nan_only_num_values.csv',2)\n",
    "cross_validation(X_2, Y_2, cv_param=20)\n",
    "\n",
    "print('\\n\\nRESULTS WITH NO FEATURES ADDED\\n')\n",
    "cross_validation(X_no_ft_binary, Y_no_ft_binary, cv_param=20)"
   ]
  },
  {
   "cell_type": "markdown",
   "metadata": {},
   "source": [
    "We almost get the same result as before for the binary classification ! Just a 3 elements difference in the total, and 4-5 classification changin across the bord. It seems that the features we worked hard to implement do not bring an improvement to our results, at least for binary classification :("
   ]
  },
  {
   "cell_type": "code",
   "execution_count": 344,
   "metadata": {
    "collapsed": false
   },
   "outputs": [
    {
     "name": "stdout",
     "output_type": "stream",
     "text": [
      "\n",
      "5 CLASSES CLASSIFICATION\n",
      "\n",
      "Cross Validation result : 0.433076399212 \n",
      "F1 score result : 0.403100775194\n",
      "\n",
      "\t\t\tDISPLAYING THE CONFUSION MATRIX\n",
      "\n",
      "\tPredicted : \t0\t1\t2\t3\t4\tTOTAL\n",
      "\n",
      " Reality : \t0 ||\t379\t186\t7\t12\t12\t596\n",
      "\t\t1 ||\t274\t187\t12\t13\t7\t493\n",
      "\t\t2 ||\t64\t32\t1\t3\t3\t103\n",
      "\t\t3 ||\t63\t44\t3\t1\t2\t113\n",
      "\t\t4 ||\t63\t39\t2\t6\t4\t114\n",
      "\t\t\n",
      "TOTALS : \t  ||\t843\t488\t25\t35\t28\t1419\n",
      "\n",
      "\n",
      "RESULTS WITH NO FEATURES ADDED\n",
      "\n",
      "Cross Validation result : 0.431466194975 \n",
      "F1 score result : 0.424947145877\n",
      "\n",
      "\t\t\tDISPLAYING THE CONFUSION MATRIX\n",
      "\n",
      "\tPredicted : \t0\t1\t2\t3\t4\tTOTAL\n",
      "\n",
      " Reality : \t0 ||\t394\t179\t8\t7\t8\t596\n",
      "\t\t1 ||\t269\t196\t2\t15\t11\t493\n",
      "\t\t2 ||\t62\t35\t0\t3\t3\t103\n",
      "\t\t3 ||\t54\t38\t4\t6\t11\t113\n",
      "\t\t4 ||\t64\t34\t4\t5\t7\t114\n",
      "\t\t\n",
      "TOTALS : \t  ||\t843\t482\t18\t36\t40\t1419\n"
     ]
    }
   ],
   "source": [
    "#2 classes classification\n",
    "print('\\n5 CLASSES CLASSIFICATION\\n')\n",
    "X_5, Y_5, columns_5 = prepare_features_multi('Data/players_with features_no_nan_only_num_values.csv',5)\n",
    "cross_validation(X_5, Y_5, cv_param=20)\n",
    "\n",
    "print('\\n\\nRESULTS WITH NO FEATURES ADDED\\n')\n",
    "cross_validation(X_no_ft_5, Y_no_ft_5, cv_param=20)"
   ]
  },
  {
   "cell_type": "markdown",
   "metadata": {},
   "source": [
    "Considering now the 5-fold classification,  we get to the same conclusion as before. The adding of our features does not seem to change a lot the results, even decreasing their accuracy from 42.5% to 40%. This seems to suggest than even if we add the bias of the referee into the balance, we still are not able to significantly increase the accuracy of prediction of our model."
   ]
  },
  {
   "cell_type": "code",
   "execution_count": 348,
   "metadata": {
    "collapsed": false
   },
   "outputs": [
    {
     "name": "stdout",
     "output_type": "stream",
     "text": [
      "\n",
      "9 CLASSES CLASSIFICATION\n",
      "\n",
      "Cross Validation result : 0.292680585599 \n",
      "F1 score result : 0.268498942918\n",
      "\n",
      "\t\t\tDISPLAYING THE CONFUSION MATRIX\n",
      "\n",
      "\tPredicted : \t0\t1\t2\t3\t4\t5\t6\t7\t8\tTOTAL\n",
      "\n",
      " Reality : \t0 ||\t192\t54\t120\t2\t9\t1\t2\t1\t5\t386\n",
      "\t\t1 ||\t94\t20\t78\t2\t8\t0\t4\t1\t3\t210\n",
      "\t\t2 ||\t177\t45\t160\t11\t12\t2\t5\t1\t6\t419\n",
      "\t\t3 ||\t33\t11\t27\t0\t1\t0\t1\t0\t1\t74\n",
      "\t\t4 ||\t40\t15\t36\t1\t3\t0\t6\t0\t2\t103\n",
      "\t\t5 ||\t10\t1\t15\t1\t0\t0\t1\t0\t0\t28\n",
      "\t\t6 ||\t29\t9\t33\t1\t3\t0\t4\t3\t3\t85\n",
      "\t\t7 ||\t12\t2\t13\t1\t0\t0\t5\t0\t1\t34\n",
      "\t\t8 ||\t22\t5\t36\t1\t5\t0\t6\t3\t2\t80\n",
      "\t\t\n",
      "TOTALS : \t  ||\t609\t162\t518\t20\t41\t3\t34\t9\t23\t1419\n",
      "\n",
      "\n",
      "RESULTS WITH NO FEATURES ADDED\n",
      "\n",
      "Cross Validation result : 0.271762374602 \n",
      "F1 score result : 0.270613107822\n",
      "\n",
      "\t\t\tDISPLAYING THE CONFUSION MATRIX\n",
      "\n",
      "\tPredicted : \t0\t1\t2\t3\t4\t5\t6\t7\t8\tTOTAL\n",
      "\n",
      " Reality : \t0 ||\t186\t50\t133\t5\t5\t0\t2\t0\t5\t386\n",
      "\t\t1 ||\t106\t24\t59\t2\t6\t0\t8\t1\t4\t210\n",
      "\t\t2 ||\t169\t48\t163\t5\t13\t2\t10\t4\t5\t419\n",
      "\t\t3 ||\t32\t6\t27\t1\t4\t0\t2\t0\t2\t74\n",
      "\t\t4 ||\t37\t12\t41\t3\t4\t0\t2\t2\t2\t103\n",
      "\t\t5 ||\t10\t3\t10\t0\t2\t0\t0\t0\t3\t28\n",
      "\t\t6 ||\t29\t7\t35\t0\t3\t1\t4\t3\t3\t85\n",
      "\t\t7 ||\t11\t2\t13\t0\t3\t0\t3\t0\t2\t34\n",
      "\t\t8 ||\t35\t10\t23\t2\t1\t0\t5\t2\t2\t80\n",
      "\t\t\n",
      "TOTALS : \t  ||\t615\t162\t504\t18\t41\t3\t36\t12\t28\t1419\n"
     ]
    }
   ],
   "source": [
    "#9 classes classification\n",
    "print('\\n9 CLASSES CLASSIFICATION\\n')\n",
    "X_9 ,Y_9, columns_9 = prepare_features_multi('Data/players_with features_no_nan_only_num_values.csv',9)\n",
    "cross_validation(X_9, Y_9, cv_param=20)\n",
    "\n",
    "print('\\n\\nRESULTS WITH NO FEATURES ADDED\\n')\n",
    "cross_validation(X_no_ft_9, Y_no_ft_9, cv_param=20)"
   ]
  },
  {
   "cell_type": "markdown",
   "metadata": {},
   "source": [
    "Again here, the results follow exactly the same trend than for the 5 classes case. This does not seem good for our features. Let us just see whether the features importances changed from the features we added."
   ]
  },
  {
   "cell_type": "markdown",
   "metadata": {},
   "source": [
    "Let us now visualise the result we'd get when we would not have added the supplementary features."
   ]
  },
  {
   "cell_type": "code",
   "execution_count": 349,
   "metadata": {
    "collapsed": false,
    "scrolled": true
   },
   "outputs": [
    {
     "name": "stdout",
     "output_type": "stream",
     "text": [
      "Feature ranking:\n",
      "1. feature 16 - meanIAT_yellowCards (0.067996)\n",
      "2. feature 1 - weight (0.064957)\n",
      "3. feature 20 - meanExp_yellowCards (0.062711)\n",
      "4. feature 19 - meanIAT_gravity (0.062246)\n",
      "5. feature 3 - victories (0.058680)\n",
      "6. feature 0 - height (0.057683)\n",
      "7. feature 6 - goals (0.056953)\n",
      "8. feature 23 - meanExp_gravity (0.055941)\n",
      "9. feature 5 - defeats (0.052949)\n",
      "10. feature 15 - gravity (0.051081)\n",
      "11. feature 4 - ties (0.047429)\n",
      "12. feature 7 - yellowCards (0.046188)\n",
      "13. feature 2 - games (0.045810)\n",
      "14. feature 14 - birthYear (0.037894)\n",
      "15. feature 22 - meanExp_redCards (0.035490)\n",
      "16. feature 21 - meanExp_yellowReds (0.033040)\n",
      "17. feature 18 - meanIAT_redCards (0.032961)\n",
      "18. feature 12 - french (0.025707)\n",
      "19. feature 17 - meanIAT_yellowReds (0.025262)\n",
      "20. feature 13 - spanish (0.019881)\n",
      "21. feature 11 - german (0.017850)\n",
      "22. feature 8 - yellowReds (0.014144)\n",
      "23. feature 10 - english (0.013587)\n",
      "24. feature 9 - redCards (0.013561)\n"
     ]
    },
    {
     "data": {
      "image/png": "[encoded data removed]",
      "text/plain": [
       "<matplotlib.figure.Figure at 0x7f269590b4a8>"
      ]
     },
     "metadata": {},
     "output_type": "display_data"
    },
    {
     "name": "stdout",
     "output_type": "stream",
     "text": [
      "Feature ranking:\n",
      "1. feature 3 - victories (0.064678)\n",
      "2. feature 19 - meanIAT_gravity (0.063958)\n",
      "3. feature 16 - meanIAT_yellowCards (0.062633)\n",
      "4. feature 1 - weight (0.060743)\n",
      "5. feature 6 - goals (0.060037)\n",
      "6. feature 4 - ties (0.058571)\n",
      "7. feature 2 - games (0.056872)\n",
      "8. feature 0 - height (0.056826)\n",
      "9. feature 20 - meanExp_yellowCards (0.054564)\n",
      "10. feature 23 - meanExp_gravity (0.053466)\n",
      "11. feature 14 - birthYear (0.051985)\n",
      "12. feature 5 - defeats (0.050815)\n",
      "13. feature 7 - yellowCards (0.047009)\n",
      "14. feature 15 - gravity (0.046803)\n",
      "15. feature 22 - meanExp_redCards (0.036101)\n",
      "16. feature 21 - meanExp_yellowReds (0.034284)\n",
      "17. feature 18 - meanIAT_redCards (0.031031)\n",
      "18. feature 17 - meanIAT_yellowReds (0.029400)\n",
      "19. feature 8 - yellowReds (0.017244)\n",
      "20. feature 9 - redCards (0.017040)\n",
      "21. feature 12 - french (0.015927)\n",
      "22. feature 11 - german (0.012245)\n",
      "23. feature 13 - spanish (0.009209)\n",
      "24. feature 10 - english (0.008560)\n"
     ]
    },
    {
     "data": {
      "image/png": "[encoded data removed]",
      "text/plain": [
       "<matplotlib.figure.Figure at 0x7f26956a80f0>"
      ]
     },
     "metadata": {},
     "output_type": "display_data"
    },
    {
     "name": "stdout",
     "output_type": "stream",
     "text": [
      "Feature ranking:\n",
      "1. feature 5 - defeats (0.064965)\n",
      "2. feature 20 - meanExp_yellowCards (0.062564)\n",
      "3. feature 15 - gravity (0.061433)\n",
      "4. feature 23 - meanExp_gravity (0.060883)\n",
      "5. feature 1 - weight (0.060834)\n",
      "6. feature 3 - victories (0.060604)\n",
      "7. feature 2 - games (0.055533)\n",
      "8. feature 0 - height (0.054437)\n",
      "9. feature 7 - yellowCards (0.054428)\n",
      "10. feature 6 - goals (0.053762)\n",
      "11. feature 16 - meanIAT_yellowCards (0.053331)\n",
      "12. feature 4 - ties (0.053067)\n",
      "13. feature 19 - meanIAT_gravity (0.049631)\n",
      "14. feature 14 - birthYear (0.047489)\n",
      "15. feature 18 - meanIAT_redCards (0.032248)\n",
      "16. feature 21 - meanExp_yellowReds (0.031517)\n",
      "17. feature 22 - meanExp_redCards (0.031142)\n",
      "18. feature 17 - meanIAT_yellowReds (0.030064)\n",
      "19. feature 9 - redCards (0.021348)\n",
      "20. feature 8 - yellowReds (0.016522)\n",
      "21. feature 12 - french (0.014245)\n",
      "22. feature 10 - english (0.011492)\n",
      "23. feature 11 - german (0.009918)\n",
      "24. feature 13 - spanish (0.008545)\n"
     ]
    },
    {
     "data": {
      "image/png": "[encoded data removed]",
      "text/plain": [
       "<matplotlib.figure.Figure at 0x7f26956160f0>"
      ]
     },
     "metadata": {},
     "output_type": "display_data"
    }
   ],
   "source": [
    "features_2 = plot_feature_importances(X_2,Y_2,columns_2)\n",
    "features_5 = plot_feature_importances(X_5, Y_5, columns_5)\n",
    "features_9 = plot_feature_importances(X_9, Y_9,columns_9)\n"
   ]
  },
  {
   "cell_type": "markdown",
   "metadata": {},
   "source": [
    "There is still a clear trend that comes out of the graph, namely that some features are a bit more significant than others, even if their variances are quite large. Note that as they are more features, their relative magnitude of importance decreases. We can rank them in the following tiers :\n",
    "\n",
    "\n",
    "- **Most useful :** victories, meanIAT_gravity, meanIAT_yellowCards, weight goals (importance >= 6%)\n",
    "- **Quite useful :** ties, games, height, meanExp_yellowCards, meanExp_gravity (importance between 5.3% and 6%)\n",
    "- **Intermediate : **  birthYear, defeats, yellowCards, gravity \n",
    "- **Not useful : **meanExp_redCards, meanExp_yellowReds, meanIAT_redCards, french, meanIAT_yellowReds, spanish, german, yellowReds, english , redCards \n",
    "\n",
    "Even though none of the features stand out as particularly important, they can be ranked quite consistently. It is interesting to see that the *gravity* feature that we added, along with the *yellowCards* weighted with the *mean_IAT* of the referee are quite useful as features, showing us that skin colour weighted by the bias of the referee helps a *little bit* to get better results, but not in a significantly better manner. The features that were not useful in the previous get still remained not so useful, and the *yellowReds* and *redCards*, even weighted with the *mean_IAT*, still remained useless. It is probably because those events are too rare to really be a consistent behaviour of a referee with respect to a particular skin coloured player."
   ]
  },
  {
   "cell_type": "markdown",
   "metadata": {},
   "source": [
    "# 4. Improving our model from the results"
   ]
  },
  {
   "cell_type": "markdown",
   "metadata": {},
   "source": [
    "TODO : REMOVE INTERMEDIATE AND NOT USEFUL FEATURES AND REDO THE COMPUTATION\n",
    "\n",
    "\n",
    "TODO (BONUS) : PLOT LEARNING CURVE : Easy to do from the scikit website -> implemented example"
   ]
  },
  {
   "cell_type": "markdown",
   "metadata": {},
   "source": [
    "# 5. Bonus"
   ]
  }
 ],
 "metadata": {
  "anaconda-cloud": {},
  "kernelspec": {
   "display_name": "Python [Root]",
   "language": "python",
   "name": "Python [Root]"
  },
  "language_info": {
   "codemirror_mode": {
    "name": "ipython",
    "version": 3
   },
   "file_extension": ".py",
   "mimetype": "text/x-python",
   "name": "python",
   "nbconvert_exporter": "python",
   "pygments_lexer": "ipython3",
   "version": "3.5.2"
  }
 },
 "nbformat": 4,
 "nbformat_minor": 1
}
