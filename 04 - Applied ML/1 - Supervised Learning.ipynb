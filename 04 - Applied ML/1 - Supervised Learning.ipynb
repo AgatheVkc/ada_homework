{
 "cells": [
  {
   "cell_type": "markdown",
   "metadata": {},
   "source": [
    "# Supervised Learning\n",
    ">Train a `sklearn.ensemble.RandomForestClassifier` that given a soccer player description outputs his skin color. Show how different parameters passed to the Classifier affect the overfitting issue. Perform cross-validation to mitigate the overfitting of your model. Once you assessed your model, inspect the feature\\_importances\\_ attribute and discuss the obtained results. With different assumptions on the data (e.g., dropping certain features even before feeding them to the classifier), can you obtain a substantially different feature_importances_ attribute?\n",
    "\n",
    "> *BONUS:* plot the learning curves against at least 2 different sets of parameters passed to your Random Forest. To obtain smooth curves, partition your data in at least 20 folds. Can you find a set of parameters that leads to high bias, and one which does not?\n",
    "\n",
    "From the preprocessing step, we generated 6 datasets, that we will use with our machine learning algorithm. We will later on compare the results we obtain. As a reminder, the 6 datasets are as follows\n",
    "1.  3 datasets with NaNs and 3 without NaNs\n",
    "\n",
    "2.  1. players.csv -> Simply the players, no added cross-features\n",
    "    2. players_with features.csv -> Added cross-features.\n",
    "    3. players_with features_only_num_values.csv -> We do not consider the textual fields."
   ]
  },
  {
   "cell_type": "code",
   "execution_count": 19,
   "metadata": {
    "collapsed": false
   },
   "outputs": [
    {
     "name": "stdout",
     "output_type": "stream",
     "text": [
      "The autoreload extension is already loaded. To reload it, use:\n",
      "  %reload_ext autoreload\n"
     ]
    }
   ],
   "source": [
    "# Import Libraries\n",
    "import pandas as pd\n",
    "import numpy as np\n",
    "import os\n",
    "import matplotlib.pyplot as plt\n",
    "import sklearn\n",
    "import sklearn.ensemble\n",
    "from sklearn.ensemble import RandomForestClassifier\n",
    "from sklearn.model_selection import cross_val_score, train_test_split,cross_val_predict\n",
    "%matplotlib inline\n",
    "%load_ext autoreload\n",
    "%autoreload 2\n",
    "\n",
    "# There's a lot of columns in the DF. \n",
    "# Therefore, we add this option so that we can see more columns\n",
    "pd.options.display.max_columns = 100"
   ]
  },
  {
   "cell_type": "markdown",
   "metadata": {},
   "source": [
    "Given a file, loads the features the way we need them to pass them to the `RandomForestClassifier` method. We also prepare the output labels : first of all, we do a binary classification, setting the limit at 0.5, in order to have a simple case to treat. We return as well the columns vector, which corresponds to the features we're dealing with."
   ]
  },
  {
   "cell_type": "code",
   "execution_count": 71,
   "metadata": {
    "collapsed": false
   },
   "outputs": [],
   "source": [
    "def prepare_features_binary(file_,tresh = 0.5):\n",
    "    df = pd.read_csv(file_)\n",
    "\n",
    "    # We drop the skin colour as it is the solution, it goes into the output array.\n",
    "    X = df.drop('skin_colour',axis=1)\n",
    "    columns = X.columns.values\n",
    "    Y = np.array(df['skin_colour'])\n",
    "    # Binary classification performed here.\n",
    "    Y = (Y>=tresh).astype(int)\n",
    "    \n",
    "    #Y = np.multiply(8,np.array(df['skin_colour'])).astype(int)\n",
    "    #entries = np.multiply(8.,np.array(df['skin_colour'].unique())).astype(int)\n",
    "    \n",
    "    #Y_multi = np.zeros((X.shape[0],len(entries)))\n",
    "    #for index, entry in enumerate(Y):\n",
    "    #    Y_multi[index,entry] = 1.\n",
    "    return X, Y, columns"
   ]
  },
  {
   "cell_type": "markdown",
   "metadata": {},
   "source": [
    "Our classifier is a Random Forest. The [cross_validation module of scikit-learn](http://scikit-learn.org/0.17/modules/generated/sklearn.cross_validation.cross_val_score.html) allows us to test the performance of our classification. The `cv` field allows us to chose the k-fold cross-validation we want to perform."
   ]
  },
  {
   "cell_type": "code",
   "execution_count": 72,
   "metadata": {
    "collapsed": false
   },
   "outputs": [
    {
     "name": "stdout",
     "output_type": "stream",
     "text": [
      "['height' 'weight' 'games' 'victories' 'ties' 'defeats' 'goals'\n",
      " 'yellowCards' 'yellowReds' 'redCards' 'english' 'german' 'french'\n",
      " 'spanish' 'birthYear' 'gravity' 'meanIAT_yellowCards' 'meanIAT_yellowReds'\n",
      " 'meanIAT_redCards' 'meanIAT_gravity' 'meanExp_yellowCards'\n",
      " 'meanExp_yellowReds' 'meanExp_redCards' 'meanExp_gravity']\n",
      "Cross Validation result  0.751933509182\n",
      "Confusion matrix:\n",
      " [[1032   57]\n",
      " [ 294   36]] \n",
      "Number of 0 entries 1089\n",
      "F1 score  0.170212765957\n",
      "Feature ranking:\n",
      "1. feature 16 - meanIAT_yellowCards (0.072191)\n",
      "2. feature 3 - victories (0.069057)\n",
      "3. feature 5 - defeats (0.066985)\n",
      "4. feature 20 - meanExp_yellowCards (0.064781)\n",
      "5. feature 6 - goals (0.057873)\n",
      "6. feature 19 - meanIAT_gravity (0.056660)\n",
      "7. feature 23 - meanExp_gravity (0.054943)\n",
      "8. feature 1 - weight (0.052294)\n",
      "9. feature 4 - ties (0.049159)\n",
      "10. feature 2 - games (0.048944)\n",
      "11. feature 0 - height (0.046602)\n",
      "12. feature 15 - gravity (0.044198)\n",
      "13. feature 14 - birthYear (0.043982)\n",
      "14. feature 7 - yellowCards (0.039933)\n",
      "15. feature 22 - meanExp_redCards (0.036976)\n",
      "16. feature 12 - french (0.032004)\n",
      "17. feature 17 - meanIAT_yellowReds (0.031047)\n",
      "18. feature 18 - meanIAT_redCards (0.029369)\n",
      "19. feature 21 - meanExp_yellowReds (0.025123)\n",
      "20. feature 11 - german (0.020713)\n",
      "21. feature 10 - english (0.016633)\n",
      "22. feature 9 - redCards (0.015121)\n",
      "23. feature 8 - yellowReds (0.013996)\n",
      "24. feature 13 - spanish (0.011415)\n"
     ]
    },
    {
     "data": {
      "image/png": "[encoded data removed]",
      "text/plain": [
       "<matplotlib.figure.Figure at 0x7f98753e1b38>"
      ]
     },
     "metadata": {},
     "output_type": "display_data"
    }
   ],
   "source": [
    "import sklearn.metrics\n",
    "\n",
    "def cross_validation_feature_importances(X,Y,columns,cv_param): \n",
    "    forest = RandomForestClassifier()\n",
    "    print('Cross Validation result ', cross_val_score(forest,X,Y,cv = cv_param).mean())\n",
    "    predicted = cross_val_predict(forest, X, Y, cv=cv_param)\n",
    "    print('Confusion matrix:\\n', sklearn.metrics.confusion_matrix(Y,predicted), '\\nNumber of 0 entries', len(Y)-Y.sum() )\n",
    "    print('F1 score ',sklearn.metrics.f1_score(Y, predicted))\n",
    "    forest = forest.fit(X,Y)\n",
    "    importances = forest.feature_importances_\n",
    "    std = np.std([tree.feature_importances_ for tree in forest.estimators_],axis=0)\n",
    "    indices = np.argsort(importances)[::-1]\n",
    "    # Print the feature ranking\n",
    "    print(\"Feature ranking:\")\n",
    "\n",
    "    for f in range(X.shape[1]):\n",
    "        print(\"%d. feature %d - %s (%f)\" % (f + 1, indices[f],  columns[indices[f]], importances[indices[f]]))\n",
    "\n",
    "    # Plot the feature importances of the forest\n",
    "    plt.figure()\n",
    "    plt.title(\"Feature importances\")\n",
    "    plt.bar(range(X.shape[1]), importances[indices], color=\"r\", yerr=std[indices], align=\"center\")\n",
    "    plt.xticks(range(X.shape[1]), indices)\n",
    "    plt.xlim([-1, X.shape[1]])\n",
    "    plt.show()\n",
    "X,Y,columns = prepare_features_binary('Data/players_with features_no_nan_only_num_values.csv',0.5)\n",
    "print(columns)\n",
    "cross_validation_feature_importances(X,Y,columns,5)"
   ]
  },
  {
   "cell_type": "markdown",
   "metadata": {},
   "source": [
    "This 5-fold cross validation shows that our algorithm predicts 75 % of the time the correct skin. We want to then visualise what are the most important features in the decision, taking the example of the feature importances with trees from [scikit-learn](http://scikit-learn.org/stable/auto_examples/ensemble/plot_forest_importances.html).\n",
    "\n",
    "It seems that even if no feature is really significantly better at predicting the skin colour of a player, the ones we defined in the preprocessing that related the referee and the player seem to be able to perform a bit better. It might mean that some referee might have some bias towards the coloured players, and the features we defined from this bias help us identify the skin colour. The first feature is the *meanExp_yellowCards*, which cross_features the referees with which the player played with the number of yellow cards received from them, weighted by the *mean explicit bias score*, which tells us if a referee is warmer towards coloured people of not.\n",
    "\n",
    "Let us now visualise the result we'd get when we would not have added the supplementary features."
   ]
  },
  {
   "cell_type": "code",
   "execution_count": 73,
   "metadata": {
    "collapsed": false
   },
   "outputs": [
    {
     "name": "stdout",
     "output_type": "stream",
     "text": [
      "Cross Validation result  0.753351913602\n",
      "Confusion matrix:\n",
      " [[1013   76]\n",
      " [ 291   39]] \n",
      "Number of 0 entries 1089\n",
      "F1 score  0.175280898876\n",
      "Feature ranking:\n",
      "1. feature 20 - meanExp_yellowCards (0.093063)\n",
      "2. feature 3 - victories (0.064785)\n",
      "3. feature 23 - meanExp_gravity (0.064495)\n",
      "4. feature 5 - defeats (0.063993)\n",
      "5. feature 16 - meanIAT_yellowCards (0.057990)\n",
      "6. feature 2 - games (0.057131)\n",
      "7. feature 19 - meanIAT_gravity (0.055605)\n",
      "8. feature 1 - weight (0.053322)\n",
      "9. feature 6 - goals (0.051154)\n",
      "10. feature 7 - yellowCards (0.048169)\n",
      "11. feature 15 - gravity (0.044665)\n",
      "12. feature 0 - height (0.043838)\n",
      "13. feature 4 - ties (0.037951)\n",
      "14. feature 18 - meanIAT_redCards (0.037844)\n",
      "15. feature 14 - birthYear (0.034887)\n",
      "16. feature 22 - meanExp_redCards (0.033344)\n",
      "17. feature 12 - french (0.025815)\n",
      "18. feature 17 - meanIAT_yellowReds (0.025558)\n",
      "19. feature 21 - meanExp_yellowReds (0.024774)\n",
      "20. feature 11 - german (0.018928)\n",
      "21. feature 13 - spanish (0.018312)\n",
      "22. feature 9 - redCards (0.016737)\n",
      "23. feature 10 - english (0.015274)\n",
      "24. feature 8 - yellowReds (0.012367)\n"
     ]
    },
    {
     "data": {
      "image/png": "[encoded data removed]",
      "text/plain": [
       "<matplotlib.figure.Figure at 0x7f987539d6a0>"
      ]
     },
     "metadata": {},
     "output_type": "display_data"
    }
   ],
   "source": [
    "X_no_ft,Y_no_ft,columns_no_ft = prepare_features_binary('Data/players_no_nan_only_num_values.csv')\n",
    "cross_validation_feature_importances(X_no_ft,Y_no_ft,columns_no_ft,5)"
   ]
  },
  {
   "cell_type": "markdown",
   "metadata": {},
   "source": [
    "TODO : Comparison - How to do when you have less features ?"
   ]
  }
 ],
 "metadata": {
  "anaconda-cloud": {},
  "kernelspec": {
   "display_name": "Python [Root]",
   "language": "python",
   "name": "Python [Root]"
  },
  "language_info": {
   "codemirror_mode": {
    "name": "ipython",
    "version": 3
   },
   "file_extension": ".py",
   "mimetype": "text/x-python",
   "name": "python",
   "nbconvert_exporter": "python",
   "pygments_lexer": "ipython3",
   "version": "3.5.2"
  }
 },
 "nbformat": 4,
 "nbformat_minor": 1
}
