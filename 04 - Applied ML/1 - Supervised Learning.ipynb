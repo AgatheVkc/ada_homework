{
 "cells": [
  {
   "cell_type": "markdown",
   "metadata": {},
   "source": [
    "# Supervised Learning\n",
    ">Train a `sklearn.ensemble.RandomForestClassifier` that given a soccer player description outputs his skin color. Show how different parameters passed to the Classifier affect the overfitting issue. Perform cross-validation to mitigate the overfitting of your model. Once you assessed your model, inspect the feature\\_importances\\_ attribute and discuss the obtained results. With different assumptions on the data (e.g., dropping certain features even before feeding them to the classifier), can you obtain a substantially different feature\\_importances\\_ attribute?\n",
    "\n",
    "> *BONUS:* plot the learning curves against at least 2 different sets of parameters passed to your Random Forest. To obtain smooth curves, partition your data in at least 20 folds. Can you find a set of parameters that leads to high bias, and one which does not?\n",
    "\n",
    "From the preprocessing step, we generated 6 datasets, that we will use with our machine learning algorithm. We will later on compare the results we obtain. As a reminder, the 6 datasets are as follows\n",
    "1.  3 datasets with NaNs and 3 without NaNs\n",
    "\n",
    "2.  1. players.csv -> Simply the players, no added cross-features\n",
    "    2. players_with features.csv -> Added cross-features.\n",
    "    3. players_with features_only_num_values.csv -> We do not consider the textual fields.\n",
    "    \n",
    "    \n",
    "# 0. Imports"
   ]
  },
  {
   "cell_type": "code",
   "execution_count": 1,
   "metadata": {
    "collapsed": false
   },
   "outputs": [],
   "source": [
    "# Import Libraries\n",
    "import pandas as pd\n",
    "import numpy as np\n",
    "import os\n",
    "import matplotlib.pyplot as plt\n",
    "import sklearn\n",
    "import sklearn.ensemble\n",
    "from sklearn.ensemble import RandomForestClassifier\n",
    "from sklearn.model_selection import cross_val_score, train_test_split,cross_val_predict\n",
    "import sklearn.metrics\n",
    "%matplotlib inline\n",
    "%load_ext autoreload\n",
    "%autoreload 2\n",
    "\n",
    "# There's a lot of columns in the DF. \n",
    "# Therefore, we add this option so that we can see more columns\n",
    "pd.options.display.max_columns = 100"
   ]
  },
  {
   "cell_type": "markdown",
   "metadata": {},
   "source": [
    "# 1. Preparing the features\n",
    "Given a file, loads the features the way we need them to pass them to the `RandomForestClassifier` method. We first create a field named *X* which contains all the features (entries of the loaded DataFrame minus the *skin_colour* column of it). The *Y* will will be the output labels, containing the informations of the *skin_colour* columns DataFrame, but the values will be rescaled into integers. Finally, the *columns* fields contains the name of the features of *X*.\n",
    "\n",
    "\n",
    "We also prepare the output labels : first of all, we do a binary classification, setting the limit at a *threshold* which is by default fixed at *0.5*, in order to have a simple case to treat. We return as well the columns vector, which corresponds to the features we're dealing with."
   ]
  },
  {
   "cell_type": "code",
   "execution_count": 226,
   "metadata": {
    "collapsed": false
   },
   "outputs": [],
   "source": [
    "def prepare_features_binary(file_,thresh = 0.5):\n",
    "    \"\"\"\n",
    "        Loads the data contained in the file_ and formats it in the way we need for it to be fed into a sklearn classifier. \n",
    "        @param file_ : the file which contains the data we want to learn on.\n",
    "        @param thresh : the threshold at which we set the binary classification (x >= thresh -> y = 1, x < thresh -> y =0)\n",
    "        @return X : the features of the model (size n_samples x n_features)\n",
    "        @return Y : the labels of our set (size n_samples)\n",
    "        @return columns : the name of the features (list of string of size n_features)\n",
    "    \"\"\"\n",
    "    df = pd.read_csv(file_)\n",
    "\n",
    "    # We drop the skin colour as it is the solution, it goes into the output array.\n",
    "    X = df.drop('skin_colour',axis=1)\n",
    "    \n",
    "    columns = X.columns.values\n",
    "    \n",
    "    Y = np.array(df['skin_colour'])\n",
    "    \n",
    "    # Binary classification performed here.\n",
    "    Y = (Y>=thresh).astype(int)\n",
    "    \n",
    "    return X, Y, columns"
   ]
  },
  {
   "cell_type": "markdown",
   "metadata": {},
   "source": [
    "The second preparation splits the data into a given number of classes, in order to see how we perform which less aggregated data. It outputs a label from *0* to *split* for the *Y* attribute. \n",
    "\n",
    "An example is worth a thousand words. Our data *Y* are takes values in one of those : \n",
    "$y_i \\in [0, 0.125, 0.25, 0.375, 0.5, 0.625, 0.75, 0.875, 1]$\n",
    "\n",
    "Let us suppose our Y has the form  $Y = [0, 0.25, 0.5, 0.5, 0.75, 1, 0.625]$\n",
    "Hence, aggregating our data in 3 classes will yield the the Y's to go into \n",
    "- The class labelled 0 if $y_i \\in [0, 0.125, 0.25] $\n",
    "- The class labelled 1 if $y_i \\in [0.375, 0.5, 0.625]$\n",
    "- The class labelled 2 if $y_i \\in [0.75, 0.875, 1]$\n",
    "\n",
    "Thus, our example will end up being of the form $Y_{agg} = [0, 0, 1, 1, 2, 2, 1]$. This is what the routine `prepare_features_multi` does."
   ]
  },
  {
   "cell_type": "code",
   "execution_count": 292,
   "metadata": {
    "collapsed": true
   },
   "outputs": [],
   "source": [
    "def prepare_features_multi(file_,split):\n",
    "    \"\"\"\n",
    "        Loads the data contained in the file_ and formats it in the way we need for it to be fed into a sklearn classifier.\n",
    "        The form of the output is the following  : x in the interval [ split[i], split[i+1] [ -> output y = i\n",
    "        @param file_ : the file which contains the data we want to learn on.\n",
    "        @param split : the number of different output classes that we will have (2 to 9 classes only)\n",
    "        @return X : the features of the model (size n_samples x n_features)\n",
    "        @return Y : the labels of our set (size n_samples)\n",
    "        @return columns : the name of the features (list of string of size n_features)\n",
    "    \"\"\"\n",
    "    df = pd.read_csv(file_)\n",
    "    # We drop the skin colour as it is the solution, it goes into the output array.\n",
    "    X = df.drop('skin_colour',axis=1)\n",
    "    columns = X.columns.values\n",
    "    \n",
    "    \n",
    "    Y = np.array(df['skin_colour'])\n",
    "    #Array which contains the values at which we classify into a category or the next one\n",
    "    splits = np.linspace(0,1,split+1)\n",
    "    \n",
    "    #Array which starts at a basis negative (invalid value) and contains the labels of which of the \n",
    "    #class in which the data entry is.\n",
    "    Y_agg = -2*np.ones(len(Y))\n",
    "    \n",
    "    for i in range(0, split):\n",
    "        Y_agg[np.logical_and(Y >= splits[i], Y < splits[i+1])] = i\n",
    "    Y_agg[Y==1] = i\n",
    "    \n",
    "    return X, Y_agg,columns"
   ]
  },
  {
   "cell_type": "markdown",
   "metadata": {},
   "source": [
    "# 2. Classification of our data.\n",
    "The classifier we were asked to use is the Random Forest. In order to evaluate the performance of our results, we will use several tools, which will help us to understand better the results we obtain. \n",
    "\n",
    "1. The [cross_validation module of scikit-learn](http://scikit-learn.org/0.17/modules/generated/sklearn.cross_validation.cross_val_score.html) allows us to test the performance of our classification. The `cross_val_score` method returns the percentage of accuracy of our classification (average of the testing error of each iteration of the cross-validation. The `cv` field allows us to chose the number of folds of cross-validation we want to perform (e.g. cv=5 -> 5-fold cross-validation).\n",
    "2. The [F1 score](http://scikit-learn.org/stable/modules/generated/sklearn.metrics.f1_score.html) takes into account the false positives and the false negatives in the process of outputting the score. Hence, a model with a high prediction accuracy can get very poor results in the F1-metric if for instance it outputs everything to an output which is dominant in the population (cf. the examples \"Everybody has cancer\" in the lecture 07 of the course).\n",
    "3. [The confusion matrix](http://scikit-learn.org/stable/modules/generated/sklearn.metrics.confusion_matrix.html) plots the detail of the classification, and allows us to visualise the false positives, false negatives. We can compute the F1-score from this matrix.\n",
    "4. The [feature importances](http://scikit-learn.org/stable/auto_examples/ensemble/plot_forest_importances.html) allows us to see which of the features are the most significant for the classification. \n",
    "\n",
    "\n",
    "If we turn now to the coding, the first function below `print_confusion_matrix` is a helper function that helps us visualising the confusion matrix in a more elegant way than the usual way of displaying a 2D numpy array."
   ]
  },
  {
   "cell_type": "code",
   "execution_count": 293,
   "metadata": {
    "collapsed": false
   },
   "outputs": [],
   "source": [
    "def print_confusion_matrix(conf_matrix):\n",
    "    \"\"\"\n",
    "        Prints in textual way the entries of the confusion matrix conf_matrix and allows us to visualise it in a \n",
    "        more elegant way than when displaying it simply with print. It makes the understanding of it more intuitive.\n",
    "    \"\"\"\n",
    "    print('\\n\\t\\t\\tDISPLAYING THE CONFUSION MATRIX\\n')\n",
    "    print('\\tPredicted : ',end='\\t' )\n",
    "    features = conf_matrix.shape[0]\n",
    "    for i in range(0,features):\n",
    "        print(i,end='\\t')\n",
    "    print('TOTAL')\n",
    "    print('\\n Reality : ',end='\\t')\n",
    "    for i in range(0,features):\n",
    "        print(i,'||',end='\\t')\n",
    "        for j in range(0,features):\n",
    "            print(conf_matrix[i,j],end='\\t')\n",
    "        print(sum(conf_matrix[i,:]),end='\\n\\t\\t')\n",
    "    print('\\nTOTALS : \\t  ||',end='\\t')\n",
    "    for j in range(0,features):\n",
    "        print(sum(conf_matrix[:,j]),end='\\t')\n",
    "    print(sum(sum(conf_matrix)))"
   ]
  },
  {
   "cell_type": "markdown",
   "metadata": {},
   "source": [
    "The `cross_validation` function does perform the *cv_param*-fold cross-validation, and outputs the cross-validation result, along with F1-score and the confusion matrix, in order for us to understand the shape of our results. We perform by default a 20-fold cross validation, as we want a result as stable as possible."
   ]
  },
  {
   "cell_type": "code",
   "execution_count": 294,
   "metadata": {
    "collapsed": false
   },
   "outputs": [],
   "source": [
    "def cross_validation(X,Y,cv_param = 20): \n",
    "    \"\"\"\n",
    "        Cross_validation takes as input a dataset X and the labels Y and performs the cv_param-fold cross validation.\n",
    "        It uses a random forest classifier in order to do so and plots the cross-validation score, the f1-score\n",
    "        as well as the confusion matrix.\n",
    "    \"\"\"\n",
    "    # 1. Creates the classifier that we will use \n",
    "    forest = RandomForestClassifier()\n",
    "    # 2. Predicts the output of the classification after cv_param-fold cross-validation\n",
    "    Y_predicted = cross_val_predict(forest, X, Y, cv=cv_param)\n",
    "    \n",
    "    # 3. Print the results : scores, \n",
    "    print('Cross Validation result :', cross_val_score(forest,X,Y,cv = cv_param).mean(),\n",
    "        '\\nF1 score result :',sklearn.metrics.f1_score(Y, Y_predicted,average='micro'))\n",
    "    \n",
    "    print_confusion_matrix(sklearn.metrics.confusion_matrix(Y,Y_predicted))"
   ]
  },
  {
   "cell_type": "markdown",
   "metadata": {},
   "source": [
    "The `plot_feature_importances` function does rank each feature of *X* accordingly to the role it plays into the classification of the data we give it. This allows us to see whether a key subset of our features would turn out to be outstandingly better than the rest at determining the skin colour of a player."
   ]
  },
  {
   "cell_type": "code",
   "execution_count": 295,
   "metadata": {
    "collapsed": false,
    "scrolled": true
   },
   "outputs": [],
   "source": [
    "def plot_feature_importances(X, Y, columns,plot_flag = 1):\n",
    "    \"\"\"\n",
    "        plot_feature_importances displays the importance of each feature into determining the output of our problem. \n",
    "        @param plot_flag : a boolean which can be turned on or off for the plotting for the display of the results.\n",
    "    \"\"\"\n",
    "    forest = RandomForestClassifier()\n",
    "    forest = forest.fit(X,Y)\n",
    "    importances = forest.feature_importances_\n",
    "    std = np.std([tree.feature_importances_ for tree in forest.estimators_],axis=0)\n",
    "    indices = np.argsort(importances)[::-1]\n",
    "    # Print the feature ranking\n",
    "    print(\"Feature ranking:\")\n",
    "\n",
    "    if(plot_flag):    \n",
    "        for f in range(X.shape[1]):\n",
    "            print(\"%d. feature %d - %s (%f)\" % (f + 1, indices[f],  columns[indices[f]], importances[indices[f]]))\n",
    "            \n",
    "        # Plot the feature importances of the forest\n",
    "        plt.figure()\n",
    "        plt.title(\"Feature importances\")\n",
    "        plt.bar(range(X.shape[1]), importances[indices], color=\"r\", yerr=std[indices], align=\"center\")\n",
    "        plt.xticks(range(X.shape[1]), indices)\n",
    "        plt.xlim([-1, X.shape[1]])\n",
    "        plt.show()\n",
    "    return indices,importances"
   ]
  },
  {
   "cell_type": "markdown",
   "metadata": {},
   "source": [
    "# 3. Comparison of the results for different models.\n",
    "Let us start our comparison with the rawest data we have, taking only the numeric values of the basic features we were given and adding the country in which the player is currently playing as fields as well. We will iterate over different splits (i.e. binary classification, 3 classes, ...) and see the feature importances evolution with the number of classes we have for the classification. \n",
    "\n",
    "First, we only consider the result we obtain from cross-validation using 3 different number of classes : 2, 5 and 9.\n"
   ]
  },
  {
   "cell_type": "code",
   "execution_count": 308,
   "metadata": {
    "collapsed": false,
    "scrolled": true
   },
   "outputs": [
    {
     "name": "stdout",
     "output_type": "stream",
     "text": [
      "STARTING WITH BINARY CLASSIFICATION\n",
      "\n",
      "Cross Validation result : 0.763385032417 \n",
      "F1 score result : 0.754756871036\n",
      "\n",
      "\t\t\tDISPLAYING THE CONFUSION MATRIX\n",
      "\n",
      "\tPredicted : \t0\t1\tTOTAL\n",
      "\n",
      " Reality : \t0 ||\t1014\t75\t1089\n",
      "\t\t1 ||\t273\t57\t330\n",
      "\t\t\n",
      "TOTALS : \t  ||\t1287\t132\t1419\n"
     ]
    }
   ],
   "source": [
    "#Binary classification\n",
    "print('STARTING WITH BINARY CLASSIFICATION\\n')\n",
    "X_no_ft_binary,Y_no_ft_binary,columns_no_ft_binary = prepare_features_multi('Data/players_no_nan_only_num_values.csv',2)\n",
    "forest_no_ft = cross_validation(X_no_ft_binary, Y_no_ft_binary, cv_param=20)"
   ]
  },
  {
   "cell_type": "markdown",
   "metadata": {},
   "source": [
    "Starting with the raw features and the binary classification, one can immediately that there is a huge problem ! The first problem comes from the data themselves, splitting in two groups of people at a threshold of 0.5, we get two very inegal groups. One with output 1 (white) contains 1089 entries, while the second one (coloured) contains 330 entries only. There is a quite large imbalance here. We get roughly 75% of the population in the first class, and only 25% percent in the second one.\n",
    "\n",
    "\n",
    "The classification, which actually got an accuracy of 75% is quite wrong, as it nearly classifies all the entries as 0, which gives 75% percent accuracy, as 75% percent of the population is in his class. We see that the problem lies in the fact that for the class 1, nearly all its entries (273 people), are wrongly classified as belonging to the class 0, while only 41 are correctly classified ! Only 18% of the members of the class with label 1 are classified correctly, against 93% of the members of the class 0. We hence see that our model with the raw features is not a good classifier. We will try later on to change the threshold to have a more balanced number of persons in each class for the binary classification to see whether the performance improves.\n",
    "\n",
    "Now, we will preform the 5/9-classes classification, and see how the prediction evolves."
   ]
  },
  {
   "cell_type": "code",
   "execution_count": 312,
   "metadata": {
    "collapsed": false
   },
   "outputs": [
    {
     "name": "stdout",
     "output_type": "stream",
     "text": [
      "\n",
      "5 CLASSES CLASSIFICATION\n",
      "\n",
      "Cross Validation result : 0.420150980781 \n",
      "F1 score result : 0.418604651163\n",
      "\n",
      "\t\t\tDISPLAYING THE CONFUSION MATRIX\n",
      "\n",
      "\tPredicted : \t0\t1\t2\t3\t4\tTOTAL\n",
      "\n",
      " Reality : \t0 ||\t389\t180\t9\t8\t10\t596\n",
      "\t\t1 ||\t279\t193\t5\t9\t7\t493\n",
      "\t\t2 ||\t60\t39\t1\t0\t3\t103\n",
      "\t\t3 ||\t57\t44\t3\t3\t6\t113\n",
      "\t\t4 ||\t64\t32\t6\t4\t8\t114\n",
      "\t\t\n",
      "TOTALS : \t  ||\t849\t488\t24\t24\t34\t1419\n"
     ]
    }
   ],
   "source": [
    "#5 classes classification\n",
    "print('\\n5 CLASSES CLASSIFICATION\\n')\n",
    "X_no_ft_5,Y_no_ft_5,columns_no_ft_5 = prepare_features_multi('Data/players_no_nan_only_num_values.csv',5)\n",
    "forest_no_ft = cross_validation(X_no_ft_5, Y_no_ft_5, cv_param=20)"
   ]
  },
  {
   "cell_type": "markdown",
   "metadata": {},
   "source": [
    "The results shows an accuracy of 42%, confirmed by the F1-metric score. The problem that shows here is exactly the same as before. The classes with a lot of entries (class with label 0 and 1 (i.e. skin_colour from 0 to 0.4) get almost all the entries 1337 out of 1419 entries, while \"only\" containing in reality 1089 entries. We get 17% people more than there should be in these classes. And the problems shows that nearly all the people from the smaller classes (resp. 103,113,114 entries) are very much missclassified, with only in total 25% of people correctly classified across those 3 classes. Another problem also arises here, it is the fact that a lot of people of the class 0 are wrongly classificated in the class 1, and a lot of people of the class 1 are wrongly classified into the class 0, yielding a very large error as well. \n",
    "\n",
    "If we now turn to the 9 classes classification, we would expect to get the same behaviour as here, only with more \"extreme\" cases."
   ]
  },
  {
   "cell_type": "code",
   "execution_count": 319,
   "metadata": {
    "collapsed": false,
    "scrolled": true
   },
   "outputs": [
    {
     "name": "stdout",
     "output_type": "stream",
     "text": [
      "\n",
      "9 CLASSES CLASSIFICATION\n",
      "\n",
      "Cross Validation result : 0.284076318421 \n",
      "F1 score result : 0.263565891473\n",
      "\n",
      "\t\t\tDISPLAYING THE CONFUSION MATRIX\n",
      "\n",
      "\tPredicted : \t0\t1\t2\t3\t4\t5\t6\t7\t8\tTOTAL\n",
      "\n",
      " Reality : \t0 ||\t176\t51\t133\t7\t5\t1\t9\t0\t4\t386\n",
      "\t\t1 ||\t95\t26\t77\t1\t7\t0\t2\t0\t2\t210\n",
      "\t\t2 ||\t170\t50\t162\t6\t9\t1\t10\t2\t9\t419\n",
      "\t\t3 ||\t27\t12\t27\t3\t1\t0\t4\t0\t0\t74\n",
      "\t\t4 ||\t37\t16\t39\t2\t3\t1\t3\t2\t0\t103\n",
      "\t\t5 ||\t13\t1\t11\t1\t0\t0\t1\t0\t1\t28\n",
      "\t\t6 ||\t27\t11\t38\t4\t0\t1\t1\t2\t1\t85\n",
      "\t\t7 ||\t16\t2\t9\t1\t0\t2\t1\t1\t2\t34\n",
      "\t\t8 ||\t27\t14\t34\t0\t0\t0\t2\t1\t2\t80\n",
      "\t\t\n",
      "TOTALS : \t  ||\t588\t183\t530\t25\t25\t6\t33\t8\t21\t1419\n"
     ]
    }
   ],
   "source": [
    "#9 classes classification\n",
    "print('\\n9 CLASSES CLASSIFICATION\\n')\n",
    "X_no_ft_9,Y_no_ft_9,columns_no_ft_9 = prepare_features_multi('Data/players_no_nan_only_num_values.csv',9)\n",
    "forest_no_ft = cross_validation(X_no_ft_9, Y_no_ft_9, cv_param=20)"
   ]
  },
  {
   "cell_type": "markdown",
   "metadata": {},
   "source": [
    "We see that our results again are in the same fasion as before : the classes with a lot of entries (here the classes 0 and 2) get a lot of entries, and actually a lot more than they should (588 and 530 against 386 and 419 resp.). The error of classification is again huge and is due a lot to the fact that roughly half of the entries of the class 0 are classified into class 2 and inversely ! The classifier does not do at all any difference between both entries. There is also another case of interest in the fact that the only 6 elements gets classified into class 5, while there are actually 74 elements in it, and none of the elements that actually are in the class 5 got correctly classified ! It shows that having only the basic features is clearly not suffificent for our model to be able to classify the players in a reliable manner. \n",
    "\n",
    "Let us now turn to the feature importances and try to see whether some feature stands out in every case."
   ]
  },
  {
   "cell_type": "code",
   "execution_count": 320,
   "metadata": {
    "collapsed": false,
    "scrolled": false
   },
   "outputs": [
    {
     "name": "stdout",
     "output_type": "stream",
     "text": [
      "Feature ranking:\n",
      "1. feature 3 - victories (0.113558)\n",
      "2. feature 6 - goals (0.104991)\n",
      "3. feature 2 - games (0.103874)\n",
      "4. feature 4 - ties (0.099360)\n",
      "5. feature 5 - defeats (0.095212)\n",
      "6. feature 1 - weight (0.085334)\n",
      "7. feature 7 - yellowCards (0.084962)\n",
      "8. feature 0 - height (0.080565)\n",
      "9. feature 14 - birthYear (0.075303)\n",
      "10. feature 12 - french (0.041728)\n",
      "11. feature 9 - redCards (0.039604)\n",
      "12. feature 8 - yellowReds (0.033595)\n",
      "13. feature 11 - german (0.016250)\n",
      "14. feature 10 - english (0.013187)\n",
      "15. feature 13 - spanish (0.012477)\n"
     ]
    },
    {
     "data": {
      "image/png": "[encoded data removed]",
      "text/plain": [
       "<matplotlib.figure.Figure at 0x7f269564a9b0>"
      ]
     },
     "metadata": {},
     "output_type": "display_data"
    },
    {
     "name": "stdout",
     "output_type": "stream",
     "text": [
      "Feature ranking:\n",
      "1. feature 2 - games (0.110389)\n",
      "2. feature 5 - defeats (0.101963)\n",
      "3. feature 4 - ties (0.097646)\n",
      "4. feature 3 - victories (0.095869)\n",
      "5. feature 1 - weight (0.094165)\n",
      "6. feature 7 - yellowCards (0.092832)\n",
      "7. feature 6 - goals (0.091558)\n",
      "8. feature 0 - height (0.086469)\n",
      "9. feature 14 - birthYear (0.085363)\n",
      "10. feature 9 - redCards (0.047662)\n",
      "11. feature 8 - yellowReds (0.038346)\n",
      "12. feature 12 - french (0.019232)\n",
      "13. feature 13 - spanish (0.015162)\n",
      "14. feature 11 - german (0.011919)\n",
      "15. feature 10 - english (0.011425)\n"
     ]
    },
    {
     "data": {
      "image/png": "[encoded data removed]",
      "text/plain": [
       "<matplotlib.figure.Figure at 0x7f26957356d8>"
      ]
     },
     "metadata": {},
     "output_type": "display_data"
    },
    {
     "name": "stdout",
     "output_type": "stream",
     "text": [
      "Feature ranking:\n",
      "1. feature 3 - victories (0.105334)\n",
      "2. feature 7 - yellowCards (0.104039)\n",
      "3. feature 5 - defeats (0.101249)\n",
      "4. feature 6 - goals (0.100826)\n",
      "5. feature 4 - ties (0.098573)\n",
      "6. feature 2 - games (0.093981)\n",
      "7. feature 1 - weight (0.090314)\n",
      "8. feature 0 - height (0.090008)\n",
      "9. feature 14 - birthYear (0.077243)\n",
      "10. feature 9 - redCards (0.047111)\n",
      "11. feature 8 - yellowReds (0.043588)\n",
      "12. feature 11 - german (0.012890)\n",
      "13. feature 10 - english (0.012518)\n",
      "14. feature 12 - french (0.011894)\n",
      "15. feature 13 - spanish (0.010433)\n"
     ]
    },
    {
     "data": {
      "image/png": "[encoded data removed]",
      "text/plain": [
       "<matplotlib.figure.Figure at 0x7f2695756ac8>"
      ]
     },
     "metadata": {},
     "output_type": "display_data"
    },
    {
     "data": {
      "text/plain": [
       "(array([ 3,  7,  5,  6,  4,  2,  1,  0, 14,  9,  8, 11, 10, 12, 13]),\n",
       " array([ 0.09000751,  0.09031396,  0.09398115,  0.10533353,  0.09857282,\n",
       "         0.10124855,  0.10082639,  0.10403852,  0.04358783,  0.04711093,\n",
       "         0.0125182 ,  0.01288996,  0.01189416,  0.0104335 ,  0.077243  ]))"
      ]
     },
     "execution_count": 320,
     "metadata": {},
     "output_type": "execute_result"
    }
   ],
   "source": [
    "plot_feature_importances(X_no_ft_binary,Y_no_ft_binary,columns_no_ft_binary)\n",
    "plot_feature_importances(X_no_ft_5, Y_no_ft_5, columns_no_ft_5)\n",
    "plot_feature_importances(X_no_ft_9, Y_no_ft_9,columns_no_ft_9)"
   ]
  },
  {
   "cell_type": "markdown",
   "metadata": {},
   "source": [
    "There is a lot to say from these "
   ]
  },
  {
   "cell_type": "code",
   "execution_count": 297,
   "metadata": {
    "collapsed": false
   },
   "outputs": [
    {
     "ename": "TypeError",
     "evalue": "cross_validation() takes from 2 to 3 positional arguments but 4 were given",
     "output_type": "error",
     "traceback": [
      "\u001b[1;31m---------------------------------------------------------------------------\u001b[0m",
      "\u001b[1;31mTypeError\u001b[0m                                 Traceback (most recent call last)",
      "\u001b[1;32m<ipython-input-297-3cb7ffb216a2>\u001b[0m in \u001b[0;36m<module>\u001b[1;34m()\u001b[0m\n\u001b[0;32m      2\u001b[0m \u001b[1;33m\u001b[0m\u001b[0m\n\u001b[0;32m      3\u001b[0m \u001b[0mX\u001b[0m\u001b[1;33m,\u001b[0m\u001b[0mY\u001b[0m\u001b[1;33m,\u001b[0m\u001b[0mcolumns\u001b[0m \u001b[1;33m=\u001b[0m \u001b[0mprepare_features_multi\u001b[0m\u001b[1;33m(\u001b[0m\u001b[1;34m'Data/players_with features_no_nan_only_num_values.csv'\u001b[0m\u001b[1;33m,\u001b[0m\u001b[0msplit\u001b[0m\u001b[1;33m)\u001b[0m\u001b[1;33m\u001b[0m\u001b[0m\n\u001b[1;32m----> 4\u001b[1;33m \u001b[0mcross_validation\u001b[0m\u001b[1;33m(\u001b[0m\u001b[0mX\u001b[0m\u001b[1;33m,\u001b[0m\u001b[0mY\u001b[0m\u001b[1;33m,\u001b[0m\u001b[0mcolumns\u001b[0m\u001b[1;33m,\u001b[0m\u001b[1;36m20\u001b[0m\u001b[1;33m)\u001b[0m\u001b[1;33m\u001b[0m\u001b[0m\n\u001b[0m\u001b[0;32m      5\u001b[0m \u001b[0mplot_feature_importances\u001b[0m\u001b[1;33m(\u001b[0m\u001b[0mX\u001b[0m\u001b[1;33m,\u001b[0m\u001b[0mY\u001b[0m\u001b[1;33m,\u001b[0m\u001b[0mcolumns\u001b[0m\u001b[1;33m,\u001b[0m\u001b[0mplot_flag\u001b[0m\u001b[1;33m=\u001b[0m \u001b[1;32mFalse\u001b[0m\u001b[1;33m,\u001b[0m\u001b[0mtop_ten\u001b[0m\u001b[1;33m=\u001b[0m\u001b[1;32mTrue\u001b[0m\u001b[1;33m)\u001b[0m\u001b[1;33m\u001b[0m\u001b[0m\n",
      "\u001b[1;31mTypeError\u001b[0m: cross_validation() takes from 2 to 3 positional arguments but 4 were given"
     ]
    }
   ],
   "source": [
    "split = 9\n",
    "\n",
    "X,Y,columns = prepare_features_multi('Data/players_with features_no_nan_only_num_values.csv',split)\n",
    "cross_validation(X,Y,columns,20)\n",
    "plot_feature_importances(X,Y,columns,plot_flag= False,top_ten=True)"
   ]
  },
  {
   "cell_type": "markdown",
   "metadata": {},
   "source": [
    "Let us now visualise the result we'd get when we would not have added the supplementary features."
   ]
  },
  {
   "cell_type": "code",
   "execution_count": 276,
   "metadata": {
    "collapsed": false,
    "scrolled": true
   },
   "outputs": [
    {
     "name": "stdout",
     "output_type": "stream",
     "text": [
      "Cross Validation result : 0.754061115811 \n",
      "F1 score result : 0.753347427766\n",
      "\n",
      "\t\t\tDISPLAYING THE CONFUSION MATRIX\n",
      "\n",
      "\tPredicted : \t0\t1\t\n",
      "\n",
      " Reality : \t0 ||\t1020\t69\t\n",
      "\t\t1 ||\t281\t49\t\n",
      "\t\t\n",
      "TOTALS : \t  ||\t1301\t118\t\n",
      "\n"
     ]
    }
   ],
   "source": [
    "\n"
   ]
  },
  {
   "cell_type": "markdown",
   "metadata": {},
   "source": [
    "This 5-fold cross validation shows that our algorithm predicts 75 % of the time the correct skin. We want to then visualise what are the most important features in the decision, taking the example of the feature importances with trees from [scikit-learn](http://scikit-learn.org/stable/auto_examples/ensemble/plot_forest_importances.html).\n",
    "\n",
    "It seems that even if no feature is really significantly better at predicting the skin colour of a player, the ones we defined in the preprocessing that related the referee and the player seem to be able to perform a bit better. It might mean that some referee might have some bias towards the coloured players, and the features we defined from this bias help us identify the skin colour. The first feature is the *meanExp_yellowCards*, which cross_features the referees with which the player played with the number of yellow cards received from them, weighted by the *mean explicit bias score*, which tells us if a referee is warmer towards coloured people of not."
   ]
  },
  {
   "cell_type": "markdown",
   "metadata": {},
   "source": [
    "TODO : Comparison - How to do when you have less features ?"
   ]
  }
 ],
 "metadata": {
  "anaconda-cloud": {},
  "kernelspec": {
   "display_name": "Python [Root]",
   "language": "python",
   "name": "Python [Root]"
  },
  "language_info": {
   "codemirror_mode": {
    "name": "ipython",
    "version": 3
   },
   "file_extension": ".py",
   "mimetype": "text/x-python",
   "name": "python",
   "nbconvert_exporter": "python",
   "pygments_lexer": "ipython3",
   "version": "3.5.2"
  }
 },
 "nbformat": 4,
 "nbformat_minor": 1
}
