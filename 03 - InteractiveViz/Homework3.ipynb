{
 "cells": [
  {
   "cell_type": "code",
   "execution_count": 1,
   "metadata": {
    "collapsed": true
   },
   "outputs": [],
   "source": [
    "import pandas as pd\n",
    "import numpy as np"
   ]
  },
  {
   "cell_type": "code",
   "execution_count": 2,
   "metadata": {
    "collapsed": false
   },
   "outputs": [],
   "source": [
    "datas = pd.read_csv('P3_GrantExport.csv',sep=';')"
   ]
  },
  {
   "cell_type": "code",
   "execution_count": 3,
   "metadata": {
    "collapsed": false
   },
   "outputs": [
    {
     "data": {
      "text/html": [
       "<div>\n",
       "<table border=\"1\" class=\"dataframe\">\n",
       "  <thead>\n",
       "    <tr style=\"text-align: right;\">\n",
       "      <th></th>\n",
       "      <th>﻿\"Project Number\"</th>\n",
       "      <th>University</th>\n",
       "      <th>Start Date</th>\n",
       "      <th>End Date</th>\n",
       "      <th>Approved Amount</th>\n",
       "    </tr>\n",
       "  </thead>\n",
       "  <tbody>\n",
       "    <tr>\n",
       "      <th>0</th>\n",
       "      <td>1</td>\n",
       "      <td>Nicht zuteilbar - NA</td>\n",
       "      <td>01.10.1975</td>\n",
       "      <td>30.09.1976</td>\n",
       "      <td>11619.00</td>\n",
       "    </tr>\n",
       "    <tr>\n",
       "      <th>1</th>\n",
       "      <td>4</td>\n",
       "      <td>Université de Genève - GE</td>\n",
       "      <td>01.10.1975</td>\n",
       "      <td>30.09.1976</td>\n",
       "      <td>41022.00</td>\n",
       "    </tr>\n",
       "    <tr>\n",
       "      <th>2</th>\n",
       "      <td>5</td>\n",
       "      <td>NPO (Biblioth., Museen, Verwalt.) - NPO</td>\n",
       "      <td>01.03.1976</td>\n",
       "      <td>28.02.1985</td>\n",
       "      <td>79732.00</td>\n",
       "    </tr>\n",
       "    <tr>\n",
       "      <th>3</th>\n",
       "      <td>6</td>\n",
       "      <td>Universität Basel - BS</td>\n",
       "      <td>01.10.1975</td>\n",
       "      <td>30.09.1976</td>\n",
       "      <td>52627.00</td>\n",
       "    </tr>\n",
       "    <tr>\n",
       "      <th>4</th>\n",
       "      <td>7</td>\n",
       "      <td>NPO (Biblioth., Museen, Verwalt.) - NPO</td>\n",
       "      <td>01.01.1976</td>\n",
       "      <td>30.04.1978</td>\n",
       "      <td>120042.00</td>\n",
       "    </tr>\n",
       "  </tbody>\n",
       "</table>\n",
       "</div>"
      ],
      "text/plain": [
       "   ﻿\"Project Number\"                               University  Start Date  \\\n",
       "0                  1                     Nicht zuteilbar - NA  01.10.1975   \n",
       "1                  4                Université de Genève - GE  01.10.1975   \n",
       "2                  5  NPO (Biblioth., Museen, Verwalt.) - NPO  01.03.1976   \n",
       "3                  6                   Universität Basel - BS  01.10.1975   \n",
       "4                  7  NPO (Biblioth., Museen, Verwalt.) - NPO  01.01.1976   \n",
       "\n",
       "     End Date Approved Amount  \n",
       "0  30.09.1976        11619.00  \n",
       "1  30.09.1976        41022.00  \n",
       "2  28.02.1985        79732.00  \n",
       "3  30.09.1976        52627.00  \n",
       "4  30.04.1978       120042.00  "
      ]
     },
     "execution_count": 3,
     "metadata": {},
     "output_type": "execute_result"
    }
   ],
   "source": [
    "data_final = datas[[0,7,11,12,13]]\n",
    "data_final.head()"
   ]
  },
  {
   "cell_type": "code",
   "execution_count": 4,
   "metadata": {
    "collapsed": false
   },
   "outputs": [
    {
     "data": {
      "text/html": [
       "<div>\n",
       "<table border=\"1\" class=\"dataframe\">\n",
       "  <thead>\n",
       "    <tr style=\"text-align: right;\">\n",
       "      <th></th>\n",
       "      <th>Project Number</th>\n",
       "      <th>University</th>\n",
       "      <th>Start Date</th>\n",
       "      <th>End Date</th>\n",
       "      <th>Approved Amount</th>\n",
       "    </tr>\n",
       "  </thead>\n",
       "  <tbody>\n",
       "    <tr>\n",
       "      <th>0</th>\n",
       "      <td>1</td>\n",
       "      <td>Nicht zuteilbar - NA</td>\n",
       "      <td>01.10.1975</td>\n",
       "      <td>30.09.1976</td>\n",
       "      <td>11619.00</td>\n",
       "    </tr>\n",
       "    <tr>\n",
       "      <th>1</th>\n",
       "      <td>4</td>\n",
       "      <td>Université de Genève - GE</td>\n",
       "      <td>01.10.1975</td>\n",
       "      <td>30.09.1976</td>\n",
       "      <td>41022.00</td>\n",
       "    </tr>\n",
       "    <tr>\n",
       "      <th>2</th>\n",
       "      <td>5</td>\n",
       "      <td>NPO (Biblioth., Museen, Verwalt.) - NPO</td>\n",
       "      <td>01.03.1976</td>\n",
       "      <td>28.02.1985</td>\n",
       "      <td>79732.00</td>\n",
       "    </tr>\n",
       "    <tr>\n",
       "      <th>3</th>\n",
       "      <td>6</td>\n",
       "      <td>Universität Basel - BS</td>\n",
       "      <td>01.10.1975</td>\n",
       "      <td>30.09.1976</td>\n",
       "      <td>52627.00</td>\n",
       "    </tr>\n",
       "    <tr>\n",
       "      <th>4</th>\n",
       "      <td>7</td>\n",
       "      <td>NPO (Biblioth., Museen, Verwalt.) - NPO</td>\n",
       "      <td>01.01.1976</td>\n",
       "      <td>30.04.1978</td>\n",
       "      <td>120042.00</td>\n",
       "    </tr>\n",
       "  </tbody>\n",
       "</table>\n",
       "</div>"
      ],
      "text/plain": [
       "   Project Number                               University  Start Date  \\\n",
       "0               1                     Nicht zuteilbar - NA  01.10.1975   \n",
       "1               4                Université de Genève - GE  01.10.1975   \n",
       "2               5  NPO (Biblioth., Museen, Verwalt.) - NPO  01.03.1976   \n",
       "3               6                   Universität Basel - BS  01.10.1975   \n",
       "4               7  NPO (Biblioth., Museen, Verwalt.) - NPO  01.01.1976   \n",
       "\n",
       "     End Date Approved Amount  \n",
       "0  30.09.1976        11619.00  \n",
       "1  30.09.1976        41022.00  \n",
       "2  28.02.1985        79732.00  \n",
       "3  30.09.1976        52627.00  \n",
       "4  30.04.1978       120042.00  "
      ]
     },
     "execution_count": 4,
     "metadata": {},
     "output_type": "execute_result"
    }
   ],
   "source": [
    "data_final=data_final.rename(columns={'\\ufeff\"Project Number\\\"':'Project Number'})\n",
    "data_final.head()"
   ]
  },
  {
   "cell_type": "code",
   "execution_count": 5,
   "metadata": {
    "collapsed": false
   },
   "outputs": [
    {
     "data": {
      "text/html": [
       "<div>\n",
       "<table border=\"1\" class=\"dataframe\">\n",
       "  <thead>\n",
       "    <tr style=\"text-align: right;\">\n",
       "      <th></th>\n",
       "      <th>Project Number</th>\n",
       "      <th>University</th>\n",
       "      <th>Start Date</th>\n",
       "      <th>End Date</th>\n",
       "      <th>Approved Amount</th>\n",
       "    </tr>\n",
       "  </thead>\n",
       "  <tbody>\n",
       "    <tr>\n",
       "      <th>0</th>\n",
       "      <td>1</td>\n",
       "      <td>Nicht zuteilbar - NA</td>\n",
       "      <td>01.10.1975</td>\n",
       "      <td>30.09.1976</td>\n",
       "      <td>11619.00</td>\n",
       "    </tr>\n",
       "    <tr>\n",
       "      <th>1</th>\n",
       "      <td>4</td>\n",
       "      <td>Université de Genève - GE</td>\n",
       "      <td>01.10.1975</td>\n",
       "      <td>30.09.1976</td>\n",
       "      <td>41022.00</td>\n",
       "    </tr>\n",
       "    <tr>\n",
       "      <th>2</th>\n",
       "      <td>5</td>\n",
       "      <td>NPO (Biblioth., Museen, Verwalt.) - NPO</td>\n",
       "      <td>01.03.1976</td>\n",
       "      <td>28.02.1985</td>\n",
       "      <td>79732.00</td>\n",
       "    </tr>\n",
       "    <tr>\n",
       "      <th>3</th>\n",
       "      <td>6</td>\n",
       "      <td>Universität Basel - BS</td>\n",
       "      <td>01.10.1975</td>\n",
       "      <td>30.09.1976</td>\n",
       "      <td>52627.00</td>\n",
       "    </tr>\n",
       "    <tr>\n",
       "      <th>4</th>\n",
       "      <td>7</td>\n",
       "      <td>NPO (Biblioth., Museen, Verwalt.) - NPO</td>\n",
       "      <td>01.01.1976</td>\n",
       "      <td>30.04.1978</td>\n",
       "      <td>120042.00</td>\n",
       "    </tr>\n",
       "  </tbody>\n",
       "</table>\n",
       "</div>"
      ],
      "text/plain": [
       "   Project Number                               University  Start Date  \\\n",
       "0               1                     Nicht zuteilbar - NA  01.10.1975   \n",
       "1               4                Université de Genève - GE  01.10.1975   \n",
       "2               5  NPO (Biblioth., Museen, Verwalt.) - NPO  01.03.1976   \n",
       "3               6                   Universität Basel - BS  01.10.1975   \n",
       "4               7  NPO (Biblioth., Museen, Verwalt.) - NPO  01.01.1976   \n",
       "\n",
       "     End Date Approved Amount  \n",
       "0  30.09.1976        11619.00  \n",
       "1  30.09.1976        41022.00  \n",
       "2  28.02.1985        79732.00  \n",
       "3  30.09.1976        52627.00  \n",
       "4  30.04.1978       120042.00  "
      ]
     },
     "execution_count": 5,
     "metadata": {},
     "output_type": "execute_result"
    }
   ],
   "source": [
    "data_final.set_index('Project Number')\n",
    "data_final.head()"
   ]
  },
  {
   "cell_type": "markdown",
   "metadata": {},
   "source": [
    "Some data need to be replaced with NaN, as they do not convey any information regarding the location of the grant that was assigned. These are the following :\n",
    "- 'Nicht zuteilbar - NA' -> Unavailable data\n",
    "- 'NPO (Biblioth., Museen, Verwalt.) - NPO' -> No informations\n",
    "- 'Weitere Institute - FINST' -> Other institutes\n",
    "- 'Firmen/Privatwirtschaft - FP' -> Private institutions"
   ]
  },
  {
   "cell_type": "code",
   "execution_count": 12,
   "metadata": {
    "collapsed": false,
    "scrolled": true
   },
   "outputs": [
    {
     "data": {
      "text/plain": [
       "array(['Université de Genève - GE', 'Universität Basel - BS',\n",
       "       'Université de Fribourg - FR', 'Universität Zürich - ZH',\n",
       "       'Université de Lausanne - LA', 'Universität Bern - BE',\n",
       "       'Eidg. Forschungsanstalt für Wald,Schnee,Land - WSL',\n",
       "       'Université de Neuchâtel - NE', 'ETH Zürich - ETHZ',\n",
       "       'Inst. de Hautes Etudes Internat. et du Dév - IHEID',\n",
       "       'Universität St. Gallen - SG',\n",
       "       'Pädagogische Hochschule Graubünden - PHGR', 'EPF Lausanne - EPFL',\n",
       "       'Pädagogische Hochschule Zürich - PHZFH', 'Universität Luzern - LU',\n",
       "       'Schweiz. Institut für Kunstwissenschaft - SIK-ISEA',\n",
       "       'SUP della Svizzera italiana - SUPSI',\n",
       "       'HES de Suisse occidentale - HES-SO',\n",
       "       'Robert Walser-Stiftung Bern - RWS', 'Paul Scherrer Institut - PSI',\n",
       "       'Pädagogische Hochschule St. Gallen - PHSG',\n",
       "       'Eidg. Anstalt für Wasserversorgung - EAWAG',\n",
       "       'Eidg. Material und Prüfungsanstalt - EMPA',\n",
       "       'Physikal.-Meteorolog. Observatorium Davos - PMOD',\n",
       "       'Berner Fachhochschule - BFH',\n",
       "       'Swiss Center for Electronics and Microtech. - CSEM',\n",
       "       'Weitere Spitäler - ASPIT', 'AO Research Institute - AORI',\n",
       "       'Allergie- und Asthmaforschung - SIAF',\n",
       "       'Forschungsinstitut für biologischen Landbau - FIBL',\n",
       "       'Friedrich Miescher Institute - FMI',\n",
       "       'Kantonsspital St. Gallen - KSPSG',\n",
       "       'Forschungsanstalten Agroscope - AGS',\n",
       "       'Ente Ospedaliero Cantonale - EOC',\n",
       "       'Inst. universit. romand de Santé au Travail - IST',\n",
       "       'Eidg. Hochschulinstitut für Berufsbildung - EHB',\n",
       "       'Zürcher Fachhochschule (ohne PH) - ZFH',\n",
       "       'Università della Svizzera italiana - USI',\n",
       "       'Institut für Kulturforschung Graubünden - IKG',\n",
       "       'Fachhochschule Nordwestschweiz (ohne PH) - FHNW',\n",
       "       'Interkant. Hochschule für Heilpädagogik ZH - HfH',\n",
       "       \"Centre de rech. sur l'environnement alpin - CREALP\",\n",
       "       'Idiap Research Institute - IDIAP',\n",
       "       'Pädagogische Hochschule Bern - PHBern',\n",
       "       'Institut Universitaire Kurt Bösch - IUKB',\n",
       "       'Schweizer Paraplegiker Forschung - SPF',\n",
       "       'Hochschule Luzern - HSLU',\n",
       "       'Forschungsinstitut für Opthalmologie - IRO',\n",
       "       'Haute école pédagogique du canton de Vaud - HEPL',\n",
       "       'Fachhochschule Ostschweiz - FHO',\n",
       "       'Inst. Suisse de Spéléologie et Karstologie - ISSKA',\n",
       "       'Swiss Institute of Bioinformatics - SIB',\n",
       "       'Haute école pédagogique BE, JU, NE - HEPBEJUNE',\n",
       "       'Pädagogische Hochschule Luzern - PHLU',\n",
       "       'Forschungskommission SAGW', 'Istituto Svizzero di Roma - ISR',\n",
       "       'Pädag. Hochschule Tessin (Teilschule SUPSI) - ASP',\n",
       "       'Haute école pédagogique fribourgeoise - HEPFR',\n",
       "       'Pädagogische Hochschule Schwyz - PHSZ',\n",
       "       'Pädagogische Hochschule Thurgau - PHTG',\n",
       "       'Biotechnologie Institut Thurgau - BITG',\n",
       "       'Fachhochschule Kalaidos - FHKD',\n",
       "       'Schweizer Kompetenzzentrum Sozialwissensch. - FORS',\n",
       "       'Pädagogische Hochschule Wallis - PHVS',\n",
       "       'Schweiz. Hochschule für Logopädie Rorschach - SHLR',\n",
       "       'Pädagogische Hochschule Zug - PHZG',\n",
       "       'Instituto Ricerche Solari Locarno - IRSOL',\n",
       "       'Franklin University Switzerland - FUS',\n",
       "       'Pädagogische Hochschule Schaffhausen - PHSH',\n",
       "       'Pädagogische Hochschule Nordwestschweiz - PHFHNW',\n",
       "       'Staatsunabh. Theologische Hochschule Basel - STHB',\n",
       "       'Facoltà di Teologia di Lugano - FTL',\n",
       "       'Fernfachhochschule Schweiz (Mitglied SUPSI) - FFHS'], dtype=object)"
      ]
     },
     "execution_count": 12,
     "metadata": {},
     "output_type": "execute_result"
    }
   ],
   "source": [
    "data_final = data_final.replace('Nicht zuteilbar - NA',np.nan)\n",
    "data_final = data_final.replace('NPO (Biblioth., Museen, Verwalt.) - NPO',np.nan)\n",
    "data_final = data_final.replace('Weitere Institute - FINST',np.nan)\n",
    "data_final = data_final.replace('Firmen/Privatwirtschaft - FP',np.nan)\n",
    "\n",
    "data_uni = data_final['University'].unique()[1:]\n",
    "\n",
    "data_uni"
   ]
  },
  {
   "cell_type": "code",
   "execution_count": 13,
   "metadata": {
    "collapsed": false
   },
   "outputs": [
    {
     "name": "stdout",
     "output_type": "stream",
     "text": [
      "['EPF Lausanne ', ' EPFL']\n"
     ]
    }
   ],
   "source": [
    "test = data_uni[12].split('-')\n",
    "print(test)"
   ]
  },
  {
   "cell_type": "code",
   "execution_count": 14,
   "metadata": {
    "collapsed": false,
    "scrolled": true
   },
   "outputs": [],
   "source": [
    "#A INSTALLER AVEC pip install geopy"
   ]
  },
  {
   "cell_type": "code",
   "execution_count": 15,
   "metadata": {
    "collapsed": false
   },
   "outputs": [
    {
     "name": "stdout",
     "output_type": "stream",
     "text": [
      "Ecole Polytechnique Fédérale de Lausanne, VD, CH\n"
     ]
    }
   ],
   "source": [
    "from geopy.geocoders import GeoNames\n",
    "geolocator = GeoNames(country_bias='Switzerland',username='test_056')\n",
    "print(geolocator.geocode('EPFL'))"
   ]
  },
  {
   "cell_type": "code",
   "execution_count": 16,
   "metadata": {
    "collapsed": false
   },
   "outputs": [],
   "source": [
    "def extract_canton(data_string):\n",
    "    \"\"\"\n",
    "        Fetchs from the web the location associated to a string. We use Nominatim at the moment. \n",
    "        The format of the output string (if it is not None) has the canton in the 6th output before the end.\n",
    "        The canton is written in all the languages spoken in it, and we hence split and keep the name that comes first.\n",
    "        @param data_string : the data from which we want to determine the canton\n",
    "        @return canton : the name of the canton associated to the input data_string\n",
    "    \"\"\"\n",
    "    geolocator = Nominatim(country_bias='Switzerland')\n",
    "    location = geolocator.geocode(data_string)\n",
    "    split_loc = str(location).split(', ')\n",
    "    if (split_loc is not None) and (split_loc[-1] =='Svizra'):\n",
    "        canton = str(location).split(', ')\n",
    "        canton = canton[len(canton)-6]\n",
    "        return canton.split(' - ')[0]   \n",
    "    else:\n",
    "        return None"
   ]
  },
  {
   "cell_type": "code",
   "execution_count": 19,
   "metadata": {
    "collapsed": false
   },
   "outputs": [
    {
     "name": "stdout",
     "output_type": "stream",
     "text": [
      "Loading the data from json file\n",
      "{'Eidg. Anstalt für Wasserversorgung - EAWAG': 'Zürich', 'Kantonsspital St. Gallen - KSPSG': 'Sankt Gallen', 'Fachhochschule Nordwestschweiz (ohne PH) - FHNW': 'Basel-Landschaft', 'Haute école pédagogique BE, JU, NE - HEPBEJUNE': None, 'Eidg. Hochschulinstitut für Berufsbildung - EHB': None, 'Berner Fachhochschule - BFH': 'Bern', 'Pädagogische Hochschule Luzern - PHLU': 'Luzern', 'Institut für Kulturforschung Graubünden - IKG': None, 'Université de Lausanne - LA': 'Vaud', 'Swiss Center for Electronics and Microtech. - CSEM': None, 'Inst. de Hautes Etudes Internat. et du Dév - IHEID': None, 'Swiss Institute of Bioinformatics - SIB': None, 'Haute école pédagogique fribourgeoise - HEPFR': None, 'Schweiz. Institut für Kunstwissenschaft - SIK-ISEA': None, 'Eidg. Material und Prüfungsanstalt - EMPA': None, 'Forschungsanstalten Agroscope - AGS': None, 'Forschungskommission SAGW': None, 'ETH Zürich - ETHZ': 'Zürich', 'Friedrich Miescher Institute - FMI': None, 'SUP della Svizzera italiana - SUPSI': None, 'Universität Bern - BE': 'Bern', 'HES de Suisse occidentale - HES-SO': None, 'Zürcher Fachhochschule (ohne PH) - ZFH': None, 'Pädagogische Hochschule Thurgau - PHTG': 'Thurgau', 'Forschungsinstitut für biologischen Landbau - FIBL': 'Aargau', 'Université de Fribourg - FR': 'Fribourg', 'Haute école pédagogique du canton de Vaud - HEPL': 'Vaud', 'Facoltà di Teologia di Lugano - FTL': None, 'Ente Ospedaliero Cantonale - EOC': 'Ticino', 'EPF Lausanne - EPFL': 'Vaud', 'Schweiz. Hochschule für Logopädie Rorschach - SHLR': None, 'Pädagogische Hochschule Zug - PHZG': 'Zug', 'Instituto Ricerche Solari Locarno - IRSOL': None, 'Hochschule Luzern - HSLU': 'Luzern', 'Eidg. Forschungsanstalt für Wald,Schnee,Land - WSL': None, 'Inst. Suisse de Spéléologie et Karstologie - ISSKA': None, 'Staatsunabh. Theologische Hochschule Basel - STHB': 'Nidwalden', 'Robert Walser-Stiftung Bern - RWS': 'Bern', 'Pädagogische Hochschule Schwyz - PHSZ': None, 'Pädagogische Hochschule Wallis - PHVS': None, 'Pädagogische Hochschule Bern - PHBern': 'Bern', 'Weitere Spitäler - ASPIT': None, 'Fernfachhochschule Schweiz (Mitglied SUPSI) - FFHS': None, 'Inst. universit. romand de Santé au Travail - IST': None, 'Pädagogische Hochschule Schaffhausen - PHSH': 'Schaffhausen', 'Universität Luzern - LU': 'Luzern', 'Franklin University Switzerland - FUS': 'Ticino', 'Universität Basel - BS': 'Basel-Stadt', 'Biotechnologie Institut Thurgau - BITG': None, 'Physikal.-Meteorolog. Observatorium Davos - PMOD': None, 'Paul Scherrer Institut - PSI': 'Aargau', 'Pädagogische Hochschule Nordwestschweiz - PHFHNW': None, 'AO Research Institute - AORI': None, 'Forschungsinstitut für Opthalmologie - IRO': None, 'Università della Svizzera italiana - USI': 'Ticino', 'Idiap Research Institute - IDIAP': 'Valais', 'Istituto Svizzero di Roma - ISR': None, 'Schweizer Paraplegiker Forschung - SPF': None, 'Fachhochschule Kalaidos - FHKD': None, 'Interkant. Hochschule für Heilpädagogik ZH - HfH': None, 'Universität St. Gallen - SG': 'Sankt Gallen', 'Pädag. Hochschule Tessin (Teilschule SUPSI) - ASP': None, 'Allergie- und Asthmaforschung - SIAF': None, 'Universität Zürich - ZH': 'Zürich', 'Pädagogische Hochschule St. Gallen - PHSG': 'Sankt Gallen', 'Pädagogische Hochschule Zürich - PHZFH': 'Zürich', 'Schweizer Kompetenzzentrum Sozialwissensch. - FORS': None, \"Centre de rech. sur l'environnement alpin - CREALP\": None, 'Pädagogische Hochschule Graubünden - PHGR': 'Graubünden', 'Fachhochschule Ostschweiz - FHO': None, 'Université de Genève - GE': 'Genève', 'Université de Neuchâtel - NE': 'Neuchâtel', 'Institut Universitaire Kurt Bösch - IUKB': None}\n"
     ]
    }
   ],
   "source": [
    "def extract_canton_from_uni(data_uni):\n",
    "    \"\"\"\n",
    "        Extracts to which canton belongs a university and stored it into a json file (folder data)\n",
    "        @param data_uni :           an array of strings describing universities or other institutions.\n",
    "        @return university_dict :   a dict which associate to each university a canton if it was found\n",
    "                                    or a None if nothing was found.\n",
    "    \"\"\"\n",
    "    if(os.path.isfile('data/uni_canton_dict.json')):\n",
    "        print('Loading the data from json file')\n",
    "        with open('data/uni_canton_dict.json') as f:\n",
    "            university_dict = json.load(f)\n",
    "    else:\n",
    "        print('Fetching the locations from th web')\n",
    "        university_dict =dict()\n",
    "        for index,uni in enumerate(data_uni):\n",
    "            # Splits the university string at the '-', which usually corresponds to the separation between the full name\n",
    "            # and the acronym of the institution.\n",
    "            uni_name_split = uni.split('-')\n",
    "            extract_value = extract_canton(uni_name_split[0])\n",
    "            if (extract_value is None) and (len(uni_name_split) > 1):\n",
    "                # If the canton was not found in the name, then we try to extract it from the acronym string if it exists\n",
    "                #print(uni_name_split,' ',extract_value,'\\n')\n",
    "                extract_value = extract_canton(uni_name_split[1])\n",
    "                #print(extract_value)\n",
    "            university_dict[data_uni[index]] = extract_value\n",
    "        with open('data/uni_canton_dict.json', 'w') as f:\n",
    "            json.dump(university_dict, f)\n",
    "    return university_dict\n",
    "print(extract_canton_from_uni(data_uni))\n",
    "        "
   ]
  },
  {
   "cell_type": "code",
   "execution_count": null,
   "metadata": {
    "collapsed": false
   },
   "outputs": [],
   "source": [
    "def "
   ]
  },
  {
   "cell_type": "markdown",
   "metadata": {
    "collapsed": true
   },
   "source": [
    "TODO : \n",
    "1. We sort by university\n",
    "    - if nan : go to institution\n",
    "    - if none : go to institution\n",
    "    - if found : stop\n",
    "2. For the institution :\n",
    "\n",
    "\n"
   ]
  }
 ],
 "metadata": {
  "anaconda-cloud": {},
  "kernelspec": {
   "display_name": "Python [Root]",
   "language": "python",
   "name": "Python [Root]"
  },
  "language_info": {
   "codemirror_mode": {
    "name": "ipython",
    "version": 3
   },
   "file_extension": ".py",
   "mimetype": "text/x-python",
   "name": "python",
   "nbconvert_exporter": "python",
   "pygments_lexer": "ipython3",
   "version": "3.5.2"
  }
 },
 "nbformat": 4,
 "nbformat_minor": 0
}
