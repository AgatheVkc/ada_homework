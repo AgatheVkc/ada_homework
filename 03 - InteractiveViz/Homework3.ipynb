{
 "cells": [
  {
   "cell_type": "markdown",
   "metadata": {},
   "source": [
    "# HOMEWORK 3  - INTERACTIVE VIZ\n",
    "\n",
    "** Build a Choropleth map which shows intuitively (i.e., use colors wisely) how much grant money goes to each Swiss canton. To do so, you will need to use the provided TopoJSON file, combined with the Choropleth map example you can find in the Folium README file.**\n",
    "\n",
    "**BONUS: using the map you have just built, and the geographical information contained in it, could you give a rough estimate of the difference in research funding between the areas divided by the Röstigraben?**"
   ]
  },
  {
   "cell_type": "markdown",
   "metadata": {},
   "source": [
    "## 1. Get the canton to which each grant was assigned"
   ]
  },
  {
   "cell_type": "markdown",
   "metadata": {},
   "source": [
    "Usual imports first.\n",
    "- A INSTALLER AVEC pip install geopy"
   ]
  },
  {
   "cell_type": "code",
   "execution_count": 1,
   "metadata": {
    "collapsed": false
   },
   "outputs": [],
   "source": [
    "import pandas as pd\n",
    "import numpy as np\n",
    "import json\n",
    "import os\n",
    "from geopy.geocoders import Nominatim\n",
    "from geopy.geocoders import GeoNames\n",
    "from urllib import *"
   ]
  },
  {
   "cell_type": "markdown",
   "metadata": {},
   "source": [
    "We load the grants and select a few useful attributes :\n",
    "- The university and the institution will try to help us locate the canton to which each grant was assigned.\n",
    "- The approved amount to know how much each canton received."
   ]
  },
  {
   "cell_type": "code",
   "execution_count": 2,
   "metadata": {
    "collapsed": false
   },
   "outputs": [
    {
     "data": {
      "text/html": [
       "<div>\n",
       "<table border=\"1\" class=\"dataframe\">\n",
       "  <thead>\n",
       "    <tr style=\"text-align: right;\">\n",
       "      <th></th>\n",
       "      <th>Institution</th>\n",
       "      <th>University</th>\n",
       "      <th>Start Date</th>\n",
       "      <th>End Date</th>\n",
       "      <th>Approved Amount</th>\n",
       "    </tr>\n",
       "  </thead>\n",
       "  <tbody>\n",
       "    <tr>\n",
       "      <th>0</th>\n",
       "      <td>NaN</td>\n",
       "      <td>Nicht zuteilbar - NA</td>\n",
       "      <td>01.10.1975</td>\n",
       "      <td>30.09.1976</td>\n",
       "      <td>11619.00</td>\n",
       "    </tr>\n",
       "    <tr>\n",
       "      <th>1</th>\n",
       "      <td>Faculté de Psychologie et des Sciences de l'Ed...</td>\n",
       "      <td>Université de Genève - GE</td>\n",
       "      <td>01.10.1975</td>\n",
       "      <td>30.09.1976</td>\n",
       "      <td>41022.00</td>\n",
       "    </tr>\n",
       "    <tr>\n",
       "      <th>2</th>\n",
       "      <td>Kommission für das Corpus philosophorum medii ...</td>\n",
       "      <td>NPO (Biblioth., Museen, Verwalt.) - NPO</td>\n",
       "      <td>01.03.1976</td>\n",
       "      <td>28.02.1985</td>\n",
       "      <td>79732.00</td>\n",
       "    </tr>\n",
       "    <tr>\n",
       "      <th>3</th>\n",
       "      <td>Abt. Handschriften und Alte Drucke Bibliothek ...</td>\n",
       "      <td>Universität Basel - BS</td>\n",
       "      <td>01.10.1975</td>\n",
       "      <td>30.09.1976</td>\n",
       "      <td>52627.00</td>\n",
       "    </tr>\n",
       "    <tr>\n",
       "      <th>4</th>\n",
       "      <td>Schweiz. Thesauruskommission</td>\n",
       "      <td>NPO (Biblioth., Museen, Verwalt.) - NPO</td>\n",
       "      <td>01.01.1976</td>\n",
       "      <td>30.04.1978</td>\n",
       "      <td>120042.00</td>\n",
       "    </tr>\n",
       "  </tbody>\n",
       "</table>\n",
       "</div>"
      ],
      "text/plain": [
       "                                         Institution  \\\n",
       "0                                                NaN   \n",
       "1  Faculté de Psychologie et des Sciences de l'Ed...   \n",
       "2  Kommission für das Corpus philosophorum medii ...   \n",
       "3  Abt. Handschriften und Alte Drucke Bibliothek ...   \n",
       "4                       Schweiz. Thesauruskommission   \n",
       "\n",
       "                                University  Start Date    End Date  \\\n",
       "0                     Nicht zuteilbar - NA  01.10.1975  30.09.1976   \n",
       "1                Université de Genève - GE  01.10.1975  30.09.1976   \n",
       "2  NPO (Biblioth., Museen, Verwalt.) - NPO  01.03.1976  28.02.1985   \n",
       "3                   Universität Basel - BS  01.10.1975  30.09.1976   \n",
       "4  NPO (Biblioth., Museen, Verwalt.) - NPO  01.01.1976  30.04.1978   \n",
       "\n",
       "  Approved Amount  \n",
       "0        11619.00  \n",
       "1        41022.00  \n",
       "2        79732.00  \n",
       "3        52627.00  \n",
       "4       120042.00  "
      ]
     },
     "execution_count": 2,
     "metadata": {},
     "output_type": "execute_result"
    }
   ],
   "source": [
    "df_grants = pd.read_csv('P3_GrantExport.csv',sep=';')\n",
    "df_grants = df_grants[[6,7,11,12,13]]\n",
    "df_grants.head()"
   ]
  },
  {
   "cell_type": "markdown",
   "metadata": {},
   "source": [
    "### 1. Extracting the canton from the university field\n",
    "There are some issues in the data, that need to be formatted. First of all, some data need to be replaced with NaN, as they do not convey any information regarding the location of the grant that was assigned. We considered the following :\n",
    "- 'Nicht zuteilbar - NA' -> Unavailable data\n",
    "- 'NPO (Biblioth., Museen, Verwalt.) - NPO' -> No informations\n",
    "- 'Weitere Institute - FINST' -> Other institutes\n",
    "- 'Firmen/Privatwirtschaft - FP' -> Private institutions\n",
    "\n",
    "There is also a second part of data that simply have no university field. The location of where those grants were assigned then shall be determined in the second part of the extraction, where we turn our sights to the institution field of the DataFrame"
   ]
  },
  {
   "cell_type": "code",
   "execution_count": 3,
   "metadata": {
    "collapsed": false,
    "scrolled": true
   },
   "outputs": [
    {
     "data": {
      "text/plain": [
       "array(['Universität Basel - BS', 'Université de Fribourg - FR',\n",
       "       'Universität Zürich - ZH', 'Université de Lausanne - LA',\n",
       "       'Universität Bern - BE',\n",
       "       'Eidg. Forschungsanstalt für Wald,Schnee,Land - WSL',\n",
       "       'Université de Neuchâtel - NE', 'ETH Zürich - ETHZ',\n",
       "       'Inst. de Hautes Etudes Internat. et du Dév - IHEID'], dtype=object)"
      ]
     },
     "execution_count": 3,
     "metadata": {},
     "output_type": "execute_result"
    }
   ],
   "source": [
    "df_grants = df_grants.replace('Nicht zuteilbar - NA',np.nan)\n",
    "df_grants = df_grants.replace('NPO (Biblioth., Museen, Verwalt.) - NPO',np.nan)\n",
    "df_grants = df_grants.replace('Weitere Institute - FINST',np.nan)\n",
    "df_grants = df_grants.replace('Firmen/Privatwirtschaft - FP',np.nan)\n",
    "\n",
    "data_uni = df_grants['University'].unique()[1:]\n",
    "\n",
    "data_uni[1:10]"
   ]
  },
  {
   "cell_type": "markdown",
   "metadata": {},
   "source": [
    "In order to do a few less queries on the web to determine the location of our universities, we define two dictionnaries that we will extensively use to help us locate a university. The first one, `CANTON_DICT` associates each canton to its tag, that we will use on the map later on, but we can use it in the following way : if the key of this dict is present in the string describing the university, then we match it to the canton. It is very practical, as many universities are located in the capital of the canton, which often has the same name as the canton itself.\n",
    "\n",
    "The second dict, `CAPITAL_DICT` contains pairs associating the capital of a canton to a canton, for those who do not have exactly the same name. We will use it the same way as `CANTON_DICT` : if the name of the capital appears in the string of the university, we match it to the canton it belongs to."
   ]
  },
  {
   "cell_type": "code",
   "execution_count": 4,
   "metadata": {
    "collapsed": false
   },
   "outputs": [],
   "source": [
    "CANTON_DICT = {'Zürich':'ZH','Bern':'BE','Luzern':'LU','Uri':'UR','Schwyz':'SZ','Obwalden':'OW','Nidwalden':'NW',\n",
    "               'Glarus':'GL','Zug':'ZG','Fribourg':'FR','Solothurn':'SO','Basel-Stadt':'BS','Basel-Landschaft':'BL',\n",
    "               'Schaffhausen':'SH','Appenzell Ausserrhoden':'AR','Appenzell Innerrhoden':'AI','Sankt Gallen':'SG',\n",
    "               'Graubünden':'GR','Aargau':'AG','Thurgau':'TG','Ticino':'TI', 'Vaud':'VD','Valais':'VS','Neuchâtel':'NE',\n",
    "               'Genève':'GE','Jura':'JU','OUT': 'OUT'}\n",
    "CAPITAL_DICT = {'Basel':'Basel-Stadt' ,'Lausanne':'Vaud', 'Sion':'Valais','Altdorf':'Uri','Sarnen':'Obwalden','Stans':'Nidwalden',\n",
    "                'Liestal':'Basel-Landschaft','Herisau':'Appenzell Ausserrhoden',\n",
    "                'Chur':'Graubünden','Aarau':'Aargau','Frauenfeld':'Thurgau','Bellinzona':'Ticino','Delémont':'Jura'}\n",
    "#'Appenzell':'Appenzell Innerrhoden' excluded because the name of the city is partially in the name of two cantons"
   ]
  },
  {
   "cell_type": "markdown",
   "metadata": {},
   "source": [
    "Let us now start with the canton extraction from the uni field. We will use two methods for that. \n",
    "- `extract_canton` will also be reused later on, tries to find, given a data_string containing a university/institution, the canton if belongs to. It does that in three steps :\n",
    "    1. Tries to see if a canton appears in the data_string\n",
    "    2. Tries to see if a capital which does not have the same name as the canton appears in the data_string\n",
    "    3. Queries the Nominatim web service to try to locate the string. Here, if the response if `None`, we return `None`, and if the answer is not in Switzerland (its last field should contain `Svizra` in this case), then we also return `None`."
   ]
  },
  {
   "cell_type": "code",
   "execution_count": 5,
   "metadata": {
    "collapsed": false
   },
   "outputs": [],
   "source": [
    "def extract_canton(data_string):\n",
    "    \"\"\"\n",
    "        Fetchs from the web the location associated to a string. We use Nominatim at the moment. \n",
    "        The format of the output string (if it is not None) has the canton in the 6th output before the end.\n",
    "        The canton is written in all the languages spoken in it, and we hence split and keep the name that comes first.\n",
    "        @param data_string : the data from which we want to determine the canton\n",
    "        @return canton : the name of the canton associated to the input data_string\n",
    "    \"\"\"\n",
    "    for canton in CANTON_DICT:\n",
    "        if(canton in str(data_string)):\n",
    "            return canton\n",
    "    for city,canton in CAPITAL_DICT.items():\n",
    "        if(city in str(data_string)):\n",
    "            return canton\n",
    "    geolocator = Nominatim()#,username='test_056')\n",
    "    location = geolocator.geocode(data_string)\n",
    "    split_loc = str(location).split(', ')\n",
    "    if (split_loc is not None) and (split_loc[-1] =='Svizra'):\n",
    "        print('coucou')\n",
    "        canton = str(location).split(', ')\n",
    "        canton = canton[len(canton)-6]\n",
    "        return canton.split(' - ')[0]   \n",
    "    elif (split_loc is not None):\n",
    "        \n",
    "        return 'OUT'\n",
    "    else:\n",
    "        return np.nan"
   ]
  },
  {
   "cell_type": "markdown",
   "metadata": {},
   "source": [
    "- The second method, `extract_canton_from_uni`, will simply iterate on all the different universites of our DataFrame and call extract_canton. To get a higher chance of succeeding, we split the string at the `-` that separates the name and the acronym, and if the research was not successful with the full name, we pass the acronym to extract_canton as well. The full processing is done only once, and we store the result as a json file to load it again later on."
   ]
  },
  {
   "cell_type": "code",
   "execution_count": 6,
   "metadata": {
    "collapsed": false,
    "scrolled": true
   },
   "outputs": [
    {
     "name": "stdout",
     "output_type": "stream",
     "text": [
      "Loading the data from json file\n"
     ]
    }
   ],
   "source": [
    "def extract_canton_from_uni(data_uni):\n",
    "    \"\"\"\n",
    "        Extracts to which canton belongs a university and stored it into a json file (folder data).\n",
    "        @param data_uni :           an array of strings describing universities or other institutions.\n",
    "        @return university_dict :   a dict which associate to each university a canton if it was found\n",
    "                                    or a None if nothing was found.\n",
    "    \"\"\"\n",
    "    if(os.path.isfile('data/uni_canton_dict.json')):\n",
    "        print('Loading the data from json file')\n",
    "        with open('data/uni_canton_dict.json') as f:\n",
    "            university_dict = json.load(f)\n",
    "    else:\n",
    "        print('Fetching the locations from the web')\n",
    "        university_dict = dict()\n",
    "        for uni in data_uni:\n",
    "            # Splits the university string at the '-', which usually corresponds to the separation between the full name\n",
    "            # and the acronym of the institution.\n",
    "            uni_name_split = uni.split('-')\n",
    "            extract_value = extract_canton(uni_name_split[0])\n",
    "            if (extract_value is np.nan) and (len(uni_name_split) > 1):\n",
    "                # If the canton was not found in the name, then we try to extract it from the acronym string if it exists\n",
    "                extract_value = extract_canton(uni_name_split[1])\n",
    "            university_dict[uni] = extract_value\n",
    "        with open('data/uni_canton_dict.json', 'w') as f:\n",
    "            json.dump(university_dict, f)\n",
    "    return university_dict\n",
    "university_canton = extract_canton_from_uni(data_uni)\n",
    "#university_canton"
   ]
  },
  {
   "cell_type": "markdown",
   "metadata": {},
   "source": [
    "Let us now see the number of universities that were located and those who weren't."
   ]
  },
  {
   "cell_type": "code",
   "execution_count": 7,
   "metadata": {
    "collapsed": false,
    "scrolled": true
   },
   "outputs": [
    {
     "name": "stdout",
     "output_type": "stream",
     "text": [
      "36\n",
      "37\n"
     ]
    }
   ],
   "source": [
    "print(len([place for place, value in university_canton.items() if not pd.isnull(value)]))\n",
    "print(len([place for place, value in university_canton.items() if pd.isnull(value)]))"
   ]
  },
  {
   "cell_type": "markdown",
   "metadata": {},
   "source": [
    "Sadly, this way only half of the universities were matches. Note that we did several tests and found that GeoNames leads a way poorer result than Nominatim (52 vs 37 not found), and prefiltering (trying to find the uni in the `CANTON_DICT` and `CAPITAL_DICT` dict) yields 37 not found against 40, but avoid queries on the web."
   ]
  },
  {
   "cell_type": "markdown",
   "metadata": {},
   "source": [
    "Let us now add a column to our grant DataFrame to find how many of the projects have been identified from their university name and fill this column with the canton tags from each canton"
   ]
  },
  {
   "cell_type": "code",
   "execution_count": 8,
   "metadata": {
    "collapsed": false
   },
   "outputs": [],
   "source": [
    "df_grants['Canton'] = np.nan\n",
    "match_canton_uni = lambda uni: CANTON_DICT[university_canton[uni]] if (not pd.isnull(university_canton[uni])) else university_canton[uni]\n",
    "df_grants.Canton = df_grants.University.loc[[uni in university_canton for uni  in df_grants.University]].apply(match_canton_uni)"
   ]
  },
  {
   "cell_type": "code",
   "execution_count": 9,
   "metadata": {
    "collapsed": false
   },
   "outputs": [
    {
     "data": {
      "text/html": [
       "<div>\n",
       "<table border=\"1\" class=\"dataframe\">\n",
       "  <thead>\n",
       "    <tr style=\"text-align: right;\">\n",
       "      <th></th>\n",
       "      <th>Institution</th>\n",
       "      <th>University</th>\n",
       "      <th>Start Date</th>\n",
       "      <th>End Date</th>\n",
       "      <th>Approved Amount</th>\n",
       "      <th>Canton</th>\n",
       "    </tr>\n",
       "  </thead>\n",
       "  <tbody>\n",
       "    <tr>\n",
       "      <th>0</th>\n",
       "      <td>NaN</td>\n",
       "      <td>NaN</td>\n",
       "      <td>01.10.1975</td>\n",
       "      <td>30.09.1976</td>\n",
       "      <td>11619.00</td>\n",
       "      <td>NaN</td>\n",
       "    </tr>\n",
       "    <tr>\n",
       "      <th>1</th>\n",
       "      <td>Faculté de Psychologie et des Sciences de l'Ed...</td>\n",
       "      <td>Université de Genève - GE</td>\n",
       "      <td>01.10.1975</td>\n",
       "      <td>30.09.1976</td>\n",
       "      <td>41022.00</td>\n",
       "      <td>GE</td>\n",
       "    </tr>\n",
       "    <tr>\n",
       "      <th>2</th>\n",
       "      <td>Kommission für das Corpus philosophorum medii ...</td>\n",
       "      <td>NaN</td>\n",
       "      <td>01.03.1976</td>\n",
       "      <td>28.02.1985</td>\n",
       "      <td>79732.00</td>\n",
       "      <td>NaN</td>\n",
       "    </tr>\n",
       "    <tr>\n",
       "      <th>3</th>\n",
       "      <td>Abt. Handschriften und Alte Drucke Bibliothek ...</td>\n",
       "      <td>Universität Basel - BS</td>\n",
       "      <td>01.10.1975</td>\n",
       "      <td>30.09.1976</td>\n",
       "      <td>52627.00</td>\n",
       "      <td>BS</td>\n",
       "    </tr>\n",
       "    <tr>\n",
       "      <th>4</th>\n",
       "      <td>Schweiz. Thesauruskommission</td>\n",
       "      <td>NaN</td>\n",
       "      <td>01.01.1976</td>\n",
       "      <td>30.04.1978</td>\n",
       "      <td>120042.00</td>\n",
       "      <td>NaN</td>\n",
       "    </tr>\n",
       "    <tr>\n",
       "      <th>5</th>\n",
       "      <td>Séminaire de politique économique, d'économie ...</td>\n",
       "      <td>Université de Fribourg - FR</td>\n",
       "      <td>01.01.1976</td>\n",
       "      <td>31.12.1978</td>\n",
       "      <td>53009.00</td>\n",
       "      <td>FR</td>\n",
       "    </tr>\n",
       "    <tr>\n",
       "      <th>6</th>\n",
       "      <td>Institut für ökumenische Studien Université de...</td>\n",
       "      <td>Université de Fribourg - FR</td>\n",
       "      <td>01.01.1976</td>\n",
       "      <td>31.12.1976</td>\n",
       "      <td>25403.00</td>\n",
       "      <td>FR</td>\n",
       "    </tr>\n",
       "    <tr>\n",
       "      <th>7</th>\n",
       "      <td>Ostasiatisches Seminar Universität Zürich</td>\n",
       "      <td>Universität Zürich - ZH</td>\n",
       "      <td>01.10.1975</td>\n",
       "      <td>31.03.1977</td>\n",
       "      <td>47100.00</td>\n",
       "      <td>ZH</td>\n",
       "    </tr>\n",
       "    <tr>\n",
       "      <th>8</th>\n",
       "      <td>NaN</td>\n",
       "      <td>Université de Lausanne - LA</td>\n",
       "      <td>01.10.1975</td>\n",
       "      <td>31.03.1977</td>\n",
       "      <td>25814.00</td>\n",
       "      <td>VD</td>\n",
       "    </tr>\n",
       "    <tr>\n",
       "      <th>9</th>\n",
       "      <td>Laboratoire de Didactique et Epistémologie des...</td>\n",
       "      <td>Université de Genève - GE</td>\n",
       "      <td>01.10.1975</td>\n",
       "      <td>30.09.1978</td>\n",
       "      <td>360000.00</td>\n",
       "      <td>GE</td>\n",
       "    </tr>\n",
       "  </tbody>\n",
       "</table>\n",
       "</div>"
      ],
      "text/plain": [
       "                                         Institution  \\\n",
       "0                                                NaN   \n",
       "1  Faculté de Psychologie et des Sciences de l'Ed...   \n",
       "2  Kommission für das Corpus philosophorum medii ...   \n",
       "3  Abt. Handschriften und Alte Drucke Bibliothek ...   \n",
       "4                       Schweiz. Thesauruskommission   \n",
       "5  Séminaire de politique économique, d'économie ...   \n",
       "6  Institut für ökumenische Studien Université de...   \n",
       "7          Ostasiatisches Seminar Universität Zürich   \n",
       "8                                                NaN   \n",
       "9  Laboratoire de Didactique et Epistémologie des...   \n",
       "\n",
       "                    University  Start Date    End Date Approved Amount Canton  \n",
       "0                          NaN  01.10.1975  30.09.1976        11619.00    NaN  \n",
       "1    Université de Genève - GE  01.10.1975  30.09.1976        41022.00     GE  \n",
       "2                          NaN  01.03.1976  28.02.1985        79732.00    NaN  \n",
       "3       Universität Basel - BS  01.10.1975  30.09.1976        52627.00     BS  \n",
       "4                          NaN  01.01.1976  30.04.1978       120042.00    NaN  \n",
       "5  Université de Fribourg - FR  01.01.1976  31.12.1978        53009.00     FR  \n",
       "6  Université de Fribourg - FR  01.01.1976  31.12.1976        25403.00     FR  \n",
       "7      Universität Zürich - ZH  01.10.1975  31.03.1977        47100.00     ZH  \n",
       "8  Université de Lausanne - LA  01.10.1975  31.03.1977        25814.00     VD  \n",
       "9    Université de Genève - GE  01.10.1975  30.09.1978       360000.00     GE  "
      ]
     },
     "execution_count": 9,
     "metadata": {},
     "output_type": "execute_result"
    }
   ],
   "source": [
    "df_grants.head(10)"
   ]
  },
  {
   "cell_type": "code",
   "execution_count": 10,
   "metadata": {
    "collapsed": false
   },
   "outputs": [
    {
     "data": {
      "text/plain": [
       "0.30697681689574813"
      ]
     },
     "execution_count": 10,
     "metadata": {},
     "output_type": "execute_result"
    }
   ],
   "source": [
    "sum(df_grants.Canton.isnull()/len(df_grants.Canton))"
   ]
  },
  {
   "cell_type": "markdown",
   "metadata": {},
   "source": [
    "We see that only 30% of the cantons were found."
   ]
  },
  {
   "cell_type": "markdown",
   "metadata": {},
   "source": [
    "### 2. Extracting the canton from the institution field\n",
    "Let us now address the potential problems we will encounter by displaying all the grants that have no universities associated."
   ]
  },
  {
   "cell_type": "code",
   "execution_count": 11,
   "metadata": {
    "collapsed": false,
    "scrolled": true
   },
   "outputs": [
    {
     "data": {
      "text/plain": [
       "Department of Chemistry University of Cambridge                                                     42\n",
       "Department of Chemistry Stanford University                                                         29\n",
       "Muséum d'Histoire Naturelle                                                                         29\n",
       "Commission nationale pour la publication des DDS                                                    24\n",
       "Gesellschaft für Schweizerische Kunstgeschichte                                                     23\n",
       "UNI: University of California   Berkeley USA                                                        23\n",
       "Max-Planck-Institut für ausländisches und internationales Privatrecht                               22\n",
       "Redaktion des Schweizerdeutschen Wörterbuchs                                                        22\n",
       "Commission administrative du GPSR                                                                   21\n",
       "Schweizerische Vogelwarte                                                                           21\n",
       "INFRAS                                                                                              20\n",
       "Forschung und Beratung in Wirtschaft und Politik ECOPLAN                                            20\n",
       "Naturhistorisches Museum Basel                                                                      19\n",
       "IBM Research GmbH                                                                                   19\n",
       "Commissione scientifica del VDSI                                                                    19\n",
       "Societa Retorumantscha Dicziunari Rumantsch Grischun                                                18\n",
       "Kuratorium der Helvetia Sacra c/o Staatsarchiv Basel                                                18\n",
       "UNI: University of California   Berkeley, CA USA                                                    18\n",
       "Istituto Svizzero di Roma                                                                           18\n",
       "Department of Chemistry University of California                                                    17\n",
       "Synergo Mobilität Politik Raum GmbH  synergo Mobility Politics Space GmbH                           17\n",
       "London School of Economics and Political Science                                                    17\n",
       "Conservatoire et jardin botaniques de la Ville de Genève                                            17\n",
       "Department of Chemistry and Chemical Biology Harvard University                                     16\n",
       "Aargauer Kantonsbibliothek                                                                          16\n",
       "School of Law Columbia University                                                                   15\n",
       "UNI: University of British Columbia   Vancou ver CDN                                                15\n",
       "Hochalpine Forschungsstationen Jungfraujoch & Gornergrat Universität Bern                           15\n",
       "Lauterpacht Centre for International Law University of Cambridge                                    15\n",
       "Otto Spiess Stiftung                                                                                15\n",
       "                                                                                                    ..\n",
       "UNI: Université de Lyonal de Medell   Lyon F                                                         1\n",
       "Handschriftenzentrum Universitätsbibliothek Universität Leipzig                                      1\n",
       "Honiden Laboratory National Institute of Informatics Tokyo University                                1\n",
       "UNI: University of Jerusalem Institut for Th eology  Jerusalem IS                                    1\n",
       "Joslin Diabetes Center Dedicated to Diabetes Research Harvard Medical School                         1\n",
       "Institut für Philosophie, Wissen- schaftstheorie, Wissenschafts- u. Technikgeschichte                1\n",
       "UNI: Blutspendedienst SRK Zentrallaboratoriu m  Bern CH                                              1\n",
       "UNI: NASA/Ames Research Center Astrochemistr y Laboratory  Mountain View USA                         1\n",
       "Department of Social and Economic Geography  Umea University                                         1\n",
       "UNI: Astrophysical Observatory   Nauchny UA                                                          1\n",
       "Département de Biologie Cellulaire Faculté des Sciences Université de Genève                         1\n",
       "School of English Trinity College                                                                    1\n",
       "UNI: University of California Dept of Microb iology and Immunology  San Francisco, CA USA            1\n",
       "Information Systems Institute Vienna University of Technology                                        1\n",
       "Biomedical MR Research Group Dept. of Radiology Radboud University Nijmegen Medical Center           1\n",
       "UNI: University of Pennsylvania School of Me dicine  Philadelphia USA                                1\n",
       "Shanghai Academy of Social Sciences  Center of Jewish Studies                                        1\n",
       "Graduate School of Law Faculty of Law University of Edinburgh                                        1\n",
       "UNI: The Rockefeller University Laboratory o f Molecular and Cellular Neuroscience New Yo rk USA     1\n",
       "Department of Chemistry University of Minnesota                                                      1\n",
       "Departement Geographie, SIE Universität Zürich                                                       1\n",
       "Center for Genomics and Systems Biology Biology Department New York University                       1\n",
       "UNI: Universität Uppsala Limnologisches Inst itut  Uppsala S                                         1\n",
       "UNI: University of Cambridged Molec   Cambri dge GB                                                  1\n",
       "Newborn Research Centre The Royal Women's Hospital                                                   1\n",
       "UNI: Université de Genève Section de Physiqu e  Genève CH                                            1\n",
       "UNI: Université de Paris X Sciences Juridiqu es et politiques Etudes  Nanterre F                     1\n",
       "Ecole Suisse d'Archéologie en Grèce                                                                  1\n",
       "UNI: Princeton Universityrniaor. Un Dept of Biology  Princeton USA                                   1\n",
       "Åbo Akademi University                                                                               1\n",
       "Name: Institution, dtype: int64"
      ]
     },
     "execution_count": 11,
     "metadata": {},
     "output_type": "execute_result"
    }
   ],
   "source": [
    "df_grants.Institution.loc[df_grants.University.isnull()].value_counts()"
   ]
  },
  {
   "cell_type": "markdown",
   "metadata": {},
   "source": [
    "We see that those institutions are mostly foreign universities or reasearch centers, that do not provide useful informations for our exercise. However, there are some swiss universities in the middle of it, so we will need to iterate through it and sort the institutions that will be kept or not."
   ]
  },
  {
   "cell_type": "code",
   "execution_count": 12,
   "metadata": {
    "collapsed": false
   },
   "outputs": [
    {
     "name": "stdout",
     "output_type": "stream",
     "text": [
      "[nan 'Kommission für das Corpus philosophorum medii aevi der SGG'\n",
      " 'Schweiz. Thesauruskommission' ...,\n",
      " 'Zoologisches Institut Universität Basel'\n",
      " 'Abteilung für Neuropsychologie Zentrum für Kognitionswissenschaften Universität Bremen'\n",
      " 'Departement Design Zürcher Hochschule der Künste ZHdK']\n"
     ]
    }
   ],
   "source": [
    "df_institution = df_grants['Institution'].loc[df_grants['Canton'].isnull()]\n",
    "df_institution = df_institution.unique()#head()\n",
    "print(df_institution)\n",
    "\n",
    "INSTITUTION_EXCLUDED = []#['USA','GB','AUS','CDN','Stanford University','University of Cambridge','Paris','Essex','Shangai','Berlin']"
   ]
  },
  {
   "cell_type": "code",
   "execution_count": 13,
   "metadata": {
    "collapsed": false,
    "scrolled": false
   },
   "outputs": [
    {
     "name": "stdout",
     "output_type": "stream",
     "text": [
      "Loading the data from json file\n"
     ]
    }
   ],
   "source": [
    "def extract_canton_from_institution(data_institution, complete = True):\n",
    "    \"\"\"\n",
    "        Extracts to which canton belongs a institution and stored it into a json file (folder data). \n",
    "        As this data is very large, the queries to the website will most likely time out. We dump the the dictionnary \n",
    "        to a json file at each iteration and can restart from it with the parameter complete\n",
    "        @param data_institution :   an array of strings describing institutions.\n",
    "        @param complete         :   tells us if the process has been completed (everything saved to json file)\n",
    "        @return institution_dict :  a dict which associate to each university a canton if it was found\n",
    "                                    or a None if nothing was found.\n",
    "    \"\"\"\n",
    "    institution_dict = dict()\n",
    "    if(os.path.isfile('data/instit_canton_dict.json')):\n",
    "        print('Loading the data from json file')\n",
    "        with open('data/instit_canton_dict.json') as f:\n",
    "            institution_dict = json.load(f)\n",
    "        #print(institution_dict)\n",
    "    if not(os.path.isfile('data/instit_canton_dict.json') and complete):\n",
    "        print('Fetching the locations from the web')\n",
    "        excluded_bool = False\n",
    "        for index,instit in enumerate(data_institution):\n",
    "            for excluded in INSTITUTION_EXCLUDED:\n",
    "                if(not excluded_bool and excluded in str(instit))  :\n",
    "                    institution_dict[instit] = np.nan\n",
    "                    print(index,'- EXCLUDED <===== ',instit,)\n",
    "                    excluded_bool = True\n",
    "            if not excluded_bool:\n",
    "                #print(instit)\n",
    "                try:\n",
    "                    value = extract_canton(instit)\n",
    "                    #break\n",
    "                except :\n",
    "                    value = np.nan\n",
    "                    institution_dict[instit] = np.nan\n",
    "                    print(index,'- NOT FOUND <===== ',instit,)\n",
    "                institution_dict[instit] = value\n",
    "                if value is not np.nan:\n",
    "                    print(index,'-',value,'<=====',instit )\n",
    "                with open('data/instit_canton_dict.json', 'w') as f:\n",
    "                    json.dump(institution_dict, f)\n",
    "            excluded_bool = False\n",
    "    return institution_dict\n",
    "institution_canton = extract_canton_from_institution(df_institution,complete=True)"
   ]
  },
  {
   "cell_type": "markdown",
   "metadata": {},
   "source": [
    "Elements 1 - 1165 sampled with Nominatim :\n",
    "\n",
    "Should continue to do it, but I'm blocked\n",
    "\n",
    "Elements 1166 - 1512 with GeoNames\n",
    "\n",
    "1513 -1994 Nominatim\n",
    "\n",
    "1995 - 2815 GeoNames"
   ]
  },
  {
   "cell_type": "code",
   "execution_count": 14,
   "metadata": {
    "collapsed": false
   },
   "outputs": [],
   "source": [
    "#Gets the lengths of the dictionnary stored so we can know where to sample from (first number)\n",
    "df_instit = df_grants.copy()\n",
    "df_instit['Canton'] = np.nan\n",
    "match_canton_insti = lambda uni: CANTON_DICT[institution_canton[uni]] if (not pd.isnull(institution_canton[uni])) else institution_canton[uni]\n",
    "df_instit.Canton = df_instit.Institution.loc[[uni in institution_canton for uni  in df_instit.Institution]].apply(match_canton_insti)\n"
   ]
  },
  {
   "cell_type": "code",
   "execution_count": 15,
   "metadata": {
    "collapsed": false
   },
   "outputs": [
    {
     "data": {
      "text/html": [
       "<div>\n",
       "<table border=\"1\" class=\"dataframe\">\n",
       "  <thead>\n",
       "    <tr style=\"text-align: right;\">\n",
       "      <th></th>\n",
       "      <th>Institution</th>\n",
       "      <th>University</th>\n",
       "      <th>Start Date</th>\n",
       "      <th>End Date</th>\n",
       "      <th>Approved Amount</th>\n",
       "      <th>Canton</th>\n",
       "    </tr>\n",
       "  </thead>\n",
       "  <tbody>\n",
       "    <tr>\n",
       "      <th>0</th>\n",
       "      <td>NaN</td>\n",
       "      <td>NaN</td>\n",
       "      <td>01.10.1975</td>\n",
       "      <td>30.09.1976</td>\n",
       "      <td>11619.00</td>\n",
       "      <td>NaN</td>\n",
       "    </tr>\n",
       "    <tr>\n",
       "      <th>1</th>\n",
       "      <td>Faculté de Psychologie et des Sciences de l'Ed...</td>\n",
       "      <td>Université de Genève - GE</td>\n",
       "      <td>01.10.1975</td>\n",
       "      <td>30.09.1976</td>\n",
       "      <td>41022.00</td>\n",
       "      <td>GE</td>\n",
       "    </tr>\n",
       "    <tr>\n",
       "      <th>2</th>\n",
       "      <td>Kommission für das Corpus philosophorum medii ...</td>\n",
       "      <td>NaN</td>\n",
       "      <td>01.03.1976</td>\n",
       "      <td>28.02.1985</td>\n",
       "      <td>79732.00</td>\n",
       "      <td>NaN</td>\n",
       "    </tr>\n",
       "    <tr>\n",
       "      <th>3</th>\n",
       "      <td>Abt. Handschriften und Alte Drucke Bibliothek ...</td>\n",
       "      <td>Universität Basel - BS</td>\n",
       "      <td>01.10.1975</td>\n",
       "      <td>30.09.1976</td>\n",
       "      <td>52627.00</td>\n",
       "      <td>BS</td>\n",
       "    </tr>\n",
       "    <tr>\n",
       "      <th>4</th>\n",
       "      <td>Schweiz. Thesauruskommission</td>\n",
       "      <td>NaN</td>\n",
       "      <td>01.01.1976</td>\n",
       "      <td>30.04.1978</td>\n",
       "      <td>120042.00</td>\n",
       "      <td>NaN</td>\n",
       "    </tr>\n",
       "    <tr>\n",
       "      <th>5</th>\n",
       "      <td>Séminaire de politique économique, d'économie ...</td>\n",
       "      <td>Université de Fribourg - FR</td>\n",
       "      <td>01.01.1976</td>\n",
       "      <td>31.12.1978</td>\n",
       "      <td>53009.00</td>\n",
       "      <td>FR</td>\n",
       "    </tr>\n",
       "    <tr>\n",
       "      <th>6</th>\n",
       "      <td>Institut für ökumenische Studien Université de...</td>\n",
       "      <td>Université de Fribourg - FR</td>\n",
       "      <td>01.01.1976</td>\n",
       "      <td>31.12.1976</td>\n",
       "      <td>25403.00</td>\n",
       "      <td>FR</td>\n",
       "    </tr>\n",
       "    <tr>\n",
       "      <th>7</th>\n",
       "      <td>Ostasiatisches Seminar Universität Zürich</td>\n",
       "      <td>Universität Zürich - ZH</td>\n",
       "      <td>01.10.1975</td>\n",
       "      <td>31.03.1977</td>\n",
       "      <td>47100.00</td>\n",
       "      <td>ZH</td>\n",
       "    </tr>\n",
       "    <tr>\n",
       "      <th>8</th>\n",
       "      <td>NaN</td>\n",
       "      <td>Université de Lausanne - LA</td>\n",
       "      <td>01.10.1975</td>\n",
       "      <td>31.03.1977</td>\n",
       "      <td>25814.00</td>\n",
       "      <td>VD</td>\n",
       "    </tr>\n",
       "    <tr>\n",
       "      <th>9</th>\n",
       "      <td>Laboratoire de Didactique et Epistémologie des...</td>\n",
       "      <td>Université de Genève - GE</td>\n",
       "      <td>01.10.1975</td>\n",
       "      <td>30.09.1978</td>\n",
       "      <td>360000.00</td>\n",
       "      <td>GE</td>\n",
       "    </tr>\n",
       "    <tr>\n",
       "      <th>10</th>\n",
       "      <td>Klinische Psychologie und Psychotherapie Insti...</td>\n",
       "      <td>Université de Fribourg - FR</td>\n",
       "      <td>01.10.1975</td>\n",
       "      <td>31.12.1978</td>\n",
       "      <td>153886.00</td>\n",
       "      <td>FR</td>\n",
       "    </tr>\n",
       "    <tr>\n",
       "      <th>11</th>\n",
       "      <td>Schweizerische Rechtsquellen c/o Universität Z...</td>\n",
       "      <td>NaN</td>\n",
       "      <td>01.10.1975</td>\n",
       "      <td>30.09.1978</td>\n",
       "      <td>862200.00</td>\n",
       "      <td>NaN</td>\n",
       "    </tr>\n",
       "  </tbody>\n",
       "</table>\n",
       "</div>"
      ],
      "text/plain": [
       "                                          Institution  \\\n",
       "0                                                 NaN   \n",
       "1   Faculté de Psychologie et des Sciences de l'Ed...   \n",
       "2   Kommission für das Corpus philosophorum medii ...   \n",
       "3   Abt. Handschriften und Alte Drucke Bibliothek ...   \n",
       "4                        Schweiz. Thesauruskommission   \n",
       "5   Séminaire de politique économique, d'économie ...   \n",
       "6   Institut für ökumenische Studien Université de...   \n",
       "7           Ostasiatisches Seminar Universität Zürich   \n",
       "8                                                 NaN   \n",
       "9   Laboratoire de Didactique et Epistémologie des...   \n",
       "10  Klinische Psychologie und Psychotherapie Insti...   \n",
       "11  Schweizerische Rechtsquellen c/o Universität Z...   \n",
       "\n",
       "                     University  Start Date    End Date Approved Amount Canton  \n",
       "0                           NaN  01.10.1975  30.09.1976        11619.00    NaN  \n",
       "1     Université de Genève - GE  01.10.1975  30.09.1976        41022.00     GE  \n",
       "2                           NaN  01.03.1976  28.02.1985        79732.00    NaN  \n",
       "3        Universität Basel - BS  01.10.1975  30.09.1976        52627.00     BS  \n",
       "4                           NaN  01.01.1976  30.04.1978       120042.00    NaN  \n",
       "5   Université de Fribourg - FR  01.01.1976  31.12.1978        53009.00     FR  \n",
       "6   Université de Fribourg - FR  01.01.1976  31.12.1976        25403.00     FR  \n",
       "7       Universität Zürich - ZH  01.10.1975  31.03.1977        47100.00     ZH  \n",
       "8   Université de Lausanne - LA  01.10.1975  31.03.1977        25814.00     VD  \n",
       "9     Université de Genève - GE  01.10.1975  30.09.1978       360000.00     GE  \n",
       "10  Université de Fribourg - FR  01.10.1975  31.12.1978       153886.00     FR  \n",
       "11                          NaN  01.10.1975  30.09.1978       862200.00    NaN  "
      ]
     },
     "execution_count": 15,
     "metadata": {},
     "output_type": "execute_result"
    }
   ],
   "source": [
    "df_grants.head(12)"
   ]
  },
  {
   "cell_type": "code",
   "execution_count": 16,
   "metadata": {
    "collapsed": false
   },
   "outputs": [
    {
     "data": {
      "text/html": [
       "<div>\n",
       "<table border=\"1\" class=\"dataframe\">\n",
       "  <thead>\n",
       "    <tr style=\"text-align: right;\">\n",
       "      <th></th>\n",
       "      <th>Institution</th>\n",
       "      <th>University</th>\n",
       "      <th>Start Date</th>\n",
       "      <th>End Date</th>\n",
       "      <th>Approved Amount</th>\n",
       "      <th>Canton</th>\n",
       "    </tr>\n",
       "  </thead>\n",
       "  <tbody>\n",
       "    <tr>\n",
       "      <th>0</th>\n",
       "      <td>NaN</td>\n",
       "      <td>NaN</td>\n",
       "      <td>01.10.1975</td>\n",
       "      <td>30.09.1976</td>\n",
       "      <td>11619.00</td>\n",
       "      <td>NaN</td>\n",
       "    </tr>\n",
       "    <tr>\n",
       "      <th>1</th>\n",
       "      <td>Faculté de Psychologie et des Sciences de l'Ed...</td>\n",
       "      <td>Université de Genève - GE</td>\n",
       "      <td>01.10.1975</td>\n",
       "      <td>30.09.1976</td>\n",
       "      <td>41022.00</td>\n",
       "      <td>GE</td>\n",
       "    </tr>\n",
       "    <tr>\n",
       "      <th>2</th>\n",
       "      <td>Kommission für das Corpus philosophorum medii ...</td>\n",
       "      <td>NaN</td>\n",
       "      <td>01.03.1976</td>\n",
       "      <td>28.02.1985</td>\n",
       "      <td>79732.00</td>\n",
       "      <td>NaN</td>\n",
       "    </tr>\n",
       "    <tr>\n",
       "      <th>3</th>\n",
       "      <td>Abt. Handschriften und Alte Drucke Bibliothek ...</td>\n",
       "      <td>Universität Basel - BS</td>\n",
       "      <td>01.10.1975</td>\n",
       "      <td>30.09.1976</td>\n",
       "      <td>52627.00</td>\n",
       "      <td>NaN</td>\n",
       "    </tr>\n",
       "    <tr>\n",
       "      <th>4</th>\n",
       "      <td>Schweiz. Thesauruskommission</td>\n",
       "      <td>NaN</td>\n",
       "      <td>01.01.1976</td>\n",
       "      <td>30.04.1978</td>\n",
       "      <td>120042.00</td>\n",
       "      <td>NaN</td>\n",
       "    </tr>\n",
       "    <tr>\n",
       "      <th>5</th>\n",
       "      <td>Séminaire de politique économique, d'économie ...</td>\n",
       "      <td>Université de Fribourg - FR</td>\n",
       "      <td>01.01.1976</td>\n",
       "      <td>31.12.1978</td>\n",
       "      <td>53009.00</td>\n",
       "      <td>NaN</td>\n",
       "    </tr>\n",
       "    <tr>\n",
       "      <th>6</th>\n",
       "      <td>Institut für ökumenische Studien Université de...</td>\n",
       "      <td>Université de Fribourg - FR</td>\n",
       "      <td>01.01.1976</td>\n",
       "      <td>31.12.1976</td>\n",
       "      <td>25403.00</td>\n",
       "      <td>NaN</td>\n",
       "    </tr>\n",
       "    <tr>\n",
       "      <th>7</th>\n",
       "      <td>Ostasiatisches Seminar Universität Zürich</td>\n",
       "      <td>Universität Zürich - ZH</td>\n",
       "      <td>01.10.1975</td>\n",
       "      <td>31.03.1977</td>\n",
       "      <td>47100.00</td>\n",
       "      <td>NaN</td>\n",
       "    </tr>\n",
       "    <tr>\n",
       "      <th>8</th>\n",
       "      <td>NaN</td>\n",
       "      <td>Université de Lausanne - LA</td>\n",
       "      <td>01.10.1975</td>\n",
       "      <td>31.03.1977</td>\n",
       "      <td>25814.00</td>\n",
       "      <td>NaN</td>\n",
       "    </tr>\n",
       "    <tr>\n",
       "      <th>9</th>\n",
       "      <td>Laboratoire de Didactique et Epistémologie des...</td>\n",
       "      <td>Université de Genève - GE</td>\n",
       "      <td>01.10.1975</td>\n",
       "      <td>30.09.1978</td>\n",
       "      <td>360000.00</td>\n",
       "      <td>NaN</td>\n",
       "    </tr>\n",
       "    <tr>\n",
       "      <th>10</th>\n",
       "      <td>Klinische Psychologie und Psychotherapie Insti...</td>\n",
       "      <td>Université de Fribourg - FR</td>\n",
       "      <td>01.10.1975</td>\n",
       "      <td>31.12.1978</td>\n",
       "      <td>153886.00</td>\n",
       "      <td>NaN</td>\n",
       "    </tr>\n",
       "    <tr>\n",
       "      <th>11</th>\n",
       "      <td>Schweizerische Rechtsquellen c/o Universität Z...</td>\n",
       "      <td>NaN</td>\n",
       "      <td>01.10.1975</td>\n",
       "      <td>30.09.1978</td>\n",
       "      <td>862200.00</td>\n",
       "      <td>ZH</td>\n",
       "    </tr>\n",
       "  </tbody>\n",
       "</table>\n",
       "</div>"
      ],
      "text/plain": [
       "                                          Institution  \\\n",
       "0                                                 NaN   \n",
       "1   Faculté de Psychologie et des Sciences de l'Ed...   \n",
       "2   Kommission für das Corpus philosophorum medii ...   \n",
       "3   Abt. Handschriften und Alte Drucke Bibliothek ...   \n",
       "4                        Schweiz. Thesauruskommission   \n",
       "5   Séminaire de politique économique, d'économie ...   \n",
       "6   Institut für ökumenische Studien Université de...   \n",
       "7           Ostasiatisches Seminar Universität Zürich   \n",
       "8                                                 NaN   \n",
       "9   Laboratoire de Didactique et Epistémologie des...   \n",
       "10  Klinische Psychologie und Psychotherapie Insti...   \n",
       "11  Schweizerische Rechtsquellen c/o Universität Z...   \n",
       "\n",
       "                     University  Start Date    End Date Approved Amount Canton  \n",
       "0                           NaN  01.10.1975  30.09.1976        11619.00    NaN  \n",
       "1     Université de Genève - GE  01.10.1975  30.09.1976        41022.00     GE  \n",
       "2                           NaN  01.03.1976  28.02.1985        79732.00    NaN  \n",
       "3        Universität Basel - BS  01.10.1975  30.09.1976        52627.00    NaN  \n",
       "4                           NaN  01.01.1976  30.04.1978       120042.00    NaN  \n",
       "5   Université de Fribourg - FR  01.01.1976  31.12.1978        53009.00    NaN  \n",
       "6   Université de Fribourg - FR  01.01.1976  31.12.1976        25403.00    NaN  \n",
       "7       Universität Zürich - ZH  01.10.1975  31.03.1977        47100.00    NaN  \n",
       "8   Université de Lausanne - LA  01.10.1975  31.03.1977        25814.00    NaN  \n",
       "9     Université de Genève - GE  01.10.1975  30.09.1978       360000.00    NaN  \n",
       "10  Université de Fribourg - FR  01.10.1975  31.12.1978       153886.00    NaN  \n",
       "11                          NaN  01.10.1975  30.09.1978       862200.00     ZH  "
      ]
     },
     "execution_count": 16,
     "metadata": {},
     "output_type": "execute_result"
    }
   ],
   "source": [
    "df_instit.head(12)"
   ]
  },
  {
   "cell_type": "code",
   "execution_count": 17,
   "metadata": {
    "collapsed": false
   },
   "outputs": [
    {
     "data": {
      "text/html": [
       "<div>\n",
       "<table border=\"1\" class=\"dataframe\">\n",
       "  <thead>\n",
       "    <tr style=\"text-align: right;\">\n",
       "      <th></th>\n",
       "      <th>Institution</th>\n",
       "      <th>University</th>\n",
       "      <th>Start Date</th>\n",
       "      <th>End Date</th>\n",
       "      <th>Approved Amount</th>\n",
       "      <th>Canton</th>\n",
       "    </tr>\n",
       "  </thead>\n",
       "  <tbody>\n",
       "    <tr>\n",
       "      <th>0</th>\n",
       "      <td>NaN</td>\n",
       "      <td>NaN</td>\n",
       "      <td>01.10.1975</td>\n",
       "      <td>30.09.1976</td>\n",
       "      <td>11619.00</td>\n",
       "      <td>NaN</td>\n",
       "    </tr>\n",
       "    <tr>\n",
       "      <th>1</th>\n",
       "      <td>Faculté de Psychologie et des Sciences de l'Ed...</td>\n",
       "      <td>Université de Genève - GE</td>\n",
       "      <td>01.10.1975</td>\n",
       "      <td>30.09.1976</td>\n",
       "      <td>41022.00</td>\n",
       "      <td>GE</td>\n",
       "    </tr>\n",
       "    <tr>\n",
       "      <th>2</th>\n",
       "      <td>Kommission für das Corpus philosophorum medii ...</td>\n",
       "      <td>NaN</td>\n",
       "      <td>01.03.1976</td>\n",
       "      <td>28.02.1985</td>\n",
       "      <td>79732.00</td>\n",
       "      <td>NaN</td>\n",
       "    </tr>\n",
       "    <tr>\n",
       "      <th>3</th>\n",
       "      <td>Abt. Handschriften und Alte Drucke Bibliothek ...</td>\n",
       "      <td>Universität Basel - BS</td>\n",
       "      <td>01.10.1975</td>\n",
       "      <td>30.09.1976</td>\n",
       "      <td>52627.00</td>\n",
       "      <td>BS</td>\n",
       "    </tr>\n",
       "    <tr>\n",
       "      <th>4</th>\n",
       "      <td>Schweiz. Thesauruskommission</td>\n",
       "      <td>NaN</td>\n",
       "      <td>01.01.1976</td>\n",
       "      <td>30.04.1978</td>\n",
       "      <td>120042.00</td>\n",
       "      <td>NaN</td>\n",
       "    </tr>\n",
       "    <tr>\n",
       "      <th>5</th>\n",
       "      <td>Séminaire de politique économique, d'économie ...</td>\n",
       "      <td>Université de Fribourg - FR</td>\n",
       "      <td>01.01.1976</td>\n",
       "      <td>31.12.1978</td>\n",
       "      <td>53009.00</td>\n",
       "      <td>FR</td>\n",
       "    </tr>\n",
       "    <tr>\n",
       "      <th>6</th>\n",
       "      <td>Institut für ökumenische Studien Université de...</td>\n",
       "      <td>Université de Fribourg - FR</td>\n",
       "      <td>01.01.1976</td>\n",
       "      <td>31.12.1976</td>\n",
       "      <td>25403.00</td>\n",
       "      <td>FR</td>\n",
       "    </tr>\n",
       "    <tr>\n",
       "      <th>7</th>\n",
       "      <td>Ostasiatisches Seminar Universität Zürich</td>\n",
       "      <td>Universität Zürich - ZH</td>\n",
       "      <td>01.10.1975</td>\n",
       "      <td>31.03.1977</td>\n",
       "      <td>47100.00</td>\n",
       "      <td>ZH</td>\n",
       "    </tr>\n",
       "    <tr>\n",
       "      <th>8</th>\n",
       "      <td>NaN</td>\n",
       "      <td>Université de Lausanne - LA</td>\n",
       "      <td>01.10.1975</td>\n",
       "      <td>31.03.1977</td>\n",
       "      <td>25814.00</td>\n",
       "      <td>VD</td>\n",
       "    </tr>\n",
       "    <tr>\n",
       "      <th>9</th>\n",
       "      <td>Laboratoire de Didactique et Epistémologie des...</td>\n",
       "      <td>Université de Genève - GE</td>\n",
       "      <td>01.10.1975</td>\n",
       "      <td>30.09.1978</td>\n",
       "      <td>360000.00</td>\n",
       "      <td>GE</td>\n",
       "    </tr>\n",
       "    <tr>\n",
       "      <th>10</th>\n",
       "      <td>Klinische Psychologie und Psychotherapie Insti...</td>\n",
       "      <td>Université de Fribourg - FR</td>\n",
       "      <td>01.10.1975</td>\n",
       "      <td>31.12.1978</td>\n",
       "      <td>153886.00</td>\n",
       "      <td>FR</td>\n",
       "    </tr>\n",
       "    <tr>\n",
       "      <th>11</th>\n",
       "      <td>Schweizerische Rechtsquellen c/o Universität Z...</td>\n",
       "      <td>NaN</td>\n",
       "      <td>01.10.1975</td>\n",
       "      <td>30.09.1978</td>\n",
       "      <td>862200.00</td>\n",
       "      <td>ZH</td>\n",
       "    </tr>\n",
       "  </tbody>\n",
       "</table>\n",
       "</div>"
      ],
      "text/plain": [
       "                                          Institution  \\\n",
       "0                                                 NaN   \n",
       "1   Faculté de Psychologie et des Sciences de l'Ed...   \n",
       "2   Kommission für das Corpus philosophorum medii ...   \n",
       "3   Abt. Handschriften und Alte Drucke Bibliothek ...   \n",
       "4                        Schweiz. Thesauruskommission   \n",
       "5   Séminaire de politique économique, d'économie ...   \n",
       "6   Institut für ökumenische Studien Université de...   \n",
       "7           Ostasiatisches Seminar Universität Zürich   \n",
       "8                                                 NaN   \n",
       "9   Laboratoire de Didactique et Epistémologie des...   \n",
       "10  Klinische Psychologie und Psychotherapie Insti...   \n",
       "11  Schweizerische Rechtsquellen c/o Universität Z...   \n",
       "\n",
       "                     University  Start Date    End Date Approved Amount Canton  \n",
       "0                           NaN  01.10.1975  30.09.1976        11619.00    NaN  \n",
       "1     Université de Genève - GE  01.10.1975  30.09.1976        41022.00     GE  \n",
       "2                           NaN  01.03.1976  28.02.1985        79732.00    NaN  \n",
       "3        Universität Basel - BS  01.10.1975  30.09.1976        52627.00     BS  \n",
       "4                           NaN  01.01.1976  30.04.1978       120042.00    NaN  \n",
       "5   Université de Fribourg - FR  01.01.1976  31.12.1978        53009.00     FR  \n",
       "6   Université de Fribourg - FR  01.01.1976  31.12.1976        25403.00     FR  \n",
       "7       Universität Zürich - ZH  01.10.1975  31.03.1977        47100.00     ZH  \n",
       "8   Université de Lausanne - LA  01.10.1975  31.03.1977        25814.00     VD  \n",
       "9     Université de Genève - GE  01.10.1975  30.09.1978       360000.00     GE  \n",
       "10  Université de Fribourg - FR  01.10.1975  31.12.1978       153886.00     FR  \n",
       "11                          NaN  01.10.1975  30.09.1978       862200.00     ZH  "
      ]
     },
     "execution_count": 17,
     "metadata": {},
     "output_type": "execute_result"
    }
   ],
   "source": [
    "for index in df_grants.index :\n",
    " \n",
    " if df_grants.Canton.loc[index] != df_grants.Canton.loc[index] :\n",
    "    df_grants.Canton.loc[index] = df_instit.Canton.loc[index]\n",
    "\n",
    "df_grants.head(12)\n"
   ]
  },
  {
   "cell_type": "code",
   "execution_count": 18,
   "metadata": {
    "collapsed": false
   },
   "outputs": [
    {
     "data": {
      "text/plain": [
       "0.28681079898081491"
      ]
     },
     "execution_count": 18,
     "metadata": {},
     "output_type": "execute_result"
    }
   ],
   "source": [
    "sum(df_grants.Canton.isnull()/len(df_grants.Canton))"
   ]
  },
  {
   "cell_type": "code",
   "execution_count": 19,
   "metadata": {
    "collapsed": false
   },
   "outputs": [],
   "source": [
    "#print (df_grants[[df_grants['Approved Amount']=='data not included in P3']])\n",
    "new = df_grants[df_grants['Approved Amount']!='data not included in P3']\n"
   ]
  },
  {
   "cell_type": "code",
   "execution_count": 45,
   "metadata": {
    "collapsed": false
   },
   "outputs": [
    {
     "data": {
      "text/html": [
       "<div>\n",
       "<table border=\"1\" class=\"dataframe\">\n",
       "  <thead>\n",
       "    <tr style=\"text-align: right;\">\n",
       "      <th></th>\n",
       "      <th>prix</th>\n",
       "    </tr>\n",
       "  </thead>\n",
       "  <tbody>\n",
       "  </tbody>\n",
       "</table>\n",
       "</div>"
      ],
      "text/plain": [
       "Empty DataFrame\n",
       "Columns: [prix]\n",
       "Index: []"
      ]
     },
     "execution_count": 45,
     "metadata": {},
     "output_type": "execute_result"
    }
   ],
   "source": [
    "\n",
    "final = pd.DataFrame(columns=['prix'])\n",
    "final.indexes=['Canton']\n",
    "final"
   ]
  },
  {
   "cell_type": "code",
   "execution_count": 47,
   "metadata": {
    "collapsed": false
   },
   "outputs": [
    {
     "name": "stderr",
     "output_type": "stream",
     "text": [
      "/Users/Barry/anaconda/lib/python3.5/site-packages/ipykernel/__main__.py:3: UserWarning: Boolean Series key will be reindexed to match DataFrame index.\n",
      "  app.launch_new_instance()\n"
     ]
    }
   ],
   "source": [
    "\n",
    "for canton in CANTON_DICT :\n",
    " x = new[df_grants['Canton']==CANTON_DICT[canton]]['Approved Amount'].values\n",
    " x = x.astype(np.float)\n",
    " final.loc[CANTON_DICT[canton]]=[np.sum(x)/1e6]\n",
    "\n",
    "final.head()\n",
    "final = final.reset_index()\n",
    "final.head()\n",
    "final.to_csv('grants.csv')"
   ]
  },
  {
   "cell_type": "code",
   "execution_count": 65,
   "metadata": {
    "collapsed": false
   },
   "outputs": [
    {
     "name": "stderr",
     "output_type": "stream",
     "text": [
      "/Users/Barry/anaconda/lib/python3.5/site-packages/ipykernel/__main__.py:18: FutureWarning: 'threshold_scale' default behavior has changed. Now you get a linear scale between the 'min' and the 'max' of your data. To get former behavior, use folium.utilities.split_six.\n"
     ]
    },
    {
     "data": {
      "text/html": [
       "<div style=\"width:100%;\"><div style=\"position:relative;width:100%;height:0;padding-bottom:60%;\"><iframe src=\"data:text/html;base64,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\" style=\"position:absolute;width:100%;height:100%;left:0;top:0;\"></iframe></div></div>"
      ],
      "text/plain": [
       "<folium.folium.Map at 0x11323dc18>"
      ]
     },
     "execution_count": 65,
     "metadata": {},
     "output_type": "execute_result"
    }
   ],
   "source": [
    "import folium\n",
    "import pandas as pd\n",
    "\n",
    "state_geo = r'data/ch-cantons.topojson.json'\n",
    "state_grants = r'data/grants.csv'\n",
    "\n",
    "state_data = pd.read_csv(state_grants)\n",
    "\n",
    "#Let Folium determine the scale\n",
    "#ice_map = folium.Map(location=[-59.1759, -11.6016],\n",
    "#                   tiles='Mapbox Bright', zoom_start=2)\n",
    "#ice_map.choropleth(geo_path=state_geo, topojson='objects.cantons')\n",
    "color_map = folium.Map(location=[48, -102], zoom_start=3)\n",
    "color_map.choropleth(geo_path=state_geo,topojson='objects.cantons', data=state_data,\n",
    "             columns=['index', 'prix'],\n",
    "             key_on='id',\n",
    "             fill_color='YlGn', fill_opacity=0.7, line_opacity=0.2,\n",
    "             legend_name='canton price (MCHF)')\n",
    "color_map"
   ]
  }
 ],
 "metadata": {
  "anaconda-cloud": {},
  "kernelspec": {
   "display_name": "Python [Root]",
   "language": "python",
   "name": "Python [Root]"
  },
  "language_info": {
   "codemirror_mode": {
    "name": "ipython",
    "version": 3
   },
   "file_extension": ".py",
   "mimetype": "text/x-python",
   "name": "python",
   "nbconvert_exporter": "python",
   "pygments_lexer": "ipython3",
   "version": "3.5.2"
  }
 },
 "nbformat": 4,
 "nbformat_minor": 0
}
