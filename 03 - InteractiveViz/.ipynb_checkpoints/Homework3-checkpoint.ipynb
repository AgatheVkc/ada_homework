{
 "cells": [
  {
   "cell_type": "markdown",
   "metadata": {},
   "source": [
    "# HOMEWORK 3  - INTERACTIVE VIZ\n",
    "\n",
    "** Build a Choropleth map which shows intuitively (i.e., use colors wisely) how much grant money goes to each Swiss canton. To do so, you will need to use the provided TopoJSON file, combined with the Choropleth map example you can find in the Folium README file.**\n",
    "\n",
    "**BONUS: using the map you have just built, and the geographical information contained in it, could you give a rough estimate of the difference in research funding between the areas divided by the Röstigraben?**"
   ]
  },
  {
   "cell_type": "markdown",
   "metadata": {},
   "source": [
    "## 1. Get the canton to which each grant was assigned"
   ]
  },
  {
   "cell_type": "markdown",
   "metadata": {},
   "source": [
    "Usual imports first.\n",
    "- A INSTALLER AVEC pip install geopy"
   ]
  },
  {
   "cell_type": "code",
   "execution_count": 1,
   "metadata": {
    "collapsed": false
   },
   "outputs": [],
   "source": [
    "import pandas as pd\n",
    "import numpy as np\n",
    "import json\n",
    "import os\n",
    "from geopy.geocoders import Nominatim\n",
    "from geopy.geocoders import GeoNames\n",
    "from urllib import *"
   ]
  },
  {
   "cell_type": "markdown",
   "metadata": {},
   "source": [
    "We load the grants and select a few useful attributes :\n",
    "- The university and the institution will try to help us locate the canton to which each grant was assigned.\n",
    "- The approved amount to know how much each canton received."
   ]
  },
  {
   "cell_type": "code",
   "execution_count": 2,
   "metadata": {
    "collapsed": false
   },
   "outputs": [
    {
     "data": {
      "text/html": [
       "<div>\n",
       "<table border=\"1\" class=\"dataframe\">\n",
       "  <thead>\n",
       "    <tr style=\"text-align: right;\">\n",
       "      <th></th>\n",
       "      <th>Institution</th>\n",
       "      <th>University</th>\n",
       "      <th>Start Date</th>\n",
       "      <th>End Date</th>\n",
       "      <th>Approved Amount</th>\n",
       "    </tr>\n",
       "  </thead>\n",
       "  <tbody>\n",
       "    <tr>\n",
       "      <th>0</th>\n",
       "      <td>NaN</td>\n",
       "      <td>Nicht zuteilbar - NA</td>\n",
       "      <td>01.10.1975</td>\n",
       "      <td>30.09.1976</td>\n",
       "      <td>11619.00</td>\n",
       "    </tr>\n",
       "    <tr>\n",
       "      <th>1</th>\n",
       "      <td>Faculté de Psychologie et des Sciences de l'Ed...</td>\n",
       "      <td>Université de Genève - GE</td>\n",
       "      <td>01.10.1975</td>\n",
       "      <td>30.09.1976</td>\n",
       "      <td>41022.00</td>\n",
       "    </tr>\n",
       "    <tr>\n",
       "      <th>2</th>\n",
       "      <td>Kommission für das Corpus philosophorum medii ...</td>\n",
       "      <td>NPO (Biblioth., Museen, Verwalt.) - NPO</td>\n",
       "      <td>01.03.1976</td>\n",
       "      <td>28.02.1985</td>\n",
       "      <td>79732.00</td>\n",
       "    </tr>\n",
       "    <tr>\n",
       "      <th>3</th>\n",
       "      <td>Abt. Handschriften und Alte Drucke Bibliothek ...</td>\n",
       "      <td>Universität Basel - BS</td>\n",
       "      <td>01.10.1975</td>\n",
       "      <td>30.09.1976</td>\n",
       "      <td>52627.00</td>\n",
       "    </tr>\n",
       "    <tr>\n",
       "      <th>4</th>\n",
       "      <td>Schweiz. Thesauruskommission</td>\n",
       "      <td>NPO (Biblioth., Museen, Verwalt.) - NPO</td>\n",
       "      <td>01.01.1976</td>\n",
       "      <td>30.04.1978</td>\n",
       "      <td>120042.00</td>\n",
       "    </tr>\n",
       "  </tbody>\n",
       "</table>\n",
       "</div>"
      ],
      "text/plain": [
       "                                         Institution  \\\n",
       "0                                                NaN   \n",
       "1  Faculté de Psychologie et des Sciences de l'Ed...   \n",
       "2  Kommission für das Corpus philosophorum medii ...   \n",
       "3  Abt. Handschriften und Alte Drucke Bibliothek ...   \n",
       "4                       Schweiz. Thesauruskommission   \n",
       "\n",
       "                                University  Start Date    End Date  \\\n",
       "0                     Nicht zuteilbar - NA  01.10.1975  30.09.1976   \n",
       "1                Université de Genève - GE  01.10.1975  30.09.1976   \n",
       "2  NPO (Biblioth., Museen, Verwalt.) - NPO  01.03.1976  28.02.1985   \n",
       "3                   Universität Basel - BS  01.10.1975  30.09.1976   \n",
       "4  NPO (Biblioth., Museen, Verwalt.) - NPO  01.01.1976  30.04.1978   \n",
       "\n",
       "  Approved Amount  \n",
       "0        11619.00  \n",
       "1        41022.00  \n",
       "2        79732.00  \n",
       "3        52627.00  \n",
       "4       120042.00  "
      ]
     },
     "execution_count": 2,
     "metadata": {},
     "output_type": "execute_result"
    }
   ],
   "source": [
    "df_grants = pd.read_csv('P3_GrantExport.csv',sep=';')\n",
    "df_grants = df_grants[[6,7,11,12,13]]\n",
    "df_grants.head()"
   ]
  },
  {
   "cell_type": "markdown",
   "metadata": {},
   "source": [
    "### 1. Extracting the canton from the university field\n",
    "There are some issues in the data, that need to be formatted. First of all, some data need to be replaced with NaN, as they do not convey any information regarding the location of the grant that was assigned. We considered the following :\n",
    "- 'Nicht zuteilbar - NA' -> Unavailable data\n",
    "- 'NPO (Biblioth., Museen, Verwalt.) - NPO' -> No informations\n",
    "- 'Weitere Institute - FINST' -> Other institutes\n",
    "- 'Firmen/Privatwirtschaft - FP' -> Private institutions\n",
    "\n",
    "There is also a second part of data that simply have no university field. The location of where those grants were assigned then shall be determined in the second part of the extraction, where we turn our sights to the institution field of the DataFrame"
   ]
  },
  {
   "cell_type": "code",
   "execution_count": 3,
   "metadata": {
    "collapsed": false,
    "scrolled": true
   },
   "outputs": [
    {
     "data": {
      "text/plain": [
       "array(['Universität Basel - BS', 'Université de Fribourg - FR',\n",
       "       'Universität Zürich - ZH', 'Université de Lausanne - LA',\n",
       "       'Universität Bern - BE',\n",
       "       'Eidg. Forschungsanstalt für Wald,Schnee,Land - WSL',\n",
       "       'Université de Neuchâtel - NE', 'ETH Zürich - ETHZ',\n",
       "       'Inst. de Hautes Etudes Internat. et du Dév - IHEID'], dtype=object)"
      ]
     },
     "execution_count": 3,
     "metadata": {},
     "output_type": "execute_result"
    }
   ],
   "source": [
    "df_grants = df_grants.replace('Nicht zuteilbar - NA',np.nan)\n",
    "df_grants = df_grants.replace('NPO (Biblioth., Museen, Verwalt.) - NPO',np.nan)\n",
    "df_grants = df_grants.replace('Weitere Institute - FINST',np.nan)\n",
    "df_grants = df_grants.replace('Firmen/Privatwirtschaft - FP',np.nan)\n",
    "\n",
    "data_uni = df_grants['University'].unique()[1:]\n",
    "\n",
    "data_uni[1:10]"
   ]
  },
  {
   "cell_type": "markdown",
   "metadata": {},
   "source": [
    "In order to do a few less queries on the web to determine the location of our universities, we define two dictionnaries that we will extensively use to help us locate a university. The first one, `CANTON_DICT` associates each canton to its tag, that we will use on the map later on, but we can use it in the following way : if the key of this dict is present in the string describing the university, then we match it to the canton. It is very practical, as many universities are located in the capital of the canton, which often has the same name as the canton itself.\n",
    "\n",
    "The second dict, `CAPITAL_DICT` contains pairs associating the capital of a canton to a canton, for those who do not have exactly the same name. We will use it the same way as `CANTON_DICT` : if the name of the capital appears in the string of the university, we match it to the canton it belongs to."
   ]
  },
  {
   "cell_type": "code",
   "execution_count": 4,
   "metadata": {
    "collapsed": false
   },
   "outputs": [],
   "source": [
    "CANTON_DICT = {'Zürich':'ZH','Bern':'BE','Luzern':'LU','Uri':'UR','Schwyz':'SZ','Obwalden':'OW','Nidwalden':'NW',\n",
    "               'Glarus':'GL','Zug':'ZG','Fribourg':'FR','Solothurn':'SO','Basel-Stadt':'BS','Basel-Landschaft':'BL',\n",
    "               'Schaffhausen':'SH','Appenzell Ausserrhoden':'AR','Appenzell Innerrhoden':'AI','Sankt Gallen':'SG',\n",
    "               'Graubünden':'GR','Aargau':'AG','Thurgau':'TG','Ticino':'TI', 'Vaud':'VD','Valais':'VS','Neuchâtel':'NE',\n",
    "               'Genève':'GE','Jura':'JU','OUT': 'OUT'}\n",
    "CAPITAL_DICT = {'Basel':'Basel-Stadt' ,'Lausanne':'Vaud', 'Sion':'Valais','Altdorf':'Uri','Sarnen':'Obwalden','Stans':'Nidwalden',\n",
    "                'Liestal':'Basel-Landschaft','Herisau':'Appenzell Ausserrhoden',\n",
    "                'Chur':'Graubünden','Aarau':'Aargau','Frauenfeld':'Thurgau','Bellinzona':'Ticino','Delémont':'Jura'}\n",
    "#'Appenzell':'Appenzell Innerrhoden' excluded because the name of the city is partially in the name of two cantons"
   ]
  },
  {
   "cell_type": "markdown",
   "metadata": {},
   "source": [
    "Let us now start with the canton extraction from the uni field. We will use two methods for that. \n",
    "- `extract_canton` will also be reused later on, tries to find, given a data_string containing a university/institution, the canton if belongs to. It does that in three steps :\n",
    "    1. Tries to see if a canton appears in the data_string\n",
    "    2. Tries to see if a capital which does not have the same name as the canton appears in the data_string\n",
    "    3. Queries the Nominatim web service to try to locate the string. Here, if the response if `None`, we return `None`, and if the answer is not in Switzerland (its last field should contain `Svizra` in this case), then we also return `None`."
   ]
  },
  {
   "cell_type": "code",
   "execution_count": 5,
   "metadata": {
    "collapsed": false
   },
   "outputs": [],
   "source": [
    "def extract_canton(data_string):\n",
    "    \"\"\"\n",
    "        Fetchs from the web the location associated to a string. We use Nominatim at the moment. \n",
    "        The format of the output string (if it is not None) has the canton in the 6th output before the end.\n",
    "        The canton is written in all the languages spoken in it, and we hence split and keep the name that comes first.\n",
    "        @param data_string : the data from which we want to determine the canton\n",
    "        @return canton : the name of the canton associated to the input data_string\n",
    "    \"\"\"\n",
    "    for canton in CANTON_DICT:\n",
    "        if(canton in str(data_string)):\n",
    "            return canton\n",
    "    for city,canton in CAPITAL_DICT.items():\n",
    "        if(city in str(data_string)):\n",
    "            return canton\n",
    "    geolocator = Nominatim()#,username='test_056')\n",
    "    location = geolocator.geocode(data_string)\n",
    "    split_loc = str(location).split(', ')\n",
    "    if (split_loc is not None) and (split_loc[-1] =='Svizra'):\n",
    "        print('coucou')\n",
    "        canton = str(location).split(', ')\n",
    "        canton = canton[len(canton)-6]\n",
    "        return canton.split(' - ')[0]   \n",
    "    elif (split_loc is not None):\n",
    "        \n",
    "        return 'OUT'\n",
    "    else:\n",
    "        return np.nan"
   ]
  },
  {
   "cell_type": "markdown",
   "metadata": {},
   "source": [
    "- The second method, `extract_canton_from_uni`, will simply iterate on all the different universites of our DataFrame and call extract_canton. To get a higher chance of succeeding, we split the string at the `-` that separates the name and the acronym, and if the research was not successful with the full name, we pass the acronym to extract_canton as well. The full processing is done only once, and we store the result as a json file to load it again later on."
   ]
  },
  {
   "cell_type": "code",
   "execution_count": 6,
   "metadata": {
    "collapsed": false,
    "scrolled": true
   },
   "outputs": [
    {
     "name": "stdout",
     "output_type": "stream",
     "text": [
      "Loading the data from json file\n"
     ]
    }
   ],
   "source": [
    "def extract_canton_from_uni(data_uni):\n",
    "    \"\"\"\n",
    "        Extracts to which canton belongs a university and stored it into a json file (folder data).\n",
    "        @param data_uni :           an array of strings describing universities or other institutions.\n",
    "        @return university_dict :   a dict which associate to each university a canton if it was found\n",
    "                                    or a None if nothing was found.\n",
    "    \"\"\"\n",
    "    if(os.path.isfile('data/uni_canton_dict.json')):\n",
    "        print('Loading the data from json file')\n",
    "        with open('data/uni_canton_dict.json') as f:\n",
    "            university_dict = json.load(f)\n",
    "    else:\n",
    "        print('Fetching the locations from the web')\n",
    "        university_dict = dict()\n",
    "        for uni in data_uni:\n",
    "            # Splits the university string at the '-', which usually corresponds to the separation between the full name\n",
    "            # and the acronym of the institution.\n",
    "            uni_name_split = uni.split('-')\n",
    "            extract_value = extract_canton(uni_name_split[0])\n",
    "            if (extract_value is np.nan) and (len(uni_name_split) > 1):\n",
    "                # If the canton was not found in the name, then we try to extract it from the acronym string if it exists\n",
    "                extract_value = extract_canton(uni_name_split[1])\n",
    "            university_dict[uni] = extract_value\n",
    "        with open('data/uni_canton_dict.json', 'w') as f:\n",
    "            json.dump(university_dict, f)\n",
    "    return university_dict\n",
    "university_canton = extract_canton_from_uni(data_uni)\n",
    "#university_canton"
   ]
  },
  {
   "cell_type": "markdown",
   "metadata": {},
   "source": [
    "Let us now see the number of universities that were located and those who weren't."
   ]
  },
  {
   "cell_type": "code",
   "execution_count": 7,
   "metadata": {
    "collapsed": false,
    "scrolled": true
   },
   "outputs": [
    {
     "name": "stdout",
     "output_type": "stream",
     "text": [
      "36\n",
      "37\n"
     ]
    }
   ],
   "source": [
    "print(len([place for place, value in university_canton.items() if not pd.isnull(value)]))\n",
    "print(len([place for place, value in university_canton.items() if pd.isnull(value)]))"
   ]
  },
  {
   "cell_type": "markdown",
   "metadata": {},
   "source": [
    "Sadly, this way only half of the universities were matches. Note that we did several tests and found that GeoNames leads a way poorer result than Nominatim (52 vs 37 not found), and prefiltering (trying to find the uni in the `CANTON_DICT` and `CAPITAL_DICT` dict) yields 37 not found against 40, but avoid queries on the web."
   ]
  },
  {
   "cell_type": "markdown",
   "metadata": {},
   "source": [
    "Let us now add a column to our grant DataFrame to find how many of the projects have been identified from their university name and fill this column with the canton tags from each canton"
   ]
  },
  {
   "cell_type": "code",
   "execution_count": 8,
   "metadata": {
    "collapsed": false
   },
   "outputs": [],
   "source": [
    "df_grants['Canton'] = np.nan\n",
    "match_canton_uni = lambda uni: CANTON_DICT[university_canton[uni]] if (not pd.isnull(university_canton[uni])) else university_canton[uni]\n",
    "df_grants.Canton = df_grants.University.loc[[uni in university_canton for uni  in df_grants.University]].apply(match_canton_uni)"
   ]
  },
  {
   "cell_type": "code",
   "execution_count": 9,
   "metadata": {
    "collapsed": false
   },
   "outputs": [
    {
     "data": {
      "text/html": [
       "<div>\n",
       "<table border=\"1\" class=\"dataframe\">\n",
       "  <thead>\n",
       "    <tr style=\"text-align: right;\">\n",
       "      <th></th>\n",
       "      <th>Institution</th>\n",
       "      <th>University</th>\n",
       "      <th>Start Date</th>\n",
       "      <th>End Date</th>\n",
       "      <th>Approved Amount</th>\n",
       "      <th>Canton</th>\n",
       "    </tr>\n",
       "  </thead>\n",
       "  <tbody>\n",
       "    <tr>\n",
       "      <th>0</th>\n",
       "      <td>NaN</td>\n",
       "      <td>NaN</td>\n",
       "      <td>01.10.1975</td>\n",
       "      <td>30.09.1976</td>\n",
       "      <td>11619.00</td>\n",
       "      <td>NaN</td>\n",
       "    </tr>\n",
       "    <tr>\n",
       "      <th>1</th>\n",
       "      <td>Faculté de Psychologie et des Sciences de l'Ed...</td>\n",
       "      <td>Université de Genève - GE</td>\n",
       "      <td>01.10.1975</td>\n",
       "      <td>30.09.1976</td>\n",
       "      <td>41022.00</td>\n",
       "      <td>GE</td>\n",
       "    </tr>\n",
       "    <tr>\n",
       "      <th>2</th>\n",
       "      <td>Kommission für das Corpus philosophorum medii ...</td>\n",
       "      <td>NaN</td>\n",
       "      <td>01.03.1976</td>\n",
       "      <td>28.02.1985</td>\n",
       "      <td>79732.00</td>\n",
       "      <td>NaN</td>\n",
       "    </tr>\n",
       "    <tr>\n",
       "      <th>3</th>\n",
       "      <td>Abt. Handschriften und Alte Drucke Bibliothek ...</td>\n",
       "      <td>Universität Basel - BS</td>\n",
       "      <td>01.10.1975</td>\n",
       "      <td>30.09.1976</td>\n",
       "      <td>52627.00</td>\n",
       "      <td>BS</td>\n",
       "    </tr>\n",
       "    <tr>\n",
       "      <th>4</th>\n",
       "      <td>Schweiz. Thesauruskommission</td>\n",
       "      <td>NaN</td>\n",
       "      <td>01.01.1976</td>\n",
       "      <td>30.04.1978</td>\n",
       "      <td>120042.00</td>\n",
       "      <td>NaN</td>\n",
       "    </tr>\n",
       "    <tr>\n",
       "      <th>5</th>\n",
       "      <td>Séminaire de politique économique, d'économie ...</td>\n",
       "      <td>Université de Fribourg - FR</td>\n",
       "      <td>01.01.1976</td>\n",
       "      <td>31.12.1978</td>\n",
       "      <td>53009.00</td>\n",
       "      <td>FR</td>\n",
       "    </tr>\n",
       "    <tr>\n",
       "      <th>6</th>\n",
       "      <td>Institut für ökumenische Studien Université de...</td>\n",
       "      <td>Université de Fribourg - FR</td>\n",
       "      <td>01.01.1976</td>\n",
       "      <td>31.12.1976</td>\n",
       "      <td>25403.00</td>\n",
       "      <td>FR</td>\n",
       "    </tr>\n",
       "    <tr>\n",
       "      <th>7</th>\n",
       "      <td>Ostasiatisches Seminar Universität Zürich</td>\n",
       "      <td>Universität Zürich - ZH</td>\n",
       "      <td>01.10.1975</td>\n",
       "      <td>31.03.1977</td>\n",
       "      <td>47100.00</td>\n",
       "      <td>ZH</td>\n",
       "    </tr>\n",
       "    <tr>\n",
       "      <th>8</th>\n",
       "      <td>NaN</td>\n",
       "      <td>Université de Lausanne - LA</td>\n",
       "      <td>01.10.1975</td>\n",
       "      <td>31.03.1977</td>\n",
       "      <td>25814.00</td>\n",
       "      <td>VD</td>\n",
       "    </tr>\n",
       "    <tr>\n",
       "      <th>9</th>\n",
       "      <td>Laboratoire de Didactique et Epistémologie des...</td>\n",
       "      <td>Université de Genève - GE</td>\n",
       "      <td>01.10.1975</td>\n",
       "      <td>30.09.1978</td>\n",
       "      <td>360000.00</td>\n",
       "      <td>GE</td>\n",
       "    </tr>\n",
       "  </tbody>\n",
       "</table>\n",
       "</div>"
      ],
      "text/plain": [
       "                                         Institution  \\\n",
       "0                                                NaN   \n",
       "1  Faculté de Psychologie et des Sciences de l'Ed...   \n",
       "2  Kommission für das Corpus philosophorum medii ...   \n",
       "3  Abt. Handschriften und Alte Drucke Bibliothek ...   \n",
       "4                       Schweiz. Thesauruskommission   \n",
       "5  Séminaire de politique économique, d'économie ...   \n",
       "6  Institut für ökumenische Studien Université de...   \n",
       "7          Ostasiatisches Seminar Universität Zürich   \n",
       "8                                                NaN   \n",
       "9  Laboratoire de Didactique et Epistémologie des...   \n",
       "\n",
       "                    University  Start Date    End Date Approved Amount Canton  \n",
       "0                          NaN  01.10.1975  30.09.1976        11619.00    NaN  \n",
       "1    Université de Genève - GE  01.10.1975  30.09.1976        41022.00     GE  \n",
       "2                          NaN  01.03.1976  28.02.1985        79732.00    NaN  \n",
       "3       Universität Basel - BS  01.10.1975  30.09.1976        52627.00     BS  \n",
       "4                          NaN  01.01.1976  30.04.1978       120042.00    NaN  \n",
       "5  Université de Fribourg - FR  01.01.1976  31.12.1978        53009.00     FR  \n",
       "6  Université de Fribourg - FR  01.01.1976  31.12.1976        25403.00     FR  \n",
       "7      Universität Zürich - ZH  01.10.1975  31.03.1977        47100.00     ZH  \n",
       "8  Université de Lausanne - LA  01.10.1975  31.03.1977        25814.00     VD  \n",
       "9    Université de Genève - GE  01.10.1975  30.09.1978       360000.00     GE  "
      ]
     },
     "execution_count": 9,
     "metadata": {},
     "output_type": "execute_result"
    }
   ],
   "source": [
    "df_grants.head(10)"
   ]
  },
  {
   "cell_type": "code",
   "execution_count": 10,
   "metadata": {
    "collapsed": false
   },
   "outputs": [
    {
     "data": {
      "text/plain": [
       "0.30697681689574813"
      ]
     },
     "execution_count": 10,
     "metadata": {},
     "output_type": "execute_result"
    }
   ],
   "source": [
    "sum(df_grants.Canton.isnull()/len(df_grants.Canton))"
   ]
  },
  {
   "cell_type": "markdown",
   "metadata": {},
   "source": [
    "We see that only 30% of the cantons were found."
   ]
  },
  {
   "cell_type": "markdown",
   "metadata": {},
   "source": [
    "### 2. Extracting the canton from the institution field\n",
    "Let us now address the potential problems we will encounter by displaying all the grants that have no universities associated."
   ]
  },
  {
   "cell_type": "code",
   "execution_count": 11,
   "metadata": {
    "collapsed": false,
    "scrolled": true
   },
   "outputs": [
    {
     "data": {
      "text/plain": [
       "Department of Chemistry University of Cambridge                                                     42\n",
       "Department of Chemistry Stanford University                                                         29\n",
       "Muséum d'Histoire Naturelle                                                                         29\n",
       "Commission nationale pour la publication des DDS                                                    24\n",
       "Gesellschaft für Schweizerische Kunstgeschichte                                                     23\n",
       "UNI: University of California   Berkeley USA                                                        23\n",
       "Max-Planck-Institut für ausländisches und internationales Privatrecht                               22\n",
       "Redaktion des Schweizerdeutschen Wörterbuchs                                                        22\n",
       "Commission administrative du GPSR                                                                   21\n",
       "Schweizerische Vogelwarte                                                                           21\n",
       "INFRAS                                                                                              20\n",
       "Forschung und Beratung in Wirtschaft und Politik ECOPLAN                                            20\n",
       "Naturhistorisches Museum Basel                                                                      19\n",
       "IBM Research GmbH                                                                                   19\n",
       "Commissione scientifica del VDSI                                                                    19\n",
       "Societa Retorumantscha Dicziunari Rumantsch Grischun                                                18\n",
       "Kuratorium der Helvetia Sacra c/o Staatsarchiv Basel                                                18\n",
       "UNI: University of California   Berkeley, CA USA                                                    18\n",
       "Istituto Svizzero di Roma                                                                           18\n",
       "Department of Chemistry University of California                                                    17\n",
       "Synergo Mobilität Politik Raum GmbH  synergo Mobility Politics Space GmbH                           17\n",
       "London School of Economics and Political Science                                                    17\n",
       "Conservatoire et jardin botaniques de la Ville de Genève                                            17\n",
       "Department of Chemistry and Chemical Biology Harvard University                                     16\n",
       "Aargauer Kantonsbibliothek                                                                          16\n",
       "School of Law Columbia University                                                                   15\n",
       "UNI: University of British Columbia   Vancou ver CDN                                                15\n",
       "Hochalpine Forschungsstationen Jungfraujoch & Gornergrat Universität Bern                           15\n",
       "Lauterpacht Centre for International Law University of Cambridge                                    15\n",
       "Otto Spiess Stiftung                                                                                15\n",
       "                                                                                                    ..\n",
       "UNI: Université de Lyonal de Medell   Lyon F                                                         1\n",
       "Handschriftenzentrum Universitätsbibliothek Universität Leipzig                                      1\n",
       "Honiden Laboratory National Institute of Informatics Tokyo University                                1\n",
       "UNI: University of Jerusalem Institut for Th eology  Jerusalem IS                                    1\n",
       "Joslin Diabetes Center Dedicated to Diabetes Research Harvard Medical School                         1\n",
       "Institut für Philosophie, Wissen- schaftstheorie, Wissenschafts- u. Technikgeschichte                1\n",
       "UNI: Blutspendedienst SRK Zentrallaboratoriu m  Bern CH                                              1\n",
       "UNI: NASA/Ames Research Center Astrochemistr y Laboratory  Mountain View USA                         1\n",
       "Department of Social and Economic Geography  Umea University                                         1\n",
       "UNI: Astrophysical Observatory   Nauchny UA                                                          1\n",
       "Département de Biologie Cellulaire Faculté des Sciences Université de Genève                         1\n",
       "School of English Trinity College                                                                    1\n",
       "UNI: University of California Dept of Microb iology and Immunology  San Francisco, CA USA            1\n",
       "Information Systems Institute Vienna University of Technology                                        1\n",
       "Biomedical MR Research Group Dept. of Radiology Radboud University Nijmegen Medical Center           1\n",
       "UNI: University of Pennsylvania School of Me dicine  Philadelphia USA                                1\n",
       "Shanghai Academy of Social Sciences  Center of Jewish Studies                                        1\n",
       "Graduate School of Law Faculty of Law University of Edinburgh                                        1\n",
       "UNI: The Rockefeller University Laboratory o f Molecular and Cellular Neuroscience New Yo rk USA     1\n",
       "Department of Chemistry University of Minnesota                                                      1\n",
       "Departement Geographie, SIE Universität Zürich                                                       1\n",
       "Center for Genomics and Systems Biology Biology Department New York University                       1\n",
       "UNI: Universität Uppsala Limnologisches Inst itut  Uppsala S                                         1\n",
       "UNI: University of Cambridged Molec   Cambri dge GB                                                  1\n",
       "Newborn Research Centre The Royal Women's Hospital                                                   1\n",
       "UNI: Université de Genève Section de Physiqu e  Genève CH                                            1\n",
       "UNI: Université de Paris X Sciences Juridiqu es et politiques Etudes  Nanterre F                     1\n",
       "Ecole Suisse d'Archéologie en Grèce                                                                  1\n",
       "UNI: Princeton Universityrniaor. Un Dept of Biology  Princeton USA                                   1\n",
       "Åbo Akademi University                                                                               1\n",
       "Name: Institution, dtype: int64"
      ]
     },
     "execution_count": 11,
     "metadata": {},
     "output_type": "execute_result"
    }
   ],
   "source": [
    "df_grants.Institution.loc[df_grants.University.isnull()].value_counts()"
   ]
  },
  {
   "cell_type": "markdown",
   "metadata": {},
   "source": [
    "We see that those institutions are mostly foreign universities or reasearch centers, that do not provide useful informations for our exercise. However, there are some swiss universities in the middle of it, so we will need to iterate through it and sort the institutions that will be kept or not."
   ]
  },
  {
   "cell_type": "code",
   "execution_count": 12,
   "metadata": {
    "collapsed": false
   },
   "outputs": [
    {
     "name": "stdout",
     "output_type": "stream",
     "text": [
      "[nan 'Kommission für das Corpus philosophorum medii aevi der SGG'\n",
      " 'Schweiz. Thesauruskommission' ...,\n",
      " 'Zoologisches Institut Universität Basel'\n",
      " 'Abteilung für Neuropsychologie Zentrum für Kognitionswissenschaften Universität Bremen'\n",
      " 'Departement Design Zürcher Hochschule der Künste ZHdK']\n"
     ]
    }
   ],
   "source": [
    "df_institution = df_grants['Institution'].loc[df_grants['Canton'].isnull()]\n",
    "df_institution = df_institution.unique()#head()\n",
    "print(df_institution)\n",
    "\n",
    "INSTITUTION_EXCLUDED = []#['USA','GB','AUS','CDN','Stanford University','University of Cambridge','Paris','Essex','Shangai','Berlin']"
   ]
  },
  {
   "cell_type": "code",
   "execution_count": 13,
   "metadata": {
    "collapsed": false,
    "scrolled": false
   },
   "outputs": [
    {
     "name": "stdout",
     "output_type": "stream",
     "text": [
      "Loading the data from json file\n"
     ]
    }
   ],
   "source": [
    "def extract_canton_from_institution(data_institution, complete = True):\n",
    "    \"\"\"\n",
    "        Extracts to which canton belongs a institution and stored it into a json file (folder data). \n",
    "        As this data is very large, the queries to the website will most likely time out. We dump the the dictionnary \n",
    "        to a json file at each iteration and can restart from it with the parameter complete\n",
    "        @param data_institution :   an array of strings describing institutions.\n",
    "        @param complete         :   tells us if the process has been completed (everything saved to json file)\n",
    "        @return institution_dict :  a dict which associate to each university a canton if it was found\n",
    "                                    or a None if nothing was found.\n",
    "    \"\"\"\n",
    "    institution_dict = dict()\n",
    "    if(os.path.isfile('data/instit_canton_dict.json')):\n",
    "        print('Loading the data from json file')\n",
    "        with open('data/instit_canton_dict.json') as f:\n",
    "            institution_dict = json.load(f)\n",
    "        #print(institution_dict)\n",
    "    if not(os.path.isfile('data/instit_canton_dict.json') and complete):\n",
    "        print('Fetching the locations from the web')\n",
    "        excluded_bool = False\n",
    "        for index,instit in enumerate(data_institution):\n",
    "            for excluded in INSTITUTION_EXCLUDED:\n",
    "                if(not excluded_bool and excluded in str(instit))  :\n",
    "                    institution_dict[instit] = np.nan\n",
    "                    print(index,'- EXCLUDED <===== ',instit,)\n",
    "                    excluded_bool = True\n",
    "            if not excluded_bool:\n",
    "                #print(instit)\n",
    "                try:\n",
    "                    value = extract_canton(instit)\n",
    "                    #break\n",
    "                except :\n",
    "                    value = np.nan\n",
    "                    institution_dict[instit] = np.nan\n",
    "                    print(index,'- NOT FOUND <===== ',instit,)\n",
    "                institution_dict[instit] = value\n",
    "                if value is not np.nan:\n",
    "                    print(index,'-',value,'<=====',instit )\n",
    "                with open('data/instit_canton_dict.json', 'w') as f:\n",
    "                    json.dump(institution_dict, f)\n",
    "            excluded_bool = False\n",
    "    return institution_dict\n",
    "institution_canton = extract_canton_from_institution(df_institution,complete=True)"
   ]
  },
  {
   "cell_type": "markdown",
   "metadata": {},
   "source": [
    "Elements 1 - 1165 sampled with Nominatim :\n",
    "\n",
    "Should continue to do it, but I'm blocked\n",
    "\n",
    "Elements 1166 - 1512 with GeoNames\n",
    "\n",
    "1513 -1994 Nominatim\n",
    "\n",
    "1995 - 2815 GeoNames"
   ]
  },
  {
   "cell_type": "code",
   "execution_count": 14,
   "metadata": {
    "collapsed": false
   },
   "outputs": [],
   "source": [
    "#Gets the lengths of the dictionnary stored so we can know where to sample from (first number)\n",
    "df_instit = df_grants.copy()\n",
    "df_instit['Canton'] = np.nan\n",
    "match_canton_insti = lambda uni: CANTON_DICT[institution_canton[uni]] if (not pd.isnull(institution_canton[uni])) else institution_canton[uni]\n",
    "df_instit.Canton = df_instit.Institution.loc[[uni in institution_canton for uni  in df_instit.Institution]].apply(match_canton_insti)\n"
   ]
  },
  {
   "cell_type": "code",
   "execution_count": 15,
   "metadata": {
    "collapsed": false
   },
   "outputs": [
    {
     "data": {
      "text/html": [
       "<div>\n",
       "<table border=\"1\" class=\"dataframe\">\n",
       "  <thead>\n",
       "    <tr style=\"text-align: right;\">\n",
       "      <th></th>\n",
       "      <th>Institution</th>\n",
       "      <th>University</th>\n",
       "      <th>Start Date</th>\n",
       "      <th>End Date</th>\n",
       "      <th>Approved Amount</th>\n",
       "      <th>Canton</th>\n",
       "    </tr>\n",
       "  </thead>\n",
       "  <tbody>\n",
       "    <tr>\n",
       "      <th>0</th>\n",
       "      <td>NaN</td>\n",
       "      <td>NaN</td>\n",
       "      <td>01.10.1975</td>\n",
       "      <td>30.09.1976</td>\n",
       "      <td>11619.00</td>\n",
       "      <td>NaN</td>\n",
       "    </tr>\n",
       "    <tr>\n",
       "      <th>1</th>\n",
       "      <td>Faculté de Psychologie et des Sciences de l'Ed...</td>\n",
       "      <td>Université de Genève - GE</td>\n",
       "      <td>01.10.1975</td>\n",
       "      <td>30.09.1976</td>\n",
       "      <td>41022.00</td>\n",
       "      <td>GE</td>\n",
       "    </tr>\n",
       "    <tr>\n",
       "      <th>2</th>\n",
       "      <td>Kommission für das Corpus philosophorum medii ...</td>\n",
       "      <td>NaN</td>\n",
       "      <td>01.03.1976</td>\n",
       "      <td>28.02.1985</td>\n",
       "      <td>79732.00</td>\n",
       "      <td>NaN</td>\n",
       "    </tr>\n",
       "    <tr>\n",
       "      <th>3</th>\n",
       "      <td>Abt. Handschriften und Alte Drucke Bibliothek ...</td>\n",
       "      <td>Universität Basel - BS</td>\n",
       "      <td>01.10.1975</td>\n",
       "      <td>30.09.1976</td>\n",
       "      <td>52627.00</td>\n",
       "      <td>BS</td>\n",
       "    </tr>\n",
       "    <tr>\n",
       "      <th>4</th>\n",
       "      <td>Schweiz. Thesauruskommission</td>\n",
       "      <td>NaN</td>\n",
       "      <td>01.01.1976</td>\n",
       "      <td>30.04.1978</td>\n",
       "      <td>120042.00</td>\n",
       "      <td>NaN</td>\n",
       "    </tr>\n",
       "    <tr>\n",
       "      <th>5</th>\n",
       "      <td>Séminaire de politique économique, d'économie ...</td>\n",
       "      <td>Université de Fribourg - FR</td>\n",
       "      <td>01.01.1976</td>\n",
       "      <td>31.12.1978</td>\n",
       "      <td>53009.00</td>\n",
       "      <td>FR</td>\n",
       "    </tr>\n",
       "    <tr>\n",
       "      <th>6</th>\n",
       "      <td>Institut für ökumenische Studien Université de...</td>\n",
       "      <td>Université de Fribourg - FR</td>\n",
       "      <td>01.01.1976</td>\n",
       "      <td>31.12.1976</td>\n",
       "      <td>25403.00</td>\n",
       "      <td>FR</td>\n",
       "    </tr>\n",
       "    <tr>\n",
       "      <th>7</th>\n",
       "      <td>Ostasiatisches Seminar Universität Zürich</td>\n",
       "      <td>Universität Zürich - ZH</td>\n",
       "      <td>01.10.1975</td>\n",
       "      <td>31.03.1977</td>\n",
       "      <td>47100.00</td>\n",
       "      <td>ZH</td>\n",
       "    </tr>\n",
       "    <tr>\n",
       "      <th>8</th>\n",
       "      <td>NaN</td>\n",
       "      <td>Université de Lausanne - LA</td>\n",
       "      <td>01.10.1975</td>\n",
       "      <td>31.03.1977</td>\n",
       "      <td>25814.00</td>\n",
       "      <td>VD</td>\n",
       "    </tr>\n",
       "    <tr>\n",
       "      <th>9</th>\n",
       "      <td>Laboratoire de Didactique et Epistémologie des...</td>\n",
       "      <td>Université de Genève - GE</td>\n",
       "      <td>01.10.1975</td>\n",
       "      <td>30.09.1978</td>\n",
       "      <td>360000.00</td>\n",
       "      <td>GE</td>\n",
       "    </tr>\n",
       "    <tr>\n",
       "      <th>10</th>\n",
       "      <td>Klinische Psychologie und Psychotherapie Insti...</td>\n",
       "      <td>Université de Fribourg - FR</td>\n",
       "      <td>01.10.1975</td>\n",
       "      <td>31.12.1978</td>\n",
       "      <td>153886.00</td>\n",
       "      <td>FR</td>\n",
       "    </tr>\n",
       "    <tr>\n",
       "      <th>11</th>\n",
       "      <td>Schweizerische Rechtsquellen c/o Universität Z...</td>\n",
       "      <td>NaN</td>\n",
       "      <td>01.10.1975</td>\n",
       "      <td>30.09.1978</td>\n",
       "      <td>862200.00</td>\n",
       "      <td>NaN</td>\n",
       "    </tr>\n",
       "  </tbody>\n",
       "</table>\n",
       "</div>"
      ],
      "text/plain": [
       "                                          Institution  \\\n",
       "0                                                 NaN   \n",
       "1   Faculté de Psychologie et des Sciences de l'Ed...   \n",
       "2   Kommission für das Corpus philosophorum medii ...   \n",
       "3   Abt. Handschriften und Alte Drucke Bibliothek ...   \n",
       "4                        Schweiz. Thesauruskommission   \n",
       "5   Séminaire de politique économique, d'économie ...   \n",
       "6   Institut für ökumenische Studien Université de...   \n",
       "7           Ostasiatisches Seminar Universität Zürich   \n",
       "8                                                 NaN   \n",
       "9   Laboratoire de Didactique et Epistémologie des...   \n",
       "10  Klinische Psychologie und Psychotherapie Insti...   \n",
       "11  Schweizerische Rechtsquellen c/o Universität Z...   \n",
       "\n",
       "                     University  Start Date    End Date Approved Amount Canton  \n",
       "0                           NaN  01.10.1975  30.09.1976        11619.00    NaN  \n",
       "1     Université de Genève - GE  01.10.1975  30.09.1976        41022.00     GE  \n",
       "2                           NaN  01.03.1976  28.02.1985        79732.00    NaN  \n",
       "3        Universität Basel - BS  01.10.1975  30.09.1976        52627.00     BS  \n",
       "4                           NaN  01.01.1976  30.04.1978       120042.00    NaN  \n",
       "5   Université de Fribourg - FR  01.01.1976  31.12.1978        53009.00     FR  \n",
       "6   Université de Fribourg - FR  01.01.1976  31.12.1976        25403.00     FR  \n",
       "7       Universität Zürich - ZH  01.10.1975  31.03.1977        47100.00     ZH  \n",
       "8   Université de Lausanne - LA  01.10.1975  31.03.1977        25814.00     VD  \n",
       "9     Université de Genève - GE  01.10.1975  30.09.1978       360000.00     GE  \n",
       "10  Université de Fribourg - FR  01.10.1975  31.12.1978       153886.00     FR  \n",
       "11                          NaN  01.10.1975  30.09.1978       862200.00    NaN  "
      ]
     },
     "execution_count": 15,
     "metadata": {},
     "output_type": "execute_result"
    }
   ],
   "source": [
    "df_grants.head(12)"
   ]
  },
  {
   "cell_type": "code",
   "execution_count": 16,
   "metadata": {
    "collapsed": false
   },
   "outputs": [
    {
     "data": {
      "text/html": [
       "<div>\n",
       "<table border=\"1\" class=\"dataframe\">\n",
       "  <thead>\n",
       "    <tr style=\"text-align: right;\">\n",
       "      <th></th>\n",
       "      <th>Institution</th>\n",
       "      <th>University</th>\n",
       "      <th>Start Date</th>\n",
       "      <th>End Date</th>\n",
       "      <th>Approved Amount</th>\n",
       "      <th>Canton</th>\n",
       "    </tr>\n",
       "  </thead>\n",
       "  <tbody>\n",
       "    <tr>\n",
       "      <th>0</th>\n",
       "      <td>NaN</td>\n",
       "      <td>NaN</td>\n",
       "      <td>01.10.1975</td>\n",
       "      <td>30.09.1976</td>\n",
       "      <td>11619.00</td>\n",
       "      <td>NaN</td>\n",
       "    </tr>\n",
       "    <tr>\n",
       "      <th>1</th>\n",
       "      <td>Faculté de Psychologie et des Sciences de l'Ed...</td>\n",
       "      <td>Université de Genève - GE</td>\n",
       "      <td>01.10.1975</td>\n",
       "      <td>30.09.1976</td>\n",
       "      <td>41022.00</td>\n",
       "      <td>GE</td>\n",
       "    </tr>\n",
       "    <tr>\n",
       "      <th>2</th>\n",
       "      <td>Kommission für das Corpus philosophorum medii ...</td>\n",
       "      <td>NaN</td>\n",
       "      <td>01.03.1976</td>\n",
       "      <td>28.02.1985</td>\n",
       "      <td>79732.00</td>\n",
       "      <td>NaN</td>\n",
       "    </tr>\n",
       "    <tr>\n",
       "      <th>3</th>\n",
       "      <td>Abt. Handschriften und Alte Drucke Bibliothek ...</td>\n",
       "      <td>Universität Basel - BS</td>\n",
       "      <td>01.10.1975</td>\n",
       "      <td>30.09.1976</td>\n",
       "      <td>52627.00</td>\n",
       "      <td>NaN</td>\n",
       "    </tr>\n",
       "    <tr>\n",
       "      <th>4</th>\n",
       "      <td>Schweiz. Thesauruskommission</td>\n",
       "      <td>NaN</td>\n",
       "      <td>01.01.1976</td>\n",
       "      <td>30.04.1978</td>\n",
       "      <td>120042.00</td>\n",
       "      <td>NaN</td>\n",
       "    </tr>\n",
       "    <tr>\n",
       "      <th>5</th>\n",
       "      <td>Séminaire de politique économique, d'économie ...</td>\n",
       "      <td>Université de Fribourg - FR</td>\n",
       "      <td>01.01.1976</td>\n",
       "      <td>31.12.1978</td>\n",
       "      <td>53009.00</td>\n",
       "      <td>NaN</td>\n",
       "    </tr>\n",
       "    <tr>\n",
       "      <th>6</th>\n",
       "      <td>Institut für ökumenische Studien Université de...</td>\n",
       "      <td>Université de Fribourg - FR</td>\n",
       "      <td>01.01.1976</td>\n",
       "      <td>31.12.1976</td>\n",
       "      <td>25403.00</td>\n",
       "      <td>NaN</td>\n",
       "    </tr>\n",
       "    <tr>\n",
       "      <th>7</th>\n",
       "      <td>Ostasiatisches Seminar Universität Zürich</td>\n",
       "      <td>Universität Zürich - ZH</td>\n",
       "      <td>01.10.1975</td>\n",
       "      <td>31.03.1977</td>\n",
       "      <td>47100.00</td>\n",
       "      <td>NaN</td>\n",
       "    </tr>\n",
       "    <tr>\n",
       "      <th>8</th>\n",
       "      <td>NaN</td>\n",
       "      <td>Université de Lausanne - LA</td>\n",
       "      <td>01.10.1975</td>\n",
       "      <td>31.03.1977</td>\n",
       "      <td>25814.00</td>\n",
       "      <td>NaN</td>\n",
       "    </tr>\n",
       "    <tr>\n",
       "      <th>9</th>\n",
       "      <td>Laboratoire de Didactique et Epistémologie des...</td>\n",
       "      <td>Université de Genève - GE</td>\n",
       "      <td>01.10.1975</td>\n",
       "      <td>30.09.1978</td>\n",
       "      <td>360000.00</td>\n",
       "      <td>NaN</td>\n",
       "    </tr>\n",
       "    <tr>\n",
       "      <th>10</th>\n",
       "      <td>Klinische Psychologie und Psychotherapie Insti...</td>\n",
       "      <td>Université de Fribourg - FR</td>\n",
       "      <td>01.10.1975</td>\n",
       "      <td>31.12.1978</td>\n",
       "      <td>153886.00</td>\n",
       "      <td>NaN</td>\n",
       "    </tr>\n",
       "    <tr>\n",
       "      <th>11</th>\n",
       "      <td>Schweizerische Rechtsquellen c/o Universität Z...</td>\n",
       "      <td>NaN</td>\n",
       "      <td>01.10.1975</td>\n",
       "      <td>30.09.1978</td>\n",
       "      <td>862200.00</td>\n",
       "      <td>ZH</td>\n",
       "    </tr>\n",
       "  </tbody>\n",
       "</table>\n",
       "</div>"
      ],
      "text/plain": [
       "                                          Institution  \\\n",
       "0                                                 NaN   \n",
       "1   Faculté de Psychologie et des Sciences de l'Ed...   \n",
       "2   Kommission für das Corpus philosophorum medii ...   \n",
       "3   Abt. Handschriften und Alte Drucke Bibliothek ...   \n",
       "4                        Schweiz. Thesauruskommission   \n",
       "5   Séminaire de politique économique, d'économie ...   \n",
       "6   Institut für ökumenische Studien Université de...   \n",
       "7           Ostasiatisches Seminar Universität Zürich   \n",
       "8                                                 NaN   \n",
       "9   Laboratoire de Didactique et Epistémologie des...   \n",
       "10  Klinische Psychologie und Psychotherapie Insti...   \n",
       "11  Schweizerische Rechtsquellen c/o Universität Z...   \n",
       "\n",
       "                     University  Start Date    End Date Approved Amount Canton  \n",
       "0                           NaN  01.10.1975  30.09.1976        11619.00    NaN  \n",
       "1     Université de Genève - GE  01.10.1975  30.09.1976        41022.00     GE  \n",
       "2                           NaN  01.03.1976  28.02.1985        79732.00    NaN  \n",
       "3        Universität Basel - BS  01.10.1975  30.09.1976        52627.00    NaN  \n",
       "4                           NaN  01.01.1976  30.04.1978       120042.00    NaN  \n",
       "5   Université de Fribourg - FR  01.01.1976  31.12.1978        53009.00    NaN  \n",
       "6   Université de Fribourg - FR  01.01.1976  31.12.1976        25403.00    NaN  \n",
       "7       Universität Zürich - ZH  01.10.1975  31.03.1977        47100.00    NaN  \n",
       "8   Université de Lausanne - LA  01.10.1975  31.03.1977        25814.00    NaN  \n",
       "9     Université de Genève - GE  01.10.1975  30.09.1978       360000.00    NaN  \n",
       "10  Université de Fribourg - FR  01.10.1975  31.12.1978       153886.00    NaN  \n",
       "11                          NaN  01.10.1975  30.09.1978       862200.00     ZH  "
      ]
     },
     "execution_count": 16,
     "metadata": {},
     "output_type": "execute_result"
    }
   ],
   "source": [
    "df_instit.head(12)"
   ]
  },
  {
   "cell_type": "code",
   "execution_count": 17,
   "metadata": {
    "collapsed": false
   },
   "outputs": [
    {
     "data": {
      "text/html": [
       "<div>\n",
       "<table border=\"1\" class=\"dataframe\">\n",
       "  <thead>\n",
       "    <tr style=\"text-align: right;\">\n",
       "      <th></th>\n",
       "      <th>Institution</th>\n",
       "      <th>University</th>\n",
       "      <th>Start Date</th>\n",
       "      <th>End Date</th>\n",
       "      <th>Approved Amount</th>\n",
       "      <th>Canton</th>\n",
       "    </tr>\n",
       "  </thead>\n",
       "  <tbody>\n",
       "    <tr>\n",
       "      <th>0</th>\n",
       "      <td>NaN</td>\n",
       "      <td>NaN</td>\n",
       "      <td>01.10.1975</td>\n",
       "      <td>30.09.1976</td>\n",
       "      <td>11619.00</td>\n",
       "      <td>NaN</td>\n",
       "    </tr>\n",
       "    <tr>\n",
       "      <th>1</th>\n",
       "      <td>Faculté de Psychologie et des Sciences de l'Ed...</td>\n",
       "      <td>Université de Genève - GE</td>\n",
       "      <td>01.10.1975</td>\n",
       "      <td>30.09.1976</td>\n",
       "      <td>41022.00</td>\n",
       "      <td>GE</td>\n",
       "    </tr>\n",
       "    <tr>\n",
       "      <th>2</th>\n",
       "      <td>Kommission für das Corpus philosophorum medii ...</td>\n",
       "      <td>NaN</td>\n",
       "      <td>01.03.1976</td>\n",
       "      <td>28.02.1985</td>\n",
       "      <td>79732.00</td>\n",
       "      <td>NaN</td>\n",
       "    </tr>\n",
       "    <tr>\n",
       "      <th>3</th>\n",
       "      <td>Abt. Handschriften und Alte Drucke Bibliothek ...</td>\n",
       "      <td>Universität Basel - BS</td>\n",
       "      <td>01.10.1975</td>\n",
       "      <td>30.09.1976</td>\n",
       "      <td>52627.00</td>\n",
       "      <td>BS</td>\n",
       "    </tr>\n",
       "    <tr>\n",
       "      <th>4</th>\n",
       "      <td>Schweiz. Thesauruskommission</td>\n",
       "      <td>NaN</td>\n",
       "      <td>01.01.1976</td>\n",
       "      <td>30.04.1978</td>\n",
       "      <td>120042.00</td>\n",
       "      <td>NaN</td>\n",
       "    </tr>\n",
       "    <tr>\n",
       "      <th>5</th>\n",
       "      <td>Séminaire de politique économique, d'économie ...</td>\n",
       "      <td>Université de Fribourg - FR</td>\n",
       "      <td>01.01.1976</td>\n",
       "      <td>31.12.1978</td>\n",
       "      <td>53009.00</td>\n",
       "      <td>FR</td>\n",
       "    </tr>\n",
       "    <tr>\n",
       "      <th>6</th>\n",
       "      <td>Institut für ökumenische Studien Université de...</td>\n",
       "      <td>Université de Fribourg - FR</td>\n",
       "      <td>01.01.1976</td>\n",
       "      <td>31.12.1976</td>\n",
       "      <td>25403.00</td>\n",
       "      <td>FR</td>\n",
       "    </tr>\n",
       "    <tr>\n",
       "      <th>7</th>\n",
       "      <td>Ostasiatisches Seminar Universität Zürich</td>\n",
       "      <td>Universität Zürich - ZH</td>\n",
       "      <td>01.10.1975</td>\n",
       "      <td>31.03.1977</td>\n",
       "      <td>47100.00</td>\n",
       "      <td>ZH</td>\n",
       "    </tr>\n",
       "    <tr>\n",
       "      <th>8</th>\n",
       "      <td>NaN</td>\n",
       "      <td>Université de Lausanne - LA</td>\n",
       "      <td>01.10.1975</td>\n",
       "      <td>31.03.1977</td>\n",
       "      <td>25814.00</td>\n",
       "      <td>VD</td>\n",
       "    </tr>\n",
       "    <tr>\n",
       "      <th>9</th>\n",
       "      <td>Laboratoire de Didactique et Epistémologie des...</td>\n",
       "      <td>Université de Genève - GE</td>\n",
       "      <td>01.10.1975</td>\n",
       "      <td>30.09.1978</td>\n",
       "      <td>360000.00</td>\n",
       "      <td>GE</td>\n",
       "    </tr>\n",
       "    <tr>\n",
       "      <th>10</th>\n",
       "      <td>Klinische Psychologie und Psychotherapie Insti...</td>\n",
       "      <td>Université de Fribourg - FR</td>\n",
       "      <td>01.10.1975</td>\n",
       "      <td>31.12.1978</td>\n",
       "      <td>153886.00</td>\n",
       "      <td>FR</td>\n",
       "    </tr>\n",
       "    <tr>\n",
       "      <th>11</th>\n",
       "      <td>Schweizerische Rechtsquellen c/o Universität Z...</td>\n",
       "      <td>NaN</td>\n",
       "      <td>01.10.1975</td>\n",
       "      <td>30.09.1978</td>\n",
       "      <td>862200.00</td>\n",
       "      <td>ZH</td>\n",
       "    </tr>\n",
       "  </tbody>\n",
       "</table>\n",
       "</div>"
      ],
      "text/plain": [
       "                                          Institution  \\\n",
       "0                                                 NaN   \n",
       "1   Faculté de Psychologie et des Sciences de l'Ed...   \n",
       "2   Kommission für das Corpus philosophorum medii ...   \n",
       "3   Abt. Handschriften und Alte Drucke Bibliothek ...   \n",
       "4                        Schweiz. Thesauruskommission   \n",
       "5   Séminaire de politique économique, d'économie ...   \n",
       "6   Institut für ökumenische Studien Université de...   \n",
       "7           Ostasiatisches Seminar Universität Zürich   \n",
       "8                                                 NaN   \n",
       "9   Laboratoire de Didactique et Epistémologie des...   \n",
       "10  Klinische Psychologie und Psychotherapie Insti...   \n",
       "11  Schweizerische Rechtsquellen c/o Universität Z...   \n",
       "\n",
       "                     University  Start Date    End Date Approved Amount Canton  \n",
       "0                           NaN  01.10.1975  30.09.1976        11619.00    NaN  \n",
       "1     Université de Genève - GE  01.10.1975  30.09.1976        41022.00     GE  \n",
       "2                           NaN  01.03.1976  28.02.1985        79732.00    NaN  \n",
       "3        Universität Basel - BS  01.10.1975  30.09.1976        52627.00     BS  \n",
       "4                           NaN  01.01.1976  30.04.1978       120042.00    NaN  \n",
       "5   Université de Fribourg - FR  01.01.1976  31.12.1978        53009.00     FR  \n",
       "6   Université de Fribourg - FR  01.01.1976  31.12.1976        25403.00     FR  \n",
       "7       Universität Zürich - ZH  01.10.1975  31.03.1977        47100.00     ZH  \n",
       "8   Université de Lausanne - LA  01.10.1975  31.03.1977        25814.00     VD  \n",
       "9     Université de Genève - GE  01.10.1975  30.09.1978       360000.00     GE  \n",
       "10  Université de Fribourg - FR  01.10.1975  31.12.1978       153886.00     FR  \n",
       "11                          NaN  01.10.1975  30.09.1978       862200.00     ZH  "
      ]
     },
     "execution_count": 17,
     "metadata": {},
     "output_type": "execute_result"
    }
   ],
   "source": [
    "for index in df_grants.index :\n",
    " \n",
    " if df_grants.Canton.loc[index] != df_grants.Canton.loc[index] :\n",
    "    df_grants.Canton.loc[index] = df_instit.Canton.loc[index]\n",
    "\n",
    "df_grants.head(12)\n"
   ]
  },
  {
   "cell_type": "code",
   "execution_count": 18,
   "metadata": {
    "collapsed": false
   },
   "outputs": [
    {
     "data": {
      "text/plain": [
       "0.28681079898081491"
      ]
     },
     "execution_count": 18,
     "metadata": {},
     "output_type": "execute_result"
    }
   ],
   "source": [
    "sum(df_grants.Canton.isnull()/len(df_grants.Canton))"
   ]
  },
  {
   "cell_type": "code",
   "execution_count": 19,
   "metadata": {
    "collapsed": false
   },
   "outputs": [],
   "source": [
    "#print (df_grants[[df_grants['Approved Amount']=='data not included in P3']])\n",
    "new = df_grants[df_grants['Approved Amount']!='data not included in P3']\n"
   ]
  },
  {
   "cell_type": "code",
   "execution_count": 45,
   "metadata": {
    "collapsed": false
   },
   "outputs": [
    {
     "data": {
      "text/html": [
       "<div>\n",
       "<table border=\"1\" class=\"dataframe\">\n",
       "  <thead>\n",
       "    <tr style=\"text-align: right;\">\n",
       "      <th></th>\n",
       "      <th>prix</th>\n",
       "    </tr>\n",
       "  </thead>\n",
       "  <tbody>\n",
       "  </tbody>\n",
       "</table>\n",
       "</div>"
      ],
      "text/plain": [
       "Empty DataFrame\n",
       "Columns: [prix]\n",
       "Index: []"
      ]
     },
     "execution_count": 45,
     "metadata": {},
     "output_type": "execute_result"
    }
   ],
   "source": [
    "\n",
    "final = pd.DataFrame(columns=['prix'])\n",
    "final.indexes=['Canton']\n",
    "final"
   ]
  },
  {
   "cell_type": "code",
   "execution_count": 47,
   "metadata": {
    "collapsed": false
   },
   "outputs": [
    {
     "name": "stderr",
     "output_type": "stream",
     "text": [
      "/Users/Barry/anaconda/lib/python3.5/site-packages/ipykernel/__main__.py:3: UserWarning: Boolean Series key will be reindexed to match DataFrame index.\n",
      "  app.launch_new_instance()\n"
     ]
    }
   ],
   "source": [
    "\n",
    "for canton in CANTON_DICT :\n",
    " x = new[df_grants['Canton']==CANTON_DICT[canton]]['Approved Amount'].values\n",
    " x = x.astype(np.float)\n",
    " final.loc[CANTON_DICT[canton]]=[np.sum(x)/1e6]\n",
    "\n",
    "final.head()\n",
    "final = final.reset_index()\n",
    "final.head()\n",
    "final.to_csv('grants.csv')"
   ]
  },
  {
   "cell_type": "code",
   "execution_count": 57,
   "metadata": {
    "collapsed": false
   },
   "outputs": [
    {
     "name": "stderr",
     "output_type": "stream",
     "text": [
      "/Users/Barry/anaconda/lib/python3.5/site-packages/ipykernel/__main__.py:15: FutureWarning: 'threshold_scale' default behavior has changed. Now you get a linear scale between the 'min' and the 'max' of your data. To get former behavior, use folium.utilities.split_six.\n"
     ]
    },
    {
     "ename": "AttributeError",
     "evalue": "'NoneType' object has no attribute 'get'",
     "output_type": "error",
     "traceback": [
      "\u001b[0;31m---------------------------------------------------------------------------\u001b[0m",
      "\u001b[0;31mAttributeError\u001b[0m                            Traceback (most recent call last)",
      "\u001b[0;32m/Users/Barry/anaconda/lib/python3.5/site-packages/IPython/core/formatters.py\u001b[0m in \u001b[0;36m__call__\u001b[0;34m(self, obj)\u001b[0m\n\u001b[1;32m    341\u001b[0m             \u001b[0mmethod\u001b[0m \u001b[0;34m=\u001b[0m \u001b[0m_safe_get_formatter_method\u001b[0m\u001b[0;34m(\u001b[0m\u001b[0mobj\u001b[0m\u001b[0;34m,\u001b[0m \u001b[0mself\u001b[0m\u001b[0;34m.\u001b[0m\u001b[0mprint_method\u001b[0m\u001b[0;34m)\u001b[0m\u001b[0;34m\u001b[0m\u001b[0m\n\u001b[1;32m    342\u001b[0m             \u001b[0;32mif\u001b[0m \u001b[0mmethod\u001b[0m \u001b[0;32mis\u001b[0m \u001b[0;32mnot\u001b[0m \u001b[0;32mNone\u001b[0m\u001b[0;34m:\u001b[0m\u001b[0;34m\u001b[0m\u001b[0m\n\u001b[0;32m--> 343\u001b[0;31m                 \u001b[0;32mreturn\u001b[0m \u001b[0mmethod\u001b[0m\u001b[0;34m(\u001b[0m\u001b[0;34m)\u001b[0m\u001b[0;34m\u001b[0m\u001b[0m\n\u001b[0m\u001b[1;32m    344\u001b[0m             \u001b[0;32mreturn\u001b[0m \u001b[0;32mNone\u001b[0m\u001b[0;34m\u001b[0m\u001b[0m\n\u001b[1;32m    345\u001b[0m         \u001b[0;32melse\u001b[0m\u001b[0;34m:\u001b[0m\u001b[0;34m\u001b[0m\u001b[0m\n",
      "\u001b[0;32m/Users/Barry/anaconda/lib/python3.5/site-packages/folium/map.py\u001b[0m in \u001b[0;36m_repr_html_\u001b[0;34m(self, **kwargs)\u001b[0m\n\u001b[1;32m    177\u001b[0m             \u001b[0mself\u001b[0m\u001b[0;34m.\u001b[0m\u001b[0m_parent\u001b[0m \u001b[0;34m=\u001b[0m \u001b[0;32mNone\u001b[0m\u001b[0;34m\u001b[0m\u001b[0m\n\u001b[1;32m    178\u001b[0m         \u001b[0;32melse\u001b[0m\u001b[0;34m:\u001b[0m\u001b[0;34m\u001b[0m\u001b[0m\n\u001b[0;32m--> 179\u001b[0;31m             \u001b[0mout\u001b[0m \u001b[0;34m=\u001b[0m \u001b[0mself\u001b[0m\u001b[0;34m.\u001b[0m\u001b[0m_parent\u001b[0m\u001b[0;34m.\u001b[0m\u001b[0m_repr_html_\u001b[0m\u001b[0;34m(\u001b[0m\u001b[0;34m**\u001b[0m\u001b[0mkwargs\u001b[0m\u001b[0;34m)\u001b[0m\u001b[0;34m\u001b[0m\u001b[0m\n\u001b[0m\u001b[1;32m    180\u001b[0m         \u001b[0;32mreturn\u001b[0m \u001b[0mout\u001b[0m\u001b[0;34m\u001b[0m\u001b[0m\n\u001b[1;32m    181\u001b[0m \u001b[0;34m\u001b[0m\u001b[0m\n",
      "\u001b[0;32m/Users/Barry/anaconda/lib/python3.5/site-packages/folium/element.py\u001b[0m in \u001b[0;36m_repr_html_\u001b[0;34m(self, **kwargs)\u001b[0m\n\u001b[1;32m    367\u001b[0m \u001b[0;34m\u001b[0m\u001b[0m\n\u001b[1;32m    368\u001b[0m         \"\"\"\n\u001b[0;32m--> 369\u001b[0;31m         \u001b[0mhtml\u001b[0m \u001b[0;34m=\u001b[0m \u001b[0mself\u001b[0m\u001b[0;34m.\u001b[0m\u001b[0mrender\u001b[0m\u001b[0;34m(\u001b[0m\u001b[0;34m**\u001b[0m\u001b[0mkwargs\u001b[0m\u001b[0;34m)\u001b[0m\u001b[0;34m\u001b[0m\u001b[0m\n\u001b[0m\u001b[1;32m    370\u001b[0m         \u001b[0mhtml\u001b[0m \u001b[0;34m=\u001b[0m \u001b[0;34m\"data:text/html;base64,\"\u001b[0m \u001b[0;34m+\u001b[0m \u001b[0mbase64\u001b[0m\u001b[0;34m.\u001b[0m\u001b[0mb64encode\u001b[0m\u001b[0;34m(\u001b[0m\u001b[0mhtml\u001b[0m\u001b[0;34m.\u001b[0m\u001b[0mencode\u001b[0m\u001b[0;34m(\u001b[0m\u001b[0;34m'utf8'\u001b[0m\u001b[0;34m)\u001b[0m\u001b[0;34m)\u001b[0m\u001b[0;34m.\u001b[0m\u001b[0mdecode\u001b[0m\u001b[0;34m(\u001b[0m\u001b[0;34m'utf8'\u001b[0m\u001b[0;34m)\u001b[0m  \u001b[0;31m# noqa\u001b[0m\u001b[0;34m\u001b[0m\u001b[0m\n\u001b[1;32m    371\u001b[0m \u001b[0;34m\u001b[0m\u001b[0m\n",
      "\u001b[0;32m/Users/Barry/anaconda/lib/python3.5/site-packages/folium/element.py\u001b[0m in \u001b[0;36mrender\u001b[0;34m(self, **kwargs)\u001b[0m\n\u001b[1;32m    357\u001b[0m         \u001b[0;34m\"\"\"Renders the HTML representation of the element.\"\"\"\u001b[0m\u001b[0;34m\u001b[0m\u001b[0m\n\u001b[1;32m    358\u001b[0m         \u001b[0;32mfor\u001b[0m \u001b[0mname\u001b[0m\u001b[0;34m,\u001b[0m \u001b[0mchild\u001b[0m \u001b[0;32min\u001b[0m \u001b[0mself\u001b[0m\u001b[0;34m.\u001b[0m\u001b[0m_children\u001b[0m\u001b[0;34m.\u001b[0m\u001b[0mitems\u001b[0m\u001b[0;34m(\u001b[0m\u001b[0;34m)\u001b[0m\u001b[0;34m:\u001b[0m\u001b[0;34m\u001b[0m\u001b[0m\n\u001b[0;32m--> 359\u001b[0;31m             \u001b[0mchild\u001b[0m\u001b[0;34m.\u001b[0m\u001b[0mrender\u001b[0m\u001b[0;34m(\u001b[0m\u001b[0;34m**\u001b[0m\u001b[0mkwargs\u001b[0m\u001b[0;34m)\u001b[0m\u001b[0;34m\u001b[0m\u001b[0m\n\u001b[0m\u001b[1;32m    360\u001b[0m         \u001b[0;32mreturn\u001b[0m \u001b[0mself\u001b[0m\u001b[0;34m.\u001b[0m\u001b[0m_template\u001b[0m\u001b[0;34m.\u001b[0m\u001b[0mrender\u001b[0m\u001b[0;34m(\u001b[0m\u001b[0mthis\u001b[0m\u001b[0;34m=\u001b[0m\u001b[0mself\u001b[0m\u001b[0;34m,\u001b[0m \u001b[0mkwargs\u001b[0m\u001b[0;34m=\u001b[0m\u001b[0mkwargs\u001b[0m\u001b[0;34m)\u001b[0m\u001b[0;34m\u001b[0m\u001b[0m\n\u001b[1;32m    361\u001b[0m \u001b[0;34m\u001b[0m\u001b[0m\n",
      "\u001b[0;32m/Users/Barry/anaconda/lib/python3.5/site-packages/folium/element.py\u001b[0m in \u001b[0;36mrender\u001b[0;34m(self, **kwargs)\u001b[0m\n\u001b[1;32m    665\u001b[0m \u001b[0;34m\u001b[0m\u001b[0m\n\u001b[1;32m    666\u001b[0m         \u001b[0;32mfor\u001b[0m \u001b[0mname\u001b[0m\u001b[0;34m,\u001b[0m \u001b[0melement\u001b[0m \u001b[0;32min\u001b[0m \u001b[0mself\u001b[0m\u001b[0;34m.\u001b[0m\u001b[0m_children\u001b[0m\u001b[0;34m.\u001b[0m\u001b[0mitems\u001b[0m\u001b[0;34m(\u001b[0m\u001b[0;34m)\u001b[0m\u001b[0;34m:\u001b[0m\u001b[0;34m\u001b[0m\u001b[0m\n\u001b[0;32m--> 667\u001b[0;31m             \u001b[0melement\u001b[0m\u001b[0;34m.\u001b[0m\u001b[0mrender\u001b[0m\u001b[0;34m(\u001b[0m\u001b[0;34m**\u001b[0m\u001b[0mkwargs\u001b[0m\u001b[0;34m)\u001b[0m\u001b[0;34m\u001b[0m\u001b[0m\n\u001b[0m",
      "\u001b[0;32m/Users/Barry/anaconda/lib/python3.5/site-packages/folium/features.py\u001b[0m in \u001b[0;36mrender\u001b[0;34m(self, **kwargs)\u001b[0m\n\u001b[1;32m    478\u001b[0m     \u001b[0;32mdef\u001b[0m \u001b[0mrender\u001b[0m\u001b[0;34m(\u001b[0m\u001b[0mself\u001b[0m\u001b[0;34m,\u001b[0m \u001b[0;34m**\u001b[0m\u001b[0mkwargs\u001b[0m\u001b[0;34m)\u001b[0m\u001b[0;34m:\u001b[0m\u001b[0;34m\u001b[0m\u001b[0m\n\u001b[1;32m    479\u001b[0m         \u001b[0;34m\"\"\"Renders the HTML representation of the element.\"\"\"\u001b[0m\u001b[0;34m\u001b[0m\u001b[0m\n\u001b[0;32m--> 480\u001b[0;31m         \u001b[0msuper\u001b[0m\u001b[0;34m(\u001b[0m\u001b[0mTopoJson\u001b[0m\u001b[0;34m,\u001b[0m \u001b[0mself\u001b[0m\u001b[0;34m)\u001b[0m\u001b[0;34m.\u001b[0m\u001b[0mrender\u001b[0m\u001b[0;34m(\u001b[0m\u001b[0;34m**\u001b[0m\u001b[0mkwargs\u001b[0m\u001b[0;34m)\u001b[0m\u001b[0;34m\u001b[0m\u001b[0m\n\u001b[0m\u001b[1;32m    481\u001b[0m \u001b[0;34m\u001b[0m\u001b[0m\n\u001b[1;32m    482\u001b[0m         \u001b[0mfigure\u001b[0m \u001b[0;34m=\u001b[0m \u001b[0mself\u001b[0m\u001b[0;34m.\u001b[0m\u001b[0mget_root\u001b[0m\u001b[0;34m(\u001b[0m\u001b[0;34m)\u001b[0m\u001b[0;34m\u001b[0m\u001b[0m\n",
      "\u001b[0;32m/Users/Barry/anaconda/lib/python3.5/site-packages/folium/element.py\u001b[0m in \u001b[0;36mrender\u001b[0;34m(self, **kwargs)\u001b[0m\n\u001b[1;32m    661\u001b[0m         \u001b[0mscript\u001b[0m \u001b[0;34m=\u001b[0m \u001b[0mself\u001b[0m\u001b[0;34m.\u001b[0m\u001b[0m_template\u001b[0m\u001b[0;34m.\u001b[0m\u001b[0mmodule\u001b[0m\u001b[0;34m.\u001b[0m\u001b[0m__dict__\u001b[0m\u001b[0;34m.\u001b[0m\u001b[0mget\u001b[0m\u001b[0;34m(\u001b[0m\u001b[0;34m'script'\u001b[0m\u001b[0;34m,\u001b[0m \u001b[0;32mNone\u001b[0m\u001b[0;34m)\u001b[0m\u001b[0;34m\u001b[0m\u001b[0m\n\u001b[1;32m    662\u001b[0m         \u001b[0;32mif\u001b[0m \u001b[0mscript\u001b[0m \u001b[0;32mis\u001b[0m \u001b[0;32mnot\u001b[0m \u001b[0;32mNone\u001b[0m\u001b[0;34m:\u001b[0m\u001b[0;34m\u001b[0m\u001b[0m\n\u001b[0;32m--> 663\u001b[0;31m             figure.script.add_children(Element(script(self, kwargs)),\n\u001b[0m\u001b[1;32m    664\u001b[0m                                        name=self.get_name())\n\u001b[1;32m    665\u001b[0m \u001b[0;34m\u001b[0m\u001b[0m\n",
      "\u001b[0;32m/Users/Barry/anaconda/lib/python3.5/site-packages/jinja2/runtime.py\u001b[0m in \u001b[0;36m__call__\u001b[0;34m(self, *args, **kwargs)\u001b[0m\n\u001b[1;32m    434\u001b[0m             raise TypeError('macro %r takes not more than %d argument(s)' %\n\u001b[1;32m    435\u001b[0m                             (self.name, len(self.arguments)))\n\u001b[0;32m--> 436\u001b[0;31m         \u001b[0;32mreturn\u001b[0m \u001b[0mself\u001b[0m\u001b[0;34m.\u001b[0m\u001b[0m_func\u001b[0m\u001b[0;34m(\u001b[0m\u001b[0;34m*\u001b[0m\u001b[0marguments\u001b[0m\u001b[0;34m)\u001b[0m\u001b[0;34m\u001b[0m\u001b[0m\n\u001b[0m\u001b[1;32m    437\u001b[0m \u001b[0;34m\u001b[0m\u001b[0m\n\u001b[1;32m    438\u001b[0m     \u001b[0;32mdef\u001b[0m \u001b[0m__repr__\u001b[0m\u001b[0;34m(\u001b[0m\u001b[0mself\u001b[0m\u001b[0;34m)\u001b[0m\u001b[0;34m:\u001b[0m\u001b[0;34m\u001b[0m\u001b[0m\n",
      "\u001b[0;32m<template>\u001b[0m in \u001b[0;36mmacro\u001b[0;34m(l_this, l_kwargs)\u001b[0m\n",
      "\u001b[0;32m/Users/Barry/anaconda/lib/python3.5/site-packages/jinja2/runtime.py\u001b[0m in \u001b[0;36mcall\u001b[0;34m(_Context__self, _Context__obj, *args, **kwargs)\u001b[0m\n\u001b[1;32m    194\u001b[0m                 \u001b[0margs\u001b[0m \u001b[0;34m=\u001b[0m \u001b[0;34m(\u001b[0m\u001b[0m__self\u001b[0m\u001b[0;34m.\u001b[0m\u001b[0menvironment\u001b[0m\u001b[0;34m,\u001b[0m\u001b[0;34m)\u001b[0m \u001b[0;34m+\u001b[0m \u001b[0margs\u001b[0m\u001b[0;34m\u001b[0m\u001b[0m\n\u001b[1;32m    195\u001b[0m         \u001b[0;32mtry\u001b[0m\u001b[0;34m:\u001b[0m\u001b[0;34m\u001b[0m\u001b[0m\n\u001b[0;32m--> 196\u001b[0;31m             \u001b[0;32mreturn\u001b[0m \u001b[0m__obj\u001b[0m\u001b[0;34m(\u001b[0m\u001b[0;34m*\u001b[0m\u001b[0margs\u001b[0m\u001b[0;34m,\u001b[0m \u001b[0;34m**\u001b[0m\u001b[0mkwargs\u001b[0m\u001b[0;34m)\u001b[0m\u001b[0;34m\u001b[0m\u001b[0m\n\u001b[0m\u001b[1;32m    197\u001b[0m         \u001b[0;32mexcept\u001b[0m \u001b[0mStopIteration\u001b[0m\u001b[0;34m:\u001b[0m\u001b[0;34m\u001b[0m\u001b[0m\n\u001b[1;32m    198\u001b[0m             return __self.environment.undefined('value was undefined because '\n",
      "\u001b[0;32m/Users/Barry/anaconda/lib/python3.5/site-packages/folium/features.py\u001b[0m in \u001b[0;36mstyle_data\u001b[0;34m(self)\u001b[0m\n\u001b[1;32m    473\u001b[0m         \u001b[0mgeometries\u001b[0m \u001b[0;34m=\u001b[0m \u001b[0mrecursive_get\u001b[0m\u001b[0;34m(\u001b[0m\u001b[0mself\u001b[0m\u001b[0;34m.\u001b[0m\u001b[0mdata\u001b[0m\u001b[0;34m,\u001b[0m \u001b[0mself\u001b[0m\u001b[0;34m.\u001b[0m\u001b[0mobject_path\u001b[0m\u001b[0;34m.\u001b[0m\u001b[0msplit\u001b[0m\u001b[0;34m(\u001b[0m\u001b[0;34m'.'\u001b[0m\u001b[0;34m)\u001b[0m\u001b[0;34m)\u001b[0m\u001b[0;34m[\u001b[0m\u001b[0;34m'geometries'\u001b[0m\u001b[0;34m]\u001b[0m  \u001b[0;31m# noqa\u001b[0m\u001b[0;34m\u001b[0m\u001b[0m\n\u001b[1;32m    474\u001b[0m         \u001b[0;32mfor\u001b[0m \u001b[0mfeature\u001b[0m \u001b[0;32min\u001b[0m \u001b[0mgeometries\u001b[0m\u001b[0;34m:\u001b[0m\u001b[0;34m\u001b[0m\u001b[0m\n\u001b[0;32m--> 475\u001b[0;31m             \u001b[0mfeature\u001b[0m\u001b[0;34m.\u001b[0m\u001b[0msetdefault\u001b[0m\u001b[0;34m(\u001b[0m\u001b[0;34m'properties'\u001b[0m\u001b[0;34m,\u001b[0m \u001b[0;34m{\u001b[0m\u001b[0;34m}\u001b[0m\u001b[0;34m)\u001b[0m\u001b[0;34m.\u001b[0m\u001b[0msetdefault\u001b[0m\u001b[0;34m(\u001b[0m\u001b[0;34m'style'\u001b[0m\u001b[0;34m,\u001b[0m \u001b[0;34m{\u001b[0m\u001b[0;34m}\u001b[0m\u001b[0;34m)\u001b[0m\u001b[0;34m.\u001b[0m\u001b[0mupdate\u001b[0m\u001b[0;34m(\u001b[0m\u001b[0mself\u001b[0m\u001b[0;34m.\u001b[0m\u001b[0mstyle_function\u001b[0m\u001b[0;34m(\u001b[0m\u001b[0mfeature\u001b[0m\u001b[0;34m)\u001b[0m\u001b[0;34m)\u001b[0m  \u001b[0;31m# noqa\u001b[0m\u001b[0;34m\u001b[0m\u001b[0m\n\u001b[0m\u001b[1;32m    476\u001b[0m         \u001b[0;32mreturn\u001b[0m \u001b[0mjson\u001b[0m\u001b[0;34m.\u001b[0m\u001b[0mdumps\u001b[0m\u001b[0;34m(\u001b[0m\u001b[0mself\u001b[0m\u001b[0;34m.\u001b[0m\u001b[0mdata\u001b[0m\u001b[0;34m,\u001b[0m \u001b[0msort_keys\u001b[0m\u001b[0;34m=\u001b[0m\u001b[0;32mTrue\u001b[0m\u001b[0;34m)\u001b[0m\u001b[0;34m\u001b[0m\u001b[0m\n\u001b[1;32m    477\u001b[0m \u001b[0;34m\u001b[0m\u001b[0m\n",
      "\u001b[0;32m/Users/Barry/anaconda/lib/python3.5/site-packages/folium/folium.py\u001b[0m in \u001b[0;36mstyle_function\u001b[0;34m(x)\u001b[0m\n\u001b[1;32m    671\u001b[0m                 \u001b[0;34m\"color\"\u001b[0m\u001b[0;34m:\u001b[0m \u001b[0mline_color\u001b[0m\u001b[0;34m,\u001b[0m\u001b[0;34m\u001b[0m\u001b[0m\n\u001b[1;32m    672\u001b[0m                 \u001b[0;34m\"fillOpacity\"\u001b[0m\u001b[0;34m:\u001b[0m \u001b[0mfill_opacity\u001b[0m\u001b[0;34m,\u001b[0m\u001b[0;34m\u001b[0m\u001b[0m\n\u001b[0;32m--> 673\u001b[0;31m                 \u001b[0;34m\"fillColor\"\u001b[0m\u001b[0;34m:\u001b[0m \u001b[0mcolor_scale_fun\u001b[0m\u001b[0;34m(\u001b[0m\u001b[0mx\u001b[0m\u001b[0;34m)\u001b[0m\u001b[0;34m\u001b[0m\u001b[0m\n\u001b[0m\u001b[1;32m    674\u001b[0m             }\n\u001b[1;32m    675\u001b[0m \u001b[0;34m\u001b[0m\u001b[0m\n",
      "\u001b[0;32m/Users/Barry/anaconda/lib/python3.5/site-packages/folium/folium.py\u001b[0m in \u001b[0;36mcolor_scale_fun\u001b[0;34m(x)\u001b[0m\n\u001b[1;32m    659\u001b[0m             \u001b[0;32mdef\u001b[0m \u001b[0mcolor_scale_fun\u001b[0m\u001b[0;34m(\u001b[0m\u001b[0mx\u001b[0m\u001b[0;34m)\u001b[0m\u001b[0;34m:\u001b[0m\u001b[0;34m\u001b[0m\u001b[0m\n\u001b[1;32m    660\u001b[0m                 return color_range[len(\n\u001b[0;32m--> 661\u001b[0;31m                     [u for u in color_domain if\n\u001b[0m\u001b[1;32m    662\u001b[0m                      u <= color_data[get_by_key(x, key_on)]])]\n\u001b[1;32m    663\u001b[0m         \u001b[0;32melse\u001b[0m\u001b[0;34m:\u001b[0m\u001b[0;34m\u001b[0m\u001b[0m\n",
      "\u001b[0;32m/Users/Barry/anaconda/lib/python3.5/site-packages/folium/folium.py\u001b[0m in \u001b[0;36m<listcomp>\u001b[0;34m(.0)\u001b[0m\n\u001b[1;32m    660\u001b[0m                 return color_range[len(\n\u001b[1;32m    661\u001b[0m                     [u for u in color_domain if\n\u001b[0;32m--> 662\u001b[0;31m                      u <= color_data[get_by_key(x, key_on)]])]\n\u001b[0m\u001b[1;32m    663\u001b[0m         \u001b[0;32melse\u001b[0m\u001b[0;34m:\u001b[0m\u001b[0;34m\u001b[0m\u001b[0m\n\u001b[1;32m    664\u001b[0m             \u001b[0;32mdef\u001b[0m \u001b[0mcolor_scale_fun\u001b[0m\u001b[0;34m(\u001b[0m\u001b[0mx\u001b[0m\u001b[0;34m)\u001b[0m\u001b[0;34m:\u001b[0m\u001b[0;34m\u001b[0m\u001b[0m\n",
      "\u001b[0;32m/Users/Barry/anaconda/lib/python3.5/site-packages/folium/folium.py\u001b[0m in \u001b[0;36mget_by_key\u001b[0;34m(obj, key)\u001b[0m\n\u001b[1;32m    655\u001b[0m                 return (obj.get(key, None) if len(key.split('.')) <= 1 else\n\u001b[1;32m    656\u001b[0m                         get_by_key(obj.get(key.split('.')[0], None),\n\u001b[0;32m--> 657\u001b[0;31m                                    '.'.join(key.split('.')[1:])))\n\u001b[0m\u001b[1;32m    658\u001b[0m \u001b[0;34m\u001b[0m\u001b[0m\n\u001b[1;32m    659\u001b[0m             \u001b[0;32mdef\u001b[0m \u001b[0mcolor_scale_fun\u001b[0m\u001b[0;34m(\u001b[0m\u001b[0mx\u001b[0m\u001b[0;34m)\u001b[0m\u001b[0;34m:\u001b[0m\u001b[0;34m\u001b[0m\u001b[0m\n",
      "\u001b[0;32m/Users/Barry/anaconda/lib/python3.5/site-packages/folium/folium.py\u001b[0m in \u001b[0;36mget_by_key\u001b[0;34m(obj, key)\u001b[0m\n\u001b[1;32m    653\u001b[0m \u001b[0;34m\u001b[0m\u001b[0m\n\u001b[1;32m    654\u001b[0m             \u001b[0;32mdef\u001b[0m \u001b[0mget_by_key\u001b[0m\u001b[0;34m(\u001b[0m\u001b[0mobj\u001b[0m\u001b[0;34m,\u001b[0m \u001b[0mkey\u001b[0m\u001b[0;34m)\u001b[0m\u001b[0;34m:\u001b[0m\u001b[0;34m\u001b[0m\u001b[0m\n\u001b[0;32m--> 655\u001b[0;31m                 return (obj.get(key, None) if len(key.split('.')) <= 1 else\n\u001b[0m\u001b[1;32m    656\u001b[0m                         get_by_key(obj.get(key.split('.')[0], None),\n\u001b[1;32m    657\u001b[0m                                    '.'.join(key.split('.')[1:])))\n",
      "\u001b[0;31mAttributeError\u001b[0m: 'NoneType' object has no attribute 'get'"
     ]
    },
    {
     "data": {
      "text/plain": [
       "<folium.folium.Map at 0x11211de80>"
      ]
     },
     "execution_count": 57,
     "metadata": {},
     "output_type": "execute_result"
    }
   ],
   "source": [
    "import folium\n",
    "import pandas as pd\n",
    "\n",
    "state_geo = r'data/ch-cantons.topojson.json'\n",
    "state_grants = r'data/grants.csv'\n",
    "\n",
    "state_data = pd.read_csv(state_grants)\n",
    "\n",
    "#Let Folium determine the scale\n",
    "ice_map = folium.Map(location=[-59.1759, -11.6016],\n",
    "                   tiles='Mapbox Bright', zoom_start=2)\n",
    "ice_map.choropleth(geo_path=state_geo, topojson='objects.cantons')\n",
    "map = folium.Map(location=[48, -102], zoom_start=3)\n",
    "#map.choropleth(geo_path=state_geo,topojson='objects.cantons', data=state_data,\n",
    "#             columns=['index', 'prix'],\n",
    "#             key_on='Topology.id',\n",
    "#             fill_color='YlGn', fill_opacity=0.7, line_opacity=0.2,\n",
    "#             legend_name='canton price (MCHF)')\n",
    "map"
   ]
  }
 ],
 "metadata": {
  "anaconda-cloud": {},
  "kernelspec": {
   "display_name": "Python [Root]",
   "language": "python",
   "name": "Python [Root]"
  },
  "language_info": {
   "codemirror_mode": {
    "name": "ipython",
    "version": 3
   },
   "file_extension": ".py",
   "mimetype": "text/x-python",
   "name": "python",
   "nbconvert_exporter": "python",
   "pygments_lexer": "ipython3",
   "version": "3.5.2"
  }
 },
 "nbformat": 4,
 "nbformat_minor": 0
}
